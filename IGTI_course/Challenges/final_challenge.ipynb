{
  "nbformat": 4,
  "nbformat_minor": 0,
  "metadata": {
    "colab": {
      "name": "final_challenge.ipynb",
      "provenance": [],
      "collapsed_sections": []
    },
    "kernelspec": {
      "name": "python3",
      "display_name": "Python 3"
    }
  },
  "cells": [
    {
      "cell_type": "markdown",
      "metadata": {
        "id": "U-qfe8KM3PMJ",
        "colab_type": "text"
      },
      "source": [
        "## Pre processing"
      ]
    },
    {
      "cell_type": "code",
      "metadata": {
        "id": "qEPI3POY_2Xk",
        "colab_type": "code",
        "colab": {}
      },
      "source": [
        "import pandas as pd\n",
        "import seaborn as sns\n",
        "import matplotlib.pyplot as plt\n",
        "from sklearn.preprocessing import LabelEncoder\n",
        "from sklearn.model_selection import train_test_split\n",
        "import numpy as np"
      ],
      "execution_count": 100,
      "outputs": []
    },
    {
      "cell_type": "code",
      "metadata": {
        "id": "jhMI0ROuAxVD",
        "colab_type": "code",
        "colab": {
          "resources": {
            "http://localhost:8080/nbextensions/google.colab/files.js": {
              "data": "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",
              "ok": true,
              "headers": [
                [
                  "content-type",
                  "application/javascript"
                ]
              ],
              "status": 200,
              "status_text": ""
            }
          },
          "base_uri": "https://localhost:8080/",
          "height": 109
        },
        "outputId": "3ddee7a9-2a7a-482a-fd86-60e059e88160"
      },
      "source": [
        "from google.colab import files\n",
        "files.upload()"
      ],
      "execution_count": 3,
      "outputs": [
        {
          "output_type": "display_data",
          "data": {
            "text/html": [
              "\n",
              "     <input type=\"file\" id=\"files-bdc70e6c-a0b8-4a8c-8410-a9d3f9004764\" name=\"files[]\" multiple disabled\n",
              "        style=\"border:none\" />\n",
              "     <output id=\"result-bdc70e6c-a0b8-4a8c-8410-a9d3f9004764\">\n",
              "      Upload widget is only available when the cell has been executed in the\n",
              "      current browser session. Please rerun this cell to enable.\n",
              "      </output>\n",
              "      <script src=\"/nbextensions/google.colab/files.js\"></script> "
            ],
            "text/plain": [
              "<IPython.core.display.HTML object>"
            ]
          },
          "metadata": {
            "tags": []
          }
        },
        {
          "output_type": "stream",
          "text": [
            "Saving cars.csv to cars.csv\n"
          ],
          "name": "stdout"
        },
        {
          "output_type": "execute_result",
          "data": {
            "text/plain": [
              "{'cars.csv': b'mpg,cylinders,cubicinches,hp,weightlbs,time-to-60,year,brand\\r\\n14,8,350,165,4209,12,1972, US.\\r\\n31.9,4,89,71,1925,14,1980, Europe.\\r\\n17,8,302,140,3449,11,1971, US.\\r\\n15,8,400,150,3761,10,1971, US.\\r\\n30.5,4,98,63,2051,17,1978, US.\\r\\n23,8,350,125,3900,17,1980, US.\\r\\n13,8,351,158,4363,13,1974, US.\\r\\n14,8,440,215,4312,9,1971, US.\\r\\n25.4,5,183,77,3530,20,1980, Europe.\\r\\n37.7,4,89,62,2050,17,1982, Japan.\\r\\n34,4,108,70,2245,17,1983, Japan.\\r\\n34.3,4,97,78,2188,16,1981, Europe.\\r\\n16,8,302,140,4141,14,1975, US.\\r\\n11,8,350,180,3664,11,1974, US.\\r\\n19.1,6,225,90, ,19,1981, US.\\r\\n16.9,8,350,155,4360,15,1980, US.\\r\\n31.8,4,85,65,2020,19,1980, Japan.\\r\\n16,8,304,150,3433,12,1971, US.\\r\\n24,4,113,95,2278,16,1973, Japan.\\r\\n24,4,107,90,2430,15,1971, Europe.\\r\\n37.2,4,86,65,2019,16,1981, Japan.\\r\\n21.5,4,121,110,2600,13,1978, Europe.\\r\\n24,6,200,81,3012,18,1977, US.\\r\\n15.5,8,351,142,4054,14,1980, US.\\r\\n38.1,4,89,60,1968,19,1981, Japan.\\r\\n33,4,91,53,1795,17,1977, Japan.\\r\\n31,4,71,65,1773,19,1972, Japan.\\r\\n14,8,351,148,4657,14,1976, US.\\r\\n18,6,250,78,3574,21,1977, US.\\r\\n29.9,4,98,65,2380,21,1982, US.\\r\\n27,4,97,88,2130,15,1971, Japan.\\r\\n16,6,250,100,3278,18,1974, US.\\r\\n23,4,120,97,2506,15,1973, Japan.\\r\\n21,6,199,90, ,15,1971, US.\\r\\n30,4,97,67,1985,16,1978, Japan.\\r\\n22.4,6,231,110,3415,16,1982, US.\\r\\n26,4,97,46,1835,21,1971, Europe.\\r\\n21.5,3,80,110,2720,14,1978, Japan.\\r\\n16.5,8,351,138,3955,13,1980, US.\\r\\n20.2,6,232,90,3265,18,1980, US.\\r\\n16,6, ,105,3897,19,1976, US.\\r\\n14,8,302,140,4638,16,1975, US.\\r\\n18.5,6,250,110,3645,16,1977, US.\\r\\n17.5,6,250,110,3520,16,1978, US.\\r\\n14,8,455,225,3086,10,1971, US.\\r\\n31.6,4,120,74,2635,18,1982, Japan.\\r\\n13,8,318,150,3755,14,1977, US.\\r\\n22,4,122,86,2395,16,1973, US.\\r\\n29,4,97,78,1940,15,1978, Europe.\\r\\n20.2,6,200,88,3060,17,1982, US.\\r\\n13,8,400,150,4464,12,1974, US.\\r\\n27.2,4,141,71,3190,25,1980, Europe.\\r\\n14,8,340,160,3609,8,1971, US.\\r\\n24,4,116,75,2158,16,1974, Europe.\\r\\n16.5,8,350,180,4380,12,1977, US.\\r\\n16,8,400,230,4278,10,1974, US.\\r\\n19,6,156,108,2930,16,1977, Japan.\\r\\n33.5,4,98,83,2075,16,1978, US.\\r\\n29,4,90,70,1937,14,1977, Europe.\\r\\n13,8,360,175,3821,11,1974, US.\\r\\n18,6,232,100,2945,16,1974, US.\\r\\n22,4,108,94,2379,17,1974, Japan.\\r\\n32.7,6,168,132,2910,11,1981, Japan.\\r\\n46.6,4,86,65,2110,18,1981, Japan.\\r\\n14,8,318,150,4237,15,1974, US.\\r\\n18.5,6,250,98,3525,19,1978, US.\\r\\n26,4,97,46,1950,21,1974, Europe.\\r\\n32,4,91,67,1965,16,1983, Japan.\\r\\n29.5,4,97,71,1825,12,1977, Europe.\\r\\n17.5,8,305,145,3880,13,1978, US.\\r\\n20,6,198,95,3102,17,1975, US.\\r\\n27,4,112,88,2640,19,1983, US.\\r\\n28,4,97,92,2288,17,1973, Japan.\\r\\n24,4,119,97,2545,17,1976, Japan.\\r\\n29,4,98,83,2219,17,1975, Europe.\\r\\n38,6,262,85,3015,17,1983, US.\\r\\n22.5,6,232,90,3085,18,1977, US.\\r\\n21.1,4,134,95,2515,15,1979, Japan.\\r\\n26,4,98,90,2265,16,1974, Europe.\\r\\n32.4,4,108,75,2350,17,1982, Japan.\\r\\n15.5,8,400,190,4325,12,1978, US.\\r\\n12,8,429,198,4952,12,1974, US.\\r\\n19.2,8,305,145,3425,13,1979, US.\\r\\n23,4,115,95,2694,15,1976, Europe.\\r\\n25,4,116,81,2220,17,1977, Europe.\\r\\n35,4,72,69,1613,18,1972, Japan.\\r\\n18,6,199,97,2774,16,1971, US.\\r\\n17.6,6,225,85,3465,17,1982, US.\\r\\n28,4,90,75,2125,15,1975, US.\\r\\n31,4,119,82,2720,19,1983, US.\\r\\n34.1,4,86,65,1975,15,1980, Japan.\\r\\n27.2,4,119,97,2300,15,1979, Japan.\\r\\n13,8,350,175,4100,13,1974, US.\\r\\n17,6,250,100,3329,16,1972, US.\\r\\n26,4,98,79,2255,18,1977, US.\\r\\n17,6,231,110,3907,21,1976, US.\\r\\n12,8,350,180,4499,13,1974, US.\\r\\n18,6,250,88,3139,15,1972, US.\\r\\n18.2,8,318,135,3830,15,1980, US.\\r\\n16,6,250,100,3781,17,1975, US.\\r\\n11,8,400,150,4997,14,1974, US.\\r\\n12,8,400,167,4906,13,1974, US.\\r\\n25,4,98,80,2126,17,1973, US.\\r\\n34.2,4,105,70,2200,13,1980, US.\\r\\n32.2,4,108,75,2265,15,1981, Japan.\\r\\n26.6,4,151,84,2635,16,1982, US.\\r\\n43.4,4,90,48,2335,24,1981, Europe.\\r\\n30,4,88,76,2065,15,1972, Europe.\\r\\n25,4,121,115,2671,14,1976, Europe.\\r\\n18,8,307,130,3504,12,1971, US.\\r\\n20,4,97,88,2279,19,1974, Japan.\\r\\n18,4,121,112,2933,15,1973, Europe.\\r\\n16,8,351,149,4335,15,1978, US.\\r\\n33,4,91,53,1795,18,1976, Japan.\\r\\n37.3,4,91,69,2130,15,1980, Europe.\\r\\n18,6,225,95,3785,19,1976, US.\\r\\n24.5,4,151,88,2740,16,1978, US.\\r\\n21,6,231,110,3039,15,1976, US.\\r\\n34.4,4,98,65,2045,16,1982, US.\\r\\n15,8,429,198,4341,10,1971, US.\\r\\n27,4,101,83,2202,15,1977, Europe.\\r\\n26,4,79,67,1963,16,1975, Europe.\\r\\n16,8,400,170,4668,12,1976, US.\\r\\n23.2,4,156,105,2745,17,1979, US.\\r\\n27,4,97,60,1834,19,1972, Europe.\\r\\n26.5,4,140,72,2565,14,1977, US.\\r\\n13,8,360,170,4654,13,1974, US.\\r\\n30.9,4,105,75,2230,15,1979, US.\\r\\n20,4,114,91,2582,14,1974, Europe.\\r\\n36.1,4,98,66,1800,14,1979, US.\\r\\n26,4,97,78,2300,15,1975, Europe.\\r\\n28,4,151,90,2678,17,1981, US.\\r\\n12,8,455,225,4951,11,1974, US.\\r\\n17,8,304,150,3672,12,1973, US.\\r\\n15,8,350,145,4440,14,1976, US.\\r\\n16,8,318,150,4190,13,1977, US.\\r\\n26,4,91,70,1955,21,1972, US.\\r\\n13,8,302,129,3169,12,1976, US.\\r\\n22,4,121,98,2945,15,1976, Europe.\\r\\n21,4,120,87,2979,20,1973, Europe.\\r\\n26.8,6,173,115,2700,13,1980, US.\\r\\n29,4,97,75,2171,16,1976, Japan.\\r\\n32,4,144,96,2665,14,1983, Japan.\\r\\n35.1,4,81,60,1760,16,1982, Japan.\\r\\n19.2,8,267,125,3605,15,1980, US.\\r\\n23,4,120,88,2957,17,1976, Europe.\\r\\n20.6,6,225,110,3360,17,1980, US.\\r\\n27,4,151,90,2735,18,1983, US.\\r\\n15,8,350,165,3693,12,1971, US.\\r\\n18.1,8,302,139,3205,11,1979, US.\\r\\n31.3,4,120,75,2542,18,1981, Japan.\\r\\n27.5,4,134,95,2560,14,1979, Japan.\\r\\n14,8,455,225,4425,10,1971, US.\\r\\n15,6,250,72,3158,20,1976, US.\\r\\n28,4,107,86,2464,16,1977, Europe.\\r\\n19,6,250,88,3302,16,1972, US.\\r\\n18,3,70,90,2124,14,1974, Japan.\\r\\n29.5,4,98,68,2135,17,1979, Japan.\\r\\n19,6,232,100,2634,13,1972, US.\\r\\n16.2,6,163,133,3410,16,1979, Europe.\\r\\n24.3,4,151,90,3003,20,1981, US.\\r\\n17.5,8,318,140,4080,14,1979, US.\\r\\n18,6,171,97,2984,15,1976, US.\\r\\n23,6,198,95,2904,16,1974, US.\\r\\n23,4,97,54,2254,24,1973, Europe.\\r\\n19.9,8,260,110,3365,16,1979, US.\\r\\n16,6,225,105,3439,16,1972, US.\\r\\n26,4,156,92,2585,15,1983, US.\\r\\n20,6,156,122,2807,14,1974, Japan.\\r\\n38,4,105,63,2125,15,1983, US.\\r\\n32.4,4,107,72,2290,17,1981, Japan.\\r\\n20.3,5,131,103,2830,16,1979, Europe.\\r\\n29,4,68,49, ,20,1974, Europe.\\r\\n31,4,112,85,2575,16,1983, US.\\r\\n21,4,122,86,2226,17,1973, US.\\r\\n26,4,96,69,2189,18,1973, Europe.\\r\\n14,8,400,175,4385,12,1973, US.\\r\\n14,8,304,150,3672,12,1974, US.\\r\\n20.2,8,302,139,3570,13,1979, US.\\r\\n31.5,4,98,68,2045,19,1978, Japan.\\r\\n19.8,6, ,85,2990,18,1980, US.\\r\\n33.8,4,97,67,2145,18,1981, Japan.\\r\\n17.5,8,305,140,4215,13,1977, US.\\r\\n18,8,318,150,3436,11,1971, US.\\r\\n34,4,112,88,2395,18,1983, US.\\r\\n20.8,6,200,85,3070,17,1979, US.\\r\\n18,6,250,105,3459,16,1976, US.\\r\\n13,8,318,150,3940,13,1977, US.\\r\\n14,8,351,153,4129,13,1973, US.\\r\\n13,8,440,215,4735,11,1974, US.\\r\\n25.8,4,156,92,2620,14,1982, US.\\r\\n28.4,4,151,90,2670,16,1980, US.\\r\\n13,8,400,190,4422,13,1973, US.\\r\\n15,8,350,145,4082,13,1974, US.\\r\\n14,8,318,150,4077,14,1973, US.\\r\\n41.5,4,98,76,2144,15,1981, Europe.\\r\\n27.2,4,135,84,2490,16,1982, US.\\r\\n43.1,4,90,48,1985,22,1979, Europe.\\r\\n29,4,90,70,1937,14,1976, Europe.\\r\\n33.5,4,85,70,1945,17,1978, Japan.\\r\\n26,4,116,75,2246,14,1975, Europe.\\r\\n23,4,140,83,2639,17,1976, US.\\r\\n23.9,8,260,90,3420,22,1980, US.\\r\\n19,6,225,100,3630,18,1978, US.\\r\\n21,4,140,72,2401,20,1974, US.\\r\\n15,8,390,190,3850,9,1971, US.\\r\\n40.8,4,85,65,2110,19,1981, Japan.\\r\\n18,6,250,88,3021,17,1974, US.\\r\\n13,8,307,130,4098,14,1973, US.\\r\\n25.4,6,168,116,2900,13,1982, Japan.\\r\\n22,6,146,97,2815,15,1978, Japan.\\r\\n17.7,6,231,165,3445,13,1979, US.\\r\\n39.1,4,79,58,1755,17,1982, Japan.\\r\\n30,4,79,70,2074,20,1972, Europe.\\r\\n22,6,225,100,3233,15,1977, US.\\r\\n32.9,4,119,100,2615,15,1982, Japan.\\r\\n37,4,85,65,1975,19,1982, Japan.\\r\\n14.5,8,351,152,4215,13,1977, US.\\r\\n28.8,6,173,115,2595,11,1980, US.\\r\\n15,8,302,130,4295,15,1978, US.\\r\\n17.5,6,258,95,3193,18,1977, US.\\r\\n21.6,4,121,115,2795,16,1979, Europe.\\r\\n14,8,318,150,4457,14,1975, US.\\r\\n16.5,6,168,120,3820,17,1977, Europe.\\r\\n14,8,302,137,4042,15,1974, US.\\r\\n32,4,83,61,2003,19,1975, Japan.\\r\\n10,8,360,215,4615,14,1971, US.\\r\\n31,4,76,52,1649,17,1975, Japan.\\r\\n21,6,200,85,2587,16,1971, US.\\r\\n27,4,140,86,2790,16,1983, US.\\r\\n15,8,383,170,3563,10,1971, US.\\r\\n28,4,120,79,2625,19,1983, US.\\r\\n23,4,140,78,2592,19,1976, US.\\r\\n16,8,318,150,4498,15,1976, US.\\r\\n20,4,130,102,3150,16,1977, Europe.\\r\\n44,4,97,52,2130,25,1983, Europe.\\r\\n14,8,318,150,4096,13,1972, US.\\r\\n20.2,6,200,85,2965,16,1979, US.\\r\\n39,4,86,64,1875,16,1982, US.\\r\\n23,4,122,86,2220,14,1972, US.\\r\\n13,8,350,145,4055,12,1977, US.\\r\\n18,6,225,105,3121,17,1974, US.\\r\\n16,8,400,180,4220,11,1978, US.\\r\\n25,4,110,87,2672,18,1971, Europe.\\r\\n14,8,454,220,4354,9,1971, US.\\r\\n15,8,318,150,3399,11,1974, US.\\r\\n19.4,8,318,140,3735,13,1979, US.\\r\\n44.3,4,90,48,2085,22,1981, Europe.\\r\\n28,4,97,75,2155,16,1977, Japan.\\r\\n29,4,135,84,2525,16,1983, US.\\r\\n32.1,4,98,70,2120,16,1981, US.\\r\\n24,4,121,110,2660,14,1974, Europe.\\r\\n36.4,5,121,67,2950,20,1981, Europe.\\r\\n13,8,350,145,3988,13,1974, US.\\r\\n23.5,6,173,110,2725,13,1982, US.\\r\\n24,4,113,95,2372,15,1971, Japan.\\r\\n17,8,305,130,3840,15,1980, US.\\r\\n36.1,4,91,60,1800,16,1979, Japan.\\r\\n22,6,232,112,2835,15,1983, US.\\r\\n18,6,232,100,3288,16,1972, US.\\r\\n22,6,250,105,3353,15,1977, US.\\r\\n'}"
            ]
          },
          "metadata": {
            "tags": []
          },
          "execution_count": 3
        }
      ]
    },
    {
      "cell_type": "code",
      "metadata": {
        "id": "Jj9ktu28BJsH",
        "colab_type": "code",
        "colab": {
          "base_uri": "https://localhost:8080/",
          "height": 34
        },
        "outputId": "15dbb619-2470-4257-8d1a-ad54abe985d0"
      },
      "source": [
        "dataset = pd.read_csv('cars.csv')\n",
        "dataset.shape"
      ],
      "execution_count": 4,
      "outputs": [
        {
          "output_type": "execute_result",
          "data": {
            "text/plain": [
              "(261, 8)"
            ]
          },
          "metadata": {
            "tags": []
          },
          "execution_count": 4
        }
      ]
    },
    {
      "cell_type": "code",
      "metadata": {
        "id": "LeOw3lOwBSN2",
        "colab_type": "code",
        "colab": {
          "base_uri": "https://localhost:8080/",
          "height": 204
        },
        "outputId": "d7fee9a7-6cfd-45db-a9b6-5e4a6b24712f"
      },
      "source": [
        "dataset.head()"
      ],
      "execution_count": 44,
      "outputs": [
        {
          "output_type": "execute_result",
          "data": {
            "text/html": [
              "<div>\n",
              "<style scoped>\n",
              "    .dataframe tbody tr th:only-of-type {\n",
              "        vertical-align: middle;\n",
              "    }\n",
              "\n",
              "    .dataframe tbody tr th {\n",
              "        vertical-align: top;\n",
              "    }\n",
              "\n",
              "    .dataframe thead th {\n",
              "        text-align: right;\n",
              "    }\n",
              "</style>\n",
              "<table border=\"1\" class=\"dataframe\">\n",
              "  <thead>\n",
              "    <tr style=\"text-align: right;\">\n",
              "      <th></th>\n",
              "      <th>mpg</th>\n",
              "      <th>cylinders</th>\n",
              "      <th>cubicinches</th>\n",
              "      <th>hp</th>\n",
              "      <th>weightlbs</th>\n",
              "      <th>time-to-60</th>\n",
              "      <th>year</th>\n",
              "      <th>brand</th>\n",
              "    </tr>\n",
              "  </thead>\n",
              "  <tbody>\n",
              "    <tr>\n",
              "      <th>0</th>\n",
              "      <td>14.0</td>\n",
              "      <td>8</td>\n",
              "      <td>350</td>\n",
              "      <td>165</td>\n",
              "      <td>4209</td>\n",
              "      <td>12</td>\n",
              "      <td>1972</td>\n",
              "      <td>US.</td>\n",
              "    </tr>\n",
              "    <tr>\n",
              "      <th>1</th>\n",
              "      <td>31.9</td>\n",
              "      <td>4</td>\n",
              "      <td>89</td>\n",
              "      <td>71</td>\n",
              "      <td>1925</td>\n",
              "      <td>14</td>\n",
              "      <td>1980</td>\n",
              "      <td>Europe.</td>\n",
              "    </tr>\n",
              "    <tr>\n",
              "      <th>2</th>\n",
              "      <td>17.0</td>\n",
              "      <td>8</td>\n",
              "      <td>302</td>\n",
              "      <td>140</td>\n",
              "      <td>3449</td>\n",
              "      <td>11</td>\n",
              "      <td>1971</td>\n",
              "      <td>US.</td>\n",
              "    </tr>\n",
              "    <tr>\n",
              "      <th>3</th>\n",
              "      <td>15.0</td>\n",
              "      <td>8</td>\n",
              "      <td>400</td>\n",
              "      <td>150</td>\n",
              "      <td>3761</td>\n",
              "      <td>10</td>\n",
              "      <td>1971</td>\n",
              "      <td>US.</td>\n",
              "    </tr>\n",
              "    <tr>\n",
              "      <th>4</th>\n",
              "      <td>30.5</td>\n",
              "      <td>4</td>\n",
              "      <td>98</td>\n",
              "      <td>63</td>\n",
              "      <td>2051</td>\n",
              "      <td>17</td>\n",
              "      <td>1978</td>\n",
              "      <td>US.</td>\n",
              "    </tr>\n",
              "  </tbody>\n",
              "</table>\n",
              "</div>"
            ],
            "text/plain": [
              "    mpg  cylinders cubicinches   hp weightlbs  time-to-60  year     brand\n",
              "0  14.0          8         350  165      4209          12  1972       US.\n",
              "1  31.9          4          89   71      1925          14  1980   Europe.\n",
              "2  17.0          8         302  140      3449          11  1971       US.\n",
              "3  15.0          8         400  150      3761          10  1971       US.\n",
              "4  30.5          4          98   63      2051          17  1978       US."
            ]
          },
          "metadata": {
            "tags": []
          },
          "execution_count": 44
        }
      ]
    },
    {
      "cell_type": "code",
      "metadata": {
        "id": "U1kTTNfDHWLR",
        "colab_type": "code",
        "colab": {
          "base_uri": "https://localhost:8080/",
          "height": 297
        },
        "outputId": "1257a44a-bc91-43ca-c545-8923acf4538a"
      },
      "source": [
        "dataset.describe()"
      ],
      "execution_count": 103,
      "outputs": [
        {
          "output_type": "execute_result",
          "data": {
            "text/html": [
              "<div>\n",
              "<style scoped>\n",
              "    .dataframe tbody tr th:only-of-type {\n",
              "        vertical-align: middle;\n",
              "    }\n",
              "\n",
              "    .dataframe tbody tr th {\n",
              "        vertical-align: top;\n",
              "    }\n",
              "\n",
              "    .dataframe thead th {\n",
              "        text-align: right;\n",
              "    }\n",
              "</style>\n",
              "<table border=\"1\" class=\"dataframe\">\n",
              "  <thead>\n",
              "    <tr style=\"text-align: right;\">\n",
              "      <th></th>\n",
              "      <th>mpg</th>\n",
              "      <th>cylinders</th>\n",
              "      <th>hp</th>\n",
              "      <th>time-to-60</th>\n",
              "      <th>year</th>\n",
              "    </tr>\n",
              "  </thead>\n",
              "  <tbody>\n",
              "    <tr>\n",
              "      <th>count</th>\n",
              "      <td>261.000000</td>\n",
              "      <td>261.000000</td>\n",
              "      <td>261.000000</td>\n",
              "      <td>261.000000</td>\n",
              "      <td>261.000000</td>\n",
              "    </tr>\n",
              "    <tr>\n",
              "      <th>mean</th>\n",
              "      <td>23.144828</td>\n",
              "      <td>5.590038</td>\n",
              "      <td>106.360153</td>\n",
              "      <td>15.547893</td>\n",
              "      <td>1976.819923</td>\n",
              "    </tr>\n",
              "    <tr>\n",
              "      <th>std</th>\n",
              "      <td>7.823570</td>\n",
              "      <td>1.733310</td>\n",
              "      <td>40.499959</td>\n",
              "      <td>2.910625</td>\n",
              "      <td>3.637696</td>\n",
              "    </tr>\n",
              "    <tr>\n",
              "      <th>min</th>\n",
              "      <td>10.000000</td>\n",
              "      <td>3.000000</td>\n",
              "      <td>46.000000</td>\n",
              "      <td>8.000000</td>\n",
              "      <td>1971.000000</td>\n",
              "    </tr>\n",
              "    <tr>\n",
              "      <th>25%</th>\n",
              "      <td>16.900000</td>\n",
              "      <td>4.000000</td>\n",
              "      <td>75.000000</td>\n",
              "      <td>14.000000</td>\n",
              "      <td>1974.000000</td>\n",
              "    </tr>\n",
              "    <tr>\n",
              "      <th>50%</th>\n",
              "      <td>22.000000</td>\n",
              "      <td>6.000000</td>\n",
              "      <td>95.000000</td>\n",
              "      <td>16.000000</td>\n",
              "      <td>1977.000000</td>\n",
              "    </tr>\n",
              "    <tr>\n",
              "      <th>75%</th>\n",
              "      <td>28.800000</td>\n",
              "      <td>8.000000</td>\n",
              "      <td>138.000000</td>\n",
              "      <td>17.000000</td>\n",
              "      <td>1980.000000</td>\n",
              "    </tr>\n",
              "    <tr>\n",
              "      <th>max</th>\n",
              "      <td>46.600000</td>\n",
              "      <td>8.000000</td>\n",
              "      <td>230.000000</td>\n",
              "      <td>25.000000</td>\n",
              "      <td>1983.000000</td>\n",
              "    </tr>\n",
              "  </tbody>\n",
              "</table>\n",
              "</div>"
            ],
            "text/plain": [
              "              mpg   cylinders          hp  time-to-60         year\n",
              "count  261.000000  261.000000  261.000000  261.000000   261.000000\n",
              "mean    23.144828    5.590038  106.360153   15.547893  1976.819923\n",
              "std      7.823570    1.733310   40.499959    2.910625     3.637696\n",
              "min     10.000000    3.000000   46.000000    8.000000  1971.000000\n",
              "25%     16.900000    4.000000   75.000000   14.000000  1974.000000\n",
              "50%     22.000000    6.000000   95.000000   16.000000  1977.000000\n",
              "75%     28.800000    8.000000  138.000000   17.000000  1980.000000\n",
              "max     46.600000    8.000000  230.000000   25.000000  1983.000000"
            ]
          },
          "metadata": {
            "tags": []
          },
          "execution_count": 103
        }
      ]
    },
    {
      "cell_type": "code",
      "metadata": {
        "id": "PKgf380ZuHbz",
        "colab_type": "code",
        "colab": {
          "base_uri": "https://localhost:8080/",
          "height": 35
        },
        "outputId": "916fe766-6cd6-4374-d59f-03d652cf66c9"
      },
      "source": [
        "dataset['cubicinches'][120]"
      ],
      "execution_count": 45,
      "outputs": [
        {
          "output_type": "execute_result",
          "data": {
            "application/vnd.google.colaboratory.intrinsic": {
              "type": "string"
            },
            "text/plain": [
              "'101'"
            ]
          },
          "metadata": {
            "tags": []
          },
          "execution_count": 45
        }
      ]
    },
    {
      "cell_type": "code",
      "metadata": {
        "id": "28zmRrc5BZKH",
        "colab_type": "code",
        "colab": {
          "base_uri": "https://localhost:8080/",
          "height": 170
        },
        "outputId": "486c4580-04b4-4c05-a2ba-7613b451eee5"
      },
      "source": [
        "# verify if there is null values\n",
        "dataset.isnull().sum()"
      ],
      "execution_count": 46,
      "outputs": [
        {
          "output_type": "execute_result",
          "data": {
            "text/plain": [
              "mpg            0\n",
              "cylinders      0\n",
              "cubicinches    0\n",
              "hp             0\n",
              "weightlbs      0\n",
              "time-to-60     0\n",
              "year           0\n",
              "brand          0\n",
              "dtype: int64"
            ]
          },
          "metadata": {
            "tags": []
          },
          "execution_count": 46
        }
      ]
    },
    {
      "cell_type": "code",
      "metadata": {
        "id": "0m39P0zcBnT2",
        "colab_type": "code",
        "colab": {
          "base_uri": "https://localhost:8080/",
          "height": 400
        },
        "outputId": "594bc044-e37e-4d0b-f077-877af1021bce"
      },
      "source": [
        "dataset.hist()"
      ],
      "execution_count": 47,
      "outputs": [
        {
          "output_type": "execute_result",
          "data": {
            "text/plain": [
              "array([[<matplotlib.axes._subplots.AxesSubplot object at 0x7f77c5597d68>,\n",
              "        <matplotlib.axes._subplots.AxesSubplot object at 0x7f77c5800ba8>],\n",
              "       [<matplotlib.axes._subplots.AxesSubplot object at 0x7f77c80bca20>,\n",
              "        <matplotlib.axes._subplots.AxesSubplot object at 0x7f77c586ce10>],\n",
              "       [<matplotlib.axes._subplots.AxesSubplot object at 0x7f77c588ba20>,\n",
              "        <matplotlib.axes._subplots.AxesSubplot object at 0x7f77c54d4c88>]],\n",
              "      dtype=object)"
            ]
          },
          "metadata": {
            "tags": []
          },
          "execution_count": 47
        },
        {
          "output_type": "display_data",
          "data": {
            "image/png": "[encoded data removed]",
            "text/plain": [
              "<Figure size 432x288 with 6 Axes>"
            ]
          },
          "metadata": {
            "tags": [],
            "needs_background": "light"
          }
        }
      ]
    },
    {
      "cell_type": "code",
      "metadata": {
        "id": "85oDtMXIM8A3",
        "colab_type": "code",
        "colab": {
          "base_uri": "https://localhost:8080/",
          "height": 297
        },
        "outputId": "fde2534c-1d9d-4b8c-d9ed-7301624f545b"
      },
      "source": [
        "dataset.describe()"
      ],
      "execution_count": 48,
      "outputs": [
        {
          "output_type": "execute_result",
          "data": {
            "text/html": [
              "<div>\n",
              "<style scoped>\n",
              "    .dataframe tbody tr th:only-of-type {\n",
              "        vertical-align: middle;\n",
              "    }\n",
              "\n",
              "    .dataframe tbody tr th {\n",
              "        vertical-align: top;\n",
              "    }\n",
              "\n",
              "    .dataframe thead th {\n",
              "        text-align: right;\n",
              "    }\n",
              "</style>\n",
              "<table border=\"1\" class=\"dataframe\">\n",
              "  <thead>\n",
              "    <tr style=\"text-align: right;\">\n",
              "      <th></th>\n",
              "      <th>mpg</th>\n",
              "      <th>cylinders</th>\n",
              "      <th>hp</th>\n",
              "      <th>time-to-60</th>\n",
              "      <th>year</th>\n",
              "    </tr>\n",
              "  </thead>\n",
              "  <tbody>\n",
              "    <tr>\n",
              "      <th>count</th>\n",
              "      <td>261.000000</td>\n",
              "      <td>261.000000</td>\n",
              "      <td>261.000000</td>\n",
              "      <td>261.000000</td>\n",
              "      <td>261.000000</td>\n",
              "    </tr>\n",
              "    <tr>\n",
              "      <th>mean</th>\n",
              "      <td>23.144828</td>\n",
              "      <td>5.590038</td>\n",
              "      <td>106.360153</td>\n",
              "      <td>15.547893</td>\n",
              "      <td>1976.819923</td>\n",
              "    </tr>\n",
              "    <tr>\n",
              "      <th>std</th>\n",
              "      <td>7.823570</td>\n",
              "      <td>1.733310</td>\n",
              "      <td>40.499959</td>\n",
              "      <td>2.910625</td>\n",
              "      <td>3.637696</td>\n",
              "    </tr>\n",
              "    <tr>\n",
              "      <th>min</th>\n",
              "      <td>10.000000</td>\n",
              "      <td>3.000000</td>\n",
              "      <td>46.000000</td>\n",
              "      <td>8.000000</td>\n",
              "      <td>1971.000000</td>\n",
              "    </tr>\n",
              "    <tr>\n",
              "      <th>25%</th>\n",
              "      <td>16.900000</td>\n",
              "      <td>4.000000</td>\n",
              "      <td>75.000000</td>\n",
              "      <td>14.000000</td>\n",
              "      <td>1974.000000</td>\n",
              "    </tr>\n",
              "    <tr>\n",
              "      <th>50%</th>\n",
              "      <td>22.000000</td>\n",
              "      <td>6.000000</td>\n",
              "      <td>95.000000</td>\n",
              "      <td>16.000000</td>\n",
              "      <td>1977.000000</td>\n",
              "    </tr>\n",
              "    <tr>\n",
              "      <th>75%</th>\n",
              "      <td>28.800000</td>\n",
              "      <td>8.000000</td>\n",
              "      <td>138.000000</td>\n",
              "      <td>17.000000</td>\n",
              "      <td>1980.000000</td>\n",
              "    </tr>\n",
              "    <tr>\n",
              "      <th>max</th>\n",
              "      <td>46.600000</td>\n",
              "      <td>8.000000</td>\n",
              "      <td>230.000000</td>\n",
              "      <td>25.000000</td>\n",
              "      <td>1983.000000</td>\n",
              "    </tr>\n",
              "  </tbody>\n",
              "</table>\n",
              "</div>"
            ],
            "text/plain": [
              "              mpg   cylinders          hp  time-to-60         year\n",
              "count  261.000000  261.000000  261.000000  261.000000   261.000000\n",
              "mean    23.144828    5.590038  106.360153   15.547893  1976.819923\n",
              "std      7.823570    1.733310   40.499959    2.910625     3.637696\n",
              "min     10.000000    3.000000   46.000000    8.000000  1971.000000\n",
              "25%     16.900000    4.000000   75.000000   14.000000  1974.000000\n",
              "50%     22.000000    6.000000   95.000000   16.000000  1977.000000\n",
              "75%     28.800000    8.000000  138.000000   17.000000  1980.000000\n",
              "max     46.600000    8.000000  230.000000   25.000000  1983.000000"
            ]
          },
          "metadata": {
            "tags": []
          },
          "execution_count": 48
        }
      ]
    },
    {
      "cell_type": "code",
      "metadata": {
        "id": "E02TI-3DNBVP",
        "colab_type": "code",
        "colab": {
          "base_uri": "https://localhost:8080/",
          "height": 272
        },
        "outputId": "e25866f4-de61-4a27-d860-0dd425862ba6"
      },
      "source": [
        "dataset.info()"
      ],
      "execution_count": 49,
      "outputs": [
        {
          "output_type": "stream",
          "text": [
            "<class 'pandas.core.frame.DataFrame'>\n",
            "RangeIndex: 261 entries, 0 to 260\n",
            "Data columns (total 8 columns):\n",
            " #   Column       Non-Null Count  Dtype  \n",
            "---  ------       --------------  -----  \n",
            " 0   mpg          261 non-null    float64\n",
            " 1   cylinders    261 non-null    int64  \n",
            " 2   cubicinches  261 non-null    object \n",
            " 3   hp           261 non-null    int64  \n",
            " 4   weightlbs    261 non-null    object \n",
            " 5   time-to-60   261 non-null    int64  \n",
            " 6   year         261 non-null    int64  \n",
            " 7   brand        261 non-null    object \n",
            "dtypes: float64(1), int64(4), object(3)\n",
            "memory usage: 16.4+ KB\n"
          ],
          "name": "stdout"
        }
      ]
    },
    {
      "cell_type": "code",
      "metadata": {
        "id": "1WrA7ZahB81P",
        "colab_type": "code",
        "colab": {}
      },
      "source": [
        "x_values = dataset.iloc[:, 0: len(dataset.columns) - 1]\n",
        "y_values = dataset.iloc[:, -1]"
      ],
      "execution_count": 78,
      "outputs": []
    },
    {
      "cell_type": "code",
      "metadata": {
        "id": "LPlLcQTTC5xl",
        "colab_type": "code",
        "colab": {
          "base_uri": "https://localhost:8080/",
          "height": 85
        },
        "outputId": "61a7aef4-52f4-43f7-93e0-b838a9ecdc25"
      },
      "source": [
        "print(x_values.shape)\n",
        "print(y_values.shape)\n",
        "print(type(x_values))\n",
        "print(type(y_values))"
      ],
      "execution_count": 79,
      "outputs": [
        {
          "output_type": "stream",
          "text": [
            "(261, 7)\n",
            "(261,)\n",
            "<class 'pandas.core.frame.DataFrame'>\n",
            "<class 'pandas.core.series.Series'>\n"
          ],
          "name": "stdout"
        }
      ]
    },
    {
      "cell_type": "code",
      "metadata": {
        "id": "4kZ64gPBDS-J",
        "colab_type": "code",
        "colab": {
          "base_uri": "https://localhost:8080/",
          "height": 204
        },
        "outputId": "fda643db-b71d-4c86-da87-32f6f5fc6c72"
      },
      "source": [
        "x_values.head()"
      ],
      "execution_count": 80,
      "outputs": [
        {
          "output_type": "execute_result",
          "data": {
            "text/html": [
              "<div>\n",
              "<style scoped>\n",
              "    .dataframe tbody tr th:only-of-type {\n",
              "        vertical-align: middle;\n",
              "    }\n",
              "\n",
              "    .dataframe tbody tr th {\n",
              "        vertical-align: top;\n",
              "    }\n",
              "\n",
              "    .dataframe thead th {\n",
              "        text-align: right;\n",
              "    }\n",
              "</style>\n",
              "<table border=\"1\" class=\"dataframe\">\n",
              "  <thead>\n",
              "    <tr style=\"text-align: right;\">\n",
              "      <th></th>\n",
              "      <th>mpg</th>\n",
              "      <th>cylinders</th>\n",
              "      <th>cubicinches</th>\n",
              "      <th>hp</th>\n",
              "      <th>weightlbs</th>\n",
              "      <th>time-to-60</th>\n",
              "      <th>year</th>\n",
              "    </tr>\n",
              "  </thead>\n",
              "  <tbody>\n",
              "    <tr>\n",
              "      <th>0</th>\n",
              "      <td>14.0</td>\n",
              "      <td>8</td>\n",
              "      <td>350</td>\n",
              "      <td>165</td>\n",
              "      <td>4209</td>\n",
              "      <td>12</td>\n",
              "      <td>1972</td>\n",
              "    </tr>\n",
              "    <tr>\n",
              "      <th>1</th>\n",
              "      <td>31.9</td>\n",
              "      <td>4</td>\n",
              "      <td>89</td>\n",
              "      <td>71</td>\n",
              "      <td>1925</td>\n",
              "      <td>14</td>\n",
              "      <td>1980</td>\n",
              "    </tr>\n",
              "    <tr>\n",
              "      <th>2</th>\n",
              "      <td>17.0</td>\n",
              "      <td>8</td>\n",
              "      <td>302</td>\n",
              "      <td>140</td>\n",
              "      <td>3449</td>\n",
              "      <td>11</td>\n",
              "      <td>1971</td>\n",
              "    </tr>\n",
              "    <tr>\n",
              "      <th>3</th>\n",
              "      <td>15.0</td>\n",
              "      <td>8</td>\n",
              "      <td>400</td>\n",
              "      <td>150</td>\n",
              "      <td>3761</td>\n",
              "      <td>10</td>\n",
              "      <td>1971</td>\n",
              "    </tr>\n",
              "    <tr>\n",
              "      <th>4</th>\n",
              "      <td>30.5</td>\n",
              "      <td>4</td>\n",
              "      <td>98</td>\n",
              "      <td>63</td>\n",
              "      <td>2051</td>\n",
              "      <td>17</td>\n",
              "      <td>1978</td>\n",
              "    </tr>\n",
              "  </tbody>\n",
              "</table>\n",
              "</div>"
            ],
            "text/plain": [
              "    mpg  cylinders cubicinches   hp weightlbs  time-to-60  year\n",
              "0  14.0          8         350  165      4209          12  1972\n",
              "1  31.9          4          89   71      1925          14  1980\n",
              "2  17.0          8         302  140      3449          11  1971\n",
              "3  15.0          8         400  150      3761          10  1971\n",
              "4  30.5          4          98   63      2051          17  1978"
            ]
          },
          "metadata": {
            "tags": []
          },
          "execution_count": 80
        }
      ]
    },
    {
      "cell_type": "code",
      "metadata": {
        "id": "HO4lHpcJD9ig",
        "colab_type": "code",
        "colab": {
          "base_uri": "https://localhost:8080/",
          "height": 119
        },
        "outputId": "11489cd0-7c78-40e3-f2a2-fa19f59331f5"
      },
      "source": [
        "y_values.head()"
      ],
      "execution_count": 81,
      "outputs": [
        {
          "output_type": "execute_result",
          "data": {
            "text/plain": [
              "0         US.\n",
              "1     Europe.\n",
              "2         US.\n",
              "3         US.\n",
              "4         US.\n",
              "Name: brand, dtype: object"
            ]
          },
          "metadata": {
            "tags": []
          },
          "execution_count": 81
        }
      ]
    },
    {
      "cell_type": "code",
      "metadata": {
        "id": "EWoEP_suEE9V",
        "colab_type": "code",
        "colab": {
          "base_uri": "https://localhost:8080/",
          "height": 34
        },
        "outputId": "d21bff0c-ec90-4df2-9feb-7e723eeb6796"
      },
      "source": [
        "# values unique of y values\n",
        "y_values.unique()"
      ],
      "execution_count": 54,
      "outputs": [
        {
          "output_type": "execute_result",
          "data": {
            "text/plain": [
              "array([' US.', ' Europe.', ' Japan.'], dtype=object)"
            ]
          },
          "metadata": {
            "tags": []
          },
          "execution_count": 54
        }
      ]
    },
    {
      "cell_type": "code",
      "metadata": {
        "id": "To7P9vmgPjzM",
        "colab_type": "code",
        "colab": {}
      },
      "source": [
        "# appy LabelEncode\n",
        "# encode_inst = LabelEncoder()\n",
        "# x_values['cubicinches'] = encode_inst.fit_transform(x_values['cubicinches'])\n",
        "# x_values['weightlbs'] = encode_inst.fit_transform(x_values['weightlbs'])\n",
        "x_values['cubicinches'] = pd.to_numeric(x_values['cubicinches'], errors='coerce')\n",
        "x_values['weightlbs'] = pd.to_numeric(x_values['weightlbs'], errors='coerce')"
      ],
      "execution_count": 82,
      "outputs": []
    },
    {
      "cell_type": "code",
      "metadata": {
        "id": "xsYi4LV51lzu",
        "colab_type": "code",
        "colab": {
          "base_uri": "https://localhost:8080/",
          "height": 255
        },
        "outputId": "4c400a95-398c-4481-d9b5-90bf7afa5b8e"
      },
      "source": [
        "x_values.info()"
      ],
      "execution_count": 56,
      "outputs": [
        {
          "output_type": "stream",
          "text": [
            "<class 'pandas.core.frame.DataFrame'>\n",
            "RangeIndex: 261 entries, 0 to 260\n",
            "Data columns (total 7 columns):\n",
            " #   Column       Non-Null Count  Dtype  \n",
            "---  ------       --------------  -----  \n",
            " 0   mpg          261 non-null    float64\n",
            " 1   cylinders    261 non-null    int64  \n",
            " 2   cubicinches  259 non-null    float64\n",
            " 3   hp           261 non-null    int64  \n",
            " 4   weightlbs    258 non-null    float64\n",
            " 5   time-to-60   261 non-null    int64  \n",
            " 6   year         261 non-null    int64  \n",
            "dtypes: float64(3), int64(4)\n",
            "memory usage: 14.4 KB\n"
          ],
          "name": "stdout"
        }
      ]
    },
    {
      "cell_type": "code",
      "metadata": {
        "id": "WUjnclAB2XIG",
        "colab_type": "code",
        "colab": {
          "base_uri": "https://localhost:8080/",
          "height": 51
        },
        "outputId": "ea27f442-ac52-4e3a-f411-050b1fc8e9bc"
      },
      "source": [
        "print(x_values['cubicinches'][40])\n",
        "print(x_values['cubicinches'][180])"
      ],
      "execution_count": 60,
      "outputs": [
        {
          "output_type": "stream",
          "text": [
            "200.9189189189189\n",
            "200.9189189189189\n"
          ],
          "name": "stdout"
        }
      ]
    },
    {
      "cell_type": "code",
      "metadata": {
        "id": "AJH66g4j27If",
        "colab_type": "code",
        "colab": {
          "base_uri": "https://localhost:8080/",
          "height": 297
        },
        "outputId": "4267b7df-5411-4390-eda1-0e06e76c26d4"
      },
      "source": [
        "x_values.describe()"
      ],
      "execution_count": 58,
      "outputs": [
        {
          "output_type": "execute_result",
          "data": {
            "text/html": [
              "<div>\n",
              "<style scoped>\n",
              "    .dataframe tbody tr th:only-of-type {\n",
              "        vertical-align: middle;\n",
              "    }\n",
              "\n",
              "    .dataframe tbody tr th {\n",
              "        vertical-align: top;\n",
              "    }\n",
              "\n",
              "    .dataframe thead th {\n",
              "        text-align: right;\n",
              "    }\n",
              "</style>\n",
              "<table border=\"1\" class=\"dataframe\">\n",
              "  <thead>\n",
              "    <tr style=\"text-align: right;\">\n",
              "      <th></th>\n",
              "      <th>mpg</th>\n",
              "      <th>cylinders</th>\n",
              "      <th>cubicinches</th>\n",
              "      <th>hp</th>\n",
              "      <th>weightlbs</th>\n",
              "      <th>time-to-60</th>\n",
              "      <th>year</th>\n",
              "    </tr>\n",
              "  </thead>\n",
              "  <tbody>\n",
              "    <tr>\n",
              "      <th>count</th>\n",
              "      <td>261.000000</td>\n",
              "      <td>261.000000</td>\n",
              "      <td>259.000000</td>\n",
              "      <td>261.000000</td>\n",
              "      <td>258.000000</td>\n",
              "      <td>261.000000</td>\n",
              "      <td>261.000000</td>\n",
              "    </tr>\n",
              "    <tr>\n",
              "      <th>mean</th>\n",
              "      <td>23.144828</td>\n",
              "      <td>5.590038</td>\n",
              "      <td>200.918919</td>\n",
              "      <td>106.360153</td>\n",
              "      <td>3009.833333</td>\n",
              "      <td>15.547893</td>\n",
              "      <td>1976.819923</td>\n",
              "    </tr>\n",
              "    <tr>\n",
              "      <th>std</th>\n",
              "      <td>7.823570</td>\n",
              "      <td>1.733310</td>\n",
              "      <td>109.258305</td>\n",
              "      <td>40.499959</td>\n",
              "      <td>854.039019</td>\n",
              "      <td>2.910625</td>\n",
              "      <td>3.637696</td>\n",
              "    </tr>\n",
              "    <tr>\n",
              "      <th>min</th>\n",
              "      <td>10.000000</td>\n",
              "      <td>3.000000</td>\n",
              "      <td>68.000000</td>\n",
              "      <td>46.000000</td>\n",
              "      <td>1613.000000</td>\n",
              "      <td>8.000000</td>\n",
              "      <td>1971.000000</td>\n",
              "    </tr>\n",
              "    <tr>\n",
              "      <th>25%</th>\n",
              "      <td>16.900000</td>\n",
              "      <td>4.000000</td>\n",
              "      <td>99.500000</td>\n",
              "      <td>75.000000</td>\n",
              "      <td>2248.000000</td>\n",
              "      <td>14.000000</td>\n",
              "      <td>1974.000000</td>\n",
              "    </tr>\n",
              "    <tr>\n",
              "      <th>50%</th>\n",
              "      <td>22.000000</td>\n",
              "      <td>6.000000</td>\n",
              "      <td>156.000000</td>\n",
              "      <td>95.000000</td>\n",
              "      <td>2867.500000</td>\n",
              "      <td>16.000000</td>\n",
              "      <td>1977.000000</td>\n",
              "    </tr>\n",
              "    <tr>\n",
              "      <th>75%</th>\n",
              "      <td>28.800000</td>\n",
              "      <td>8.000000</td>\n",
              "      <td>303.000000</td>\n",
              "      <td>138.000000</td>\n",
              "      <td>3670.000000</td>\n",
              "      <td>17.000000</td>\n",
              "      <td>1980.000000</td>\n",
              "    </tr>\n",
              "    <tr>\n",
              "      <th>max</th>\n",
              "      <td>46.600000</td>\n",
              "      <td>8.000000</td>\n",
              "      <td>455.000000</td>\n",
              "      <td>230.000000</td>\n",
              "      <td>4997.000000</td>\n",
              "      <td>25.000000</td>\n",
              "      <td>1983.000000</td>\n",
              "    </tr>\n",
              "  </tbody>\n",
              "</table>\n",
              "</div>"
            ],
            "text/plain": [
              "              mpg   cylinders  ...  time-to-60         year\n",
              "count  261.000000  261.000000  ...  261.000000   261.000000\n",
              "mean    23.144828    5.590038  ...   15.547893  1976.819923\n",
              "std      7.823570    1.733310  ...    2.910625     3.637696\n",
              "min     10.000000    3.000000  ...    8.000000  1971.000000\n",
              "25%     16.900000    4.000000  ...   14.000000  1974.000000\n",
              "50%     22.000000    6.000000  ...   16.000000  1977.000000\n",
              "75%     28.800000    8.000000  ...   17.000000  1980.000000\n",
              "max     46.600000    8.000000  ...   25.000000  1983.000000\n",
              "\n",
              "[8 rows x 7 columns]"
            ]
          },
          "metadata": {
            "tags": []
          },
          "execution_count": 58
        }
      ]
    },
    {
      "cell_type": "code",
      "metadata": {
        "id": "p4vcP1X63fUn",
        "colab_type": "code",
        "colab": {}
      },
      "source": [
        "x_values['cubicinches'] = x_values['cubicinches'].fillna(x_values['cubicinches'].mean())\n",
        "x_values['weightlbs'] = x_values['weightlbs'].fillna(x_values['weightlbs'].mean())"
      ],
      "execution_count": 83,
      "outputs": []
    },
    {
      "cell_type": "code",
      "metadata": {
        "id": "OOATOpzK4P7s",
        "colab_type": "code",
        "colab": {
          "base_uri": "https://localhost:8080/",
          "height": 153
        },
        "outputId": "b326afea-638b-4655-ee2a-f7cd0a507e95"
      },
      "source": [
        "x_values.isna().sum()"
      ],
      "execution_count": 32,
      "outputs": [
        {
          "output_type": "execute_result",
          "data": {
            "text/plain": [
              "mpg            0\n",
              "cylinders      0\n",
              "cubicinches    0\n",
              "hp             0\n",
              "weightlbs      0\n",
              "time-to-60     0\n",
              "year           0\n",
              "dtype: int64"
            ]
          },
          "metadata": {
            "tags": []
          },
          "execution_count": 32
        }
      ]
    },
    {
      "cell_type": "code",
      "metadata": {
        "id": "sJBX5G264gPn",
        "colab_type": "code",
        "colab": {
          "base_uri": "https://localhost:8080/",
          "height": 297
        },
        "outputId": "ebdcc3b7-4bf1-4591-a15f-e4713e408b8a"
      },
      "source": [
        "x_values.describe()"
      ],
      "execution_count": 61,
      "outputs": [
        {
          "output_type": "execute_result",
          "data": {
            "text/html": [
              "<div>\n",
              "<style scoped>\n",
              "    .dataframe tbody tr th:only-of-type {\n",
              "        vertical-align: middle;\n",
              "    }\n",
              "\n",
              "    .dataframe tbody tr th {\n",
              "        vertical-align: top;\n",
              "    }\n",
              "\n",
              "    .dataframe thead th {\n",
              "        text-align: right;\n",
              "    }\n",
              "</style>\n",
              "<table border=\"1\" class=\"dataframe\">\n",
              "  <thead>\n",
              "    <tr style=\"text-align: right;\">\n",
              "      <th></th>\n",
              "      <th>mpg</th>\n",
              "      <th>cylinders</th>\n",
              "      <th>cubicinches</th>\n",
              "      <th>hp</th>\n",
              "      <th>weightlbs</th>\n",
              "      <th>time-to-60</th>\n",
              "      <th>year</th>\n",
              "    </tr>\n",
              "  </thead>\n",
              "  <tbody>\n",
              "    <tr>\n",
              "      <th>count</th>\n",
              "      <td>261.000000</td>\n",
              "      <td>261.000000</td>\n",
              "      <td>261.000000</td>\n",
              "      <td>261.000000</td>\n",
              "      <td>261.000000</td>\n",
              "      <td>261.000000</td>\n",
              "      <td>261.000000</td>\n",
              "    </tr>\n",
              "    <tr>\n",
              "      <th>mean</th>\n",
              "      <td>23.144828</td>\n",
              "      <td>5.590038</td>\n",
              "      <td>200.918919</td>\n",
              "      <td>106.360153</td>\n",
              "      <td>3009.833333</td>\n",
              "      <td>15.547893</td>\n",
              "      <td>1976.819923</td>\n",
              "    </tr>\n",
              "    <tr>\n",
              "      <th>std</th>\n",
              "      <td>7.823570</td>\n",
              "      <td>1.733310</td>\n",
              "      <td>108.837269</td>\n",
              "      <td>40.499959</td>\n",
              "      <td>849.097575</td>\n",
              "      <td>2.910625</td>\n",
              "      <td>3.637696</td>\n",
              "    </tr>\n",
              "    <tr>\n",
              "      <th>min</th>\n",
              "      <td>10.000000</td>\n",
              "      <td>3.000000</td>\n",
              "      <td>68.000000</td>\n",
              "      <td>46.000000</td>\n",
              "      <td>1613.000000</td>\n",
              "      <td>8.000000</td>\n",
              "      <td>1971.000000</td>\n",
              "    </tr>\n",
              "    <tr>\n",
              "      <th>25%</th>\n",
              "      <td>16.900000</td>\n",
              "      <td>4.000000</td>\n",
              "      <td>101.000000</td>\n",
              "      <td>75.000000</td>\n",
              "      <td>2254.000000</td>\n",
              "      <td>14.000000</td>\n",
              "      <td>1974.000000</td>\n",
              "    </tr>\n",
              "    <tr>\n",
              "      <th>50%</th>\n",
              "      <td>22.000000</td>\n",
              "      <td>6.000000</td>\n",
              "      <td>156.000000</td>\n",
              "      <td>95.000000</td>\n",
              "      <td>2904.000000</td>\n",
              "      <td>16.000000</td>\n",
              "      <td>1977.000000</td>\n",
              "    </tr>\n",
              "    <tr>\n",
              "      <th>75%</th>\n",
              "      <td>28.800000</td>\n",
              "      <td>8.000000</td>\n",
              "      <td>302.000000</td>\n",
              "      <td>138.000000</td>\n",
              "      <td>3664.000000</td>\n",
              "      <td>17.000000</td>\n",
              "      <td>1980.000000</td>\n",
              "    </tr>\n",
              "    <tr>\n",
              "      <th>max</th>\n",
              "      <td>46.600000</td>\n",
              "      <td>8.000000</td>\n",
              "      <td>455.000000</td>\n",
              "      <td>230.000000</td>\n",
              "      <td>4997.000000</td>\n",
              "      <td>25.000000</td>\n",
              "      <td>1983.000000</td>\n",
              "    </tr>\n",
              "  </tbody>\n",
              "</table>\n",
              "</div>"
            ],
            "text/plain": [
              "              mpg   cylinders  ...  time-to-60         year\n",
              "count  261.000000  261.000000  ...  261.000000   261.000000\n",
              "mean    23.144828    5.590038  ...   15.547893  1976.819923\n",
              "std      7.823570    1.733310  ...    2.910625     3.637696\n",
              "min     10.000000    3.000000  ...    8.000000  1971.000000\n",
              "25%     16.900000    4.000000  ...   14.000000  1974.000000\n",
              "50%     22.000000    6.000000  ...   16.000000  1977.000000\n",
              "75%     28.800000    8.000000  ...   17.000000  1980.000000\n",
              "max     46.600000    8.000000  ...   25.000000  1983.000000\n",
              "\n",
              "[8 rows x 7 columns]"
            ]
          },
          "metadata": {
            "tags": []
          },
          "execution_count": 61
        }
      ]
    },
    {
      "cell_type": "code",
      "metadata": {
        "id": "sALNUkmI46av",
        "colab_type": "code",
        "colab": {
          "base_uri": "https://localhost:8080/",
          "height": 34
        },
        "outputId": "df017848-fb30-4428-8b39-3a97e43b8d6d"
      },
      "source": [
        "x_values['mpg'].median()"
      ],
      "execution_count": 62,
      "outputs": [
        {
          "output_type": "execute_result",
          "data": {
            "text/plain": [
              "22.0"
            ]
          },
          "metadata": {
            "tags": []
          },
          "execution_count": 62
        }
      ]
    },
    {
      "cell_type": "code",
      "metadata": {
        "id": "OX5BzW3-5jUA",
        "colab_type": "code",
        "colab": {
          "base_uri": "https://localhost:8080/",
          "height": 444
        },
        "outputId": "7fcf1ba1-fa30-4c90-8be5-88d68641fafe"
      },
      "source": [
        "# coeficient pearson\n",
        "data_heatmap = x_values[['mpg', 'cylinders', 'cubicinches', 'hp', 'weightlbs', 'time-to-60', 'year']]\n",
        "plt.figure(figsize=(10, 7))\n",
        "sns.heatmap(data_heatmap.corr(),\n",
        "            annot = True,\n",
        "            fmt = '.2f',\n",
        "            cmap='Blues')\n",
        "plt.title('Correlation pearson of cars dataset')\n",
        "plt.show()"
      ],
      "execution_count": 63,
      "outputs": [
        {
          "output_type": "display_data",
          "data": {
            "image/png": "[encoded data removed]",
            "text/plain": [
              "<Figure size 720x504 with 2 Axes>"
            ]
          },
          "metadata": {
            "tags": [],
            "needs_background": "light"
          }
        }
      ]
    },
    {
      "cell_type": "code",
      "metadata": {
        "id": "U8nD55O473Fn",
        "colab_type": "code",
        "colab": {
          "base_uri": "https://localhost:8080/",
          "height": 34
        },
        "outputId": "70753dde-ba76-4421-b5e5-2f1d68c18fb6"
      },
      "source": [
        " from sklearn.metrics import r2_score\n",
        " r2_score(x_values['mpg'], x_values['cylinders'])"
      ],
      "execution_count": 64,
      "outputs": [
        {
          "output_type": "execute_result",
          "data": {
            "text/plain": [
              "-5.447397372911916"
            ]
          },
          "metadata": {
            "tags": []
          },
          "execution_count": 64
        }
      ]
    },
    {
      "cell_type": "code",
      "metadata": {
        "id": "TXpKSDXVFEtt",
        "colab_type": "code",
        "colab": {
          "base_uri": "https://localhost:8080/",
          "height": 1000
        },
        "outputId": "b21c3725-df2b-44f4-d68f-aac4ff2a5c85"
      },
      "source": [
        "f, axes = plt.subplots(3, 3, figsize=(40, 40))\n",
        "count = 0\n",
        "i = 0\n",
        "\n",
        "for index, column in enumerate(x_values.columns):\n",
        "  sns.boxplot(x=column, data=x_values, ax=axes[i][count])\n",
        "  count += 1\n",
        "  if (index + 1) % 3 == 0:\n",
        "    count = 0\n",
        "    i += 1"
      ],
      "execution_count": 38,
      "outputs": [
        {
          "output_type": "display_data",
          "data": {
            "image/png": "[encoded data removed]",
            "text/plain": [
              "<Figure size 2880x2880 with 9 Axes>"
            ]
          },
          "metadata": {
            "tags": [],
            "needs_background": "light"
          }
        }
      ]
    },
    {
      "cell_type": "code",
      "metadata": {
        "id": "w8XmqFouGbzw",
        "colab_type": "code",
        "colab": {}
      },
      "source": [
        "# normalize the data\n",
        "from  sklearn.preprocessing import StandardScaler\n",
        "scaler = StandardScaler()\n",
        "scaled_values = scaler.fit_transform(x_values)"
      ],
      "execution_count": 84,
      "outputs": []
    },
    {
      "cell_type": "code",
      "metadata": {
        "id": "XI3L40Ek9qQu",
        "colab_type": "code",
        "colab": {
          "base_uri": "https://localhost:8080/",
          "height": 34
        },
        "outputId": "6cf75d48-3eae-4c63-bd70-5822261f8597"
      },
      "source": [
        "scaled_values[3].max()"
      ],
      "execution_count": 85,
      "outputs": [
        {
          "output_type": "execute_result",
          "data": {
            "text/plain": [
              "1.8326770191914779"
            ]
          },
          "metadata": {
            "tags": []
          },
          "execution_count": 85
        }
      ]
    },
    {
      "cell_type": "code",
      "metadata": {
        "id": "SBt6q8aHIh3Z",
        "colab_type": "code",
        "colab": {}
      },
      "source": [
        "x_values = pd.DataFrame(scaled_values, index=x_values.index, columns=x_values.columns)"
      ],
      "execution_count": 86,
      "outputs": []
    },
    {
      "cell_type": "code",
      "metadata": {
        "id": "05Nrf_rFKFdt",
        "colab_type": "code",
        "colab": {
          "base_uri": "https://localhost:8080/",
          "height": 297
        },
        "outputId": "5a9f6ba7-88ee-4c59-803d-78a3e5d756e7"
      },
      "source": [
        "# x_values\n",
        "x_values.describe()"
      ],
      "execution_count": 87,
      "outputs": [
        {
          "output_type": "execute_result",
          "data": {
            "text/html": [
              "<div>\n",
              "<style scoped>\n",
              "    .dataframe tbody tr th:only-of-type {\n",
              "        vertical-align: middle;\n",
              "    }\n",
              "\n",
              "    .dataframe tbody tr th {\n",
              "        vertical-align: top;\n",
              "    }\n",
              "\n",
              "    .dataframe thead th {\n",
              "        text-align: right;\n",
              "    }\n",
              "</style>\n",
              "<table border=\"1\" class=\"dataframe\">\n",
              "  <thead>\n",
              "    <tr style=\"text-align: right;\">\n",
              "      <th></th>\n",
              "      <th>mpg</th>\n",
              "      <th>cylinders</th>\n",
              "      <th>cubicinches</th>\n",
              "      <th>hp</th>\n",
              "      <th>weightlbs</th>\n",
              "      <th>time-to-60</th>\n",
              "      <th>year</th>\n",
              "    </tr>\n",
              "  </thead>\n",
              "  <tbody>\n",
              "    <tr>\n",
              "      <th>count</th>\n",
              "      <td>2.610000e+02</td>\n",
              "      <td>2.610000e+02</td>\n",
              "      <td>2.610000e+02</td>\n",
              "      <td>2.610000e+02</td>\n",
              "      <td>2.610000e+02</td>\n",
              "      <td>2.610000e+02</td>\n",
              "      <td>2.610000e+02</td>\n",
              "    </tr>\n",
              "    <tr>\n",
              "      <th>mean</th>\n",
              "      <td>3.143505e-16</td>\n",
              "      <td>2.124737e-16</td>\n",
              "      <td>-1.203805e-16</td>\n",
              "      <td>9.831429e-17</td>\n",
              "      <td>-1.648320e-16</td>\n",
              "      <td>-2.043916e-16</td>\n",
              "      <td>-2.605329e-15</td>\n",
              "    </tr>\n",
              "    <tr>\n",
              "      <th>std</th>\n",
              "      <td>1.001921e+00</td>\n",
              "      <td>1.001921e+00</td>\n",
              "      <td>1.001921e+00</td>\n",
              "      <td>1.001921e+00</td>\n",
              "      <td>1.001921e+00</td>\n",
              "      <td>1.001921e+00</td>\n",
              "      <td>1.001921e+00</td>\n",
              "    </tr>\n",
              "    <tr>\n",
              "      <th>min</th>\n",
              "      <td>-1.683385e+00</td>\n",
              "      <td>-1.497144e+00</td>\n",
              "      <td>-1.223609e+00</td>\n",
              "      <td>-1.493239e+00</td>\n",
              "      <td>-1.648240e+00</td>\n",
              "      <td>-2.598203e+00</td>\n",
              "      <td>-1.602966e+00</td>\n",
              "    </tr>\n",
              "    <tr>\n",
              "      <th>25%</th>\n",
              "      <td>-7.997404e-01</td>\n",
              "      <td>-9.191048e-01</td>\n",
              "      <td>-9.198217e-01</td>\n",
              "      <td>-7.758132e-01</td>\n",
              "      <td>-8.918710e-01</td>\n",
              "      <td>-5.328295e-01</td>\n",
              "      <td>-7.766842e-01</td>\n",
              "    </tr>\n",
              "    <tr>\n",
              "      <th>50%</th>\n",
              "      <td>-1.466117e-01</td>\n",
              "      <td>2.369740e-01</td>\n",
              "      <td>-4.135093e-01</td>\n",
              "      <td>-2.810368e-01</td>\n",
              "      <td>-1.248816e-01</td>\n",
              "      <td>1.556284e-01</td>\n",
              "      <td>4.959804e-02</td>\n",
              "    </tr>\n",
              "    <tr>\n",
              "      <th>75%</th>\n",
              "      <td>7.242265e-01</td>\n",
              "      <td>1.393053e+00</td>\n",
              "      <td>9.305202e-01</td>\n",
              "      <td>7.827325e-01</td>\n",
              "      <td>7.719060e-01</td>\n",
              "      <td>4.998573e-01</td>\n",
              "      <td>8.758803e-01</td>\n",
              "    </tr>\n",
              "    <tr>\n",
              "      <th>max</th>\n",
              "      <td>3.003774e+00</td>\n",
              "      <td>1.393053e+00</td>\n",
              "      <td>2.338990e+00</td>\n",
              "      <td>3.058704e+00</td>\n",
              "      <td>2.344824e+00</td>\n",
              "      <td>3.253689e+00</td>\n",
              "      <td>1.702163e+00</td>\n",
              "    </tr>\n",
              "  </tbody>\n",
              "</table>\n",
              "</div>"
            ],
            "text/plain": [
              "                mpg     cylinders  ...    time-to-60          year\n",
              "count  2.610000e+02  2.610000e+02  ...  2.610000e+02  2.610000e+02\n",
              "mean   3.143505e-16  2.124737e-16  ... -2.043916e-16 -2.605329e-15\n",
              "std    1.001921e+00  1.001921e+00  ...  1.001921e+00  1.001921e+00\n",
              "min   -1.683385e+00 -1.497144e+00  ... -2.598203e+00 -1.602966e+00\n",
              "25%   -7.997404e-01 -9.191048e-01  ... -5.328295e-01 -7.766842e-01\n",
              "50%   -1.466117e-01  2.369740e-01  ...  1.556284e-01  4.959804e-02\n",
              "75%    7.242265e-01  1.393053e+00  ...  4.998573e-01  8.758803e-01\n",
              "max    3.003774e+00  1.393053e+00  ...  3.253689e+00  1.702163e+00\n",
              "\n",
              "[8 rows x 7 columns]"
            ]
          },
          "metadata": {
            "tags": []
          },
          "execution_count": 87
        }
      ]
    },
    {
      "cell_type": "code",
      "metadata": {
        "id": "ma9rpZhLAKeO",
        "colab_type": "code",
        "colab": {
          "base_uri": "https://localhost:8080/",
          "height": 34
        },
        "outputId": "55fb0675-aec1-45df-d3bf-05b81a8a3bde"
      },
      "source": [
        "x_values['hp'].max()"
      ],
      "execution_count": 72,
      "outputs": [
        {
          "output_type": "execute_result",
          "data": {
            "text/plain": [
              "3.05870398977614"
            ]
          },
          "metadata": {
            "tags": []
          },
          "execution_count": 72
        }
      ]
    },
    {
      "cell_type": "markdown",
      "metadata": {
        "id": "MLtZAiglJeo0",
        "colab_type": "text"
      },
      "source": [
        "## Reduce dimension number of features"
      ]
    },
    {
      "cell_type": "code",
      "metadata": {
        "id": "-e4NOiLA8BaH",
        "colab_type": "code",
        "colab": {}
      },
      "source": [
        "from sklearn.decomposition import PCA\n",
        "\n",
        "pca = PCA(n_components=7)\n",
        "reduce_dim = pca.fit(scaled_values)\n",
        "\n",
        "# x_values = pd.DataFrame(reduce_dim, index=x_values.index, columns=x_values.columns)"
      ],
      "execution_count": 88,
      "outputs": []
    },
    {
      "cell_type": "code",
      "metadata": {
        "id": "s65tVnuuLU9d",
        "colab_type": "code",
        "colab": {
          "base_uri": "https://localhost:8080/",
          "height": 204
        },
        "outputId": "a8554f57-4c3a-4071-9758-f3398f909eb3"
      },
      "source": [
        "x_values.head()"
      ],
      "execution_count": 74,
      "outputs": [
        {
          "output_type": "execute_result",
          "data": {
            "text/html": [
              "<div>\n",
              "<style scoped>\n",
              "    .dataframe tbody tr th:only-of-type {\n",
              "        vertical-align: middle;\n",
              "    }\n",
              "\n",
              "    .dataframe tbody tr th {\n",
              "        vertical-align: top;\n",
              "    }\n",
              "\n",
              "    .dataframe thead th {\n",
              "        text-align: right;\n",
              "    }\n",
              "</style>\n",
              "<table border=\"1\" class=\"dataframe\">\n",
              "  <thead>\n",
              "    <tr style=\"text-align: right;\">\n",
              "      <th></th>\n",
              "      <th>mpg</th>\n",
              "      <th>cylinders</th>\n",
              "      <th>cubicinches</th>\n",
              "      <th>hp</th>\n",
              "      <th>weightlbs</th>\n",
              "      <th>time-to-60</th>\n",
              "      <th>year</th>\n",
              "    </tr>\n",
              "  </thead>\n",
              "  <tbody>\n",
              "    <tr>\n",
              "      <th>0</th>\n",
              "      <td>3.485219</td>\n",
              "      <td>0.526326</td>\n",
              "      <td>-0.139738</td>\n",
              "      <td>0.258792</td>\n",
              "      <td>0.086902</td>\n",
              "      <td>-0.179206</td>\n",
              "      <td>0.079078</td>\n",
              "    </tr>\n",
              "    <tr>\n",
              "      <th>1</th>\n",
              "      <td>-2.176912</td>\n",
              "      <td>-0.285424</td>\n",
              "      <td>-1.304613</td>\n",
              "      <td>-0.100465</td>\n",
              "      <td>-0.289698</td>\n",
              "      <td>-0.041147</td>\n",
              "      <td>-0.013127</td>\n",
              "    </tr>\n",
              "    <tr>\n",
              "      <th>2</th>\n",
              "      <td>2.684973</td>\n",
              "      <td>1.046946</td>\n",
              "      <td>-0.732156</td>\n",
              "      <td>0.498227</td>\n",
              "      <td>-0.535168</td>\n",
              "      <td>-0.075745</td>\n",
              "      <td>0.159956</td>\n",
              "    </tr>\n",
              "    <tr>\n",
              "      <th>3</th>\n",
              "      <td>3.534648</td>\n",
              "      <td>0.847619</td>\n",
              "      <td>-0.801334</td>\n",
              "      <td>0.506630</td>\n",
              "      <td>-0.435696</td>\n",
              "      <td>-0.144237</td>\n",
              "      <td>-0.483162</td>\n",
              "    </tr>\n",
              "    <tr>\n",
              "      <th>4</th>\n",
              "      <td>-2.299222</td>\n",
              "      <td>0.194808</td>\n",
              "      <td>-0.221704</td>\n",
              "      <td>0.079650</td>\n",
              "      <td>-0.175655</td>\n",
              "      <td>0.015566</td>\n",
              "      <td>-0.069958</td>\n",
              "    </tr>\n",
              "  </tbody>\n",
              "</table>\n",
              "</div>"
            ],
            "text/plain": [
              "        mpg  cylinders  cubicinches        hp  weightlbs  time-to-60      year\n",
              "0  3.485219   0.526326    -0.139738  0.258792   0.086902   -0.179206  0.079078\n",
              "1 -2.176912  -0.285424    -1.304613 -0.100465  -0.289698   -0.041147 -0.013127\n",
              "2  2.684973   1.046946    -0.732156  0.498227  -0.535168   -0.075745  0.159956\n",
              "3  3.534648   0.847619    -0.801334  0.506630  -0.435696   -0.144237 -0.483162\n",
              "4 -2.299222   0.194808    -0.221704  0.079650  -0.175655    0.015566 -0.069958"
            ]
          },
          "metadata": {
            "tags": []
          },
          "execution_count": 74
        }
      ]
    },
    {
      "cell_type": "code",
      "metadata": {
        "id": "re-SpTITAntk",
        "colab_type": "code",
        "colab": {
          "base_uri": "https://localhost:8080/",
          "height": 51
        },
        "outputId": "4545b64c-383b-4065-b065-ab7e8ff762cd"
      },
      "source": [
        "# value of variance explain by pca\n",
        "reduce_dim.explained_variance_ratio_"
      ],
      "execution_count": 90,
      "outputs": [
        {
          "output_type": "execute_result",
          "data": {
            "text/plain": [
              "array([0.72371349, 0.12675138, 0.09126131, 0.02773591, 0.01766794,\n",
              "       0.00798425, 0.00488572])"
            ]
          },
          "metadata": {
            "tags": []
          },
          "execution_count": 90
        }
      ]
    },
    {
      "cell_type": "code",
      "metadata": {
        "id": "5r-1adbtDnEj",
        "colab_type": "code",
        "colab": {
          "base_uri": "https://localhost:8080/",
          "height": 51
        },
        "outputId": "4e33f95b-60ea-4c6d-d078-10ca0ff9acb1"
      },
      "source": [
        "print(reduce_dim.singular_values_)"
      ],
      "execution_count": 91,
      "outputs": [
        {
          "output_type": "stream",
          "text": [
            "[36.36240564 15.21758127 12.91256795  7.11853318  5.68148989  3.81932178\n",
            "  2.9876755 ]\n"
          ],
          "name": "stdout"
        }
      ]
    },
    {
      "cell_type": "markdown",
      "metadata": {
        "id": "JRBW_uvvNdPZ",
        "colab_type": "text"
      },
      "source": [
        "## Clustering"
      ]
    },
    {
      "cell_type": "code",
      "metadata": {
        "id": "awRElQUuMnE6",
        "colab_type": "code",
        "colab": {}
      },
      "source": [
        "from sklearn.cluster import KMeans\n",
        "\n",
        "kmeans = KMeans(n_clusters=3, random_state=42)\n",
        "model_kmeans = kmeans.fit_predict(x_values[['mpg', 'cylinders', 'cubicinches']])"
      ],
      "execution_count": 94,
      "outputs": []
    },
    {
      "cell_type": "code",
      "metadata": {
        "id": "UhNdlYxAfJ_N",
        "colab_type": "code",
        "colab": {
          "base_uri": "https://localhost:8080/",
          "height": 68
        },
        "outputId": "b7b6148a-59a0-48bd-82c0-7814c55d91e7"
      },
      "source": [
        "print(kmeans.cluster_centers_)"
      ],
      "execution_count": 97,
      "outputs": [
        {
          "output_type": "stream",
          "text": [
            "[[ 0.78510642 -0.90576545 -0.8462471 ]\n",
            " [-1.03776954  1.39305285  1.3699381 ]\n",
            " [-0.43269855  0.23697401  0.12976368]]\n"
          ],
          "name": "stdout"
        }
      ]
    },
    {
      "cell_type": "code",
      "metadata": {
        "id": "4FmkGQcMFOIb",
        "colab_type": "code",
        "colab": {
          "base_uri": "https://localhost:8080/",
          "height": 34
        },
        "outputId": "9b2feaa2-4ab9-4462-cde4-a867ad25de91"
      },
      "source": [
        "unique, counts = np.unique(model_kmeans, return_counts=True)\n",
        "dict(zip(unique, counts))"
      ],
      "execution_count": 102,
      "outputs": [
        {
          "output_type": "execute_result",
          "data": {
            "text/plain": [
              "{0: 130, 1: 75, 2: 56}"
            ]
          },
          "metadata": {
            "tags": []
          },
          "execution_count": 102
        }
      ]
    },
    {
      "cell_type": "code",
      "metadata": {
        "id": "6RaRQtYsfSvb",
        "colab_type": "code",
        "colab": {
          "base_uri": "https://localhost:8080/",
          "height": 153
        },
        "outputId": "f4647cba-9d45-49ee-a5f6-e5f0130b94e7"
      },
      "source": [
        "encode_y = LabelEncoder()\n",
        "label_encoder_y = encode_y.fit_transform(y_values)\n",
        "print(label_encoder_y)"
      ],
      "execution_count": null,
      "outputs": [
        {
          "output_type": "stream",
          "text": [
            "[2 0 2 2 2 2 2 2 0 1 1 0 2 2 2 2 1 2 1 0 1 0 2 2 1 1 1 2 2 2 1 2 1 2 1 2 0\n",
            " 1 2 2 2 2 2 2 2 1 2 2 0 2 2 0 2 0 2 2 1 2 0 2 2 1 1 1 2 2 0 1 0 2 2 2 1 1\n",
            " 0 2 2 1 0 1 2 2 2 0 0 1 2 2 2 2 1 1 2 2 2 2 2 2 2 2 2 2 2 2 1 2 0 0 0 2 1\n",
            " 0 2 1 0 2 2 2 2 2 0 0 2 2 0 2 2 2 0 2 0 2 2 2 2 2 2 2 0 0 2 1 1 1 2 0 2 2\n",
            " 2 2 1 1 2 2 0 2 1 1 2 0 2 2 2 2 0 2 2 2 1 2 1 0 0 2 2 0 2 2 2 1 2 1 2 2 2\n",
            " 2 2 2 2 2 2 2 2 2 2 0 2 0 0 1 0 2 2 2 2 2 1 2 2 1 1 2 1 0 2 1 1 2 2 2 2 0\n",
            " 2 0 2 1 2 1 2 2 2 2 2 2 0 0 2 2 2 2 2 2 2 0 2 2 2 0 1 2 2 0 0 2 2 1 2 1 2\n",
            " 2 2]\n"
          ],
          "name": "stdout"
        }
      ]
    },
    {
      "cell_type": "markdown",
      "metadata": {
        "id": "qIODtr1yj0IQ",
        "colab_type": "text"
      },
      "source": [
        "## Separate database in train and test"
      ]
    },
    {
      "cell_type": "code",
      "metadata": {
        "id": "zb2OF6SmIHBS",
        "colab_type": "code",
        "colab": {}
      },
      "source": [
        "y_values_effic = []\n",
        "for i in dataset['mpg']:\n",
        "  if i > 25:\n",
        "    y_values_effic.append(1)\n",
        "  else:\n",
        "    y_values_effic.append(0)"
      ],
      "execution_count": 106,
      "outputs": []
    },
    {
      "cell_type": "code",
      "metadata": {
        "id": "0_S3QtWpIzlP",
        "colab_type": "code",
        "colab": {
          "base_uri": "https://localhost:8080/",
          "height": 221
        },
        "outputId": "74e359b8-cac1-4744-f81a-5e5dd423421a"
      },
      "source": [
        "y_valeus_final_eff = pd.Series(y_values_effic)\n",
        "print(y_valeus_final_eff)"
      ],
      "execution_count": 108,
      "outputs": [
        {
          "output_type": "stream",
          "text": [
            "0      0\n",
            "1      1\n",
            "2      0\n",
            "3      0\n",
            "4      1\n",
            "      ..\n",
            "256    0\n",
            "257    1\n",
            "258    0\n",
            "259    0\n",
            "260    0\n",
            "Length: 261, dtype: int64\n"
          ],
          "name": "stdout"
        }
      ]
    },
    {
      "cell_type": "code",
      "metadata": {
        "id": "Gema3_gwi-Yo",
        "colab_type": "code",
        "colab": {}
      },
      "source": [
        "x_train, x_test, y_train, y_test = train_test_split(\n",
        "    x_values[['cylinders' ,'cubicinches' ,'hp' ,'weightlbs','time-to-60']],\n",
        "    y_valeus_final_eff, \n",
        "    test_size=0.30, \n",
        "    random_state=42\n",
        "  )"
      ],
      "execution_count": 109,
      "outputs": []
    },
    {
      "cell_type": "code",
      "metadata": {
        "id": "cr-L0y0hla56",
        "colab_type": "code",
        "colab": {
          "base_uri": "https://localhost:8080/",
          "height": 51
        },
        "outputId": "b190990e-76c4-4f73-a40b-ad803813ac85"
      },
      "source": [
        "print(x_train.shape)\n",
        "print(x_test.shape)"
      ],
      "execution_count": 110,
      "outputs": [
        {
          "output_type": "stream",
          "text": [
            "(182, 5)\n",
            "(79, 5)\n"
          ],
          "name": "stdout"
        }
      ]
    },
    {
      "cell_type": "markdown",
      "metadata": {
        "id": "mIwlHiQ4mP6w",
        "colab_type": "text"
      },
      "source": [
        "## Classifiers"
      ]
    },
    {
      "cell_type": "markdown",
      "metadata": {
        "id": "-E8AtWqdnUfG",
        "colab_type": "text"
      },
      "source": [
        "### Decision tree"
      ]
    },
    {
      "cell_type": "code",
      "metadata": {
        "id": "qzUT_63aliEL",
        "colab_type": "code",
        "colab": {
          "base_uri": "https://localhost:8080/",
          "height": 119
        },
        "outputId": "7963d9af-1a9f-448f-ca79-dd89a1fb38e8"
      },
      "source": [
        "from sklearn.tree import DecisionTreeClassifier\n",
        "from sklearn.metrics import accuracy_score\n",
        "\n",
        "tree_model = DecisionTreeClassifier(random_state=42)\n",
        "tree_model.fit(x_train, y_train)"
      ],
      "execution_count": 111,
      "outputs": [
        {
          "output_type": "execute_result",
          "data": {
            "text/plain": [
              "DecisionTreeClassifier(ccp_alpha=0.0, class_weight=None, criterion='gini',\n",
              "                       max_depth=None, max_features=None, max_leaf_nodes=None,\n",
              "                       min_impurity_decrease=0.0, min_impurity_split=None,\n",
              "                       min_samples_leaf=1, min_samples_split=2,\n",
              "                       min_weight_fraction_leaf=0.0, presort='deprecated',\n",
              "                       random_state=42, splitter='best')"
            ]
          },
          "metadata": {
            "tags": []
          },
          "execution_count": 111
        }
      ]
    },
    {
      "cell_type": "code",
      "metadata": {
        "id": "S-PBGaJZmrdV",
        "colab_type": "code",
        "colab": {
          "base_uri": "https://localhost:8080/",
          "height": 34
        },
        "outputId": "34451cea-c953-4cd5-fa67-84c430c2cd95"
      },
      "source": [
        "predy_tree = tree_model.predict(x_test)\n",
        "acc_tree = accuracy_score(y_test, predy_tree)\n",
        "print(acc_tree)"
      ],
      "execution_count": 112,
      "outputs": [
        {
          "output_type": "stream",
          "text": [
            "0.8734177215189873\n"
          ],
          "name": "stdout"
        }
      ]
    },
    {
      "cell_type": "code",
      "metadata": {
        "id": "UUGI5XmQJnJP",
        "colab_type": "code",
        "colab": {
          "base_uri": "https://localhost:8080/",
          "height": 51
        },
        "outputId": "1f69e062-74f0-414e-99ac-87f5921bde78"
      },
      "source": [
        "from sklearn.metrics import confusion_matrix\n",
        "print(confusion_matrix(y_test, predy_tree))"
      ],
      "execution_count": 113,
      "outputs": [
        {
          "output_type": "stream",
          "text": [
            "[[33  8]\n",
            " [ 2 36]]\n"
          ],
          "name": "stdout"
        }
      ]
    },
    {
      "cell_type": "markdown",
      "metadata": {
        "id": "0HWGTbMUnY5m",
        "colab_type": "text"
      },
      "source": [
        "### Logistic regression"
      ]
    },
    {
      "cell_type": "code",
      "metadata": {
        "id": "g11DGw7InSNe",
        "colab_type": "code",
        "colab": {
          "base_uri": "https://localhost:8080/",
          "height": 102
        },
        "outputId": "c56b5f2e-7384-48f3-9f86-59330eb8bdc5"
      },
      "source": [
        "from sklearn.linear_model import LogisticRegression\n",
        "\n",
        "log_reg_model = LogisticRegression(random_state=42)\n",
        "log_reg_model.fit(x_train, y_train)"
      ],
      "execution_count": 114,
      "outputs": [
        {
          "output_type": "execute_result",
          "data": {
            "text/plain": [
              "LogisticRegression(C=1.0, class_weight=None, dual=False, fit_intercept=True,\n",
              "                   intercept_scaling=1, l1_ratio=None, max_iter=100,\n",
              "                   multi_class='auto', n_jobs=None, penalty='l2',\n",
              "                   random_state=42, solver='lbfgs', tol=0.0001, verbose=0,\n",
              "                   warm_start=False)"
            ]
          },
          "metadata": {
            "tags": []
          },
          "execution_count": 114
        }
      ]
    },
    {
      "cell_type": "code",
      "metadata": {
        "id": "XJEZV5B9sI8X",
        "colab_type": "code",
        "colab": {
          "base_uri": "https://localhost:8080/",
          "height": 34
        },
        "outputId": "b27db523-2342-46c0-ab65-8d769b880880"
      },
      "source": [
        "predy_log = log_reg_model.predict(x_test)\n",
        "print(accuracy_score(y_test, predy_tree))"
      ],
      "execution_count": 115,
      "outputs": [
        {
          "output_type": "stream",
          "text": [
            "0.8734177215189873\n"
          ],
          "name": "stdout"
        }
      ]
    },
    {
      "cell_type": "code",
      "metadata": {
        "id": "k_d_PdOnschs",
        "colab_type": "code",
        "colab": {}
      },
      "source": [
        ""
      ],
      "execution_count": null,
      "outputs": []
    }
  ]
}