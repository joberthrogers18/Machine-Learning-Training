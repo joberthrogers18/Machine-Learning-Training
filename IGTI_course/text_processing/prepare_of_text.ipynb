{
  "nbformat": 4,
  "nbformat_minor": 0,
  "metadata": {
    "colab": {
      "name": "prepare_of_text.ipynb",
      "provenance": [],
      "collapsed_sections": []
    },
    "kernelspec": {
      "name": "python3",
      "display_name": "Python 3"
    }
  },
  "cells": [
    {
      "cell_type": "code",
      "metadata": {
        "id": "J2HVOXtWF9XW",
        "colab_type": "code",
        "colab": {
          "base_uri": "https://localhost:8080/",
          "height": 90
        },
        "outputId": "82bcf1f9-411f-4dd3-9474-3dda0a2e253a"
      },
      "source": [
        "# generate the stopwords\n",
        "import nltk # lib to analyse texts\n",
        "import numpy as np\n",
        "nltk.download('stopwords')\n",
        "nltk.download('punkt')\n",
        "from pprint import pprint # lib to do the \"print\" friendly way"
      ],
      "execution_count": 3,
      "outputs": [
        {
          "output_type": "stream",
          "text": [
            "[nltk_data] Downloading package stopwords to /root/nltk_data...\n",
            "[nltk_data]   Package stopwords is already up-to-date!\n",
            "[nltk_data] Downloading package punkt to /root/nltk_data...\n",
            "[nltk_data]   Package punkt is already up-to-date!\n"
          ],
          "name": "stdout"
        }
      ]
    },
    {
      "cell_type": "code",
      "metadata": {
        "id": "Hf9popziGiaf",
        "colab_type": "code",
        "colab": {
          "base_uri": "https://localhost:8080/",
          "height": 454
        },
        "outputId": "145d032e-a791-4b02-f9d8-8d474061a981"
      },
      "source": [
        "stopWordPotuguese = nltk.corpus.stopwords.words('portuguese')\n",
        "print(np.transpose(stopWordPotuguese))"
      ],
      "execution_count": 6,
      "outputs": [
        {
          "output_type": "stream",
          "text": [
            "['de' 'a' 'o' 'que' 'e' 'é' 'do' 'da' 'em' 'um' 'para' 'com' 'não' 'uma'\n",
            " 'os' 'no' 'se' 'na' 'por' 'mais' 'as' 'dos' 'como' 'mas' 'ao' 'ele' 'das'\n",
            " 'à' 'seu' 'sua' 'ou' 'quando' 'muito' 'nos' 'já' 'eu' 'também' 'só'\n",
            " 'pelo' 'pela' 'até' 'isso' 'ela' 'entre' 'depois' 'sem' 'mesmo' 'aos'\n",
            " 'seus' 'quem' 'nas' 'me' 'esse' 'eles' 'você' 'essa' 'num' 'nem' 'suas'\n",
            " 'meu' 'às' 'minha' 'numa' 'pelos' 'elas' 'qual' 'nós' 'lhe' 'deles'\n",
            " 'essas' 'esses' 'pelas' 'este' 'dele' 'tu' 'te' 'vocês' 'vos' 'lhes'\n",
            " 'meus' 'minhas' 'teu' 'tua' 'teus' 'tuas' 'nosso' 'nossa' 'nossos'\n",
            " 'nossas' 'dela' 'delas' 'esta' 'estes' 'estas' 'aquele' 'aquela'\n",
            " 'aqueles' 'aquelas' 'isto' 'aquilo' 'estou' 'está' 'estamos' 'estão'\n",
            " 'estive' 'esteve' 'estivemos' 'estiveram' 'estava' 'estávamos' 'estavam'\n",
            " 'estivera' 'estivéramos' 'esteja' 'estejamos' 'estejam' 'estivesse'\n",
            " 'estivéssemos' 'estivessem' 'estiver' 'estivermos' 'estiverem' 'hei' 'há'\n",
            " 'havemos' 'hão' 'houve' 'houvemos' 'houveram' 'houvera' 'houvéramos'\n",
            " 'haja' 'hajamos' 'hajam' 'houvesse' 'houvéssemos' 'houvessem' 'houver'\n",
            " 'houvermos' 'houverem' 'houverei' 'houverá' 'houveremos' 'houverão'\n",
            " 'houveria' 'houveríamos' 'houveriam' 'sou' 'somos' 'são' 'era' 'éramos'\n",
            " 'eram' 'fui' 'foi' 'fomos' 'foram' 'fora' 'fôramos' 'seja' 'sejamos'\n",
            " 'sejam' 'fosse' 'fôssemos' 'fossem' 'for' 'formos' 'forem' 'serei' 'será'\n",
            " 'seremos' 'serão' 'seria' 'seríamos' 'seriam' 'tenho' 'tem' 'temos' 'tém'\n",
            " 'tinha' 'tínhamos' 'tinham' 'tive' 'teve' 'tivemos' 'tiveram' 'tivera'\n",
            " 'tivéramos' 'tenha' 'tenhamos' 'tenham' 'tivesse' 'tivéssemos' 'tivessem'\n",
            " 'tiver' 'tivermos' 'tiverem' 'terei' 'terá' 'teremos' 'terão' 'teria'\n",
            " 'teríamos' 'teriam']\n"
          ],
          "name": "stdout"
        }
      ]
    },
    {
      "cell_type": "markdown",
      "metadata": {
        "id": "TpPgaxecM9Oo",
        "colab_type": "text"
      },
      "source": [
        "### Tokenize"
      ]
    },
    {
      "cell_type": "code",
      "metadata": {
        "id": "LSyKv3BZG8t8",
        "colab_type": "code",
        "colab": {
          "base_uri": "https://localhost:8080/",
          "height": 72
        },
        "outputId": "68ad5d4b-2e08-46f0-8cd0-9ce4e7e0cfce"
      },
      "source": [
        "# TOKENIZE SENTENCES\n",
        "# generate the token of sentences \n",
        "sample_text = \"\"\" O menino gosta de jogar futebol aos finais de semana. \n",
        "Ele gosta de jogar com seus amigos Marcos e João, mas não gosta de brincar\n",
        "com a irmã Marcela\"\"\"\n",
        "\n",
        "tokenize_sentence=nltk.sent_tokenize\n",
        "sample_sentence = tokenize_sentence(text=sample_text)\n",
        "pprint(sample_sentence)"
      ],
      "execution_count": 9,
      "outputs": [
        {
          "output_type": "stream",
          "text": [
            "[' O menino gosta de jogar futebol aos finais de semana.',\n",
            " 'Ele gosta de jogar com seus amigos Marcos e João, mas não gosta de brincar\\n'\n",
            " 'com a irmã Marcela']\n"
          ],
          "name": "stdout"
        }
      ]
    },
    {
      "cell_type": "code",
      "metadata": {
        "id": "J_JOESWlIXg3",
        "colab_type": "code",
        "colab": {
          "base_uri": "https://localhost:8080/",
          "height": 217
        },
        "outputId": "8c0ea755-a74a-4440-97ae-4a6eb0d09b48"
      },
      "source": [
        "# tokenize the words\n",
        "sample_sentence='O menino gosta de jogar futebol aos finais de semana.'\n",
        "tokenize_words=nltk.word_tokenize\n",
        "sample_words = tokenize_words(text=sample_sentence)\n",
        "pprint(sample_words)"
      ],
      "execution_count": 12,
      "outputs": [
        {
          "output_type": "stream",
          "text": [
            "['O',\n",
            " 'menino',\n",
            " 'gosta',\n",
            " 'de',\n",
            " 'jogar',\n",
            " 'futebol',\n",
            " 'aos',\n",
            " 'finais',\n",
            " 'de',\n",
            " 'semana',\n",
            " '.']\n"
          ],
          "name": "stdout"
        }
      ]
    },
    {
      "cell_type": "markdown",
      "metadata": {
        "id": "vvtxxaobNFCY",
        "colab_type": "text"
      },
      "source": [
        "### Stemization"
      ]
    },
    {
      "cell_type": "code",
      "metadata": {
        "id": "T6X4Q9K6JCb3",
        "colab_type": "code",
        "colab": {
          "base_uri": "https://localhost:8080/",
          "height": 72
        },
        "outputId": "30acbebe-9acc-4537-d1db-44d46c8816cb"
      },
      "source": [
        "# generate the sample of stem\n",
        "# get the mean general of all words (get radical of word cause it there are a lot derivations)\n",
        "from nltk.stem import PorterStemmer #stemize based in algorithm of Porter\n",
        "from nltk.stem import RSLPStemmer # stemize to portugues\n",
        "nltk.download('rslp')"
      ],
      "execution_count": 13,
      "outputs": [
        {
          "output_type": "stream",
          "text": [
            "[nltk_data] Downloading package rslp to /root/nltk_data...\n",
            "[nltk_data]   Unzipping stemmers/rslp.zip.\n"
          ],
          "name": "stdout"
        },
        {
          "output_type": "execute_result",
          "data": {
            "text/plain": [
              "True"
            ]
          },
          "metadata": {
            "tags": []
          },
          "execution_count": 13
        }
      ]
    },
    {
      "cell_type": "code",
      "metadata": {
        "id": "Y2PRKku7KjDH",
        "colab_type": "code",
        "colab": {
          "base_uri": "https://localhost:8080/",
          "height": 90
        },
        "outputId": "2233797a-f21f-4b2b-ab0d-0239c0a60422"
      },
      "source": [
        "# generate stem through nltk\n",
        "ps = PorterStemmer()\n",
        "stemmer = RSLPStemmer()\n",
        "\n",
        "print(ps.stem('jumping'))\n",
        "print(stemmer.stem('amoroso'))\n",
        "print(stemmer.stem('amorosa'))\n",
        "print(stemmer.stem('amados'))"
      ],
      "execution_count": 14,
      "outputs": [
        {
          "output_type": "stream",
          "text": [
            "jump\n",
            "amor\n",
            "amor\n",
            "am\n"
          ],
          "name": "stdout"
        }
      ]
    },
    {
      "cell_type": "code",
      "metadata": {
        "id": "v8YvLa7vLcY2",
        "colab_type": "code",
        "colab": {
          "base_uri": "https://localhost:8080/",
          "height": 55
        },
        "outputId": "498add07-3a32-49fe-9ad8-7e4646fa0777"
      },
      "source": [
        "from nltk.stem import SnowballStemmer # indicated to language portuguese\n",
        "\n",
        "print('Languages supported %s', SnowballStemmer.languages)"
      ],
      "execution_count": 15,
      "outputs": [
        {
          "output_type": "stream",
          "text": [
            "Languages supported %s ('arabic', 'danish', 'dutch', 'english', 'finnish', 'french', 'german', 'hungarian', 'italian', 'norwegian', 'porter', 'portuguese', 'romanian', 'russian', 'spanish', 'swedish')\n"
          ],
          "name": "stdout"
        }
      ]
    },
    {
      "cell_type": "code",
      "metadata": {
        "id": "c_PpzWfWL5ry",
        "colab_type": "code",
        "colab": {
          "base_uri": "https://localhost:8080/",
          "height": 72
        },
        "outputId": "044975ff-7111-42f4-caa6-8ab16a4f62c3"
      },
      "source": [
        "ss = SnowballStemmer('portuguese')\n",
        "print(ss.stem('casado'))\n",
        "print(ss.stem('casarão'))\n",
        "print(ss.stem('casa'))"
      ],
      "execution_count": 16,
      "outputs": [
        {
          "output_type": "stream",
          "text": [
            "cas\n",
            "cas\n",
            "cas\n"
          ],
          "name": "stdout"
        }
      ]
    },
    {
      "cell_type": "markdown",
      "metadata": {
        "id": "KQmE6PIzMpSv",
        "colab_type": "text"
      },
      "source": [
        "### Example of bag words"
      ]
    },
    {
      "cell_type": "code",
      "metadata": {
        "id": "Rh5CBLqNMmFv",
        "colab_type": "code",
        "colab": {}
      },
      "source": [
        "sentence = \"O IGTI oferece especialização em Deep Learning. Deep Learning e ultilizado em diversas aplicações. As aplicacoes de deep learning sao estudadas nesta especializacao. O IGTI tambem oferece bootcamp \""
      ],
      "execution_count": 0,
      "outputs": []
    },
    {
      "cell_type": "code",
      "metadata": {
        "id": "yk4xQqMsNk9c",
        "colab_type": "code",
        "colab": {}
      },
      "source": [
        "# add all the sentences in lowercase\n",
        "sentence = sentence.lower()"
      ],
      "execution_count": 0,
      "outputs": []
    },
    {
      "cell_type": "code",
      "metadata": {
        "id": "ccy6eYmDNtAS",
        "colab_type": "code",
        "colab": {
          "base_uri": "https://localhost:8080/",
          "height": 55
        },
        "outputId": "6c091380-4b08-4da4-a0b4-e67171a40ca4"
      },
      "source": [
        "sentence"
      ],
      "execution_count": 19,
      "outputs": [
        {
          "output_type": "execute_result",
          "data": {
            "text/plain": [
              "'o igti oferece especialização em deep learning. deep learning e ultilizado em diversas aplicações. as aplicacoes de deep learning sao estudadas nesta especializacao. o igti tambem oferece bootcamp '"
            ]
          },
          "metadata": {
            "tags": []
          },
          "execution_count": 19
        }
      ]
    },
    {
      "cell_type": "code",
      "metadata": {
        "id": "15bsNRVmNuoy",
        "colab_type": "code",
        "colab": {
          "base_uri": "https://localhost:8080/",
          "height": 90
        },
        "outputId": "00fec19c-95d6-4cc0-f5ff-f499c6224270"
      },
      "source": [
        "# tokenize the sentence\n",
        "tokenize_sentence=nltk.sent_tokenize\n",
        "sample_sentence= tokenize_sentence(text=sentence)\n",
        "pprint(sample_sentence)"
      ],
      "execution_count": 20,
      "outputs": [
        {
          "output_type": "stream",
          "text": [
            "['o igti oferece especialização em deep learning.',\n",
            " 'deep learning e ultilizado em diversas aplicações.',\n",
            " 'as aplicacoes de deep learning sao estudadas nesta especializacao.',\n",
            " 'o igti tambem oferece bootcamp']\n"
          ],
          "name": "stdout"
        }
      ]
    },
    {
      "cell_type": "code",
      "metadata": {
        "id": "kEmx3C41N-Ua",
        "colab_type": "code",
        "colab": {
          "base_uri": "https://localhost:8080/",
          "height": 35
        },
        "outputId": "ca370cca-4c55-4197-8bac-4054753c6ade"
      },
      "source": [
        "sample_sentence[0]"
      ],
      "execution_count": 21,
      "outputs": [
        {
          "output_type": "execute_result",
          "data": {
            "text/plain": [
              "'o igti oferece especialização em deep learning.'"
            ]
          },
          "metadata": {
            "tags": []
          },
          "execution_count": 21
        }
      ]
    },
    {
      "cell_type": "code",
      "metadata": {
        "id": "Xu8HgadNOEYC",
        "colab_type": "code",
        "colab": {}
      },
      "source": [
        "# tokenize the words\n",
        "tokenize_words = nltk.word_tokenize\n",
        "list_words=[]\n",
        "for i in range(len(sample_sentence)):\n",
        "  sample_words = tokenize_words(text=sample_sentence[i])\n",
        "  list_words.extend(sample_words)"
      ],
      "execution_count": 0,
      "outputs": []
    },
    {
      "cell_type": "code",
      "metadata": {
        "id": "ED1keU6OOiXi",
        "colab_type": "code",
        "colab": {
          "base_uri": "https://localhost:8080/",
          "height": 581
        },
        "outputId": "9681d866-7f98-48f3-ba65-eb3a49a26554"
      },
      "source": [
        "list_words # corpus analysed"
      ],
      "execution_count": 26,
      "outputs": [
        {
          "output_type": "execute_result",
          "data": {
            "text/plain": [
              "['o',\n",
              " 'igti',\n",
              " 'oferece',\n",
              " 'especialização',\n",
              " 'em',\n",
              " 'deep',\n",
              " 'learning',\n",
              " '.',\n",
              " 'deep',\n",
              " 'learning',\n",
              " 'e',\n",
              " 'ultilizado',\n",
              " 'em',\n",
              " 'diversas',\n",
              " 'aplicações',\n",
              " '.',\n",
              " 'as',\n",
              " 'aplicacoes',\n",
              " 'de',\n",
              " 'deep',\n",
              " 'learning',\n",
              " 'sao',\n",
              " 'estudadas',\n",
              " 'nesta',\n",
              " 'especializacao',\n",
              " '.',\n",
              " 'o',\n",
              " 'igti',\n",
              " 'tambem',\n",
              " 'oferece',\n",
              " 'bootcamp']"
            ]
          },
          "metadata": {
            "tags": []
          },
          "execution_count": 26
        }
      ]
    },
    {
      "cell_type": "code",
      "metadata": {
        "id": "lm7_L9aFPNFz",
        "colab_type": "code",
        "colab": {}
      },
      "source": [
        "# tokenize words\n",
        "def tokenizeWords(sentence):\n",
        "  sample_words = tokenize_words(text=sentence)\n",
        "  return sample_words\n",
        "\n",
        "# remove all stopwords and create the \"Bag of Words\"\n",
        "def removeStopWords(list_words):\n",
        "\n",
        "    my_stop_words=['o', 'em', 'as', 'de', 'sao', 'nesta', '.', 'e', 'a', 'na', 'do'] # stop word list created\n",
        "    list_cleaned=set(list_words)-set(my_stop_words)\n",
        "    return list_cleaned\n",
        "\n",
        "\n",
        "my_bag_of_words=removeStopWords(list_words)"
      ],
      "execution_count": 0,
      "outputs": []
    },
    {
      "cell_type": "code",
      "metadata": {
        "id": "W5QdN_lYQRM7",
        "colab_type": "code",
        "colab": {
          "base_uri": "https://localhost:8080/",
          "height": 35
        },
        "outputId": "3877309b-bcef-4182-bfb5-e5ea87a09451"
      },
      "source": [
        "print(my_bag_of_words)"
      ],
      "execution_count": 29,
      "outputs": [
        {
          "output_type": "stream",
          "text": [
            "{'tambem', 'estudadas', 'especializacao', 'especialização', 'diversas', 'aplicacoes', 'aplicações', 'oferece', 'bootcamp', 'deep', 'igti', 'ultilizado', 'learning'}\n"
          ],
          "name": "stdout"
        }
      ]
    },
    {
      "cell_type": "code",
      "metadata": {
        "id": "Vo5bq_TXQjKy",
        "colab_type": "code",
        "colab": {
          "base_uri": "https://localhost:8080/",
          "height": 35
        },
        "outputId": "065718af-f1bf-4e17-c6d8-a2add938d922"
      },
      "source": [
        "# create the vector which represent the sentence in BoW\n",
        "def bagofwords(sentence, words):\n",
        "  sentence_words = tokenizeWords(sentence)\n",
        "  #cont the freq of words which that are in vector of bag of words\n",
        "  bag = np.zeros(len(words))\n",
        "  for sw in sentence_words:\n",
        "    for i, word in enumerate(words):\n",
        "      if word == sw:\n",
        "        bag[i] += 1\n",
        "\n",
        "  return np.array(bag)\n",
        "\n",
        "sentence_test=\" o igti oferece especialização em deep learning e o igti oferece bootcamp\"\n",
        "print(bagofwords(sentence_test, my_bag_of_words))"
      ],
      "execution_count": 32,
      "outputs": [
        {
          "output_type": "stream",
          "text": [
            "[0. 0. 0. 1. 0. 0. 0. 2. 1. 1. 2. 0. 1.]\n"
          ],
          "name": "stdout"
        }
      ]
    },
    {
      "cell_type": "code",
      "metadata": {
        "id": "7utHuhWbSPin",
        "colab_type": "code",
        "colab": {}
      },
      "source": [
        ""
      ],
      "execution_count": 0,
      "outputs": []
    }
  ]
}