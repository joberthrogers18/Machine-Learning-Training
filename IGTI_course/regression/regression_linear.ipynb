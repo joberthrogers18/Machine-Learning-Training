{
  "nbformat": 4,
  "nbformat_minor": 0,
  "metadata": {
    "colab": {
      "name": "regression_linear.ipynb",
      "provenance": [],
      "collapsed_sections": [],
      "toc_visible": true
    },
    "kernelspec": {
      "name": "python3",
      "display_name": "Python 3"
    }
  },
  "cells": [
    {
      "cell_type": "code",
      "metadata": {
        "id": "MRWT9kWFWc6k",
        "colab_type": "code",
        "colab": {}
      },
      "source": [
        "import numpy as np\n",
        "import scipy # lib to train the model  \n",
        "import matplotlib.pyplot as plt\n",
        "from scipy.optimize import curve_fit # Made optimization of Mean Square Error"
      ],
      "execution_count": 0,
      "outputs": []
    },
    {
      "cell_type": "code",
      "metadata": {
        "id": "ez1ACDJpauqn",
        "colab_type": "code",
        "colab": {}
      },
      "source": [
        "# variables independents\n",
        "ages = [18, 25, 57, 45, 26, 64, 37, 40, 24, 33]\n",
        "salaryByYear = [15000, 29000, 68000, 52000, 32000, 80000, 41000, 45000, 26000, 33000]\n",
        "\n",
        "# transform in array\n",
        "xData = np.array(ages)\n",
        "yData = np.array(salaryByYear)"
      ],
      "execution_count": 0,
      "outputs": []
    },
    {
      "cell_type": "code",
      "metadata": {
        "id": "bPX5Vlpdcj0I",
        "colab_type": "code",
        "colab": {}
      },
      "source": [
        "# optime function\n",
        "def equationLinear(x, a, b):\n",
        "  return a * x + b"
      ],
      "execution_count": 0,
      "outputs": []
    },
    {
      "cell_type": "code",
      "metadata": {
        "id": "Jj-W5FO_cvLK",
        "colab_type": "code",
        "colab": {}
      },
      "source": [
        "# initial parameters \n",
        "parametersInitials = np.array([1.0, 1.0])"
      ],
      "execution_count": 0,
      "outputs": []
    },
    {
      "cell_type": "code",
      "metadata": {
        "id": "zsGG3e1oc72l",
        "colab_type": "code",
        "colab": {}
      },
      "source": [
        "# reakuze the optimize through the MSE\n",
        "parametersOptimizes, pcov = curve_fit(equationLinear, xData, yData)\n",
        "# pcov -> variation of parameters  found"
      ],
      "execution_count": 0,
      "outputs": []
    },
    {
      "cell_type": "code",
      "metadata": {
        "id": "rhbwu8dkexaL",
        "colab_type": "code",
        "outputId": "ada15e90-78cd-4d50-f8be-7fbe177c8ccf",
        "colab": {
          "base_uri": "https://localhost:8080/",
          "height": 34
        }
      },
      "source": [
        "parametersOptimizes"
      ],
      "execution_count": 0,
      "outputs": [
        {
          "output_type": "execute_result",
          "data": {
            "text/plain": [
              "array([ 1320.53256667, -6627.65171673])"
            ]
          },
          "metadata": {
            "tags": []
          },
          "execution_count": 6
        }
      ]
    },
    {
      "cell_type": "code",
      "metadata": {
        "id": "okpwV0SLe5Lx",
        "colab_type": "code",
        "outputId": "113b3805-f3c8-4d65-977a-c41ac123a59a",
        "colab": {
          "base_uri": "https://localhost:8080/",
          "height": 34
        }
      },
      "source": [
        "# prevision of data\n",
        "previsionModel = equationLinear(xData, *parametersInitials)\n",
        "previsionModel"
      ],
      "execution_count": 0,
      "outputs": [
        {
          "output_type": "execute_result",
          "data": {
            "text/plain": [
              "array([19., 26., 58., 46., 27., 65., 38., 41., 25., 34.])"
            ]
          },
          "metadata": {
            "tags": []
          },
          "execution_count": 7
        }
      ]
    },
    {
      "cell_type": "code",
      "metadata": {
        "id": "FFIPy-wzfbTr",
        "colab_type": "code",
        "outputId": "2e537dd6-35ac-4d24-bea4-e4e7a2700281",
        "colab": {
          "base_uri": "https://localhost:8080/",
          "height": 51
        }
      },
      "source": [
        "absoluteError = previsionModel - yData\n",
        "absoluteError"
      ],
      "execution_count": 0,
      "outputs": [
        {
          "output_type": "execute_result",
          "data": {
            "text/plain": [
              "array([-14981., -28974., -67942., -51954., -31973., -79935., -40962.,\n",
              "       -44959., -25975., -32966.])"
            ]
          },
          "metadata": {
            "tags": []
          },
          "execution_count": 8
        }
      ]
    },
    {
      "cell_type": "code",
      "metadata": {
        "id": "brzcbPh4gG03",
        "colab_type": "code",
        "outputId": "518091c7-60b8-4cfc-fed2-eec8e09d7558",
        "colab": {
          "base_uri": "https://localhost:8080/",
          "height": 102
        }
      },
      "source": [
        "# calculation of error squared between the measures\n",
        "SE = np.square(absoluteError)\n",
        "# calculate the MSE\n",
        "MSE = np.mean(SE)\n",
        "print('SE: ',SE)\n",
        "print('\\nMSE: ',MSE)"
      ],
      "execution_count": 0,
      "outputs": [
        {
          "output_type": "stream",
          "text": [
            "SE:  [2.24430361e+08 8.39492676e+08 4.61611536e+09 2.69921812e+09\n",
            " 1.02227273e+09 6.38960422e+09 1.67788544e+09 2.02131168e+09\n",
            " 6.74700625e+08 1.08675716e+09]\n",
            "\n",
            "MSE:  2125178837.7\n"
          ],
          "name": "stdout"
        }
      ]
    },
    {
      "cell_type": "code",
      "metadata": {
        "id": "ER4E1hxGkbeG",
        "colab_type": "code",
        "outputId": "93f2d9b6-7a90-42c7-c178-6e01286999d0",
        "colab": {
          "base_uri": "https://localhost:8080/",
          "height": 34
        }
      },
      "source": [
        "# determination coeficient \n",
        "# np.var -> calculate variance\n",
        "RsSquared = 1.0 - (np.var(absoluteError) / np.var(yData))\n",
        "print('Coeficient of determination: ', RsSquared)"
      ],
      "execution_count": 0,
      "outputs": [
        {
          "output_type": "stream",
          "text": [
            "Coeficient of determination:  0.0014906973828157088\n"
          ],
          "name": "stdout"
        }
      ]
    },
    {
      "cell_type": "code",
      "metadata": {
        "id": "AXGMkliFk4Hy",
        "colab_type": "code",
        "outputId": "4568a4d6-b676-40a5-defe-9642c4395c47",
        "colab": {
          "base_uri": "https://localhost:8080/",
          "height": 34
        }
      },
      "source": [
        "# line equation\n",
        "print('Y = {}*X {}'.format(parametersOptimizes[0], parametersOptimizes[1]))"
      ],
      "execution_count": 0,
      "outputs": [
        {
          "output_type": "stream",
          "text": [
            "Y = 1320.5325666669085*X -6627.651716729711\n"
          ],
          "name": "stdout"
        }
      ]
    },
    {
      "cell_type": "code",
      "metadata": {
        "id": "MtS1G-7pmT7D",
        "colab_type": "code",
        "outputId": "b0a9d5a8-37b4-4792-e1ea-cb048fa3f0ab",
        "colab": {
          "base_uri": "https://localhost:8080/",
          "height": 399
        }
      },
      "source": [
        "# plot of figure\n",
        "f = plt.figure(figsize=(4, 4), dpi=100)\n",
        "axes = f.add_subplot(111) # create object to subplot\n",
        "\n",
        "axes.plot(xData, yData, 'ro')\n",
        "\n",
        "xModel = np.linspace(min(xData), max(xData))\n",
        "yModel = equationLinear(xModel, *parametersOptimizes)\n",
        "\n",
        "\n",
        "axes.plot(xModel, yModel)\n",
        "plt.xlabel(\"Age\")\n",
        "plt.ylabel(\"Annual Salary (R$)\")"
      ],
      "execution_count": 0,
      "outputs": [
        {
          "output_type": "execute_result",
          "data": {
            "text/plain": [
              "Text(0, 0.5, 'Annual Salary (R$)')"
            ]
          },
          "metadata": {
            "tags": []
          },
          "execution_count": 12
        },
        {
          "output_type": "display_data",
          "data": {
            "image/png": "[encoded data removed]",
            "text/plain": [
              "<Figure size 400x400 with 1 Axes>"
            ]
          },
          "metadata": {
            "tags": [],
            "needs_background": "light"
          }
        }
      ]
    },
    {
      "cell_type": "markdown",
      "metadata": {
        "id": "2siWPkaWtajo",
        "colab_type": "text"
      },
      "source": [
        "## The code using sklearn"
      ]
    },
    {
      "cell_type": "code",
      "metadata": {
        "id": "WEcSFeFRrERB",
        "colab_type": "code",
        "colab": {}
      },
      "source": [
        "from sklearn.linear_model import LinearRegression\n",
        "from sklearn.metrics import mean_squared_error"
      ],
      "execution_count": 0,
      "outputs": []
    },
    {
      "cell_type": "code",
      "metadata": {
        "id": "eC0D2JdvtqM-",
        "colab_type": "code",
        "colab": {}
      },
      "source": [
        "regression = LinearRegression()\n",
        "x_model_sklearn = xData.reshape(-1, 1) # make a redimention because the sklearn get 2D array\n",
        "regression_train = regression.fit(x_model_sklearn, yData)"
      ],
      "execution_count": 0,
      "outputs": []
    },
    {
      "cell_type": "code",
      "metadata": {
        "id": "oBwWX9GTuI5W",
        "colab_type": "code",
        "colab": {}
      },
      "source": [
        "prevision = regression_train.predict(x_model_sklearn)"
      ],
      "execution_count": 0,
      "outputs": []
    },
    {
      "cell_type": "code",
      "metadata": {
        "id": "KA6Dp9B1uVd6",
        "colab_type": "code",
        "outputId": "a278644c-80ca-4e12-9513-36661a61eaa5",
        "colab": {
          "base_uri": "https://localhost:8080/",
          "height": 34
        }
      },
      "source": [
        "MSE = mean_squared_error(yData, prevision)\n",
        "print('MSE: ', MSE)"
      ],
      "execution_count": 0,
      "outputs": [
        {
          "output_type": "stream",
          "text": [
            "MSE:  5479238.909036706\n"
          ],
          "name": "stdout"
        }
      ]
    },
    {
      "cell_type": "code",
      "metadata": {
        "id": "yDvXCxPPuilC",
        "colab_type": "code",
        "outputId": "afac1c3a-957e-49ac-cfa0-fcf21ce43a06",
        "colab": {
          "base_uri": "https://localhost:8080/",
          "height": 51
        }
      },
      "source": [
        "# find parameters\n",
        "print('Y = {}*X {}'.format(regression_train.coef_, regression_train.intercept_))\n",
        "\n",
        "from sklearn.metrics import r2_score\n",
        "\n",
        "R_2 = r2_score(yData, prevision)\n",
        "print(\"Determination Coeficient R2:\", R_2)"
      ],
      "execution_count": 0,
      "outputs": [
        {
          "output_type": "stream",
          "text": [
            "Y = [1320.53256496]*X -6627.651646877624\n",
            "Determination Coeficient R2: 0.9846300347582353\n"
          ],
          "name": "stdout"
        }
      ]
    },
    {
      "cell_type": "markdown",
      "metadata": {
        "id": "2uhCIrQkvsVm",
        "colab_type": "text"
      },
      "source": [
        "# Regression for a real database"
      ]
    },
    {
      "cell_type": "code",
      "metadata": {
        "id": "qV1QxXqhu66i",
        "colab_type": "code",
        "colab": {}
      },
      "source": [
        "import pandas as pd"
      ],
      "execution_count": 0,
      "outputs": []
    },
    {
      "cell_type": "code",
      "metadata": {
        "id": "c_ItFK0NwADp",
        "colab_type": "code",
        "outputId": "14920cec-f3c5-4398-9f43-900fe2d00e00",
        "colab": {
          "base_uri": "https://localhost:8080/",
          "height": 122
        }
      },
      "source": [
        "from google.colab import drive\n",
        "drive.mount('/content/drive')"
      ],
      "execution_count": 0,
      "outputs": [
        {
          "output_type": "stream",
          "text": [
            "Go to this URL in a browser: https://accounts.google.com/o/oauth2/auth?client_id=947318989803-6bn6qk8qdgf4n4g3pfee6491hc0brc4i.apps.googleusercontent.com&redirect_uri=urn%3aietf%3awg%3aoauth%3a2.0%3aoob&response_type=code&scope=email%20https%3a%2f%2fwww.googleapis.com%2fauth%2fdocs.test%20https%3a%2f%2fwww.googleapis.com%2fauth%2fdrive%20https%3a%2f%2fwww.googleapis.com%2fauth%2fdrive.photos.readonly%20https%3a%2f%2fwww.googleapis.com%2fauth%2fpeopleapi.readonly\n",
            "\n",
            "Enter your authorization code:\n",
            "··········\n",
            "Mounted at /content/drive\n"
          ],
          "name": "stdout"
        }
      ]
    },
    {
      "cell_type": "code",
      "metadata": {
        "id": "NT9V8sFewGFO",
        "colab_type": "code",
        "outputId": "d26e92c6-1036-4276-e644-9cc45706acc4",
        "colab": {
          "base_uri": "https://localhost:8080/",
          "height": 204
        }
      },
      "source": [
        "# if in google colab, execute the cell above and the line bellow\n",
        "data = pd.read_csv(\"drive/My Drive/Colab Notebooks/headbrain.csv\")\n",
        "# if in jupyter notebook execute only the line bellow\n",
        "# data = pd.read_csv(\"headbrain.csv\")\n",
        "\n",
        "data.head()"
      ],
      "execution_count": 0,
      "outputs": [
        {
          "output_type": "execute_result",
          "data": {
            "text/html": [
              "<div>\n",
              "<style scoped>\n",
              "    .dataframe tbody tr th:only-of-type {\n",
              "        vertical-align: middle;\n",
              "    }\n",
              "\n",
              "    .dataframe tbody tr th {\n",
              "        vertical-align: top;\n",
              "    }\n",
              "\n",
              "    .dataframe thead th {\n",
              "        text-align: right;\n",
              "    }\n",
              "</style>\n",
              "<table border=\"1\" class=\"dataframe\">\n",
              "  <thead>\n",
              "    <tr style=\"text-align: right;\">\n",
              "      <th></th>\n",
              "      <th>Gender</th>\n",
              "      <th>Age Range</th>\n",
              "      <th>Head Size(cm^3)</th>\n",
              "      <th>Brain Weight(grams)</th>\n",
              "    </tr>\n",
              "  </thead>\n",
              "  <tbody>\n",
              "    <tr>\n",
              "      <th>0</th>\n",
              "      <td>1</td>\n",
              "      <td>1</td>\n",
              "      <td>4512</td>\n",
              "      <td>1530</td>\n",
              "    </tr>\n",
              "    <tr>\n",
              "      <th>1</th>\n",
              "      <td>1</td>\n",
              "      <td>1</td>\n",
              "      <td>3738</td>\n",
              "      <td>1297</td>\n",
              "    </tr>\n",
              "    <tr>\n",
              "      <th>2</th>\n",
              "      <td>1</td>\n",
              "      <td>1</td>\n",
              "      <td>4261</td>\n",
              "      <td>1335</td>\n",
              "    </tr>\n",
              "    <tr>\n",
              "      <th>3</th>\n",
              "      <td>1</td>\n",
              "      <td>1</td>\n",
              "      <td>3777</td>\n",
              "      <td>1282</td>\n",
              "    </tr>\n",
              "    <tr>\n",
              "      <th>4</th>\n",
              "      <td>1</td>\n",
              "      <td>1</td>\n",
              "      <td>4177</td>\n",
              "      <td>1590</td>\n",
              "    </tr>\n",
              "  </tbody>\n",
              "</table>\n",
              "</div>"
            ],
            "text/plain": [
              "   Gender  Age Range  Head Size(cm^3)  Brain Weight(grams)\n",
              "0       1          1             4512                 1530\n",
              "1       1          1             3738                 1297\n",
              "2       1          1             4261                 1335\n",
              "3       1          1             3777                 1282\n",
              "4       1          1             4177                 1590"
            ]
          },
          "metadata": {
            "tags": []
          },
          "execution_count": 27
        }
      ]
    },
    {
      "cell_type": "code",
      "metadata": {
        "id": "0LR3i_ZAwSN3",
        "colab_type": "code",
        "outputId": "bc0ad687-c6e7-4ab2-9007-ea313c366b6b",
        "colab": {
          "base_uri": "https://localhost:8080/",
          "height": 204
        }
      },
      "source": [
        "data.info()"
      ],
      "execution_count": 0,
      "outputs": [
        {
          "output_type": "stream",
          "text": [
            "<class 'pandas.core.frame.DataFrame'>\n",
            "RangeIndex: 237 entries, 0 to 236\n",
            "Data columns (total 4 columns):\n",
            " #   Column               Non-Null Count  Dtype\n",
            "---  ------               --------------  -----\n",
            " 0   Gender               237 non-null    int64\n",
            " 1   Age Range            237 non-null    int64\n",
            " 2   Head Size(cm^3)      237 non-null    int64\n",
            " 3   Brain Weight(grams)  237 non-null    int64\n",
            "dtypes: int64(4)\n",
            "memory usage: 7.5 KB\n"
          ],
          "name": "stdout"
        }
      ]
    },
    {
      "cell_type": "code",
      "metadata": {
        "id": "BfCUP0Tz1-c8",
        "colab_type": "code",
        "colab": {}
      },
      "source": [
        "x= data[\"Head Size(cm^3)\"].values\n",
        "y= data[\"Brain Weight(grams)\"].values"
      ],
      "execution_count": 0,
      "outputs": []
    },
    {
      "cell_type": "code",
      "metadata": {
        "id": "ImEaAcyr2VDT",
        "colab_type": "code",
        "outputId": "023c7ce5-5c7b-46fa-ed55-deff387582df",
        "colab": {
          "base_uri": "https://localhost:8080/",
          "height": 391
        }
      },
      "source": [
        "y"
      ],
      "execution_count": 0,
      "outputs": [
        {
          "output_type": "execute_result",
          "data": {
            "text/plain": [
              "array([1530, 1297, 1335, 1282, 1590, 1300, 1400, 1255, 1355, 1375, 1340,\n",
              "       1380, 1355, 1522, 1208, 1405, 1358, 1292, 1340, 1400, 1357, 1287,\n",
              "       1275, 1270, 1635, 1505, 1490, 1485, 1310, 1420, 1318, 1432, 1364,\n",
              "       1405, 1432, 1207, 1375, 1350, 1236, 1250, 1350, 1320, 1525, 1570,\n",
              "       1340, 1422, 1506, 1215, 1311, 1300, 1224, 1350, 1335, 1390, 1400,\n",
              "       1225, 1310, 1560, 1330, 1222, 1415, 1175, 1330, 1485, 1470, 1135,\n",
              "       1310, 1154, 1510, 1415, 1468, 1390, 1380, 1432, 1240, 1195, 1225,\n",
              "       1188, 1252, 1315, 1245, 1430, 1279, 1245, 1309, 1412, 1120, 1220,\n",
              "       1280, 1440, 1370, 1192, 1230, 1346, 1290, 1165, 1240, 1132, 1242,\n",
              "       1270, 1218, 1430, 1588, 1320, 1290, 1260, 1425, 1226, 1360, 1620,\n",
              "       1310, 1250, 1295, 1290, 1290, 1275, 1250, 1270, 1362, 1300, 1173,\n",
              "       1256, 1440, 1180, 1306, 1350, 1125, 1165, 1312, 1300, 1270, 1335,\n",
              "       1450, 1310, 1027, 1235, 1260, 1165, 1080, 1127, 1270, 1252, 1200,\n",
              "       1290, 1334, 1380, 1140, 1243, 1340, 1168, 1322, 1249, 1321, 1192,\n",
              "       1373, 1170, 1265, 1235, 1302, 1241, 1078, 1520, 1460, 1075, 1280,\n",
              "       1180, 1250, 1190, 1374, 1306, 1202, 1240, 1316, 1280, 1350, 1180,\n",
              "       1210, 1127, 1324, 1210, 1290, 1100, 1280, 1175, 1160, 1205, 1163,\n",
              "       1022, 1243, 1350, 1237, 1204, 1090, 1355, 1250, 1076, 1120, 1220,\n",
              "       1240, 1220, 1095, 1235, 1105, 1405, 1150, 1305, 1220, 1296, 1175,\n",
              "        955, 1070, 1320, 1060, 1130, 1250, 1225, 1180, 1178, 1142, 1130,\n",
              "       1185, 1012, 1280, 1103, 1408, 1300, 1246, 1380, 1350, 1060, 1350,\n",
              "       1220, 1110, 1215, 1104, 1170, 1120])"
            ]
          },
          "metadata": {
            "tags": []
          },
          "execution_count": 37
        }
      ]
    },
    {
      "cell_type": "code",
      "metadata": {
        "id": "ndHpSOQW2VhN",
        "colab_type": "code",
        "colab": {}
      },
      "source": [
        "# regressor\n",
        "reg = LinearRegression()\n",
        "x_reshaped = x.reshape((-1, 1))\n",
        "regression = reg.fit(x_reshaped, y)"
      ],
      "execution_count": 0,
      "outputs": []
    },
    {
      "cell_type": "code",
      "metadata": {
        "id": "HGd_OGmI3Cfd",
        "colab_type": "code",
        "colab": {}
      },
      "source": [
        "prevision=reg.predict(x_reshaped)"
      ],
      "execution_count": 0,
      "outputs": []
    },
    {
      "cell_type": "code",
      "metadata": {
        "id": "5bXE0i1X3D6C",
        "colab_type": "code",
        "outputId": "5563f917-3512-4680-db3d-d1fa5fad86b4",
        "colab": {
          "base_uri": "https://localhost:8080/",
          "height": 51
        }
      },
      "source": [
        "# find parameters\n",
        "print('Y = {}*X {}'.format(regression.coef_, regression.intercept_))\n",
        "\n",
        "R_2 = r2_score(y, prevision)\n",
        "\n",
        "print(\"Determination Coeficient R2:\", R_2)"
      ],
      "execution_count": 0,
      "outputs": [
        {
          "output_type": "stream",
          "text": [
            "Y = [0.26342934]*X 325.5734210494426\n",
            "Determination Coeficient R2: 0.639311719957\n"
          ],
          "name": "stdout"
        }
      ]
    },
    {
      "cell_type": "code",
      "metadata": {
        "id": "qRcArHzh3UDW",
        "colab_type": "code",
        "outputId": "7b4d13c9-2d53-4543-e696-41dfdb5c3e65",
        "colab": {
          "base_uri": "https://localhost:8080/",
          "height": 382
        }
      },
      "source": [
        "plt.figure(figsize=(4,4), dpi=100)\n",
        "plt.scatter(x, y, color=\"gray\")\n",
        "plt.plot(x, prevision, color=\"red\", linewidth=2)\n",
        "plt.xlabel(\"Head Size(cm^3)\")\n",
        "plt.ylabel(\"Brain Weight(grams)\")\n",
        "plt.show()"
      ],
      "execution_count": 0,
      "outputs": [
        {
          "output_type": "display_data",
          "data": {
            "image/png": "[encoded data removed]",
            "text/plain": [
              "<Figure size 400x400 with 1 Axes>"
            ]
          },
          "metadata": {
            "tags": [],
            "needs_background": "light"
          }
        }
      ]
    },
    {
      "cell_type": "code",
      "metadata": {
        "id": "RalRQxCs3kU8",
        "colab_type": "code",
        "colab": {}
      },
      "source": [
        ""
      ],
      "execution_count": 0,
      "outputs": []
    }
  ]
}