{
 "cells": [
  {
   "cell_type": "markdown",
   "metadata": {
    "colab_type": "text",
    "id": "rI9-dSe5he9e"
   },
   "source": [
    "# Python Libraries\n",
    "\n",
    "For this tutorial, we are going to outline the most common uses for each of the following libraries:\n",
    "\n",
    "* **Numpy** is a library for working with arrays of data.\n",
    "\n",
    "* **Scipy** is a library of techniques for numerical and scientific computing.\n",
    "\n",
    "* **Matplotlib** is a library for making visualizations.\n",
    "\n",
    "* **Seaborn** is a higher-level interface to Matplotlib that can be used to simplify many visualization tasks.\n",
    "\n",
    "*__Important__: While this tutorial provides insight into the basics of these libraries,  I recommend digging into the documentation that is available online.*"
   ]
  },
  {
   "cell_type": "markdown",
   "metadata": {
    "colab_type": "text",
    "id": "3jBxP9ZhigUY"
   },
   "source": [
    "## NumPy\n",
    "\n",
    "NumPy is the fundamental package for scientific computing with Python. It contains among other things:\n",
    "\n",
    "* a powerful N-dimensional array object\n",
    "* sophisticated (broadcasting) functions\n",
    "* tools for integrating C/C++ and Fortran code\n",
    "* useful linear algebra, Fourier transform, and random number capabilities\n",
    "\n",
    "We will focus on the numpy array object.\n",
    "\n",
    "#### Numpy Array\n",
    "\n",
    "A numpy array is a grid of values, all of the same type, and is indexed by a tuple of nonnegative integers. The number of dimensions is the rank of the array; the shape of an array is a tuple of integers giving the size of the array along each dimension. "
   ]
  },
  {
   "cell_type": "code",
   "execution_count": 1,
   "metadata": {
    "colab": {},
    "colab_type": "code",
    "id": "3K83K-VAlPn2"
   },
   "outputs": [],
   "source": [
    "import numpy as np"
   ]
  },
  {
   "cell_type": "code",
   "execution_count": 2,
   "metadata": {
    "colab": {},
    "colab_type": "code",
    "id": "ZQTQGd_KlJf2"
   },
   "outputs": [
    {
     "name": "stdout",
     "output_type": "stream",
     "text": [
      "<class 'numpy.ndarray'>\n",
      "(3,)\n",
      "1 2 3\n",
      "(2, 2)\n",
      "1 2 4\n",
      "(3, 2)\n",
      "2 3 5 6\n"
     ]
    }
   ],
   "source": [
    "### Create a 3x1 numpy array\n",
    "a = np.array([1,2,3])\n",
    "\n",
    "### Print object type\n",
    "print(type(a))\n",
    "\n",
    "### Print shape\n",
    "print(a.shape)\n",
    "\n",
    "### Print some values in a\n",
    "print(a[0], a[1], a[2])\n",
    "\n",
    "### Create a 2x2 numpy array\n",
    "b = np.array([[1,2],[3,4]])\n",
    "\n",
    "### Print shape\n",
    "print(b.shape)\n",
    "\n",
    "## Print some values in b\n",
    "print(b[0,0], b[0,1], b[1,1])\n",
    "\n",
    "### Create a 3x2 numpy array\n",
    "c = np.array([[1,2],[3,4],[5,6]])\n",
    "\n",
    "### Print shape\n",
    "print(c.shape)\n",
    "\n",
    "### Print some values in c\n",
    "print(c[0,1], c[1,0], c[2,0], c[2,1])"
   ]
  },
  {
   "cell_type": "code",
   "execution_count": 3,
   "metadata": {
    "colab": {},
    "colab_type": "code",
    "id": "SKAeIpOUm6oC"
   },
   "outputs": [
    {
     "name": "stdout",
     "output_type": "stream",
     "text": [
      "[[0. 0. 0.]\n",
      " [0. 0. 0.]]\n",
      "[[1. 1.]\n",
      " [1. 1.]\n",
      " [1. 1.]\n",
      " [1. 1.]]\n",
      "[[9 9]\n",
      " [9 9]]\n",
      "[[0.78902496 0.26059385 0.50364452]\n",
      " [0.62908425 0.41646625 0.20317821]\n",
      " [0.21545961 0.52183678 0.7839557 ]]\n"
     ]
    }
   ],
   "source": [
    "### 2x3 zero array \n",
    "d = np.zeros((2,3))\n",
    "\n",
    "print(d)\n",
    "\n",
    "### 4x2 array of ones\n",
    "e = np.ones((4,2))\n",
    "\n",
    "print(e)\n",
    "\n",
    "### 2x2 constant array\n",
    "f = np.full((2,2), 9)\n",
    "\n",
    "print(f)\n",
    "\n",
    "### 3x3 random array\n",
    "g = np.random.random((3,3))\n",
    "\n",
    "print(g)\n"
   ]
  },
  {
   "cell_type": "markdown",
   "metadata": {
    "colab_type": "text",
    "id": "G5MxjOzNpXRf"
   },
   "source": [
    "#### Array Indexing"
   ]
  },
  {
   "cell_type": "code",
   "execution_count": 10,
   "metadata": {
    "colab": {},
    "colab_type": "code",
    "id": "wLqIR_J7pdxE"
   },
   "outputs": [
    {
     "name": "stdout",
     "output_type": "stream",
     "text": [
      "[[ 1  2  3  4]\n",
      " [ 5  6  7  8]\n",
      " [ 9 10 11 12]]\n",
      "[[2 3]\n",
      " [6 7]]\n"
     ]
    }
   ],
   "source": [
    "### Create 3x4 array\n",
    "h = np.array([[1,2,3,4,], [5,6,7,8], [9,10,11,12]])\n",
    "\n",
    "print(h)\n",
    "\n",
    "### Slice array to make a 2x2 sub-array\n",
    "i = h[:2, 1:3]\n",
    "\n",
    "print(i)"
   ]
  },
  {
   "cell_type": "code",
   "execution_count": 11,
   "metadata": {
    "colab": {},
    "colab_type": "code",
    "id": "6eJBCxlyqm6i"
   },
   "outputs": [
    {
     "name": "stdout",
     "output_type": "stream",
     "text": [
      "2\n",
      "1738\n",
      "\n",
      "\n",
      "[[   1 1738    3    4]\n",
      " [   5    6    7    8]\n",
      " [   9   10   11   12]]\n",
      "\n",
      "\n",
      "[[1738    3]\n",
      " [   6    7]]\n"
     ]
    }
   ],
   "source": [
    "print(h[0,1])\n",
    "\n",
    "### Modify the slice\n",
    "i[0,0] = 1738\n",
    "\n",
    "### Print to show how modifying the slice also changes the base object\n",
    "print(h[0,1])\n",
    "\n",
    "print('\\n')\n",
    "print(h)\n",
    "print('\\n')\n",
    "print(i)"
   ]
  },
  {
   "cell_type": "code",
   "execution_count": 13,
   "metadata": {},
   "outputs": [
    {
     "name": "stdout",
     "output_type": "stream",
     "text": [
      "[[   1 1738    3    4]\n",
      " [   5    6    7    8]\n",
      " [   9   10   11   12]]\n"
     ]
    }
   ],
   "source": [
    "print(h)"
   ]
  },
  {
   "cell_type": "markdown",
   "metadata": {
    "colab_type": "text",
    "id": "u1CDIqHXtCe5"
   },
   "source": [
    "#### Datatypes in Arrays"
   ]
  },
  {
   "cell_type": "code",
   "execution_count": 14,
   "metadata": {
    "colab": {},
    "colab_type": "code",
    "id": "RumLhraYtGlU"
   },
   "outputs": [
    {
     "name": "stdout",
     "output_type": "stream",
     "text": [
      "int64\n",
      "float64\n",
      "int64\n"
     ]
    }
   ],
   "source": [
    "### Integer\n",
    "j = np.array([1, 2])\n",
    "print(j.dtype)  \n",
    "\n",
    "\n",
    "### Float\n",
    "k = np.array([1.0, 2.0])\n",
    "print(k.dtype)         \n",
    "\n",
    "### Force Data Type\n",
    "l = np.array([1.0, 2.0], dtype=np.int64)\n",
    "print(l.dtype)"
   ]
  },
  {
   "cell_type": "markdown",
   "metadata": {
    "colab_type": "text",
    "id": "NMaOi2kStjJ5"
   },
   "source": [
    "#### Array Math\n",
    "\n",
    "Basic mathematical functions operate elementwise on arrays, and are available both as operator overloads and as functions in the numpy module:"
   ]
  },
  {
   "cell_type": "code",
   "execution_count": 15,
   "metadata": {
    "colab": {},
    "colab_type": "code",
    "id": "MjSXIlPetl6q"
   },
   "outputs": [
    {
     "name": "stdout",
     "output_type": "stream",
     "text": [
      "[[ 6.  8.]\n",
      " [10. 12.]]\n",
      "[[ 6.  8.]\n",
      " [10. 12.]]\n",
      "[[-4. -4.]\n",
      " [-4. -4.]]\n",
      "[[-4. -4.]\n",
      " [-4. -4.]]\n",
      "[[ 5. 12.]\n",
      " [21. 32.]]\n",
      "[[ 5. 12.]\n",
      " [21. 32.]]\n",
      "[[0.2        0.33333333]\n",
      " [0.42857143 0.5       ]]\n",
      "[[0.2        0.33333333]\n",
      " [0.42857143 0.5       ]]\n",
      "[[1.         1.41421356]\n",
      " [1.73205081 2.        ]]\n"
     ]
    }
   ],
   "source": [
    "x = np.array([[1,2],[3,4]], dtype=np.float64)\n",
    "y = np.array([[5,6],[7,8]], dtype=np.float64)\n",
    "\n",
    "# Elementwise sum; both produce the array\n",
    "# [[ 6.0  8.0]\n",
    "#  [10.0 12.0]]\n",
    "print(x + y)\n",
    "print(np.add(x, y))\n",
    "\n",
    "# Elementwise difference; both produce the array\n",
    "# [[-4.0 -4.0]\n",
    "#  [-4.0 -4.0]]\n",
    "print(x - y)\n",
    "print(np.subtract(x, y))\n",
    "\n",
    "# Elementwise product; both produce the array\n",
    "# [[ 5.0 12.0]\n",
    "#  [21.0 32.0]]\n",
    "print(x * y)\n",
    "print(np.multiply(x, y))\n",
    "\n",
    "# Elementwise division; both produce the array\n",
    "# [[ 0.2         0.33333333]\n",
    "#  [ 0.42857143  0.5       ]]\n",
    "print(x / y)\n",
    "print(np.divide(x, y))\n",
    "\n",
    "# Elementwise square root; produces the array\n",
    "# [[ 1.          1.41421356]\n",
    "#  [ 1.73205081  2.        ]]\n",
    "print(np.sqrt(x))"
   ]
  },
  {
   "cell_type": "code",
   "execution_count": 16,
   "metadata": {
    "colab": {},
    "colab_type": "code",
    "id": "gWn0vrZwt-SN"
   },
   "outputs": [
    {
     "name": "stdout",
     "output_type": "stream",
     "text": [
      "10\n",
      "[4 6]\n",
      "[3 7]\n"
     ]
    }
   ],
   "source": [
    "x = np.array([[1,2],[3,4]])\n",
    "\n",
    "### Compute sum of all elements; prints \"10\"\n",
    "print(np.sum(x))\n",
    "\n",
    "### Compute sum of each column; prints \"[4 6]\"\n",
    "print(np.sum(x, axis=0)) \n",
    "\n",
    "### Compute sum of each row; prints \"[3 7]\"\n",
    "print(np.sum(x, axis=1))"
   ]
  },
  {
   "cell_type": "code",
   "execution_count": 17,
   "metadata": {
    "colab": {},
    "colab_type": "code",
    "id": "7HttMbUHuPOP"
   },
   "outputs": [
    {
     "name": "stdout",
     "output_type": "stream",
     "text": [
      "2.5\n",
      "[2. 3.]\n",
      "[1.5 3.5]\n"
     ]
    }
   ],
   "source": [
    "x = np.array([[1,2],[3,4]])\n",
    "\n",
    "### Compute mean of all elements; prints \"2.5\"\n",
    "print(np.mean(x))\n",
    "\n",
    "### Compute mean of each column; prints \"[2 3]\"\n",
    "print(np.mean(x, axis=0)) \n",
    "\n",
    "### Compute mean of each row; prints \"[1.5 3.5]\"\n",
    "print(np.mean(x, axis=1))"
   ]
  },
  {
   "cell_type": "markdown",
   "metadata": {
    "colab_type": "text",
    "id": "yJfJSSu6uaCT"
   },
   "source": [
    "## SciPy\n",
    "\n",
    "Numpy provides a high-performance multidimensional array and basic tools to compute with and manipulate these arrays. SciPy builds on this, and provides a large number of functions that operate on numpy arrays and are useful for different types of scientific and engineering applications.\n",
    "\n",
    "For this course, we will primariyl be using the **SciPy.Stats** sub-library.\n",
    "\n",
    "### SciPy.Stats\n",
    "\n",
    "The SciPy.Stats module contains a large number of probability distributions as well as a growing library of statistical functions such as:\n",
    "\n",
    "* Continuous and Discrete Distributions (i.e Normal, Uniform, Binomial, etc.)\n",
    "\n",
    "* Descriptive Statistcs\n",
    "\n",
    "* Statistical Tests (i.e T-Test)"
   ]
  },
  {
   "cell_type": "code",
   "execution_count": 18,
   "metadata": {
    "colab": {},
    "colab_type": "code",
    "id": "WU4IDn3rxRqH"
   },
   "outputs": [],
   "source": [
    "from scipy import stats\n",
    "import numpy as np"
   ]
  },
  {
   "cell_type": "code",
   "execution_count": 19,
   "metadata": {
    "colab": {},
    "colab_type": "code",
    "id": "bglGZ0nhxSNz"
   },
   "outputs": [
    {
     "name": "stdout",
     "output_type": "stream",
     "text": [
      "[ 0.69845134  0.60510917 -1.87010736  0.0600912   0.74099684 -0.32466178\n",
      "  1.00276162 -1.03027609  1.79623742 -0.1740343 ]\n"
     ]
    }
   ],
   "source": [
    "### Print Normal Random Variables\n",
    "print(stats.norm.rvs(size = 10))"
   ]
  },
  {
   "cell_type": "code",
   "execution_count": 20,
   "metadata": {
    "colab": {},
    "colab_type": "code",
    "id": "jbv47bNHEoDn"
   },
   "outputs": [
    {
     "data": {
      "text/plain": [
       "<Figure size 640x480 with 1 Axes>"
      ]
     },
     "metadata": {},
     "output_type": "display_data"
    }
   ],
   "source": [
    "from pylab import *\n",
    "\n",
    "# Create some test data\n",
    "dx = .01\n",
    "X  = np.arange(-2,2,dx)\n",
    "Y  = exp(-X**2)\n",
    "\n",
    "# Normalize the data to a proper PDF\n",
    "Y /= (dx*Y).sum()\n",
    "\n",
    "# Compute the CDF\n",
    "CY = np.cumsum(Y*dx)\n",
    "\n",
    "# Plot both\n",
    "plot(X,Y)\n",
    "plot(X,CY,'r--')\n",
    "\n",
    "show()"
   ]
  },
  {
   "cell_type": "code",
   "execution_count": 21,
   "metadata": {
    "colab": {},
    "colab_type": "code",
    "id": "iZ7OsmRWDs2e"
   },
   "outputs": [
    {
     "name": "stdout",
     "output_type": "stream",
     "text": [
      "[0.84134475 0.15865525 0.5        0.84134475 0.9986501  0.99996833\n",
      " 0.02275013 1.        ]\n"
     ]
    }
   ],
   "source": [
    "### Compute the Normal CDF of certain values.\n",
    "print(stats.norm.cdf(np.array([1,-1., 0, 1, 3, 4, -2, 6])))"
   ]
  },
  {
   "cell_type": "code",
   "execution_count": 28,
   "metadata": {},
   "outputs": [
    {
     "name": "stdout",
     "output_type": "stream",
     "text": [
      "2.718281828459045\n"
     ]
    }
   ],
   "source": [
    "print(exp(1))"
   ]
  },
  {
   "cell_type": "markdown",
   "metadata": {
    "colab_type": "text",
    "id": "hH2Dr9OQFhXg"
   },
   "source": [
    "#### Descriptive Statistics"
   ]
  },
  {
   "cell_type": "code",
   "execution_count": 32,
   "metadata": {
    "colab": {},
    "colab_type": "code",
    "id": "X6pmHJ8LFjO5"
   },
   "outputs": [
    {
     "name": "stdout",
     "output_type": "stream",
     "text": [
      "[-2.08627648e-01 -1.29471404e+00 -1.63750825e+00 -1.40201994e+00\n",
      " -9.78474650e-01  1.50921872e-01 -6.03228797e-01 -9.84282743e-03\n",
      "  1.74312761e+00 -1.13979432e+00 -4.66677733e-01  4.86407881e-01\n",
      " -2.36650679e+00  6.77389379e-01  5.16035617e-02  8.72665270e-01\n",
      " -1.39692591e+00 -8.63605331e-02 -1.40892128e+00 -4.06199875e-01\n",
      " -6.42117306e-01  6.00697501e-01  2.09925227e-01  4.00177781e-01\n",
      " -1.23045890e+00  7.02140030e-01  1.50683645e-01  1.42444397e+00\n",
      " -3.73827782e-01 -1.36380861e+00 -5.51851062e-01 -1.73761084e+00\n",
      " -1.55252456e-01 -6.37074241e-02 -8.36353978e-01 -5.84233524e-01\n",
      " -5.44322070e-01 -1.72065894e+00 -1.81223936e-01  2.66857789e-01\n",
      " -1.59705579e+00 -1.02180890e-01 -2.41532906e-01 -6.71904774e-01\n",
      " -4.71684857e-01 -3.83783319e-01  1.10563139e+00  1.53254855e+00\n",
      " -1.15696045e+00  7.20068291e-01  8.11219763e-01  1.71006867e+00\n",
      " -2.18827710e+00 -1.51987441e+00 -2.10188850e+00 -4.81147788e-01\n",
      " -2.94612350e-02  7.04107081e-01  9.41338072e-01  5.40415266e-01\n",
      " -1.39426696e+00 -3.48237194e-01 -8.60729960e-01 -3.61157904e+00\n",
      " -2.43137060e+00  2.19992321e+00 -1.32335446e+00 -1.19870982e+00\n",
      "  5.49169478e-02  1.00194448e+00 -7.24698675e-01  2.96714967e+00\n",
      " -2.27306395e+00  5.79143502e-01  4.84816852e-01  3.37292663e+00\n",
      " -5.43856989e-01 -6.71935240e-01  2.59710992e-01  5.04865952e-01\n",
      "  5.26391952e-01 -3.55749830e-01 -8.20394077e-01 -8.16025497e-01\n",
      "  1.70172898e+00  1.10943666e-01  7.77268969e-01 -1.32333006e+00\n",
      " -1.82944760e-01  2.82836601e-01 -3.66172609e-01  2.99658187e+00\n",
      " -2.02083138e+00 -7.62776131e-01  2.08220138e+00  1.19180728e-02\n",
      " -2.46097730e-02  1.28092634e-01  9.98602236e-01  1.53660012e+00\n",
      " -2.67136913e-03  8.93096502e-01  2.78045760e-01 -9.06351789e-01\n",
      " -1.23857123e+00  1.68099557e+00  9.40948776e-01 -4.80723401e-01\n",
      "  1.15564174e+00  3.56242902e-01  8.06024870e-01 -1.50443013e+00\n",
      " -2.61832485e-01 -5.09529083e-01 -1.84056202e+00  2.02068671e+00\n",
      "  5.67278708e-01 -6.82302679e-01 -6.33759872e-01 -6.65916862e-01\n",
      " -1.39722539e+00  1.21085971e+00 -1.25466755e+00  6.06447073e-02\n",
      "  1.61672657e-01  4.04981432e-01  2.11139065e+00  5.62366460e-01\n",
      "  5.55106528e-01 -1.68852342e-01 -2.60363237e-01  1.52204365e+00\n",
      "  7.96042903e-01 -1.27787702e+00  4.88365392e-01 -3.71750944e-04\n",
      " -6.49571065e-01  6.85825898e-01  1.60907296e+00  4.28625717e-01\n",
      "  2.00669289e+00  5.62622685e-01  7.34136881e-01 -6.17175408e-01\n",
      "  1.08177708e+00 -5.37562742e-01 -2.26113254e+00 -6.50182183e-01\n",
      "  1.22517648e-01 -1.67753375e+00  2.91624219e-01 -1.05936676e+00\n",
      " -1.38864704e-01  7.50333223e-01  8.88628475e-01  1.47858586e+00\n",
      " -2.27701279e+00 -3.12270746e-04  6.17910880e-01  3.31724502e-01\n",
      "  8.03738746e-01 -1.26757024e+00  2.97939802e-01 -9.72430980e-01\n",
      " -1.54976382e-02  1.46923817e+00 -8.77712310e-01 -3.09110491e-01\n",
      "  4.42319541e-01 -8.43766691e-01 -5.84388067e-01 -2.10782923e+00\n",
      "  7.62663264e-01  3.55090703e+00 -4.38746584e-01  1.33454992e+00\n",
      "  2.69614583e+00 -3.38805860e-01  1.19382509e+00 -2.21800672e+00\n",
      " -2.46141868e-01 -6.62542625e-01  1.69149259e-02  1.82103334e+00\n",
      "  1.26524612e+00  1.66523272e+00  2.27183423e+00 -7.55713328e-01\n",
      "  2.25634672e+00  1.42412621e+00 -8.67676406e-01  7.17576484e-01\n",
      " -1.36834127e+00 -1.10838299e+00 -1.00404231e+00 -1.19269180e+00\n",
      "  3.53781314e-01  8.31136955e-01  7.95589115e-01 -2.07655946e+00\n",
      "  1.46793035e+00  5.75269858e-01 -2.86729594e-01 -1.10437514e-01\n",
      " -3.62574856e-01  4.99776496e-01  5.05352216e-01 -4.02520765e-01\n",
      " -1.85274727e-01  1.00564790e+00  1.79054120e-01  4.07305988e-01\n",
      "  6.79681880e-01  9.46964162e-01  2.66641131e-01 -1.41136318e+00\n",
      " -9.43844562e-01 -8.25759002e-01  1.07407607e+00 -2.10164466e+00\n",
      " -5.57377721e-01 -4.77323962e-01  1.56429443e+00  4.61401937e-01\n",
      "  1.68614350e+00 -2.77476054e+00  2.04362978e-01 -5.19179187e-01\n",
      " -3.73901830e-02  5.33106357e-02 -1.96160632e-01 -1.35615416e-01\n",
      " -7.98968150e-01 -6.56676288e-01 -9.53909642e-01 -2.20944474e-01\n",
      " -5.60134433e-01  1.47916395e+00  5.60550156e-01  5.77746795e-01\n",
      "  4.89250292e-01 -5.87076050e-01 -5.35459887e-02 -8.61812061e-01\n",
      " -2.73844907e+00 -1.26710985e-01 -3.24784584e-02  1.23826166e+00\n",
      "  4.39103084e-02  3.61718054e-01 -3.99551950e-01 -1.40125156e-01\n",
      " -2.72378606e-01 -8.73430773e-01  2.07897940e+00 -1.56614396e+00\n",
      " -2.27036228e-01 -4.74459471e-01 -4.13085244e-03  6.77587644e-01\n",
      " -4.21438650e-01  5.34232118e-01  9.84289044e-01 -2.01030528e-01\n",
      " -2.28925480e-01  5.32268533e-01 -1.48447351e+00  1.31211082e+00\n",
      " -9.64930753e-01 -5.20679055e-01 -8.23102279e-01  2.92863988e-01\n",
      "  1.29542760e+00 -4.69827642e-01 -3.29883270e-01  2.14303047e-02\n",
      " -3.45035497e-01 -7.19077012e-01  1.11358962e+00 -2.10777730e+00\n",
      "  4.37845345e-01 -2.85950914e+00 -5.52257015e-01  4.62217381e-02\n",
      "  1.18100991e+00 -1.00766316e+00 -3.36927009e-01  9.53680132e-01\n",
      "  4.50275464e-02 -2.68564756e+00  6.08392816e-03  8.48359699e-01\n",
      " -1.01324168e+00  2.79358231e-01  1.75000567e+00 -4.65191539e-01\n",
      " -2.03034825e+00 -3.40003101e+00 -2.63981967e+00 -1.46425780e+00\n",
      " -7.14494287e-03 -1.40589051e+00 -1.48100356e+00 -3.31628658e-01\n",
      " -3.57740558e-01  1.00311470e-01 -3.74574323e-01 -9.64862361e-01\n",
      "  9.84544301e-01 -9.91709243e-01 -2.14605171e+00  3.60995887e-01\n",
      " -9.22298468e-01 -7.83017300e-01 -3.52060170e-01  4.66915845e-01\n",
      "  1.80617735e-01  2.84423942e-01  8.79432315e-01  8.95940235e-01\n",
      " -8.29259100e-01  7.18729159e-01  7.59531209e-01 -1.15992740e-01\n",
      " -4.83239221e-01 -7.45138405e-01  6.30883682e-01 -3.95473276e-01\n",
      " -3.37860102e-01 -1.45149351e+00  2.08166301e+00  1.14012871e+00\n",
      " -5.76880857e-01 -8.80728877e-01 -1.68143242e+00  1.64181359e+00\n",
      "  1.31520572e-01 -1.56320889e-03  4.04363561e-01 -2.04125199e-02\n",
      "  8.45008686e-01  2.38338409e-01 -7.57436721e-01  5.70367930e-01\n",
      " -6.64936907e-01 -1.28671588e-01 -1.84894386e-01  5.61211233e-01\n",
      "  6.76380025e-02 -6.34941208e-01  1.35135799e-01  5.62657124e-02\n",
      " -1.25317708e+00  1.80678798e-01  4.89879063e-01  5.16165503e-02\n",
      "  8.27841908e-01 -4.68711992e-01  6.28481616e-01  2.02130189e-01\n",
      "  3.01892872e-01  1.54561587e-01  3.30331812e-01 -8.98963962e-01\n",
      " -1.43873181e+00 -1.32779392e-01  9.15801887e-01  1.37716225e+00\n",
      " -2.96738824e-01 -7.09462910e-01 -6.73145669e-01 -1.26671068e-01\n",
      " -1.05075163e-01  7.52384329e-01 -2.51808982e+00 -3.98778392e-01\n",
      " -2.19429841e-01  5.30421249e-02  3.14705288e+00  3.82196986e+00\n",
      " -6.31645197e-01 -4.43813384e-01  1.02105749e+00  1.16712699e+00\n",
      "  6.85350761e-01 -1.13105832e-01  1.93622541e+00 -6.28225312e-01\n",
      "  1.01268120e-01  2.72657314e-01 -3.56915912e-01  3.39404181e-01\n",
      " -5.89099238e-01 -1.33862386e-01  1.88952395e+00  1.16078031e+00\n",
      "  1.53219499e+00 -8.01879350e-01  1.91935137e+00 -1.04863433e+00\n",
      " -3.28147736e-01  1.89534862e-01 -9.49146969e-01 -4.78888072e-01\n",
      " -1.68847755e+00 -3.78975572e+00 -1.59261142e+00 -5.00720753e-01\n",
      "  2.38212124e-01 -2.92451268e-01  6.44661635e-01 -6.38499396e-01\n",
      " -3.62623489e-01 -1.70817433e+00 -5.30882452e-02  1.06904398e+00\n",
      "  6.07663897e-01  7.35994254e-01  5.71647321e-01 -1.00459559e+00\n",
      " -9.69573124e-01  5.85611706e-01  5.69683490e-01 -1.96863376e+00\n",
      " -5.22604887e-01  8.31802876e-01 -9.38797560e-01  1.16002196e+00\n",
      " -8.31246391e-02 -1.66790297e+00 -1.73132804e-01 -1.11404719e+00\n",
      " -1.05334821e+00  2.09418911e-01 -1.98345829e-01  2.21326930e-01\n",
      "  4.52079343e-01  1.15436356e+00 -3.74321311e-01 -6.11797378e-01\n",
      " -4.80674707e-01 -2.86591989e-01 -2.64306213e-01 -4.42620399e-01\n",
      " -2.63462703e-02 -5.04625447e-02  5.26458529e-01  6.60720087e-01\n",
      " -1.50181322e+00 -7.23219054e-01  4.25132663e-01 -3.61562636e-01\n",
      "  4.21223503e+00  7.14820998e-01  2.83905246e-01  3.28652525e-01\n",
      "  5.02819952e-01  5.22181590e-01  2.60670474e+00 -4.04783447e-01\n",
      "  1.40880134e+00  4.89925901e-01 -5.30229538e-01 -1.89396310e-01\n",
      "  2.43786679e+00  1.48063112e+00  1.08046385e+00  1.73770893e-01\n",
      " -1.09507414e+00  9.36506337e-01  1.42700523e-01 -1.42601309e-01\n",
      "  9.96006164e-01  1.32546532e+00  1.74161427e-01  4.47912518e-01\n",
      " -1.71826305e+00  1.74508051e+00 -2.17528683e+00  1.60692215e+00\n",
      " -7.07736172e-01  6.26339253e-02 -3.93495321e-01 -5.25186352e-01\n",
      "  2.42036082e-02 -4.02549593e-01  1.14057077e+00  1.59971195e+00\n",
      "  4.14525621e+00  1.88357714e-01 -3.60886942e-01 -5.40381839e-02\n",
      "  1.36912896e+00  1.12969975e+00 -4.70741235e-01  1.13147790e-02\n",
      "  8.77563487e-01  5.88255235e-01  2.66381160e+00 -1.99877140e+00\n",
      "  1.68898972e+00  5.28417560e-01  8.53540119e-02  6.18025814e-02\n",
      "  7.58467722e-01 -1.38631316e+00 -6.62399107e-01  1.13493141e+00\n",
      " -2.12931591e+00  2.85339711e+00 -6.66384530e-01  4.20496553e-01\n",
      "  9.93670512e-02  1.54690422e+00  5.75206977e-01  1.31629360e-01\n",
      "  1.80618554e+00  5.54425500e-01 -1.00185479e+00 -4.62442455e-01\n",
      " -6.20873841e-01 -2.43978477e-01  5.63010502e-01 -6.64331105e-01\n",
      " -3.88131860e-01 -6.58849556e-01  5.31382154e-01  9.04011094e-01\n",
      " -1.27697481e+00 -1.15619981e+00 -1.56253875e+00  2.11739479e+00\n",
      "  1.95820683e+00 -8.90759900e-01 -7.94302914e-01  1.88134155e+00\n",
      " -1.72694465e+00  8.13841473e-01  9.88516363e-01 -9.59944546e-01\n",
      "  1.87694876e+00 -8.59794519e-03  8.84752053e-01 -5.49020010e-01\n",
      "  3.74638539e-03 -2.80198190e-01  3.65842757e-01  7.98958970e-01\n",
      " -2.00374587e-01 -1.38709679e+00 -1.15910235e+00  6.43741766e-02\n",
      " -9.83990375e-01 -4.26901913e-01  1.22999099e+00 -1.04310485e+00\n",
      "  9.91825650e-01 -9.64201557e-01 -1.68008888e+00  1.30312843e+00\n",
      " -1.67575198e+00 -7.44213613e-01  1.71926811e+00 -4.71008184e-01\n",
      " -4.38890838e-01 -2.21792616e+00  1.63825547e+00 -1.45728323e-01\n",
      "  3.24522220e+00  2.38256192e-01  2.34277579e-01  4.80796329e-01\n",
      "  3.03275790e-01  2.31356635e+00  1.24733911e+00 -5.43999829e-01\n",
      " -1.18137770e+00  9.40407153e-01  1.31640597e+00  8.64231954e-01\n",
      "  3.77533463e-01  7.82344898e-01 -5.62051378e-01  1.11633827e+00\n",
      " -1.18978933e-01  9.93410116e-01  3.18115844e-01 -1.12539445e+00\n",
      "  7.62796612e-01  1.19988189e+00 -1.37511508e+00  8.76743716e-01\n",
      " -2.34367904e-01 -1.10796565e-01  1.70495629e+00  1.26553237e+00\n",
      "  2.84937591e-01 -1.31042293e-01 -3.20587201e-01  7.92455118e-01\n",
      "  5.98889642e-01 -3.52922137e-01  1.09351154e+00  2.12263034e-01\n",
      " -1.61596743e+00 -3.87128391e-01 -1.78077850e-01  1.64943613e-01\n",
      "  1.27657324e+00 -8.63505612e-01  2.20501940e+00 -4.12559251e-01\n",
      " -8.83423959e-01 -4.61812221e-01  7.39474697e-01 -6.65999657e-01\n",
      "  8.66671555e-01  1.34700840e+00 -1.07929850e+00  1.01922527e+00\n",
      "  5.35551864e-01  5.26327733e+00 -9.59305372e-01  1.01705579e+00\n",
      " -7.65484426e-01 -6.52379467e-01 -8.55985433e-01  3.86436905e-01\n",
      " -4.68830062e-01 -2.00015042e+00  6.32958819e-01 -2.12394776e+00\n",
      " -1.56261634e-01  3.27494123e-01 -1.07757419e+00  1.17142832e+00\n",
      "  1.13985279e+00  1.22351373e+00  1.46206782e+00 -2.85319250e+00\n",
      " -1.10112953e+00 -1.22009678e+00  1.33487091e-01 -3.33585915e-01\n",
      " -9.52939661e-01  2.04961573e+00  1.24032016e+00  1.11181403e-01\n",
      "  3.50396359e-01 -5.40076617e-01 -8.93422759e-01  6.26438770e-01\n",
      "  5.97676130e-01 -3.96255120e-01  5.92315115e-02 -8.83535122e-01\n",
      "  1.64831773e-01  1.05863519e+00  8.56226395e-01  3.31930924e-01\n",
      "  4.60157329e-01 -9.06776278e-01 -1.01894306e+00 -1.53722353e+00\n",
      " -9.89114503e-02  4.28823055e-01  3.67172672e-01  1.18742654e+00\n",
      " -1.29304507e+00  1.03616714e+00 -2.29484554e+00  2.04447562e-01\n",
      "  9.91289094e-01 -5.09191948e-01 -4.22435512e-01  6.23335377e-01\n",
      "  7.13562227e-01  8.09481661e-01  1.82263663e+00  1.71261915e+00\n",
      " -1.15031101e+00  1.38824373e+00  1.36702661e+00 -1.79228376e+00\n",
      " -2.64058476e-01 -5.04892432e-01 -7.23816077e-01  1.00530730e-01\n",
      " -2.12177289e+00 -1.82851615e+00  1.02542097e+00  1.59755651e+00\n",
      " -2.94233934e-02  1.21026581e-01 -6.32823134e-02  4.50187503e-01\n",
      " -1.54638903e+00  2.72259403e+00  1.81255659e-01 -1.08528913e+00\n",
      "  4.67956974e-01  1.65317056e+00  6.50190822e-01  6.42462042e-01\n",
      " -2.69182537e+00 -1.65918992e-01  3.59148002e-01 -1.38364903e+00\n",
      " -8.46142399e-01 -1.07275047e+00  1.89144436e-01  1.43449660e-01\n",
      " -7.23747750e-02  2.22296698e+00 -1.29512860e+00  1.28363258e+00\n",
      "  1.67646397e+00  1.18911284e-01  1.44851752e-01  2.94156038e+00\n",
      "  2.71006927e-01  2.64306292e-01 -4.35867196e-01  4.25625794e-01\n",
      " -1.33149974e+00 -5.55992817e-01 -5.88172667e-01  4.49316862e-01\n",
      "  1.27133238e+00 -2.69884100e-01 -1.16366281e+00 -6.63709649e-01\n",
      " -2.12050700e-01  3.02315001e-01 -1.35126189e+00 -1.58446147e+00\n",
      "  1.12135866e-01  6.69256670e-03  2.47420899e+00  1.33809563e+00\n",
      " -3.11203216e-01  5.74242093e-01  2.26187344e+00  3.53322477e-01\n",
      " -1.93250571e-01 -7.20925848e-01  1.64114149e-02 -1.29690981e+00\n",
      "  1.29152495e-01  1.13617813e+00  1.37420924e-02  8.10074161e-01\n",
      " -4.81014822e-01 -6.48303092e-01 -3.65095684e-01  1.46067971e+00\n",
      " -5.79556254e-01 -1.96182123e+00  9.79382463e-01 -2.15596702e-01\n",
      "  9.73123280e-01  4.63919615e-01 -8.86806729e-01 -7.54328282e-01\n",
      "  9.90505912e-01 -4.93110954e-01  2.05056772e+00  2.15335466e-01\n",
      " -1.12670295e-01  3.31022343e-02 -5.03542209e-01  1.04211470e+00\n",
      "  2.37611420e-02 -3.43288165e-01  6.38240007e-01  1.50916818e+00\n",
      " -4.35926111e-01 -5.55556717e-02 -1.69766762e-01  5.17778291e-01\n",
      "  2.49420744e-01 -9.01456214e-01  5.81816704e-01 -8.60431758e-01\n",
      " -1.38892852e+00  6.51668409e-01  5.20540028e-01  1.88036059e-01\n",
      "  2.89993907e-01  3.10182553e+00  5.22399372e-01 -3.33982965e-01\n",
      " -1.33869540e+00  4.59577968e-02 -1.19425596e+00 -2.28556624e+00\n",
      "  4.15893048e-01  3.24762030e-01  1.13844314e+00 -6.99422105e-01\n",
      "  1.15223690e+00  9.73822522e-01 -1.78875128e+00  8.56118965e-01\n",
      " -2.21302316e-01  7.94556159e-01 -8.91110827e-01  2.30963026e+00\n",
      " -1.03848405e-01 -2.00685114e+00  4.30397662e-01  1.93515954e+00\n",
      " -7.97778645e-01  6.60490124e-01 -2.49688380e+00 -2.69556118e+00\n",
      "  1.21139752e+00  1.79616522e-01 -1.55614297e+00  5.19001224e-01\n",
      "  3.38994442e-01  6.58361723e-01  1.93948682e+00  1.40118004e+00\n",
      " -9.32886098e-01  6.49465777e-01  1.16394483e+00 -6.23721231e-01\n",
      " -7.69049179e-01 -1.58030061e+00  1.46618439e+00 -5.58645826e-01\n",
      " -1.80686708e+00 -4.87634977e-02  1.68787010e+00 -6.46047745e-01\n",
      " -1.00635163e+00 -3.16387470e+00 -3.60574639e-02  1.93907402e-01\n",
      " -3.42357978e-01 -1.70758394e+00  1.05541332e+00 -1.04319654e+00\n",
      " -1.10926011e-01 -4.63924055e-01 -7.11373751e-01 -4.79664677e-01\n",
      " -1.20959517e+00 -8.94523933e-02 -2.93646105e+00  1.77994170e-01\n",
      " -6.54811738e-02 -3.85394277e-03  2.12929022e+00  1.16012603e-02\n",
      "  1.66075628e+00  1.68259139e+00  6.23614897e-01 -1.71197259e+00\n",
      "  4.38357856e-01 -1.71162586e-01 -1.13356021e+00  1.80422344e-01\n",
      " -2.58053206e+00  2.81155265e-01  2.84868855e-01  3.31712994e-01\n",
      " -1.56192128e-01  4.66919609e-01 -4.83566952e-01  1.87293083e+00\n",
      "  2.03849794e+00 -5.45378251e-01 -1.09137591e-01  5.33922204e-01\n",
      " -1.23305845e+00  3.23347548e-02  6.10010711e-01  2.14009229e+00\n",
      " -1.59234892e-01 -2.02742016e-01 -3.91009417e-01 -1.10682711e+00\n",
      "  1.31143355e+00 -7.33683968e-01 -1.12102307e+00 -1.48058348e+00\n",
      " -9.30977604e-01  3.32808089e-01  7.55989099e-01 -1.41158296e-01\n",
      "  3.61139859e-01  2.38858547e-01 -1.39976259e-01  1.09629775e+00\n",
      " -1.06562798e+00  5.17522843e-03  1.05064423e-01  2.15226733e-01\n",
      "  4.92471067e-01 -1.86321604e+00 -3.53307007e-01 -9.58718028e-01\n",
      "  3.50083538e-01 -6.08090450e-01 -3.64680731e-01 -1.31761066e+00\n",
      " -6.07036043e-01 -8.43765074e-01  9.02775155e-01 -4.86533238e-01\n",
      "  8.99964072e-01  5.60707523e-01 -7.45409597e-01 -1.05397847e-01\n",
      " -1.80722929e-01  1.35132919e+00  1.22657710e+00  3.51724990e-01\n",
      " -2.54677143e+00 -1.35365368e-01  7.63142007e-01  8.93522147e-01\n",
      "  6.07449535e-02  1.87201919e+00 -1.31098196e-01  2.29603780e+00\n",
      "  2.00619242e-01 -1.18408978e+00  1.23245323e+00  1.01005556e+00\n",
      " -5.80316024e-01 -5.92308945e-01  4.11877737e-03 -1.14728179e+00\n",
      "  1.45556297e+00 -7.89159052e-01  5.33185708e-01 -6.22974033e-01\n",
      " -3.12036688e-02  3.25136198e-01 -1.83746022e-01  1.91750174e+00\n",
      " -4.07718922e-01  1.32416305e+00 -4.94385776e-01 -8.60048651e-01\n",
      " -1.20804023e+00 -1.99543761e+00 -1.02623958e-01 -1.61996551e-01\n",
      " -1.06868359e+00  3.15715678e-01  2.17337262e+00 -8.56169827e-01\n",
      " -3.08468206e-01  6.64148876e-01 -1.42071630e+00 -1.30843599e-01\n",
      " -8.39949790e-01  2.79933256e-01  2.05007498e-01  8.52270892e-01\n",
      " -1.04539004e+00 -3.26560895e-01  1.86151219e+00  3.74062041e-01\n",
      "  3.77142968e-01 -1.06637323e-01  1.66200712e+00 -9.18223719e-02\n",
      "  4.04652802e+00 -1.22943516e-02  8.03165790e-01 -2.39822840e-01\n",
      " -5.48582021e-01  8.06068776e-01  7.93707967e-02  2.08671505e+00\n",
      " -2.53747083e-01 -8.94386941e-01  1.96892756e+00 -7.63188034e-01\n",
      " -2.06790150e-01 -8.48581099e-01 -5.94331093e-01 -6.50300411e-01\n",
      " -1.13558664e-01 -1.05418140e+00 -1.62424819e+00 -8.14101161e-01\n",
      "  7.20664594e-01  4.07907201e-01  7.93927415e-01 -9.53567334e-01\n",
      " -3.30465395e+00 -6.82615240e-01  5.88672757e-01  4.72998580e-01]\n"
     ]
    }
   ],
   "source": [
    "np.random.seed(282629734)\n",
    "\n",
    "# Generate 1000 Student’s T continuous random variables.\n",
    "x = stats.t.rvs(10, size=1000)\n",
    "print(x)"
   ]
  },
  {
   "cell_type": "code",
   "execution_count": 33,
   "metadata": {
    "colab": {},
    "colab_type": "code",
    "id": "jIhbREk8FnHX"
   },
   "outputs": [
    {
     "name": "stdout",
     "output_type": "stream",
     "text": [
      "-3.7897557242248197\n",
      "5.263277329807165\n",
      "0.014061066398468422\n",
      "1.288993862079285\n"
     ]
    },
    {
     "data": {
      "text/plain": [
       "DescribeResult(nobs=1000, minmax=(-3.7897557242248197, 5.263277329807165), mean=0.014061066398468422, variance=1.2902841462255106, skewness=0.21652778283120955, kurtosis=1.055594041706331)"
      ]
     },
     "execution_count": 33,
     "metadata": {},
     "output_type": "execute_result"
    }
   ],
   "source": [
    "# Do some descriptive statistics\n",
    "print(x.min())   # equivalent to np.min(x)\n",
    "\n",
    "print(x.max())   # equivalent to np.max(x)\n",
    "\n",
    "print(x.mean())  # equivalent to np.mean(x)\n",
    "\n",
    "print(x.var())   # equivalent to np.var(x))\n",
    "\n",
    "stats.describe(x)"
   ]
  },
  {
   "cell_type": "markdown",
   "metadata": {
    "colab_type": "text",
    "id": "q7gjLQq3GY8c"
   },
   "source": [
    "Later in the course, we will discuss distributions and statistical tests such as a T-Test.  SciPy has built in functions for these operations."
   ]
  },
  {
   "cell_type": "markdown",
   "metadata": {
    "colab_type": "text",
    "id": "WfAh0w76xSWP"
   },
   "source": [
    "## MatPlotLib\n",
    "\n",
    "Matplotlib is a plotting library. In this section give a brief introduction to the matplotlib.pyplot module."
   ]
  },
  {
   "cell_type": "code",
   "execution_count": 34,
   "metadata": {
    "colab": {},
    "colab_type": "code",
    "id": "A3sWS5S8xdjh"
   },
   "outputs": [],
   "source": [
    "import numpy as np\n",
    "import matplotlib.pyplot as plt"
   ]
  },
  {
   "cell_type": "code",
   "execution_count": 35,
   "metadata": {
    "colab": {},
    "colab_type": "code",
    "id": "Izsn4gRFxb4A"
   },
   "outputs": [
    {
     "data": {
      "image/png": "[encoded data removed]",
      "text/plain": [
       "<Figure size 432x288 with 1 Axes>"
      ]
     },
     "metadata": {},
     "output_type": "display_data"
    }
   ],
   "source": [
    "# Compute the x and y coordinates for points on a sine curve\n",
    "x = np.arange(0, 3 * np.pi, 0.1)\n",
    "y = np.sin(x)\n",
    "\n",
    "# Plot the points using matplotlib\n",
    "plt.plot(x, y)\n",
    "plt.show()  # You must call plt.show() to make graphics appear."
   ]
  },
  {
   "cell_type": "code",
   "execution_count": 36,
   "metadata": {
    "colab": {},
    "colab_type": "code",
    "id": "5QTLLYzWxhCv"
   },
   "outputs": [
    {
     "data": {
      "image/png": "[encoded data removed]",
      "text/plain": [
       "<Figure size 432x288 with 1 Axes>"
      ]
     },
     "metadata": {},
     "output_type": "display_data"
    }
   ],
   "source": [
    "# Compute the x and y coordinates for points on sine and cosine curves\n",
    "x = np.arange(0, 3 * np.pi, 0.1)\n",
    "y_sin = np.sin(x)\n",
    "y_cos = np.cos(x)\n",
    "\n",
    "# Plot the points using matplotlib\n",
    "plt.plot(x, y_sin)\n",
    "plt.plot(x, y_cos)\n",
    "plt.xlabel('x axis label')\n",
    "plt.ylabel('y axis label')\n",
    "plt.title('Sine and Cosine')\n",
    "plt.legend(['Sine', 'Cosine'])\n",
    "plt.show()"
   ]
  },
  {
   "cell_type": "markdown",
   "metadata": {
    "colab_type": "text",
    "id": "mivfc7qvxk5k"
   },
   "source": [
    "#### Subplots"
   ]
  },
  {
   "cell_type": "code",
   "execution_count": 38,
   "metadata": {
    "colab": {},
    "colab_type": "code",
    "id": "YsfeH4QSxoZ4"
   },
   "outputs": [
    {
     "data": {
      "image/png": "[encoded data removed]",
      "text/plain": [
       "<Figure size 432x288 with 2 Axes>"
      ]
     },
     "metadata": {},
     "output_type": "display_data"
    }
   ],
   "source": [
    "import numpy as np\n",
    "import matplotlib.pyplot as plt\n",
    "\n",
    "# Compute the x and y coordinates for points on sine and cosine curves\n",
    "x = np.arange(0, 3 * np.pi, 0.1)\n",
    "y_sin = np.sin(x)\n",
    "y_cos = np.cos(x)\n",
    "\n",
    "# Set up a subplot grid that has height 2 and width 1,\n",
    "# and set the first such subplot as active.\n",
    "plt.subplot(2, 1, 1)\n",
    "\n",
    "# Make the first plot\n",
    "plt.plot(x, y_sin, 'r')\n",
    "plt.title('Sine')\n",
    "\n",
    "# Set the second subplot as active, and make the second plot.\n",
    "plt.subplot(2, 1, 2)\n",
    "plt.plot(x, y_cos)\n",
    "plt.title('Cosine')\n",
    "\n",
    "# Show the figure.\n",
    "plt.show()"
   ]
  },
  {
   "cell_type": "markdown",
   "metadata": {
    "colab_type": "text",
    "id": "BexAudm39FDR"
   },
   "source": [
    "## Seaborn\n",
    "\n",
    "Seaborn is complimentary to Matplotlib and it specifically targets statistical data visualization. But it goes even further than that: Seaborn extends Matplotlib and makes generating visualizations convenient.\n",
    "\n",
    "While Matplotlib is a robust solution for various problems, Seaborn utilizes more concise paramesters for ease-of-use.\n",
    "\n",
    "#### Scatterplots\n",
    "\n"
   ]
  },
  {
   "cell_type": "code",
   "execution_count": 39,
   "metadata": {
    "colab": {},
    "colab_type": "code",
    "id": "90VVVCGO-Xxg"
   },
   "outputs": [
    {
     "data": {
      "image/png": "[encoded data removed]",
      "text/plain": [
       "<Figure size 360x360 with 1 Axes>"
      ]
     },
     "metadata": {},
     "output_type": "display_data"
    }
   ],
   "source": [
    "# Import necessary libraries\n",
    "import seaborn as sns\n",
    "import matplotlib.pyplot as plt\n",
    "import pandas as pd\n",
    "\n",
    "# Store the url string that hosts our .csv file\n",
    "url = \"Cartwheeldata.csv\"\n",
    "\n",
    "# Read the .csv file and store it as a pandas Data Frame\n",
    "df = pd.read_csv(url)\n",
    "\n",
    "# Create Scatterplot\n",
    "sns.lmplot(x='Wingspan', y='CWDistance', data=df)\n",
    "\n",
    "plt.show()"
   ]
  },
  {
   "cell_type": "code",
   "execution_count": 0,
   "metadata": {
    "colab": {},
    "colab_type": "code",
    "id": "wrzxtgn5-olI"
   },
   "outputs": [],
   "source": [
    "# Scatterplot arguments\n",
    "sns.lmplot(x='Wingspan', y='CWDistance', data=df,\n",
    "           fit_reg=False, # No regression line\n",
    "           hue='Gender')   # Color by evolution stage\n",
    "\n",
    "plt.show()"
   ]
  },
  {
   "cell_type": "markdown",
   "metadata": {
    "colab_type": "text",
    "id": "OGQzWWMi-80n"
   },
   "source": []
  },
  {
   "cell_type": "code",
   "execution_count": 0,
   "metadata": {
    "colab": {},
    "colab_type": "code",
    "id": "TPKCLQUD9G6G"
   },
   "outputs": [],
   "source": [
    "# Construct Cartwheel distance plot\n",
    "sns.swarmplot(x=\"Gender\", y=\"CWDistance\", data=df)\n",
    "\n",
    "plt.show()"
   ]
  },
  {
   "cell_type": "markdown",
   "metadata": {
    "colab_type": "text",
    "id": "94-D7AEI_Fyl"
   },
   "source": [
    "#### Boxplots"
   ]
  },
  {
   "cell_type": "code",
   "execution_count": 0,
   "metadata": {
    "colab": {},
    "colab_type": "code",
    "id": "kT-VKWiGAyYa"
   },
   "outputs": [],
   "source": [
    "sns.boxplot(data=df.loc[:, [\"Age\", \"Height\", \"Wingspan\", \"CWDistance\", \"Score\"]])\n",
    "\n",
    "plt.show()"
   ]
  },
  {
   "cell_type": "code",
   "execution_count": 0,
   "metadata": {
    "colab": {},
    "colab_type": "code",
    "id": "UsZahu0X_HwC"
   },
   "outputs": [],
   "source": [
    "# Male Boxplot\n",
    "sns.boxplot(data=df.loc[df['Gender'] == 'M', [\"Age\", \"Height\", \"Wingspan\", \"CWDistance\", \"Score\"]])\n",
    "\n",
    "plt.show()"
   ]
  },
  {
   "cell_type": "code",
   "execution_count": 0,
   "metadata": {
    "colab": {},
    "colab_type": "code",
    "id": "XdHWF3vyA0M1"
   },
   "outputs": [],
   "source": [
    "# Female Boxplot\n",
    "sns.boxplot(data=df.loc[df['Gender'] == 'F', [\"Age\", \"Height\", \"Wingspan\", \"CWDistance\", \"Score\"]])\n",
    "\n",
    "plt.show()"
   ]
  },
  {
   "cell_type": "code",
   "execution_count": 0,
   "metadata": {
    "colab": {},
    "colab_type": "code",
    "id": "wi4Qco88BLHQ"
   },
   "outputs": [],
   "source": [
    "# Male Boxplot\n",
    "sns.boxplot(data=df.loc[df['Gender'] == 'M', [\"Score\"]])\n",
    "\n",
    "plt.show()"
   ]
  },
  {
   "cell_type": "code",
   "execution_count": 0,
   "metadata": {
    "colab": {},
    "colab_type": "code",
    "id": "8NjIShaZBL3A"
   },
   "outputs": [],
   "source": [
    "# Female Boxplot\n",
    "sns.boxplot(data=df.loc[df['Gender'] == 'F', [\"Score\"]])\n",
    "\n",
    "plt.show()"
   ]
  },
  {
   "cell_type": "markdown",
   "metadata": {
    "colab_type": "text",
    "id": "ui1yjuY0Bm-H"
   },
   "source": [
    "#### Histogram"
   ]
  },
  {
   "cell_type": "code",
   "execution_count": 0,
   "metadata": {
    "colab": {},
    "colab_type": "code",
    "id": "aJPdjHmHBob4"
   },
   "outputs": [],
   "source": [
    "# Distribution Plot (a.k.a. Histogram)\n",
    "sns.distplot(df.CWDistance)\n",
    "\n",
    "plt.show()"
   ]
  },
  {
   "cell_type": "markdown",
   "metadata": {
    "colab_type": "text",
    "id": "Ens8D4xXBxuN"
   },
   "source": [
    "#### Count Plot"
   ]
  },
  {
   "cell_type": "code",
   "execution_count": 0,
   "metadata": {
    "colab": {},
    "colab_type": "code",
    "id": "HSuc79qqBxQq"
   },
   "outputs": [],
   "source": [
    "# Count Plot (a.k.a. Bar Plot)\n",
    "sns.countplot(x='Gender', data=df)\n",
    " \n",
    "plt.xticks(rotation=-45)\n",
    "\n",
    "plt.show()"
   ]
  }
 ],
 "metadata": {
  "colab": {
   "collapsed_sections": [],
   "name": "Important Python Libraries.ipynb",
   "provenance": [],
   "version": "0.3.2"
  },
  "kernelspec": {
   "display_name": "Python 3",
   "language": "python",
   "name": "python3"
  },
  "language_info": {
   "codemirror_mode": {
    "name": "ipython",
    "version": 3
   },
   "file_extension": ".py",
   "mimetype": "text/x-python",
   "name": "python",
   "nbconvert_exporter": "python",
   "pygments_lexer": "ipython3",
   "version": "3.6.3"
  }
 },
 "nbformat": 4,
 "nbformat_minor": 1
}
