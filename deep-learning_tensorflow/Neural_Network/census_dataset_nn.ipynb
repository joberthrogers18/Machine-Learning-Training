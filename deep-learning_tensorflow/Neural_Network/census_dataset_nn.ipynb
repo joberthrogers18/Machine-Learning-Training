{
  "nbformat": 4,
  "nbformat_minor": 0,
  "metadata": {
    "colab": {
      "name": "census_dataset_nn.ipynb",
      "provenance": [],
      "collapsed_sections": []
    },
    "kernelspec": {
      "name": "python3",
      "display_name": "Python 3"
    }
  },
  "cells": [
    {
      "cell_type": "code",
      "metadata": {
        "id": "xFdlBqfTUVBk",
        "colab_type": "code",
        "outputId": "3ddc032d-c452-4208-9dc2-56ec8ccf05b1",
        "colab": {
          "base_uri": "https://localhost:8080/",
          "height": 343
        }
      },
      "source": [
        "import pandas as pd\n",
        "\n",
        "url = \"https://raw.githubusercontent.com/joberthrogers18/Machine-Learning-Training/master/Machine-Learning-Datascience/pre-processing/census.csv\"\n",
        "base = pd.read_csv(url)\n",
        "base.head()"
      ],
      "execution_count": 2,
      "outputs": [
        {
          "output_type": "execute_result",
          "data": {
            "text/html": [
              "<div>\n",
              "<style scoped>\n",
              "    .dataframe tbody tr th:only-of-type {\n",
              "        vertical-align: middle;\n",
              "    }\n",
              "\n",
              "    .dataframe tbody tr th {\n",
              "        vertical-align: top;\n",
              "    }\n",
              "\n",
              "    .dataframe thead th {\n",
              "        text-align: right;\n",
              "    }\n",
              "</style>\n",
              "<table border=\"1\" class=\"dataframe\">\n",
              "  <thead>\n",
              "    <tr style=\"text-align: right;\">\n",
              "      <th></th>\n",
              "      <th>age</th>\n",
              "      <th>workclass</th>\n",
              "      <th>final-weight</th>\n",
              "      <th>education</th>\n",
              "      <th>education-num</th>\n",
              "      <th>marital-status</th>\n",
              "      <th>occupation</th>\n",
              "      <th>relationship</th>\n",
              "      <th>race</th>\n",
              "      <th>sex</th>\n",
              "      <th>capital-gain</th>\n",
              "      <th>capital-loos</th>\n",
              "      <th>hour-per-week</th>\n",
              "      <th>native-country</th>\n",
              "      <th>income</th>\n",
              "    </tr>\n",
              "  </thead>\n",
              "  <tbody>\n",
              "    <tr>\n",
              "      <th>0</th>\n",
              "      <td>39</td>\n",
              "      <td>State-gov</td>\n",
              "      <td>77516</td>\n",
              "      <td>Bachelors</td>\n",
              "      <td>13</td>\n",
              "      <td>Never-married</td>\n",
              "      <td>Adm-clerical</td>\n",
              "      <td>Not-in-family</td>\n",
              "      <td>White</td>\n",
              "      <td>Male</td>\n",
              "      <td>2174</td>\n",
              "      <td>0</td>\n",
              "      <td>40</td>\n",
              "      <td>United-States</td>\n",
              "      <td>&lt;=50K</td>\n",
              "    </tr>\n",
              "    <tr>\n",
              "      <th>1</th>\n",
              "      <td>50</td>\n",
              "      <td>Self-emp-not-inc</td>\n",
              "      <td>83311</td>\n",
              "      <td>Bachelors</td>\n",
              "      <td>13</td>\n",
              "      <td>Married-civ-spouse</td>\n",
              "      <td>Exec-managerial</td>\n",
              "      <td>Husband</td>\n",
              "      <td>White</td>\n",
              "      <td>Male</td>\n",
              "      <td>0</td>\n",
              "      <td>0</td>\n",
              "      <td>13</td>\n",
              "      <td>United-States</td>\n",
              "      <td>&lt;=50K</td>\n",
              "    </tr>\n",
              "    <tr>\n",
              "      <th>2</th>\n",
              "      <td>38</td>\n",
              "      <td>Private</td>\n",
              "      <td>215646</td>\n",
              "      <td>HS-grad</td>\n",
              "      <td>9</td>\n",
              "      <td>Divorced</td>\n",
              "      <td>Handlers-cleaners</td>\n",
              "      <td>Not-in-family</td>\n",
              "      <td>White</td>\n",
              "      <td>Male</td>\n",
              "      <td>0</td>\n",
              "      <td>0</td>\n",
              "      <td>40</td>\n",
              "      <td>United-States</td>\n",
              "      <td>&lt;=50K</td>\n",
              "    </tr>\n",
              "    <tr>\n",
              "      <th>3</th>\n",
              "      <td>53</td>\n",
              "      <td>Private</td>\n",
              "      <td>234721</td>\n",
              "      <td>11th</td>\n",
              "      <td>7</td>\n",
              "      <td>Married-civ-spouse</td>\n",
              "      <td>Handlers-cleaners</td>\n",
              "      <td>Husband</td>\n",
              "      <td>Black</td>\n",
              "      <td>Male</td>\n",
              "      <td>0</td>\n",
              "      <td>0</td>\n",
              "      <td>40</td>\n",
              "      <td>United-States</td>\n",
              "      <td>&lt;=50K</td>\n",
              "    </tr>\n",
              "    <tr>\n",
              "      <th>4</th>\n",
              "      <td>28</td>\n",
              "      <td>Private</td>\n",
              "      <td>338409</td>\n",
              "      <td>Bachelors</td>\n",
              "      <td>13</td>\n",
              "      <td>Married-civ-spouse</td>\n",
              "      <td>Prof-specialty</td>\n",
              "      <td>Wife</td>\n",
              "      <td>Black</td>\n",
              "      <td>Female</td>\n",
              "      <td>0</td>\n",
              "      <td>0</td>\n",
              "      <td>40</td>\n",
              "      <td>Cuba</td>\n",
              "      <td>&lt;=50K</td>\n",
              "    </tr>\n",
              "  </tbody>\n",
              "</table>\n",
              "</div>"
            ],
            "text/plain": [
              "   age          workclass  final-weight  ... hour-per-week  native-country  income\n",
              "0   39          State-gov         77516  ...            40   United-States   <=50K\n",
              "1   50   Self-emp-not-inc         83311  ...            13   United-States   <=50K\n",
              "2   38            Private        215646  ...            40   United-States   <=50K\n",
              "3   53            Private        234721  ...            40   United-States   <=50K\n",
              "4   28            Private        338409  ...            40            Cuba   <=50K\n",
              "\n",
              "[5 rows x 15 columns]"
            ]
          },
          "metadata": {
            "tags": []
          },
          "execution_count": 2
        }
      ]
    },
    {
      "cell_type": "code",
      "metadata": {
        "id": "HKMA_BCNUejU",
        "colab_type": "code",
        "outputId": "01184ee1-028e-4b37-978f-50503435090b",
        "colab": {
          "base_uri": "https://localhost:8080/",
          "height": 34
        }
      },
      "source": [
        "base.income.unique()"
      ],
      "execution_count": 0,
      "outputs": [
        {
          "output_type": "execute_result",
          "data": {
            "text/plain": [
              "array([' <=50K', ' >50K'], dtype=object)"
            ]
          },
          "metadata": {
            "tags": []
          },
          "execution_count": 57
        }
      ]
    },
    {
      "cell_type": "code",
      "metadata": {
        "id": "PahqjZiwX8Ef",
        "colab_type": "code",
        "colab": {}
      },
      "source": [
        "from sklearn.preprocessing import LabelEncoder\n",
        "\n",
        "label_enconder  = LabelEncoder()\n",
        "base.income = label_enconder.fit_transform(base.income)"
      ],
      "execution_count": 0,
      "outputs": []
    },
    {
      "cell_type": "code",
      "metadata": {
        "id": "XLjSTJ-2eC7D",
        "colab_type": "code",
        "outputId": "3a53c0c7-6792-4b92-c6ae-bf44520ce1a5",
        "colab": {
          "base_uri": "https://localhost:8080/",
          "height": 343
        }
      },
      "source": [
        "base.head()"
      ],
      "execution_count": 4,
      "outputs": [
        {
          "output_type": "execute_result",
          "data": {
            "text/html": [
              "<div>\n",
              "<style scoped>\n",
              "    .dataframe tbody tr th:only-of-type {\n",
              "        vertical-align: middle;\n",
              "    }\n",
              "\n",
              "    .dataframe tbody tr th {\n",
              "        vertical-align: top;\n",
              "    }\n",
              "\n",
              "    .dataframe thead th {\n",
              "        text-align: right;\n",
              "    }\n",
              "</style>\n",
              "<table border=\"1\" class=\"dataframe\">\n",
              "  <thead>\n",
              "    <tr style=\"text-align: right;\">\n",
              "      <th></th>\n",
              "      <th>age</th>\n",
              "      <th>workclass</th>\n",
              "      <th>final-weight</th>\n",
              "      <th>education</th>\n",
              "      <th>education-num</th>\n",
              "      <th>marital-status</th>\n",
              "      <th>occupation</th>\n",
              "      <th>relationship</th>\n",
              "      <th>race</th>\n",
              "      <th>sex</th>\n",
              "      <th>capital-gain</th>\n",
              "      <th>capital-loos</th>\n",
              "      <th>hour-per-week</th>\n",
              "      <th>native-country</th>\n",
              "      <th>income</th>\n",
              "    </tr>\n",
              "  </thead>\n",
              "  <tbody>\n",
              "    <tr>\n",
              "      <th>0</th>\n",
              "      <td>39</td>\n",
              "      <td>State-gov</td>\n",
              "      <td>77516</td>\n",
              "      <td>Bachelors</td>\n",
              "      <td>13</td>\n",
              "      <td>Never-married</td>\n",
              "      <td>Adm-clerical</td>\n",
              "      <td>Not-in-family</td>\n",
              "      <td>White</td>\n",
              "      <td>Male</td>\n",
              "      <td>2174</td>\n",
              "      <td>0</td>\n",
              "      <td>40</td>\n",
              "      <td>United-States</td>\n",
              "      <td>0</td>\n",
              "    </tr>\n",
              "    <tr>\n",
              "      <th>1</th>\n",
              "      <td>50</td>\n",
              "      <td>Self-emp-not-inc</td>\n",
              "      <td>83311</td>\n",
              "      <td>Bachelors</td>\n",
              "      <td>13</td>\n",
              "      <td>Married-civ-spouse</td>\n",
              "      <td>Exec-managerial</td>\n",
              "      <td>Husband</td>\n",
              "      <td>White</td>\n",
              "      <td>Male</td>\n",
              "      <td>0</td>\n",
              "      <td>0</td>\n",
              "      <td>13</td>\n",
              "      <td>United-States</td>\n",
              "      <td>0</td>\n",
              "    </tr>\n",
              "    <tr>\n",
              "      <th>2</th>\n",
              "      <td>38</td>\n",
              "      <td>Private</td>\n",
              "      <td>215646</td>\n",
              "      <td>HS-grad</td>\n",
              "      <td>9</td>\n",
              "      <td>Divorced</td>\n",
              "      <td>Handlers-cleaners</td>\n",
              "      <td>Not-in-family</td>\n",
              "      <td>White</td>\n",
              "      <td>Male</td>\n",
              "      <td>0</td>\n",
              "      <td>0</td>\n",
              "      <td>40</td>\n",
              "      <td>United-States</td>\n",
              "      <td>0</td>\n",
              "    </tr>\n",
              "    <tr>\n",
              "      <th>3</th>\n",
              "      <td>53</td>\n",
              "      <td>Private</td>\n",
              "      <td>234721</td>\n",
              "      <td>11th</td>\n",
              "      <td>7</td>\n",
              "      <td>Married-civ-spouse</td>\n",
              "      <td>Handlers-cleaners</td>\n",
              "      <td>Husband</td>\n",
              "      <td>Black</td>\n",
              "      <td>Male</td>\n",
              "      <td>0</td>\n",
              "      <td>0</td>\n",
              "      <td>40</td>\n",
              "      <td>United-States</td>\n",
              "      <td>0</td>\n",
              "    </tr>\n",
              "    <tr>\n",
              "      <th>4</th>\n",
              "      <td>28</td>\n",
              "      <td>Private</td>\n",
              "      <td>338409</td>\n",
              "      <td>Bachelors</td>\n",
              "      <td>13</td>\n",
              "      <td>Married-civ-spouse</td>\n",
              "      <td>Prof-specialty</td>\n",
              "      <td>Wife</td>\n",
              "      <td>Black</td>\n",
              "      <td>Female</td>\n",
              "      <td>0</td>\n",
              "      <td>0</td>\n",
              "      <td>40</td>\n",
              "      <td>Cuba</td>\n",
              "      <td>0</td>\n",
              "    </tr>\n",
              "  </tbody>\n",
              "</table>\n",
              "</div>"
            ],
            "text/plain": [
              "   age          workclass  final-weight  ... hour-per-week  native-country income\n",
              "0   39          State-gov         77516  ...            40   United-States      0\n",
              "1   50   Self-emp-not-inc         83311  ...            13   United-States      0\n",
              "2   38            Private        215646  ...            40   United-States      0\n",
              "3   53            Private        234721  ...            40   United-States      0\n",
              "4   28            Private        338409  ...            40            Cuba      0\n",
              "\n",
              "[5 rows x 15 columns]"
            ]
          },
          "metadata": {
            "tags": []
          },
          "execution_count": 4
        }
      ]
    },
    {
      "cell_type": "code",
      "metadata": {
        "id": "yxDzdSxDemWB",
        "colab_type": "code",
        "colab": {}
      },
      "source": [
        "x = base.drop('income', axis=1)\n",
        "y = base.income"
      ],
      "execution_count": 0,
      "outputs": []
    },
    {
      "cell_type": "code",
      "metadata": {
        "id": "GsBcEbFRe5dC",
        "colab_type": "code",
        "colab": {}
      },
      "source": [
        "from sklearn.model_selection import train_test_split\n",
        "x_train, x_test, y_train, y_test = train_test_split(x, y, test_size=0.3)"
      ],
      "execution_count": 0,
      "outputs": []
    },
    {
      "cell_type": "code",
      "metadata": {
        "id": "OJ7GcOhIfY-E",
        "colab_type": "code",
        "colab": {
          "base_uri": "https://localhost:8080/",
          "height": 88
        },
        "outputId": "c2c19e4d-88f1-4818-cb00-78749c029975"
      },
      "source": [
        "import tensorflow.compat.v1 as tf\n",
        "tf.disable_v2_behavior()"
      ],
      "execution_count": 7,
      "outputs": [
        {
          "output_type": "stream",
          "text": [
            "WARNING:tensorflow:From /usr/local/lib/python3.6/dist-packages/tensorflow/python/compat/v2_compat.py:96: disable_resource_variables (from tensorflow.python.ops.variable_scope) is deprecated and will be removed in a future version.\n",
            "Instructions for updating:\n",
            "non-resource variables are not supported in the long term\n"
          ],
          "name": "stdout"
        }
      ]
    },
    {
      "cell_type": "code",
      "metadata": {
        "id": "2iLMOlJ7hoOF",
        "colab_type": "code",
        "outputId": "8cd8f4fc-4721-44eb-cdc5-4808dfc2d62f",
        "colab": {
          "base_uri": "https://localhost:8080/",
          "height": 68
        }
      },
      "source": [
        "base.workclass.unique()"
      ],
      "execution_count": 8,
      "outputs": [
        {
          "output_type": "execute_result",
          "data": {
            "text/plain": [
              "array([' State-gov', ' Self-emp-not-inc', ' Private', ' Federal-gov',\n",
              "       ' Local-gov', ' ?', ' Self-emp-inc', ' Without-pay',\n",
              "       ' Never-worked'], dtype=object)"
            ]
          },
          "metadata": {
            "tags": []
          },
          "execution_count": 8
        }
      ]
    },
    {
      "cell_type": "code",
      "metadata": {
        "id": "YaTplLPWgtgp",
        "colab_type": "code",
        "colab": {}
      },
      "source": [
        "workclass = tf.feature_column.categorical_column_with_hash_bucket(key = 'workclass', hash_bucket_size= 100)\n",
        "education = tf.feature_column.categorical_column_with_hash_bucket(key = 'education', hash_bucket_size= 100)\n",
        "marital_status = tf.feature_column.categorical_column_with_hash_bucket(key = 'marital-status', hash_bucket_size=100)\n",
        "occupation = tf.feature_column.categorical_column_with_hash_bucket(key = 'occupation', hash_bucket_size= 100)\n",
        "relationship = tf.feature_column.categorical_column_with_hash_bucket(key = 'relationship', hash_bucket_size= 100)\n",
        "race = tf.feature_column.categorical_column_with_hash_bucket(key = 'race', hash_bucket_size= 100)\n",
        "country = tf.feature_column.categorical_column_with_hash_bucket(key = 'native-country', hash_bucket_size= 100)\n"
      ],
      "execution_count": 0,
      "outputs": []
    },
    {
      "cell_type": "code",
      "metadata": {
        "id": "D-6jPUSAic2r",
        "colab_type": "code",
        "outputId": "5d54de1e-5b41-4172-c947-d5047f9636d7",
        "colab": {
          "base_uri": "https://localhost:8080/",
          "height": 34
        }
      },
      "source": [
        "base.sex.unique()"
      ],
      "execution_count": 10,
      "outputs": [
        {
          "output_type": "execute_result",
          "data": {
            "text/plain": [
              "array([' Male', ' Female'], dtype=object)"
            ]
          },
          "metadata": {
            "tags": []
          },
          "execution_count": 10
        }
      ]
    },
    {
      "cell_type": "code",
      "metadata": {
        "id": "RbSJYp3dsIKm",
        "colab_type": "code",
        "colab": {
          "base_uri": "https://localhost:8080/",
          "height": 34
        },
        "outputId": "1b669cc5-ead0-4ce8-e67b-58712197a12f"
      },
      "source": [
        "base.age.mean()\n",
        "base.age.std()"
      ],
      "execution_count": 13,
      "outputs": [
        {
          "output_type": "execute_result",
          "data": {
            "text/plain": [
              "13.640432553581146"
            ]
          },
          "metadata": {
            "tags": []
          },
          "execution_count": 13
        }
      ]
    },
    {
      "cell_type": "code",
      "metadata": {
        "id": "yEmF7beYsmwi",
        "colab_type": "code",
        "colab": {}
      },
      "source": [
        "# Standard the age with tensorflow\n",
        "# standardize = ( x - mean([x, x+1,....]) ) / std([x, x+1, ....])\n",
        "def standardize_age(value):\n",
        "  return tf.divide( tf.subtract( tf.cast( value, dtype=tf.float32 ), tf.constant(38.58)), tf.constant(13.64) )\n",
        "\n",
        "def standardize_finalweight(value):\n",
        "  return tf.divide( tf.subtract( tf.cast( value, dtype=tf.float32 ), tf.constant(189778.36)), tf.constant(105549.997) )\n",
        "\n",
        "def standardize_education(value):\n",
        "  return tf.divide( tf.subtract( tf.cast( value, dtype=tf.float32 ), tf.constant(10.08)), tf.constant(2.57) )\n",
        "\n",
        "def standardize_capitalgain(value):\n",
        "  return tf.divide( tf.subtract( tf.cast( value, dtype=tf.float32 ), tf.constant(1077.64)), tf.constant(7385.29) )\n",
        "\n",
        "def standardize_capitalloos(value):\n",
        "  return tf.divide( tf.subtract( tf.cast( value, dtype=tf.float32 ), tf.constant(87.30)), tf.constant(402.96) )\n",
        "\n",
        "def standardize_hour(value):\n",
        "  return tf.divide( tf.subtract( tf.cast( value, dtype=tf.float32 ), tf.constant(40.43)), tf.constant(12.34) )"
      ],
      "execution_count": 0,
      "outputs": []
    },
    {
      "cell_type": "code",
      "metadata": {
        "id": "NZ7xy5iKi7V4",
        "colab_type": "code",
        "colab": {}
      },
      "source": [
        "sex = tf.feature_column.categorical_column_with_vocabulary_list(key='sex', vocabulary_list=[' Male', ' Female'])"
      ],
      "execution_count": 0,
      "outputs": []
    },
    {
      "cell_type": "code",
      "metadata": {
        "id": "gOk00RC2jKLm",
        "colab_type": "code",
        "colab": {}
      },
      "source": [
        "age = tf.feature_column.numeric_column(key='age', normalizer_fn=standardize_age)\n",
        "final_weight = tf.feature_column.numeric_column(key='final-weight', normalizer_fn=standardize_finalweight)\n",
        "education_num = tf.feature_column.numeric_column(key='education-num', normalizer_fn=standardize_education)\n",
        "capital_gain = tf.feature_column.numeric_column(key='capital-gain', normalizer_fn=standardize_capitalgain)\n",
        "capital_loss = tf.feature_column.numeric_column(key='capital-loos', normalizer_fn=standardize_capitalloos)\n",
        "hour = tf.feature_column.numeric_column(key='hour-per-week', normalizer_fn=standardize_hour)"
      ],
      "execution_count": 0,
      "outputs": []
    },
    {
      "cell_type": "code",
      "metadata": {
        "id": "a32QZUfakwpJ",
        "colab_type": "code",
        "colab": {}
      },
      "source": [
        "columns = [ age, workclass, final_weight, education, education_num,\n",
        "            marital_status, occupation, relationship, race, sex,\n",
        "           capital_gain, capital_loss, hour, country\n",
        "           ]"
      ],
      "execution_count": 0,
      "outputs": []
    },
    {
      "cell_type": "code",
      "metadata": {
        "id": "lwcPWib1lIf_",
        "colab_type": "code",
        "outputId": "c370ccb6-fca9-489e-ba43-2f3ee1184322",
        "colab": {
          "base_uri": "https://localhost:8080/",
          "height": 285
        }
      },
      "source": [
        "function_training = tf.estimator.inputs.pandas_input_fn(\n",
        "    x = x_train,\n",
        "    y = y_train,\n",
        "    batch_size=32, \n",
        "    num_epochs= None, \n",
        "    shuffle= True\n",
        ")\n",
        "\n",
        "classifier = tf.estimator.DNNClassifier(\n",
        "    hidden_units=[8,8],\n",
        "    feature_columns=columns,\n",
        "    n_classes=2\n",
        ")\n",
        "\n",
        "classifier.train(input_fn= function_training)"
      ],
      "execution_count": 18,
      "outputs": [
        {
          "output_type": "stream",
          "text": [
            "WARNING:tensorflow:From /usr/local/lib/python3.6/dist-packages/tensorflow/python/util/lazy_loader.py:63: The name tf.estimator.inputs is deprecated. Please use tf.compat.v1.estimator.inputs instead.\n",
            "\n"
          ],
          "name": "stdout"
        },
        {
          "output_type": "error",
          "ename": "NameError",
          "evalue": "ignored",
          "traceback": [
            "\u001b[0;31m---------------------------------------------------------------------------\u001b[0m",
            "\u001b[0;31mNameError\u001b[0m                                 Traceback (most recent call last)",
            "\u001b[0;32m<ipython-input-18-b59c164849f0>\u001b[0m in \u001b[0;36m<module>\u001b[0;34m()\u001b[0m\n\u001b[1;32m      9\u001b[0m classifier = tf.estimator.DNNClassifier(\n\u001b[1;32m     10\u001b[0m     \u001b[0mhidden_units\u001b[0m\u001b[0;34m=\u001b[0m\u001b[0;34m[\u001b[0m\u001b[0;36m8\u001b[0m\u001b[0;34m,\u001b[0m\u001b[0;36m8\u001b[0m\u001b[0;34m]\u001b[0m\u001b[0;34m,\u001b[0m\u001b[0;34m\u001b[0m\u001b[0;34m\u001b[0m\u001b[0m\n\u001b[0;32m---> 11\u001b[0;31m     \u001b[0mfeature_columns\u001b[0m\u001b[0;34m=\u001b[0m\u001b[0mcolumns\u001b[0m\u001b[0;34m,\u001b[0m\u001b[0;34m\u001b[0m\u001b[0;34m\u001b[0m\u001b[0m\n\u001b[0m\u001b[1;32m     12\u001b[0m     \u001b[0mn_classes\u001b[0m\u001b[0;34m=\u001b[0m\u001b[0;36m2\u001b[0m\u001b[0;34m\u001b[0m\u001b[0;34m\u001b[0m\u001b[0m\n\u001b[1;32m     13\u001b[0m )\n",
            "\u001b[0;31mNameError\u001b[0m: name 'columns' is not defined"
          ]
        }
      ]
    },
    {
      "cell_type": "code",
      "metadata": {
        "id": "yuRJFv-tlczy",
        "colab_type": "code",
        "colab": {}
      },
      "source": [
        "embedded_workclass = tf.feature_column.embedding_column(workclass, dimension=9)\n",
        "embedded_education = tf.feature_column.embedding_column(education, dimension=len(base.education.unique()))\n",
        "embedded_marital_status = tf.feature_column.embedding_column(marital_status, dimension=len(base['marital-status'].unique()))\n",
        "embedded_occupation = tf.feature_column.embedding_column(occupation, dimension=len(base.occupation.unique()))\n",
        "embedded_relationship = tf.feature_column.embedding_column(relationship, dimension=len(base.relationship.unique()))\n",
        "embedded_race = tf.feature_column.embedding_column(race, dimension=len(base.race.unique()))\n",
        "embedded_native_country = tf.feature_column.embedding_column(country, dimension=len(base['native-country'].unique()))\n",
        "embedded_country = tf.feature_column.embedding_column(country, dimension=len(base['native-country'].unique()))\n",
        "embedded_sex = tf.feature_column.embedding_column(sex, dimension=len(base.sex.unique()))\n"
      ],
      "execution_count": 0,
      "outputs": []
    },
    {
      "cell_type": "code",
      "metadata": {
        "id": "6bE1AuQWo21W",
        "colab_type": "code",
        "colab": {}
      },
      "source": [
        "columns_rna = [ age, embedded_workclass, final_weight, embedded_education, education_num,\n",
        "            embedded_marital_status, embedded_occupation, embedded_relationship, embedded_race, embedded_sex,\n",
        "           capital_gain, capital_loss, hour, embedded_country\n",
        "           ]"
      ],
      "execution_count": 0,
      "outputs": []
    },
    {
      "cell_type": "code",
      "metadata": {
        "id": "-Zc75QwUrMHN",
        "colab_type": "code",
        "outputId": "9aac25c1-beb0-4c0e-f25c-97566679b09d",
        "colab": {
          "base_uri": "https://localhost:8080/",
          "height": 1000
        }
      },
      "source": [
        "function_training = tf.estimator.inputs.pandas_input_fn(\n",
        "    x = x_train,\n",
        "    y = y_train,\n",
        "    batch_size=32, \n",
        "    num_epochs= None, \n",
        "    shuffle= True\n",
        ")\n",
        "\n",
        "classifier = tf.estimator.DNNClassifier(\n",
        "    hidden_units=[8,8],\n",
        "    feature_columns=columns_rna,\n",
        "    n_classes=2\n",
        ")\n",
        "\n",
        "classifier.train(input_fn= function_training, steps = 10000)"
      ],
      "execution_count": 22,
      "outputs": [
        {
          "output_type": "stream",
          "text": [
            "INFO:tensorflow:Using default config.\n",
            "WARNING:tensorflow:Using temporary folder as model directory: /tmp/tmpqt2_bra9\n",
            "INFO:tensorflow:Using config: {'_model_dir': '/tmp/tmpqt2_bra9', '_tf_random_seed': None, '_save_summary_steps': 100, '_save_checkpoints_steps': None, '_save_checkpoints_secs': 600, '_session_config': allow_soft_placement: true\n",
            "graph_options {\n",
            "  rewrite_options {\n",
            "    meta_optimizer_iterations: ONE\n",
            "  }\n",
            "}\n",
            ", '_keep_checkpoint_max': 5, '_keep_checkpoint_every_n_hours': 10000, '_log_step_count_steps': 100, '_train_distribute': None, '_device_fn': None, '_protocol': None, '_eval_distribute': None, '_experimental_distribute': None, '_experimental_max_worker_delay_secs': None, '_session_creation_timeout_secs': 7200, '_service': None, '_cluster_spec': ClusterSpec({}), '_task_type': 'worker', '_task_id': 0, '_global_id_in_cluster': 0, '_master': '', '_evaluation_master': '', '_is_chief': True, '_num_ps_replicas': 0, '_num_worker_replicas': 1}\n",
            "WARNING:tensorflow:From /usr/local/lib/python3.6/dist-packages/tensorflow/python/training/training_util.py:236: Variable.initialized_value (from tensorflow.python.ops.variables) is deprecated and will be removed in a future version.\n",
            "Instructions for updating:\n",
            "Use Variable.read_value. Variables in 2.X are initialized automatically both in eager and graph (inside tf.defun) contexts.\n",
            "WARNING:tensorflow:From /usr/local/lib/python3.6/dist-packages/tensorflow_estimator/python/estimator/inputs/queues/feeding_queue_runner.py:65: QueueRunner.__init__ (from tensorflow.python.training.queue_runner_impl) is deprecated and will be removed in a future version.\n",
            "Instructions for updating:\n",
            "To construct input pipelines, use the `tf.data` module.\n",
            "WARNING:tensorflow:From /usr/local/lib/python3.6/dist-packages/tensorflow_estimator/python/estimator/inputs/queues/feeding_functions.py:491: add_queue_runner (from tensorflow.python.training.queue_runner_impl) is deprecated and will be removed in a future version.\n",
            "Instructions for updating:\n",
            "To construct input pipelines, use the `tf.data` module.\n",
            "INFO:tensorflow:Calling model_fn.\n",
            "WARNING:tensorflow:From /usr/local/lib/python3.6/dist-packages/tensorflow/python/ops/resource_variable_ops.py:1666: calling BaseResourceVariable.__init__ (from tensorflow.python.ops.resource_variable_ops) with constraint is deprecated and will be removed in a future version.\n",
            "Instructions for updating:\n",
            "If using Keras pass *_constraint arguments to layers.\n",
            "WARNING:tensorflow:From /usr/local/lib/python3.6/dist-packages/tensorflow/python/training/adagrad.py:77: calling Constant.__init__ (from tensorflow.python.ops.init_ops) with dtype is deprecated and will be removed in a future version.\n",
            "Instructions for updating:\n",
            "Call initializer instance with the dtype argument instead of passing it to the constructor\n",
            "INFO:tensorflow:Done calling model_fn.\n",
            "INFO:tensorflow:Create CheckpointSaverHook.\n",
            "INFO:tensorflow:Graph was finalized.\n",
            "INFO:tensorflow:Running local_init_op.\n",
            "INFO:tensorflow:Done running local_init_op.\n",
            "WARNING:tensorflow:From /usr/local/lib/python3.6/dist-packages/tensorflow/python/training/monitored_session.py:906: start_queue_runners (from tensorflow.python.training.queue_runner_impl) is deprecated and will be removed in a future version.\n",
            "Instructions for updating:\n",
            "To construct input pipelines, use the `tf.data` module.\n",
            "INFO:tensorflow:Calling checkpoint listeners before saving checkpoint 0...\n",
            "INFO:tensorflow:Saving checkpoints for 0 into /tmp/tmpqt2_bra9/model.ckpt.\n",
            "INFO:tensorflow:Calling checkpoint listeners after saving checkpoint 0...\n",
            "INFO:tensorflow:loss = 21.611462, step = 1\n",
            "INFO:tensorflow:global_step/sec: 231.481\n",
            "INFO:tensorflow:loss = 13.521746, step = 101 (0.435 sec)\n",
            "INFO:tensorflow:global_step/sec: 312.611\n",
            "INFO:tensorflow:loss = 11.004173, step = 201 (0.325 sec)\n",
            "INFO:tensorflow:global_step/sec: 318.999\n",
            "INFO:tensorflow:loss = 17.721466, step = 301 (0.309 sec)\n",
            "INFO:tensorflow:global_step/sec: 310.934\n",
            "INFO:tensorflow:loss = 11.617029, step = 401 (0.321 sec)\n",
            "INFO:tensorflow:global_step/sec: 316.952\n",
            "INFO:tensorflow:loss = 7.636443, step = 501 (0.314 sec)\n",
            "INFO:tensorflow:global_step/sec: 325.352\n",
            "INFO:tensorflow:loss = 8.601839, step = 601 (0.311 sec)\n",
            "INFO:tensorflow:global_step/sec: 317.801\n",
            "INFO:tensorflow:loss = 4.8006563, step = 701 (0.313 sec)\n",
            "WARNING:tensorflow:It seems that global step (tf.train.get_global_step) has not been increased. Current value (could be stable): 789 vs previous value: 789. You could increase the global step by passing tf.train.get_global_step() to Optimizer.apply_gradients or Optimizer.minimize.\n",
            "INFO:tensorflow:global_step/sec: 302.55\n",
            "INFO:tensorflow:loss = 8.696101, step = 801 (0.329 sec)\n",
            "INFO:tensorflow:global_step/sec: 318.402\n",
            "INFO:tensorflow:loss = 9.147385, step = 901 (0.316 sec)\n",
            "INFO:tensorflow:global_step/sec: 324.884\n",
            "INFO:tensorflow:loss = 12.105492, step = 1001 (0.307 sec)\n",
            "WARNING:tensorflow:It seems that global step (tf.train.get_global_step) has not been increased. Current value (could be stable): 1099 vs previous value: 1099. You could increase the global step by passing tf.train.get_global_step() to Optimizer.apply_gradients or Optimizer.minimize.\n",
            "INFO:tensorflow:global_step/sec: 137.726\n",
            "INFO:tensorflow:loss = 10.59665, step = 1101 (0.730 sec)\n",
            "INFO:tensorflow:global_step/sec: 353.271\n",
            "INFO:tensorflow:loss = 5.6818604, step = 1201 (0.281 sec)\n",
            "INFO:tensorflow:global_step/sec: 320.629\n",
            "INFO:tensorflow:loss = 15.982622, step = 1301 (0.309 sec)\n",
            "INFO:tensorflow:global_step/sec: 316.172\n",
            "INFO:tensorflow:loss = 8.37775, step = 1401 (0.316 sec)\n",
            "INFO:tensorflow:global_step/sec: 308.968\n",
            "INFO:tensorflow:loss = 8.138756, step = 1501 (0.323 sec)\n",
            "INFO:tensorflow:global_step/sec: 327.91\n",
            "INFO:tensorflow:loss = 11.115614, step = 1601 (0.305 sec)\n",
            "INFO:tensorflow:global_step/sec: 315.365\n",
            "INFO:tensorflow:loss = 6.8226895, step = 1701 (0.317 sec)\n",
            "INFO:tensorflow:global_step/sec: 325.847\n",
            "INFO:tensorflow:loss = 21.947004, step = 1801 (0.308 sec)\n",
            "INFO:tensorflow:global_step/sec: 322.761\n",
            "INFO:tensorflow:loss = 7.507472, step = 1901 (0.309 sec)\n",
            "WARNING:tensorflow:It seems that global step (tf.train.get_global_step) has not been increased. Current value (could be stable): 1954 vs previous value: 1954. You could increase the global step by passing tf.train.get_global_step() to Optimizer.apply_gradients or Optimizer.minimize.\n",
            "INFO:tensorflow:global_step/sec: 316.168\n",
            "INFO:tensorflow:loss = 9.779144, step = 2001 (0.316 sec)\n",
            "INFO:tensorflow:global_step/sec: 322.637\n",
            "INFO:tensorflow:loss = 8.664344, step = 2101 (0.313 sec)\n",
            "INFO:tensorflow:global_step/sec: 328.811\n",
            "INFO:tensorflow:loss = 9.315548, step = 2201 (0.304 sec)\n",
            "INFO:tensorflow:global_step/sec: 305.915\n",
            "INFO:tensorflow:loss = 8.025258, step = 2301 (0.323 sec)\n",
            "WARNING:tensorflow:It seems that global step (tf.train.get_global_step) has not been increased. Current value (could be stable): 2356 vs previous value: 2356. You could increase the global step by passing tf.train.get_global_step() to Optimizer.apply_gradients or Optimizer.minimize.\n",
            "INFO:tensorflow:global_step/sec: 321.033\n",
            "INFO:tensorflow:loss = 13.714954, step = 2401 (0.311 sec)\n",
            "INFO:tensorflow:global_step/sec: 319.685\n",
            "INFO:tensorflow:loss = 8.665192, step = 2501 (0.314 sec)\n",
            "INFO:tensorflow:global_step/sec: 315.537\n",
            "INFO:tensorflow:loss = 10.469145, step = 2601 (0.317 sec)\n",
            "INFO:tensorflow:global_step/sec: 322.929\n",
            "INFO:tensorflow:loss = 8.278732, step = 2701 (0.309 sec)\n",
            "INFO:tensorflow:global_step/sec: 320.389\n",
            "INFO:tensorflow:loss = 9.554284, step = 2801 (0.312 sec)\n",
            "WARNING:tensorflow:It seems that global step (tf.train.get_global_step) has not been increased. Current value (could be stable): 2810 vs previous value: 2810. You could increase the global step by passing tf.train.get_global_step() to Optimizer.apply_gradients or Optimizer.minimize.\n",
            "INFO:tensorflow:global_step/sec: 320.716\n",
            "INFO:tensorflow:loss = 6.918072, step = 2901 (0.310 sec)\n",
            "INFO:tensorflow:global_step/sec: 304.411\n",
            "INFO:tensorflow:loss = 7.203034, step = 3001 (0.328 sec)\n",
            "INFO:tensorflow:global_step/sec: 325.26\n",
            "INFO:tensorflow:loss = 12.480461, step = 3101 (0.310 sec)\n",
            "INFO:tensorflow:global_step/sec: 324.004\n",
            "INFO:tensorflow:loss = 16.716417, step = 3201 (0.306 sec)\n",
            "INFO:tensorflow:global_step/sec: 316.818\n",
            "INFO:tensorflow:loss = 8.225923, step = 3301 (0.320 sec)\n",
            "INFO:tensorflow:global_step/sec: 325.131\n",
            "INFO:tensorflow:loss = 8.250695, step = 3401 (0.303 sec)\n",
            "INFO:tensorflow:global_step/sec: 317.335\n",
            "INFO:tensorflow:loss = 6.794048, step = 3501 (0.315 sec)\n",
            "INFO:tensorflow:global_step/sec: 301.101\n",
            "INFO:tensorflow:loss = 10.067015, step = 3601 (0.332 sec)\n",
            "INFO:tensorflow:global_step/sec: 325.196\n",
            "INFO:tensorflow:loss = 7.916289, step = 3701 (0.308 sec)\n",
            "INFO:tensorflow:global_step/sec: 312.75\n",
            "INFO:tensorflow:loss = 15.438721, step = 3801 (0.321 sec)\n",
            "INFO:tensorflow:global_step/sec: 316.013\n",
            "INFO:tensorflow:loss = 7.6787076, step = 3901 (0.315 sec)\n",
            "INFO:tensorflow:global_step/sec: 323.729\n",
            "INFO:tensorflow:loss = 9.176264, step = 4001 (0.310 sec)\n",
            "INFO:tensorflow:global_step/sec: 326.623\n",
            "INFO:tensorflow:loss = 4.497961, step = 4101 (0.312 sec)\n",
            "INFO:tensorflow:global_step/sec: 322.388\n",
            "INFO:tensorflow:loss = 4.678279, step = 4201 (0.308 sec)\n",
            "INFO:tensorflow:global_step/sec: 316.179\n",
            "INFO:tensorflow:loss = 6.7882814, step = 4301 (0.311 sec)\n",
            "INFO:tensorflow:global_step/sec: 320.836\n",
            "INFO:tensorflow:loss = 11.160693, step = 4401 (0.318 sec)\n",
            "INFO:tensorflow:global_step/sec: 312.834\n",
            "INFO:tensorflow:loss = 3.605375, step = 4501 (0.313 sec)\n",
            "INFO:tensorflow:global_step/sec: 315.704\n",
            "INFO:tensorflow:loss = 10.601664, step = 4601 (0.319 sec)\n",
            "INFO:tensorflow:global_step/sec: 326.095\n",
            "INFO:tensorflow:loss = 11.051946, step = 4701 (0.305 sec)\n",
            "INFO:tensorflow:global_step/sec: 325.46\n",
            "INFO:tensorflow:loss = 7.9740057, step = 4801 (0.308 sec)\n",
            "INFO:tensorflow:global_step/sec: 319.341\n",
            "INFO:tensorflow:loss = 8.568155, step = 4901 (0.314 sec)\n",
            "INFO:tensorflow:global_step/sec: 328.399\n",
            "INFO:tensorflow:loss = 8.558116, step = 5001 (0.303 sec)\n",
            "INFO:tensorflow:global_step/sec: 321.208\n",
            "INFO:tensorflow:loss = 5.6565185, step = 5101 (0.311 sec)\n",
            "INFO:tensorflow:global_step/sec: 311.351\n",
            "INFO:tensorflow:loss = 18.056705, step = 5201 (0.321 sec)\n",
            "INFO:tensorflow:global_step/sec: 315.024\n",
            "INFO:tensorflow:loss = 5.327973, step = 5301 (0.317 sec)\n",
            "INFO:tensorflow:global_step/sec: 321.953\n",
            "INFO:tensorflow:loss = 7.0743237, step = 5401 (0.311 sec)\n",
            "INFO:tensorflow:global_step/sec: 321.055\n",
            "INFO:tensorflow:loss = 9.94437, step = 5501 (0.314 sec)\n",
            "INFO:tensorflow:global_step/sec: 319.625\n",
            "INFO:tensorflow:loss = 9.798328, step = 5601 (0.312 sec)\n",
            "INFO:tensorflow:global_step/sec: 319.058\n",
            "INFO:tensorflow:loss = 6.37002, step = 5701 (0.312 sec)\n",
            "INFO:tensorflow:global_step/sec: 322.909\n",
            "INFO:tensorflow:loss = 8.051265, step = 5801 (0.311 sec)\n",
            "INFO:tensorflow:global_step/sec: 308.546\n",
            "INFO:tensorflow:loss = 7.7227845, step = 5901 (0.323 sec)\n",
            "INFO:tensorflow:global_step/sec: 324.475\n",
            "INFO:tensorflow:loss = 9.053898, step = 6001 (0.308 sec)\n",
            "INFO:tensorflow:global_step/sec: 325.214\n",
            "INFO:tensorflow:loss = 5.243454, step = 6101 (0.311 sec)\n",
            "INFO:tensorflow:global_step/sec: 314.674\n",
            "INFO:tensorflow:loss = 14.699561, step = 6201 (0.315 sec)\n",
            "INFO:tensorflow:global_step/sec: 326.577\n",
            "INFO:tensorflow:loss = 13.184267, step = 6301 (0.306 sec)\n",
            "INFO:tensorflow:global_step/sec: 330.512\n",
            "INFO:tensorflow:loss = 10.273374, step = 6401 (0.303 sec)\n",
            "INFO:tensorflow:global_step/sec: 323.909\n",
            "INFO:tensorflow:loss = 8.443317, step = 6501 (0.309 sec)\n",
            "INFO:tensorflow:global_step/sec: 320.449\n",
            "INFO:tensorflow:loss = 8.796959, step = 6601 (0.317 sec)\n",
            "INFO:tensorflow:global_step/sec: 316.385\n",
            "INFO:tensorflow:loss = 11.27649, step = 6701 (0.311 sec)\n",
            "INFO:tensorflow:global_step/sec: 319.361\n",
            "INFO:tensorflow:loss = 8.14752, step = 6801 (0.314 sec)\n",
            "INFO:tensorflow:global_step/sec: 309.525\n",
            "INFO:tensorflow:loss = 11.859314, step = 6901 (0.322 sec)\n",
            "INFO:tensorflow:global_step/sec: 326.043\n",
            "INFO:tensorflow:loss = 10.230669, step = 7001 (0.308 sec)\n",
            "INFO:tensorflow:global_step/sec: 326.043\n",
            "INFO:tensorflow:loss = 10.925306, step = 7101 (0.311 sec)\n",
            "INFO:tensorflow:global_step/sec: 320.646\n",
            "INFO:tensorflow:loss = 13.546684, step = 7201 (0.306 sec)\n",
            "INFO:tensorflow:global_step/sec: 329.133\n",
            "INFO:tensorflow:loss = 8.037289, step = 7301 (0.306 sec)\n",
            "INFO:tensorflow:global_step/sec: 318.602\n",
            "INFO:tensorflow:loss = 9.348511, step = 7401 (0.313 sec)\n",
            "INFO:tensorflow:global_step/sec: 308.52\n",
            "INFO:tensorflow:loss = 6.278956, step = 7501 (0.324 sec)\n",
            "INFO:tensorflow:global_step/sec: 326.352\n",
            "INFO:tensorflow:loss = 11.76504, step = 7601 (0.305 sec)\n",
            "INFO:tensorflow:global_step/sec: 330.279\n",
            "INFO:tensorflow:loss = 5.3344707, step = 7701 (0.303 sec)\n",
            "INFO:tensorflow:global_step/sec: 317.838\n",
            "INFO:tensorflow:loss = 11.616092, step = 7801 (0.318 sec)\n",
            "INFO:tensorflow:global_step/sec: 321.941\n",
            "INFO:tensorflow:loss = 11.923227, step = 7901 (0.307 sec)\n",
            "INFO:tensorflow:global_step/sec: 317.831\n",
            "INFO:tensorflow:loss = 9.624971, step = 8001 (0.317 sec)\n",
            "INFO:tensorflow:global_step/sec: 311.437\n",
            "INFO:tensorflow:loss = 12.0562935, step = 8101 (0.321 sec)\n",
            "INFO:tensorflow:global_step/sec: 331.569\n",
            "INFO:tensorflow:loss = 9.51519, step = 8201 (0.299 sec)\n",
            "INFO:tensorflow:global_step/sec: 329.064\n",
            "INFO:tensorflow:loss = 9.7046795, step = 8301 (0.304 sec)\n",
            "INFO:tensorflow:global_step/sec: 321.2\n",
            "INFO:tensorflow:loss = 7.0322485, step = 8401 (0.312 sec)\n",
            "INFO:tensorflow:global_step/sec: 316.771\n",
            "INFO:tensorflow:loss = 10.029649, step = 8501 (0.320 sec)\n",
            "INFO:tensorflow:global_step/sec: 306.634\n",
            "INFO:tensorflow:loss = 8.010198, step = 8601 (0.324 sec)\n",
            "INFO:tensorflow:global_step/sec: 325.695\n",
            "INFO:tensorflow:loss = 3.4162602, step = 8701 (0.312 sec)\n",
            "INFO:tensorflow:global_step/sec: 321.092\n",
            "INFO:tensorflow:loss = 6.5968084, step = 8801 (0.305 sec)\n",
            "INFO:tensorflow:global_step/sec: 325.98\n",
            "INFO:tensorflow:loss = 11.352588, step = 8901 (0.306 sec)\n",
            "INFO:tensorflow:global_step/sec: 325.386\n",
            "INFO:tensorflow:loss = 9.586609, step = 9001 (0.316 sec)\n",
            "INFO:tensorflow:global_step/sec: 314.409\n",
            "INFO:tensorflow:loss = 16.97953, step = 9101 (0.310 sec)\n",
            "INFO:tensorflow:global_step/sec: 315.997\n",
            "INFO:tensorflow:loss = 10.168945, step = 9201 (0.320 sec)\n",
            "INFO:tensorflow:global_step/sec: 320.253\n",
            "INFO:tensorflow:loss = 5.3002005, step = 9301 (0.309 sec)\n",
            "INFO:tensorflow:global_step/sec: 325.658\n",
            "INFO:tensorflow:loss = 9.056679, step = 9401 (0.307 sec)\n",
            "INFO:tensorflow:global_step/sec: 328.937\n",
            "INFO:tensorflow:loss = 7.745656, step = 9501 (0.304 sec)\n",
            "INFO:tensorflow:global_step/sec: 330.305\n",
            "INFO:tensorflow:loss = 7.7164345, step = 9601 (0.302 sec)\n",
            "INFO:tensorflow:global_step/sec: 327.974\n",
            "INFO:tensorflow:loss = 7.2258043, step = 9701 (0.307 sec)\n",
            "INFO:tensorflow:global_step/sec: 317.027\n",
            "INFO:tensorflow:loss = 4.5779705, step = 9801 (0.313 sec)\n",
            "INFO:tensorflow:global_step/sec: 328.72\n",
            "INFO:tensorflow:loss = 8.236279, step = 9901 (0.306 sec)\n",
            "INFO:tensorflow:Calling checkpoint listeners before saving checkpoint 10000...\n",
            "INFO:tensorflow:Saving checkpoints for 10000 into /tmp/tmpqt2_bra9/model.ckpt.\n",
            "INFO:tensorflow:Calling checkpoint listeners after saving checkpoint 10000...\n",
            "INFO:tensorflow:Loss for final step: 7.641612.\n"
          ],
          "name": "stdout"
        },
        {
          "output_type": "execute_result",
          "data": {
            "text/plain": [
              "<tensorflow_estimator.python.estimator.canned.dnn.DNNClassifier at 0x7f9db58eafd0>"
            ]
          },
          "metadata": {
            "tags": []
          },
          "execution_count": 22
        }
      ]
    },
    {
      "cell_type": "code",
      "metadata": {
        "id": "fFvV2J7Gr0JF",
        "colab_type": "code",
        "colab": {}
      },
      "source": [
        "function_test = tf.estimator.inputs.pandas_input_fn(x = x_test, y= y_test, batch_size=32,\n",
        "                                                    num_epochs=1, shuffle=False\n",
        "                                                   )"
      ],
      "execution_count": 0,
      "outputs": []
    },
    {
      "cell_type": "code",
      "metadata": {
        "id": "mVJ8EAbgso2F",
        "colab_type": "code",
        "outputId": "785ba8f4-b697-4b53-ca79-b7f35eed8a70",
        "colab": {
          "base_uri": "https://localhost:8080/",
          "height": 496
        }
      },
      "source": [
        "classifier.evaluate(input_fn=function_test)"
      ],
      "execution_count": 24,
      "outputs": [
        {
          "output_type": "stream",
          "text": [
            "INFO:tensorflow:Calling model_fn.\n",
            "WARNING:tensorflow:From /usr/local/lib/python3.6/dist-packages/tensorflow_estimator/python/estimator/canned/head.py:642: auc (from tensorflow.python.ops.metrics_impl) is deprecated and will be removed in a future version.\n",
            "Instructions for updating:\n",
            "The value of AUC returned by this may race with the update so this is deprecated. Please use tf.keras.metrics.AUC instead.\n",
            "WARNING:tensorflow:Trapezoidal rule is known to produce incorrect PR-AUCs; please switch to \"careful_interpolation\" instead.\n",
            "WARNING:tensorflow:Trapezoidal rule is known to produce incorrect PR-AUCs; please switch to \"careful_interpolation\" instead.\n",
            "INFO:tensorflow:Done calling model_fn.\n",
            "INFO:tensorflow:Starting evaluation at 2020-04-29T02:28:20Z\n",
            "INFO:tensorflow:Graph was finalized.\n",
            "INFO:tensorflow:Restoring parameters from /tmp/tmpqt2_bra9/model.ckpt-10000\n",
            "INFO:tensorflow:Running local_init_op.\n",
            "INFO:tensorflow:Done running local_init_op.\n",
            "INFO:tensorflow:Inference Time : 1.46437s\n",
            "INFO:tensorflow:Finished evaluation at 2020-04-29-02:28:22\n",
            "INFO:tensorflow:Saving dict for global step 10000: accuracy = 0.85566586, accuracy_baseline = 0.76128566, auc = 0.9118639, auc_precision_recall = 0.77564603, average_loss = 0.31548303, global_step = 10000, label/mean = 0.23871431, loss = 10.071744, precision = 0.76373, prediction/mean = 0.21783979, recall = 0.57247\n",
            "INFO:tensorflow:Saving 'checkpoint_path' summary for global step 10000: /tmp/tmpqt2_bra9/model.ckpt-10000\n"
          ],
          "name": "stdout"
        },
        {
          "output_type": "execute_result",
          "data": {
            "text/plain": [
              "{'accuracy': 0.85566586,\n",
              " 'accuracy_baseline': 0.76128566,\n",
              " 'auc': 0.9118639,\n",
              " 'auc_precision_recall': 0.77564603,\n",
              " 'average_loss': 0.31548303,\n",
              " 'global_step': 10000,\n",
              " 'label/mean': 0.23871431,\n",
              " 'loss': 10.071744,\n",
              " 'precision': 0.76373,\n",
              " 'prediction/mean': 0.21783979,\n",
              " 'recall': 0.57247}"
            ]
          },
          "metadata": {
            "tags": []
          },
          "execution_count": 24
        }
      ]
    },
    {
      "cell_type": "code",
      "metadata": {
        "id": "zQCdJ3Sbs6AI",
        "colab_type": "code",
        "colab": {}
      },
      "source": [
        ""
      ],
      "execution_count": 0,
      "outputs": []
    }
  ]
}