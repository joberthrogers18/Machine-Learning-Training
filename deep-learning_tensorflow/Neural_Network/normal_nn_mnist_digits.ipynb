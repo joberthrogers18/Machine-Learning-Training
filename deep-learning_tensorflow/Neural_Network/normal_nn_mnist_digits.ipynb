{
  "nbformat": 4,
  "nbformat_minor": 0,
  "metadata": {
    "colab": {
      "name": "normal_nn_mnist_digits.ipynb",
      "provenance": [],
      "collapsed_sections": []
    },
    "kernelspec": {
      "name": "python3",
      "display_name": "Python 3"
    },
    "widgets": {
      "application/vnd.jupyter.widget-state+json": {
        "799dfb47b2da4af39424a95dddf3b440": {
          "model_module": "@jupyter-widgets/controls",
          "model_name": "HBoxModel",
          "state": {
            "_view_name": "HBoxView",
            "_dom_classes": [],
            "_model_name": "HBoxModel",
            "_view_module": "@jupyter-widgets/controls",
            "_model_module_version": "1.5.0",
            "_view_count": null,
            "_view_module_version": "1.5.0",
            "box_style": "",
            "layout": "IPY_MODEL_d69ebe87a51e44e0bc70bb2e1314aaa8",
            "_model_module": "@jupyter-widgets/controls",
            "children": [
              "IPY_MODEL_6e262fde3e5743378eeb0a275c52ecdd",
              "IPY_MODEL_cfa36dc6c0a3495484ebb1a063c1a5a5"
            ]
          }
        },
        "d69ebe87a51e44e0bc70bb2e1314aaa8": {
          "model_module": "@jupyter-widgets/base",
          "model_name": "LayoutModel",
          "state": {
            "_view_name": "LayoutView",
            "grid_template_rows": null,
            "right": null,
            "justify_content": null,
            "_view_module": "@jupyter-widgets/base",
            "overflow": null,
            "_model_module_version": "1.2.0",
            "_view_count": null,
            "flex_flow": null,
            "width": null,
            "min_width": null,
            "border": null,
            "align_items": null,
            "bottom": null,
            "_model_module": "@jupyter-widgets/base",
            "top": null,
            "grid_column": null,
            "overflow_y": null,
            "overflow_x": null,
            "grid_auto_flow": null,
            "grid_area": null,
            "grid_template_columns": null,
            "flex": null,
            "_model_name": "LayoutModel",
            "justify_items": null,
            "grid_row": null,
            "max_height": null,
            "align_content": null,
            "visibility": null,
            "align_self": null,
            "height": null,
            "min_height": null,
            "padding": null,
            "grid_auto_rows": null,
            "grid_gap": null,
            "max_width": null,
            "order": null,
            "_view_module_version": "1.2.0",
            "grid_template_areas": null,
            "object_position": null,
            "object_fit": null,
            "grid_auto_columns": null,
            "margin": null,
            "display": null,
            "left": null
          }
        },
        "6e262fde3e5743378eeb0a275c52ecdd": {
          "model_module": "@jupyter-widgets/controls",
          "model_name": "IntProgressModel",
          "state": {
            "_view_name": "ProgressView",
            "style": "IPY_MODEL_5da091baa84e4ca3b592b9e36967301e",
            "_dom_classes": [],
            "description": "Dl Completed...: 100%",
            "_model_name": "IntProgressModel",
            "bar_style": "success",
            "max": 4,
            "_view_module": "@jupyter-widgets/controls",
            "_model_module_version": "1.5.0",
            "value": 4,
            "_view_count": null,
            "_view_module_version": "1.5.0",
            "orientation": "horizontal",
            "min": 0,
            "description_tooltip": null,
            "_model_module": "@jupyter-widgets/controls",
            "layout": "IPY_MODEL_9e097e6ff54d430795d948f57c333357"
          }
        },
        "cfa36dc6c0a3495484ebb1a063c1a5a5": {
          "model_module": "@jupyter-widgets/controls",
          "model_name": "HTMLModel",
          "state": {
            "_view_name": "HTMLView",
            "style": "IPY_MODEL_7eecfa27c0cb486a88851302798f6e46",
            "_dom_classes": [],
            "description": "",
            "_model_name": "HTMLModel",
            "placeholder": "​",
            "_view_module": "@jupyter-widgets/controls",
            "_model_module_version": "1.5.0",
            "value": " 4/4 [00:00&lt;00:00,  6.90 file/s]",
            "_view_count": null,
            "_view_module_version": "1.5.0",
            "description_tooltip": null,
            "_model_module": "@jupyter-widgets/controls",
            "layout": "IPY_MODEL_60dfe693b446497b87227f91864e688e"
          }
        },
        "5da091baa84e4ca3b592b9e36967301e": {
          "model_module": "@jupyter-widgets/controls",
          "model_name": "ProgressStyleModel",
          "state": {
            "_view_name": "StyleView",
            "_model_name": "ProgressStyleModel",
            "description_width": "initial",
            "_view_module": "@jupyter-widgets/base",
            "_model_module_version": "1.5.0",
            "_view_count": null,
            "_view_module_version": "1.2.0",
            "bar_color": null,
            "_model_module": "@jupyter-widgets/controls"
          }
        },
        "9e097e6ff54d430795d948f57c333357": {
          "model_module": "@jupyter-widgets/base",
          "model_name": "LayoutModel",
          "state": {
            "_view_name": "LayoutView",
            "grid_template_rows": null,
            "right": null,
            "justify_content": null,
            "_view_module": "@jupyter-widgets/base",
            "overflow": null,
            "_model_module_version": "1.2.0",
            "_view_count": null,
            "flex_flow": null,
            "width": null,
            "min_width": null,
            "border": null,
            "align_items": null,
            "bottom": null,
            "_model_module": "@jupyter-widgets/base",
            "top": null,
            "grid_column": null,
            "overflow_y": null,
            "overflow_x": null,
            "grid_auto_flow": null,
            "grid_area": null,
            "grid_template_columns": null,
            "flex": null,
            "_model_name": "LayoutModel",
            "justify_items": null,
            "grid_row": null,
            "max_height": null,
            "align_content": null,
            "visibility": null,
            "align_self": null,
            "height": null,
            "min_height": null,
            "padding": null,
            "grid_auto_rows": null,
            "grid_gap": null,
            "max_width": null,
            "order": null,
            "_view_module_version": "1.2.0",
            "grid_template_areas": null,
            "object_position": null,
            "object_fit": null,
            "grid_auto_columns": null,
            "margin": null,
            "display": null,
            "left": null
          }
        },
        "7eecfa27c0cb486a88851302798f6e46": {
          "model_module": "@jupyter-widgets/controls",
          "model_name": "DescriptionStyleModel",
          "state": {
            "_view_name": "StyleView",
            "_model_name": "DescriptionStyleModel",
            "description_width": "",
            "_view_module": "@jupyter-widgets/base",
            "_model_module_version": "1.5.0",
            "_view_count": null,
            "_view_module_version": "1.2.0",
            "_model_module": "@jupyter-widgets/controls"
          }
        },
        "60dfe693b446497b87227f91864e688e": {
          "model_module": "@jupyter-widgets/base",
          "model_name": "LayoutModel",
          "state": {
            "_view_name": "LayoutView",
            "grid_template_rows": null,
            "right": null,
            "justify_content": null,
            "_view_module": "@jupyter-widgets/base",
            "overflow": null,
            "_model_module_version": "1.2.0",
            "_view_count": null,
            "flex_flow": null,
            "width": null,
            "min_width": null,
            "border": null,
            "align_items": null,
            "bottom": null,
            "_model_module": "@jupyter-widgets/base",
            "top": null,
            "grid_column": null,
            "overflow_y": null,
            "overflow_x": null,
            "grid_auto_flow": null,
            "grid_area": null,
            "grid_template_columns": null,
            "flex": null,
            "_model_name": "LayoutModel",
            "justify_items": null,
            "grid_row": null,
            "max_height": null,
            "align_content": null,
            "visibility": null,
            "align_self": null,
            "height": null,
            "min_height": null,
            "padding": null,
            "grid_auto_rows": null,
            "grid_gap": null,
            "max_width": null,
            "order": null,
            "_view_module_version": "1.2.0",
            "grid_template_areas": null,
            "object_position": null,
            "object_fit": null,
            "grid_auto_columns": null,
            "margin": null,
            "display": null,
            "left": null
          }
        }
      }
    }
  },
  "cells": [
    {
      "cell_type": "code",
      "metadata": {
        "id": "n8-_F7suJ2_S",
        "colab_type": "code",
        "colab": {}
      },
      "source": [
        "import tensorflow.compat.v1 as tf\n",
        "tf.disable_v2_behavior()\n",
        "import numpy as np"
      ],
      "execution_count": 0,
      "outputs": []
    },
    {
      "cell_type": "code",
      "metadata": {
        "id": "ejYSvAH4KOqD",
        "colab_type": "code",
        "colab": {
          "base_uri": "https://localhost:8080/",
          "height": 222,
          "referenced_widgets": [
            "799dfb47b2da4af39424a95dddf3b440",
            "d69ebe87a51e44e0bc70bb2e1314aaa8",
            "6e262fde3e5743378eeb0a275c52ecdd",
            "cfa36dc6c0a3495484ebb1a063c1a5a5",
            "5da091baa84e4ca3b592b9e36967301e",
            "9e097e6ff54d430795d948f57c333357",
            "7eecfa27c0cb486a88851302798f6e46",
            "60dfe693b446497b87227f91864e688e"
          ]
        },
        "outputId": "9e2d04a0-8671-479e-a114-bc980112a041"
      },
      "source": [
        "import tensorflow_datasets\n",
        "mnist = tensorflow_datasets.load('mnist')"
      ],
      "execution_count": 9,
      "outputs": [
        {
          "output_type": "stream",
          "text": [
            "WARNING:absl:Dataset mnist is hosted on GCS. It will automatically be downloaded to your\n",
            "local data directory. If you'd instead prefer to read directly from our public\n",
            "GCS bucket (recommended if you're running on GCP), you can instead set\n",
            "data_dir=gs://tfds-data/datasets.\n",
            "\n"
          ],
          "name": "stderr"
        },
        {
          "output_type": "stream",
          "text": [
            "\u001b[1mDownloading and preparing dataset mnist/3.0.0 (download: 11.06 MiB, generated: Unknown size, total: 11.06 MiB) to /root/tensorflow_datasets/mnist/3.0.0...\u001b[0m\n"
          ],
          "name": "stdout"
        },
        {
          "output_type": "display_data",
          "data": {
            "application/vnd.jupyter.widget-view+json": {
              "model_id": "799dfb47b2da4af39424a95dddf3b440",
              "version_minor": 0,
              "version_major": 2
            },
            "text/plain": [
              "HBox(children=(IntProgress(value=0, description='Dl Completed...', max=4, style=ProgressStyle(description_widt…"
            ]
          },
          "metadata": {
            "tags": []
          }
        },
        {
          "output_type": "stream",
          "text": [
            "\n",
            "\n",
            "\u001b[1mDataset mnist downloaded and prepared to /root/tensorflow_datasets/mnist/3.0.0. Subsequent calls will reuse this data.\u001b[0m\n"
          ],
          "name": "stdout"
        }
      ]
    },
    {
      "cell_type": "code",
      "metadata": {
        "id": "Q2obc-FQKXo1",
        "colab_type": "code",
        "colab": {}
      },
      "source": [
        "mnist = tf.keras.datasets.mnist\n",
        "\n",
        "(x_train, y_train), (x_test, y_test) = mnist.load_data()\n",
        "# x_train, x_test = x_train / 255.0, x_test / 255.0"
      ],
      "execution_count": 0,
      "outputs": []
    },
    {
      "cell_type": "code",
      "metadata": {
        "id": "RXbEm-19T1K7",
        "colab_type": "code",
        "colab": {
          "base_uri": "https://localhost:8080/",
          "height": 34
        },
        "outputId": "5e8b9a1d-5a0b-47dc-ab31-f6191d15e985"
      },
      "source": [
        "x_train.shape"
      ],
      "execution_count": 65,
      "outputs": [
        {
          "output_type": "execute_result",
          "data": {
            "text/plain": [
              "(60000, 28, 28)"
            ]
          },
          "metadata": {
            "tags": []
          },
          "execution_count": 65
        }
      ]
    },
    {
      "cell_type": "code",
      "metadata": {
        "id": "37N-n6NIMRh7",
        "colab_type": "code",
        "colab": {}
      },
      "source": [
        "# make the hot enconde\n",
        "from sklearn.preprocessing import OneHotEncoder\n",
        "from sklearn.compose import ColumnTransformer\n",
        "\n",
        "y_test = y_test.reshape(-1, 1)\n",
        "y_train = y_train.reshape(-1, 1)\n",
        "\n",
        "\n",
        "ct = ColumnTransformer(\n",
        "    transformers=[('OneHot', OneHotEncoder(), [0])],\n",
        "    remainder='passthrough'\n",
        ")\n",
        "\n",
        "y_test = ct.fit_transform(y_test).toarray()\n",
        "y_train = ct.fit_transform(y_train).toarray()"
      ],
      "execution_count": 0,
      "outputs": []
    },
    {
      "cell_type": "code",
      "metadata": {
        "id": "cP5DUOiIN3Kx",
        "colab_type": "code",
        "colab": {
          "base_uri": "https://localhost:8080/",
          "height": 298
        },
        "outputId": "c561ea11-82f2-4a98-bcaa-d373344c3c40"
      },
      "source": [
        "import matplotlib.pyplot as plt\n",
        "%matplotlib inline\n",
        "plt.imshow(x_train[0], cmap='gray')\n",
        "plt.title('Classe: ' + str( np.argmax(y_train[0] ) ))"
      ],
      "execution_count": 59,
      "outputs": [
        {
          "output_type": "execute_result",
          "data": {
            "text/plain": [
              "Text(0.5, 1.0, 'Classe: 5')"
            ]
          },
          "metadata": {
            "tags": []
          },
          "execution_count": 59
        },
        {
          "output_type": "display_data",
          "data": {
            "image/png": "[encoded data removed]",
            "text/plain": [
              "<Figure size 432x288 with 1 Axes>"
            ]
          },
          "metadata": {
            "tags": [],
            "needs_background": "light"
          }
        }
      ]
    },
    {
      "cell_type": "code",
      "metadata": {
        "id": "ZPs1Bq4cR9pw",
        "colab_type": "code",
        "colab": {
          "base_uri": "https://localhost:8080/",
          "height": 298
        },
        "outputId": "f2f91b56-ae8e-490b-f3fe-32aca252f0cc"
      },
      "source": [
        "plt.imshow(x_train[1])\n",
        "plt.title('Classe: ' + str( np.argmax(y_train[1] ) ))"
      ],
      "execution_count": 57,
      "outputs": [
        {
          "output_type": "execute_result",
          "data": {
            "text/plain": [
              "Text(0.5, 1.0, 'Classe: 0')"
            ]
          },
          "metadata": {
            "tags": []
          },
          "execution_count": 57
        },
        {
          "output_type": "display_data",
          "data": {
            "image/png": "[encoded data removed]",
            "text/plain": [
              "<Figure size 432x288 with 1 Axes>"
            ]
          },
          "metadata": {
            "tags": [],
            "needs_background": "light"
          }
        }
      ]
    },
    {
      "cell_type": "code",
      "metadata": {
        "id": "LZPBwnFXaTrc",
        "colab_type": "code",
        "colab": {}
      },
      "source": [
        "x_batch, y_batch = 128, 64"
      ],
      "execution_count": 0,
      "outputs": []
    },
    {
      "cell_type": "code",
      "metadata": {
        "id": "YvV4r3g6cb8A",
        "colab_type": "code",
        "colab": {
          "base_uri": "https://localhost:8080/",
          "height": 34
        },
        "outputId": "3abab505-d494-4b94-9eb0-02d1d7b3b6da"
      },
      "source": [
        "# 28 * 28 (shape image) -> 784px\n",
        "neurons_input = x_train.shape[1] * x_train.shape[2] # 784 neurons\n",
        "neurons_input"
      ],
      "execution_count": 67,
      "outputs": [
        {
          "output_type": "execute_result",
          "data": {
            "text/plain": [
              "784"
            ]
          },
          "metadata": {
            "tags": []
          },
          "execution_count": 67
        }
      ]
    },
    {
      "cell_type": "code",
      "metadata": {
        "id": "hmP17LeMiGfV",
        "colab_type": "code",
        "colab": {}
      },
      "source": [
        "# Formula to determine the total of neurons to layer:\n",
        "# total_neurons = (number_features_layer_input + number_features_layer_out) / 2\n",
        "neurons_first_layer_hidden = int(x_train.shape[1] * x_train.shape[2] + y_train.shape[1] / 2) \n",
        "neurons_second_layer_hidden = neurons_first_layer_hidden\n",
        "neurons_third_layer_hidden = neurons_first_layer_hidden\n",
        "\n",
        "# layer out\n",
        "neurons_layer_out = y_train.shape[1]\n",
        "\n",
        "# architecture neural network to mnist dataset\n",
        "# 784 -> 397 -> 397 -> 397 -> 10"
      ],
      "execution_count": 0,
      "outputs": []
    },
    {
      "cell_type": "code",
      "metadata": {
        "id": "e96NMiO0kIFg",
        "colab_type": "code",
        "colab": {}
      },
      "source": [
        "weights = {\n",
        "    'hidden1': tf.Variable(tf.random_normal([neurons_input, neurons_first_layer_hidden])),\n",
        "    'hidden2': tf.Variable(tf.random_normal([neurons_first_layer_hidden, neurons_second_layer_hidden])),\n",
        "    'hidden3': tf.Variable(tf.random_normal([neurons_second_layer_hidden, neurons_third_layer_hidden])),\n",
        "    'out': tf.Variable(tf.random_normal([neurons_third_layer_hidden, neurons_layer_out]))\n",
        "}"
      ],
      "execution_count": 0,
      "outputs": []
    },
    {
      "cell_type": "code",
      "metadata": {
        "id": "5EnnaKjGlQER",
        "colab_type": "code",
        "colab": {}
      },
      "source": [
        "bias = {\n",
        "    'hidden1': tf.Variable(tf.random_normal([neurons_first_layer_hidden])),\n",
        "    'hidden2': tf.Variable(tf.random_normal([neurons_second_layer_hidden])),\n",
        "    'hidden3': tf.Variable(tf.random_normal([neurons_third_layer_hidden])),\n",
        "    'out': tf.Variable(tf.random_normal([neurons_layer_out]))\n",
        "}"
      ],
      "execution_count": 0,
      "outputs": []
    },
    {
      "cell_type": "code",
      "metadata": {
        "id": "ud9jE5kXqR3p",
        "colab_type": "code",
        "colab": {}
      },
      "source": [
        "x_placeholder = tf.placeholder('float', [None, neurons_input])\n",
        "y_placeholder = tf.placeholder('float', [None, neurons_layer_out])"
      ],
      "execution_count": 0,
      "outputs": []
    },
    {
      "cell_type": "code",
      "metadata": {
        "id": "vTzFC4y0qoOf",
        "colab_type": "code",
        "colab": {}
      },
      "source": [
        "def mlp(x, weight, bias):\n",
        "  layer_hidden_1 =  tf.nn.relu( tf.add( tf.matmul(x, weight['hidden1']), bias['hidden1'] ) )\n",
        "  layer_hidden_2 =  tf.nn.relu( tf.add( tf.matmul(layer_hidden_1, weight['hidden2']), bias['hidden2'] ) )\n",
        "  layer_hidden_3 =  tf.nn.relu( tf.add( tf.matmul(layer_hidden_2, weight['hidden3']), bias['hidden3'] ) )\n",
        "  layer_out = tf.add( tf.matmul(layer_hidden_3, weight['out']), bias['out'] )\n",
        "  return layer_out"
      ],
      "execution_count": 0,
      "outputs": []
    },
    {
      "cell_type": "code",
      "metadata": {
        "id": "lY7NPBidsfB7",
        "colab_type": "code",
        "colab": {}
      },
      "source": [
        "model = mlp(x_placeholder, weights, bias)\n",
        "\n",
        "# cross entropy make the calculum better than the mean square error calculation in deep learning scenaries\n",
        "error = tf.reduce_mean( tf.nn.softmax_cross_entropy_with_logits_v2(logits= model, labels = y_placeholder) )\n",
        "optimizer = tf.train.AdamOptimizer(learning_rate = 0.0001).minimize(error)"
      ],
      "execution_count": 0,
      "outputs": []
    },
    {
      "cell_type": "code",
      "metadata": {
        "id": "UUPThCt1tmie",
        "colab_type": "code",
        "colab": {}
      },
      "source": [
        ""
      ],
      "execution_count": 0,
      "outputs": []
    }
  ]
}