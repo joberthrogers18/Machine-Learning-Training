{
  "nbformat": 4,
  "nbformat_minor": 0,
  "metadata": {
    "colab": {
      "name": "classification_multiclasse_iris.ipynb",
      "provenance": [],
      "collapsed_sections": []
    },
    "kernelspec": {
      "name": "python3",
      "display_name": "Python 3"
    }
  },
  "cells": [
    {
      "cell_type": "markdown",
      "metadata": {
        "id": "idlhJlMRrY_w",
        "colab_type": "text"
      },
      "source": [
        "## Pre processing"
      ]
    },
    {
      "cell_type": "code",
      "metadata": {
        "id": "5Oqgi_GIrb60",
        "colab_type": "code",
        "colab": {}
      },
      "source": [
        "from sklearn import datasets\n",
        "iris = datasets.load_iris()"
      ],
      "execution_count": 0,
      "outputs": []
    },
    {
      "cell_type": "code",
      "metadata": {
        "id": "hccvboD1dFNk",
        "colab_type": "code",
        "colab": {
          "base_uri": "https://localhost:8080/",
          "height": 34
        },
        "outputId": "3d758096-7682-484d-d08c-8d99eb4bec94"
      },
      "source": [
        "iris.target_names"
      ],
      "execution_count": 80,
      "outputs": [
        {
          "output_type": "execute_result",
          "data": {
            "text/plain": [
              "array(['setosa', 'versicolor', 'virginica'], dtype='<U10')"
            ]
          },
          "metadata": {
            "tags": []
          },
          "execution_count": 80
        }
      ]
    },
    {
      "cell_type": "code",
      "metadata": {
        "id": "YE9Agyd6f01d",
        "colab_type": "code",
        "colab": {}
      },
      "source": [
        "x = iris.data\n",
        "y = iris.target"
      ],
      "execution_count": 0,
      "outputs": []
    },
    {
      "cell_type": "code",
      "metadata": {
        "id": "B5BK1yHxf7EJ",
        "colab_type": "code",
        "colab": {
          "base_uri": "https://localhost:8080/",
          "height": 34
        },
        "outputId": "b0958912-a941-455a-8449-25b332c2a71d"
      },
      "source": [
        "from sklearn.preprocessing import StandardScaler\n",
        "\n",
        "# scaler the data\n",
        "scaler_x = StandardScaler()\n",
        "x = scaler_x.fit_transform(x)\n",
        "x.shape"
      ],
      "execution_count": 82,
      "outputs": [
        {
          "output_type": "execute_result",
          "data": {
            "text/plain": [
              "(150, 4)"
            ]
          },
          "metadata": {
            "tags": []
          },
          "execution_count": 82
        }
      ]
    },
    {
      "cell_type": "code",
      "metadata": {
        "id": "M_ePO-kkgUqO",
        "colab_type": "code",
        "colab": {
          "base_uri": "https://localhost:8080/",
          "height": 1000
        },
        "outputId": "19a3eb9b-2854-4de2-af6f-3cb406a314c9"
      },
      "source": [
        "from sklearn.preprocessing import OneHotEncoder, LabelEncoder\n",
        "\n",
        "from sklearn.compose import ColumnTransformer\n",
        "\n",
        "y = y.reshape(-1, 1)\n",
        "\n",
        "# divide the y in array of 3 items (possible items classify by the dataset)\n",
        "transformer = ColumnTransformer(\n",
        "    transformers=[\n",
        "        (\n",
        "          \"OneHot\",        # Just a name\n",
        "          OneHotEncoder(), # The transformer class\n",
        "          [0]              # The column(s) to be applied on.\n",
        "         )\n",
        "    ],\n",
        "    remainder='passthrough' # donot apply anything to the remaining columns\n",
        ")\n",
        "\n",
        "y = transformer.fit_transform(y)\n",
        "print(y)\n",
        "print(y.shape)"
      ],
      "execution_count": 83,
      "outputs": [
        {
          "output_type": "stream",
          "text": [
            "[[1. 0. 0.]\n",
            " [1. 0. 0.]\n",
            " [1. 0. 0.]\n",
            " [1. 0. 0.]\n",
            " [1. 0. 0.]\n",
            " [1. 0. 0.]\n",
            " [1. 0. 0.]\n",
            " [1. 0. 0.]\n",
            " [1. 0. 0.]\n",
            " [1. 0. 0.]\n",
            " [1. 0. 0.]\n",
            " [1. 0. 0.]\n",
            " [1. 0. 0.]\n",
            " [1. 0. 0.]\n",
            " [1. 0. 0.]\n",
            " [1. 0. 0.]\n",
            " [1. 0. 0.]\n",
            " [1. 0. 0.]\n",
            " [1. 0. 0.]\n",
            " [1. 0. 0.]\n",
            " [1. 0. 0.]\n",
            " [1. 0. 0.]\n",
            " [1. 0. 0.]\n",
            " [1. 0. 0.]\n",
            " [1. 0. 0.]\n",
            " [1. 0. 0.]\n",
            " [1. 0. 0.]\n",
            " [1. 0. 0.]\n",
            " [1. 0. 0.]\n",
            " [1. 0. 0.]\n",
            " [1. 0. 0.]\n",
            " [1. 0. 0.]\n",
            " [1. 0. 0.]\n",
            " [1. 0. 0.]\n",
            " [1. 0. 0.]\n",
            " [1. 0. 0.]\n",
            " [1. 0. 0.]\n",
            " [1. 0. 0.]\n",
            " [1. 0. 0.]\n",
            " [1. 0. 0.]\n",
            " [1. 0. 0.]\n",
            " [1. 0. 0.]\n",
            " [1. 0. 0.]\n",
            " [1. 0. 0.]\n",
            " [1. 0. 0.]\n",
            " [1. 0. 0.]\n",
            " [1. 0. 0.]\n",
            " [1. 0. 0.]\n",
            " [1. 0. 0.]\n",
            " [1. 0. 0.]\n",
            " [0. 1. 0.]\n",
            " [0. 1. 0.]\n",
            " [0. 1. 0.]\n",
            " [0. 1. 0.]\n",
            " [0. 1. 0.]\n",
            " [0. 1. 0.]\n",
            " [0. 1. 0.]\n",
            " [0. 1. 0.]\n",
            " [0. 1. 0.]\n",
            " [0. 1. 0.]\n",
            " [0. 1. 0.]\n",
            " [0. 1. 0.]\n",
            " [0. 1. 0.]\n",
            " [0. 1. 0.]\n",
            " [0. 1. 0.]\n",
            " [0. 1. 0.]\n",
            " [0. 1. 0.]\n",
            " [0. 1. 0.]\n",
            " [0. 1. 0.]\n",
            " [0. 1. 0.]\n",
            " [0. 1. 0.]\n",
            " [0. 1. 0.]\n",
            " [0. 1. 0.]\n",
            " [0. 1. 0.]\n",
            " [0. 1. 0.]\n",
            " [0. 1. 0.]\n",
            " [0. 1. 0.]\n",
            " [0. 1. 0.]\n",
            " [0. 1. 0.]\n",
            " [0. 1. 0.]\n",
            " [0. 1. 0.]\n",
            " [0. 1. 0.]\n",
            " [0. 1. 0.]\n",
            " [0. 1. 0.]\n",
            " [0. 1. 0.]\n",
            " [0. 1. 0.]\n",
            " [0. 1. 0.]\n",
            " [0. 1. 0.]\n",
            " [0. 1. 0.]\n",
            " [0. 1. 0.]\n",
            " [0. 1. 0.]\n",
            " [0. 1. 0.]\n",
            " [0. 1. 0.]\n",
            " [0. 1. 0.]\n",
            " [0. 1. 0.]\n",
            " [0. 1. 0.]\n",
            " [0. 1. 0.]\n",
            " [0. 1. 0.]\n",
            " [0. 1. 0.]\n",
            " [0. 1. 0.]\n",
            " [0. 0. 1.]\n",
            " [0. 0. 1.]\n",
            " [0. 0. 1.]\n",
            " [0. 0. 1.]\n",
            " [0. 0. 1.]\n",
            " [0. 0. 1.]\n",
            " [0. 0. 1.]\n",
            " [0. 0. 1.]\n",
            " [0. 0. 1.]\n",
            " [0. 0. 1.]\n",
            " [0. 0. 1.]\n",
            " [0. 0. 1.]\n",
            " [0. 0. 1.]\n",
            " [0. 0. 1.]\n",
            " [0. 0. 1.]\n",
            " [0. 0. 1.]\n",
            " [0. 0. 1.]\n",
            " [0. 0. 1.]\n",
            " [0. 0. 1.]\n",
            " [0. 0. 1.]\n",
            " [0. 0. 1.]\n",
            " [0. 0. 1.]\n",
            " [0. 0. 1.]\n",
            " [0. 0. 1.]\n",
            " [0. 0. 1.]\n",
            " [0. 0. 1.]\n",
            " [0. 0. 1.]\n",
            " [0. 0. 1.]\n",
            " [0. 0. 1.]\n",
            " [0. 0. 1.]\n",
            " [0. 0. 1.]\n",
            " [0. 0. 1.]\n",
            " [0. 0. 1.]\n",
            " [0. 0. 1.]\n",
            " [0. 0. 1.]\n",
            " [0. 0. 1.]\n",
            " [0. 0. 1.]\n",
            " [0. 0. 1.]\n",
            " [0. 0. 1.]\n",
            " [0. 0. 1.]\n",
            " [0. 0. 1.]\n",
            " [0. 0. 1.]\n",
            " [0. 0. 1.]\n",
            " [0. 0. 1.]\n",
            " [0. 0. 1.]\n",
            " [0. 0. 1.]\n",
            " [0. 0. 1.]\n",
            " [0. 0. 1.]\n",
            " [0. 0. 1.]\n",
            " [0. 0. 1.]]\n",
            "(150, 3)\n"
          ],
          "name": "stdout"
        }
      ]
    },
    {
      "cell_type": "code",
      "metadata": {
        "id": "SmRMb3_Uhx7y",
        "colab_type": "code",
        "colab": {
          "base_uri": "https://localhost:8080/",
          "height": 51
        },
        "outputId": "d4cbaebf-e756-44ab-dfd9-0c0c3540c778"
      },
      "source": [
        "from sklearn.model_selection import train_test_split\n",
        "x_training, x_test, y_training, y_test = train_test_split(x, y, test_size=0.3)\n",
        "print(x_training.shape)\n",
        "print(x_test.shape)"
      ],
      "execution_count": 85,
      "outputs": [
        {
          "output_type": "stream",
          "text": [
            "(105, 4)\n",
            "(45, 4)\n"
          ],
          "name": "stdout"
        }
      ]
    },
    {
      "cell_type": "markdown",
      "metadata": {
        "id": "jajb4MErrLox",
        "colab_type": "text"
      },
      "source": [
        "## Manipulate"
      ]
    },
    {
      "cell_type": "code",
      "metadata": {
        "id": "ckSZ2m6ErjUK",
        "colab_type": "code",
        "colab": {
          "base_uri": "https://localhost:8080/",
          "height": 88
        },
        "outputId": "ae7a5f3c-cb4a-40df-d7dc-b7e318564284"
      },
      "source": [
        "import tensorflow.compat.v1 as tf\n",
        "tf.disable_v2_behavior()\n",
        "import numpy as np"
      ],
      "execution_count": 93,
      "outputs": [
        {
          "output_type": "stream",
          "text": [
            "WARNING:tensorflow:From /usr/local/lib/python3.6/dist-packages/tensorflow/python/compat/v2_compat.py:96: disable_resource_variables (from tensorflow.python.ops.variable_scope) is deprecated and will be removed in a future version.\n",
            "Instructions for updating:\n",
            "non-resource variables are not supported in the long term\n"
          ],
          "name": "stdout"
        }
      ]
    },
    {
      "cell_type": "code",
      "metadata": {
        "id": "TVwLd-Bfrn6-",
        "colab_type": "code",
        "colab": {}
      },
      "source": [
        "neurons_input = x.shape[1] # 4\n",
        "neurons_hidden = int( np.ceil( (x.shape[1] + y.shape[1]) / 2 ) ) # 4\n",
        "neurons_out = y.shape[1] # 3"
      ],
      "execution_count": 0,
      "outputs": []
    },
    {
      "cell_type": "code",
      "metadata": {
        "id": "nYz-NK9qsJjv",
        "colab_type": "code",
        "colab": {}
      },
      "source": [
        "weights = { \n",
        "    'hidden': tf.Variable(tf.random_normal([neurons_input, neurons_hidden])),\n",
        "    'out':  tf.Variable(tf.random_normal([neurons_hidden, neurons_out]))\n",
        "    }"
      ],
      "execution_count": 0,
      "outputs": []
    },
    {
      "cell_type": "code",
      "metadata": {
        "id": "cAr0H8drtkAk",
        "colab_type": "code",
        "colab": {}
      },
      "source": [
        "bias = {\n",
        "    'hidden': tf.Variable(tf.random_normal([neurons_hidden])),\n",
        "    'out': tf.Variable(tf.random_normal([neurons_out]))\n",
        "}"
      ],
      "execution_count": 0,
      "outputs": []
    },
    {
      "cell_type": "code",
      "metadata": {
        "id": "qwAYOBQjuJtN",
        "colab_type": "code",
        "colab": {}
      },
      "source": [
        "x_placeholder = tf.placeholder('float', [None, neurons_input])\n",
        "y_placeholder = tf.placeholder('float', [None, neurons_out])"
      ],
      "execution_count": 0,
      "outputs": []
    },
    {
      "cell_type": "code",
      "metadata": {
        "id": "hF7h_9aduaYz",
        "colab_type": "code",
        "colab": {}
      },
      "source": [
        "def ml_calculation(x, weights, bias):\n",
        "  layer_hidden = tf.add( tf.matmul(x, weights['hidden']), bias['hidden'])\n",
        "  layer_hidden_active = tf.nn.relu(layer_hidden)\n",
        "  layer_out = tf.add( tf.matmul(layer_hidden_active, weights['out']), bias['out'] )\n",
        "  return layer_out"
      ],
      "execution_count": 0,
      "outputs": []
    },
    {
      "cell_type": "code",
      "metadata": {
        "id": "0m2e6VyzuuYk",
        "colab_type": "code",
        "colab": {}
      },
      "source": [
        "model = ml_calculation( x_placeholder, weights, bias )"
      ],
      "execution_count": 0,
      "outputs": []
    },
    {
      "cell_type": "code",
      "metadata": {
        "id": "ShanovgOwdrz",
        "colab_type": "code",
        "colab": {}
      },
      "source": [
        "error = tf.reduce_mean( tf.nn.softmax_cross_entropy_with_logits_v2(logits = model, labels = y_placeholder ) )\n",
        "optmizer = tf.train.AdamOptimizer(learning_rate= 0.0001).minimize(error)"
      ],
      "execution_count": 0,
      "outputs": []
    },
    {
      "cell_type": "code",
      "metadata": {
        "id": "7funi-0Dx2Uh",
        "colab_type": "code",
        "colab": {}
      },
      "source": [
        "batch_size = 8\n",
        "batch_total = int(len(x_training) / batch_size)"
      ],
      "execution_count": 0,
      "outputs": []
    },
    {
      "cell_type": "code",
      "metadata": {
        "id": "eVjqN55CyO_M",
        "colab_type": "code",
        "colab": {
          "base_uri": "https://localhost:8080/",
          "height": 1000
        },
        "outputId": "f868dcad-ee1b-4e82-bb26-ec8702583e6c"
      },
      "source": [
        "x_batches = np.array_split(x_training, batch_total)\n",
        "x_batches"
      ],
      "execution_count": 107,
      "outputs": [
        {
          "output_type": "execute_result",
          "data": {
            "text/plain": [
              "[array([[-9.00681170e-01,  7.88807586e-01, -1.28338910e+00,\n",
              "         -1.31544430e+00],\n",
              "        [ 7.95669016e-01, -1.31979479e-01,  9.90107977e-01,\n",
              "          7.90670654e-01],\n",
              "        [ 5.53333275e-01, -1.74335684e+00,  3.64896281e-01,\n",
              "          1.32509732e-01],\n",
              "        [ 5.53333275e-01, -1.28296331e+00,  7.05920842e-01,\n",
              "          9.22302838e-01],\n",
              "        [ 1.03800476e+00,  5.58610819e-01,  1.10378283e+00,\n",
              "          1.18556721e+00],\n",
              "        [ 3.10997534e-01, -5.92373012e-01,  5.35408562e-01,\n",
              "          8.77547895e-04],\n",
              "        [-4.16009689e-01, -1.51316008e+00,  2.38717193e-02,\n",
              "         -1.30754636e-01],\n",
              "        [-7.79513300e-01,  2.40018495e+00, -1.28338910e+00,\n",
              "         -1.44707648e+00],\n",
              "        [ 1.89829664e-01, -8.22569778e-01,  7.62758269e-01,\n",
              "          5.27406285e-01]]),\n",
              " array([[ 1.03800476, -0.13197948,  0.70592084,  0.65903847],\n",
              "        [ 0.18982966, -0.13197948,  0.59224599,  0.79067065],\n",
              "        [-1.74885626,  0.32841405, -1.39706395, -1.3154443 ],\n",
              "        [ 0.67450115, -0.59237301,  1.0469454 ,  1.31719939],\n",
              "        [ 1.03800476, -1.28296331,  1.16062026,  0.79067065],\n",
              "        [ 1.2803405 ,  0.32841405,  1.10378283,  1.44883158],\n",
              "        [ 0.67450115, -0.82256978,  0.87643312,  0.92230284],\n",
              "        [-0.90068117,  0.55861082, -1.16971425, -0.92054774]]),\n",
              " array([[-1.02184904,  1.24920112, -1.34022653, -1.3154443 ],\n",
              "        [ 1.52267624, -0.13197948,  1.21745768,  1.18556721],\n",
              "        [ 0.06866179, -0.13197948,  0.76275827,  0.79067065],\n",
              "        [-0.41600969,  2.63038172, -1.34022653, -1.3154443 ],\n",
              "        [ 0.31099753, -1.05276654,  1.0469454 ,  0.26414192],\n",
              "        [ 0.67450115, -0.36217625,  0.30805885,  0.13250973],\n",
              "        [-1.26418478,  0.09821729, -1.22655167, -1.3154443 ],\n",
              "        [ 0.79566902, -0.13197948,  1.16062026,  1.31719939]]),\n",
              " array([[ 1.15917263,  0.32841405,  1.21745768,  1.44883158],\n",
              "        [ 1.64384411,  1.24920112,  1.33113254,  1.71209594],\n",
              "        [-0.90068117,  1.70959465, -1.05603939, -1.05217993],\n",
              "        [ 1.03800476, -0.13197948,  0.8195957 ,  1.44883158],\n",
              "        [-0.29484182, -0.59237301,  0.64908342,  1.05393502],\n",
              "        [-0.05250608, -0.82256978,  0.194384  , -0.26238682],\n",
              "        [ 0.4321654 , -1.97355361,  0.42173371,  0.3957741 ],\n",
              "        [-1.74885626, -0.13197948, -1.39706395, -1.3154443 ]]),\n",
              " array([[-1.26418478, -0.13197948, -1.34022653, -1.18381211],\n",
              "        [-1.87002413, -0.13197948, -1.51073881, -1.44707648],\n",
              "        [ 0.91683689, -0.13197948,  0.36489628,  0.26414192],\n",
              "        [-1.02184904,  0.32841405, -1.45390138, -1.3154443 ],\n",
              "        [-0.17367395, -0.59237301,  0.42173371,  0.13250973],\n",
              "        [ 0.91683689, -0.36217625,  0.47857113,  0.13250973],\n",
              "        [ 0.18982966, -1.97355361,  0.70592084,  0.3957741 ],\n",
              "        [-1.02184904, -0.13197948, -1.22655167, -1.3154443 ]]),\n",
              " array([[-5.37177559e-01,  1.47939788e+00, -1.28338910e+00,\n",
              "         -1.31544430e+00],\n",
              "        [-1.73673948e-01, -5.92373012e-01,  1.94384000e-01,\n",
              "          1.32509732e-01],\n",
              "        [ 1.03800476e+00,  5.58610819e-01,  1.10378283e+00,\n",
              "          1.71209594e+00],\n",
              "        [-1.73673948e-01, -3.62176246e-01,  2.51221427e-01,\n",
              "          1.32509732e-01],\n",
              "        [-9.00681170e-01,  1.47939788e+00, -1.28338910e+00,\n",
              "         -1.05217993e+00],\n",
              "        [-4.16009689e-01,  1.01900435e+00, -1.39706395e+00,\n",
              "         -1.31544430e+00],\n",
              "        [-4.16009689e-01, -1.05276654e+00,  3.64896281e-01,\n",
              "          8.77547895e-04],\n",
              "        [-1.73673948e-01,  1.70959465e+00, -1.16971425e+00,\n",
              "         -1.18381211e+00]]),\n",
              " array([[ 0.55333328, -1.28296331,  0.64908342,  0.3957741 ],\n",
              "        [ 2.12851559, -0.13197948,  1.61531967,  1.18556721],\n",
              "        [-0.29484182, -1.28296331,  0.08070915, -0.13075464],\n",
              "        [-1.14301691,  1.24920112, -1.34022653, -1.44707648],\n",
              "        [-1.02184904,  1.01900435, -1.22655167, -0.78891556],\n",
              "        [-0.05250608,  2.16998818, -1.45390138, -1.3154443 ],\n",
              "        [ 0.55333328, -0.36217625,  1.0469454 ,  0.79067065],\n",
              "        [ 1.03800476,  0.09821729,  0.36489628,  0.26414192]]),\n",
              " array([[-7.79513300e-01, -8.22569778e-01,  8.07091462e-02,\n",
              "          2.64141916e-01],\n",
              "        [ 4.32165405e-01, -3.62176246e-01,  3.08058854e-01,\n",
              "          1.32509732e-01],\n",
              "        [-1.62768839e+00, -1.74335684e+00, -1.39706395e+00,\n",
              "         -1.18381211e+00],\n",
              "        [-1.26418478e+00,  7.88807586e-01, -1.22655167e+00,\n",
              "         -1.31544430e+00],\n",
              "        [ 7.95669016e-01, -1.31979479e-01,  8.19595696e-01,\n",
              "          1.05393502e+00],\n",
              "        [ 1.64384411e+00,  3.28414053e-01,  1.27429511e+00,\n",
              "          7.90670654e-01],\n",
              "        [-9.00681170e-01,  1.70959465e+00, -1.28338910e+00,\n",
              "         -1.18381211e+00],\n",
              "        [-5.25060772e-02, -1.05276654e+00,  1.37546573e-01,\n",
              "          8.77547895e-04]]),\n",
              " array([[ 0.31099753, -0.59237301,  0.13754657,  0.13250973],\n",
              "        [ 0.4321654 ,  0.78880759,  0.93327055,  1.44883158],\n",
              "        [-0.7795133 ,  1.01900435, -1.2833891 , -1.3154443 ],\n",
              "        [-0.65834543,  1.47939788, -1.2833891 , -1.3154443 ],\n",
              "        [-1.14301691, -1.28296331,  0.42173371,  0.65903847],\n",
              "        [-1.50652052,  0.09821729, -1.2833891 , -1.3154443 ],\n",
              "        [-0.53717756,  0.78880759, -1.2833891 , -1.05217993],\n",
              "        [-1.02184904,  1.01900435, -1.39706395, -1.18381211]]),\n",
              " array([[-1.50652052,  0.32841405, -1.34022653, -1.3154443 ],\n",
              "        [-0.41600969, -1.28296331,  0.13754657,  0.13250973],\n",
              "        [ 0.31099753, -0.13197948,  0.47857113,  0.26414192],\n",
              "        [ 0.06866179,  0.32841405,  0.59224599,  0.79067065],\n",
              "        [ 0.4321654 , -0.59237301,  0.59224599,  0.79067065],\n",
              "        [-0.29484182, -0.13197948,  0.194384  ,  0.13250973],\n",
              "        [-0.41600969, -1.51316008, -0.03296571, -0.26238682],\n",
              "        [ 1.64384411, -0.13197948,  1.16062026,  0.52740629]]),\n",
              " array([[-1.14301691,  0.09821729, -1.2833891 , -1.44707648],\n",
              "        [-1.26418478, -0.13197948, -1.34022653, -1.44707648],\n",
              "        [ 1.15917263, -0.59237301,  0.59224599,  0.26414192],\n",
              "        [ 1.03800476,  0.09821729,  1.0469454 ,  1.58046376],\n",
              "        [-0.53717756,  1.93979142, -1.39706395, -1.05217993],\n",
              "        [-0.05250608, -0.82256978,  0.76275827,  0.92230284],\n",
              "        [ 0.55333328,  0.78880759,  1.0469454 ,  1.58046376],\n",
              "        [ 0.18982966, -1.97355361,  0.13754657, -0.26238682]]),\n",
              " array([[ 2.4920192 ,  1.70959465,  1.50164482,  1.05393502],\n",
              "        [-0.41600969, -1.74335684,  0.13754657,  0.13250973],\n",
              "        [ 1.03800476,  0.09821729,  0.53540856,  0.3957741 ],\n",
              "        [-0.53717756, -0.13197948,  0.42173371,  0.3957741 ],\n",
              "        [-0.7795133 ,  0.78880759, -1.34022653, -1.3154443 ],\n",
              "        [ 0.55333328,  0.55861082,  1.27429511,  1.71209594],\n",
              "        [-0.05250608, -0.59237301,  0.76275827,  1.58046376],\n",
              "        [ 0.67450115, -0.59237301,  1.0469454 ,  1.18556721]]),\n",
              " array([[-0.29484182, -0.82256978,  0.25122143,  0.13250973],\n",
              "        [-1.14301691, -1.51316008, -0.26031542, -0.26238682],\n",
              "        [-1.02184904,  0.78880759, -1.22655167, -1.05217993],\n",
              "        [-0.17367395, -1.28296331,  0.70592084,  1.05393502],\n",
              "        [ 1.2803405 ,  0.09821729,  0.93327055,  1.18556721],\n",
              "        [ 0.55333328,  0.55861082,  0.53540856,  0.52740629],\n",
              "        [ 1.2803405 ,  0.09821729,  0.64908342,  0.3957741 ],\n",
              "        [ 0.79566902,  0.32841405,  0.76275827,  1.05393502]])]"
            ]
          },
          "metadata": {
            "tags": []
          },
          "execution_count": 107
        }
      ]
    },
    {
      "cell_type": "code",
      "metadata": {
        "id": "AI2aQQ9qyXxl",
        "colab_type": "code",
        "colab": {
          "base_uri": "https://localhost:8080/",
          "height": 119
        },
        "outputId": "c7272d26-0668-452b-866f-4b0421556840"
      },
      "source": [
        "with tf.Session() as sess:\n",
        "  sess.run(tf.global_variables_initializer())\n",
        "  for epoch in range(3000):\n",
        "    error_medium = 0.0\n",
        "    batch_total = int(len(x_training) / batch_size)\n",
        "    x_batches = np.array_split(x_training, batch_total)\n",
        "    y_batches = np.array_split(y_training, batch_total)\n",
        "\n",
        "    for i in range(batch_total):\n",
        "        x_batch, y_batch = x_batches[i], y_batches[i] \n",
        "        _, cost = sess.run([optmizer, error], feed_dict= { x_placeholder: x_batch, y_placeholder: y_batch })\n",
        "        error_medium += cost / batch_total\n",
        "\n",
        "    if epoch % 500 == 0:\n",
        "      print('Epoch ' + str(epoch + 1) + ' erro: ' + str(error_medium) )\n",
        "\n",
        "    weights_final, bias_final = sess.run([weights, bias])"
      ],
      "execution_count": 115,
      "outputs": [
        {
          "output_type": "stream",
          "text": [
            "Epoch 1 erro: 3.359417365147517\n",
            "Epoch 501 erro: 0.5123579318706806\n",
            "Epoch 1001 erro: 0.21379451396373603\n",
            "Epoch 1501 erro: 0.13599830521987036\n",
            "Epoch 2001 erro: 0.0976528935134411\n",
            "Epoch 2501 erro: 0.07697608629957987\n"
          ],
          "name": "stdout"
        }
      ]
    },
    {
      "cell_type": "code",
      "metadata": {
        "id": "EIySFKbvz_64",
        "colab_type": "code",
        "colab": {
          "base_uri": "https://localhost:8080/",
          "height": 153
        },
        "outputId": "6837a5a3-020a-4eb1-a8a7-857b13ddffed"
      },
      "source": [
        "weights_final"
      ],
      "execution_count": 116,
      "outputs": [
        {
          "output_type": "execute_result",
          "data": {
            "text/plain": [
              "{'hidden': array([[ 0.50816065, -0.37102714,  0.29878032, -0.4987421 ],\n",
              "        [-0.41746983,  0.09131236, -1.1371527 , -0.00811028],\n",
              "        [ 0.6669909 ,  0.90253955,  0.9577407 ,  2.0503838 ],\n",
              "        [ 1.6259292 , -0.5280943 ,  1.110857  ,  1.9781266 ]],\n",
              "       dtype=float32), 'out': array([[-2.6152174 ,  0.8801336 ,  0.19901493],\n",
              "        [ 1.2691445 ,  0.7342005 , -1.7732584 ],\n",
              "        [-1.6194898 , -0.86946744,  0.25947464],\n",
              "        [-1.9328493 , -1.6720581 ,  1.499492  ]], dtype=float32)}"
            ]
          },
          "metadata": {
            "tags": []
          },
          "execution_count": 116
        }
      ]
    },
    {
      "cell_type": "code",
      "metadata": {
        "id": "Z_ihimUc1m1a",
        "colab_type": "code",
        "colab": {
          "base_uri": "https://localhost:8080/",
          "height": 51
        },
        "outputId": "f91d22c4-62ab-4db7-8573-9446485d5728"
      },
      "source": [
        "bias_final"
      ],
      "execution_count": 118,
      "outputs": [
        {
          "output_type": "execute_result",
          "data": {
            "text/plain": [
              "{'hidden': array([ 3.1060872 ,  1.2999556 , -0.16372363, -0.70950305], dtype=float32),\n",
              " 'out': array([ 3.8171055 , -0.88643736, -1.2231512 ], dtype=float32)}"
            ]
          },
          "metadata": {
            "tags": []
          },
          "execution_count": 118
        }
      ]
    },
    {
      "cell_type": "code",
      "metadata": {
        "id": "7ItqH4HW1n-l",
        "colab_type": "code",
        "colab": {}
      },
      "source": [
        "# previsions\n",
        "previsions_test = ml_calculation(x_placeholder, weights_final, bias_final)\n",
        "with tf.Session() as sess:\n",
        "  sess.run(tf.global_variables_initializer())\n",
        "  r1 = sess.run(previsions_test, feed_dict={x_placeholder: x_test})\n",
        "  r_softmax = sess.run(tf.nn.softmax(r1))\n",
        "\n",
        "  # the greater value\n",
        "  result_final = sess.run(tf.argmax(r_softmax, 1))"
      ],
      "execution_count": 0,
      "outputs": []
    },
    {
      "cell_type": "code",
      "metadata": {
        "id": "2BP5YUt72G_G",
        "colab_type": "code",
        "colab": {
          "base_uri": "https://localhost:8080/",
          "height": 782
        },
        "outputId": "38aea952-d783-4e8d-88cc-a1137a90fecb"
      },
      "source": [
        "r1"
      ],
      "execution_count": 122,
      "outputs": [
        {
          "output_type": "execute_result",
          "data": {
            "text/plain": [
              "array([[-8.5984116e+00,  1.6436393e+00, -1.6031038e+00],\n",
              "       [ 5.1420417e+00, -1.1996138e-01, -3.0743623e+00],\n",
              "       [-3.5196302e+00,  2.6926806e+00, -2.6890464e+00],\n",
              "       [ 5.3100348e+00, -2.2777498e-02, -3.3090830e+00],\n",
              "       [-7.0150080e+00,  1.8403435e+00, -1.2681807e+00],\n",
              "       [-1.7859756e+01, -1.7623248e+00,  2.0119379e+00],\n",
              "       [-7.7864790e+00,  1.2685833e+00, -1.4006363e+00],\n",
              "       [-7.2238598e+00,  2.0543237e+00, -1.6847441e+00],\n",
              "       [ 5.3363552e+00, -7.5510740e-03, -3.3458583e+00],\n",
              "       [ 5.4281368e+00,  4.5544624e-02, -3.4740963e+00],\n",
              "       [-3.0500991e+00,  1.7020407e+00, -2.9548423e+00],\n",
              "       [-5.4002886e+00,  1.2740853e+00, -2.7204690e+00],\n",
              "       [ 5.3593302e+00,  5.7399869e-03, -3.3779593e+00],\n",
              "       [-2.4411128e+00,  1.9477499e+00, -2.6904294e+00],\n",
              "       [-1.2401597e+01,  5.5374902e-01, -4.3842107e-01],\n",
              "       [-1.5998790e+01, -8.3097070e-01,  1.3955231e+00],\n",
              "       [ 5.5260096e+00,  1.0216397e-01, -3.6108446e+00],\n",
              "       [-1.6576357e+01, -5.4105490e-01,  1.2605367e+00],\n",
              "       [-2.7808001e+01, -2.9656322e+00,  5.2663593e+00],\n",
              "       [-3.1256812e+00,  2.1527495e+00, -2.7568269e+00],\n",
              "       [-2.1508074e+01, -1.9050815e+00,  3.3483896e+00],\n",
              "       [ 5.4387174e+00,  5.1665604e-02, -3.4888797e+00],\n",
              "       [-2.9428337e+00,  2.9728386e+00, -3.3315749e+00],\n",
              "       [-2.1538546e+01, -2.4529960e+00,  4.0287342e+00],\n",
              "       [ 5.4071689e+00,  3.3414662e-02, -3.4447997e+00],\n",
              "       [-1.0984173e+01,  1.5910554e+00, -9.4418585e-01],\n",
              "       [ 5.8256435e+00,  2.7550226e-01, -4.0294952e+00],\n",
              "       [ 5.4511118e+00,  5.8835804e-02, -3.5061975e+00],\n",
              "       [-2.7139650e+01, -3.0401886e+00,  4.3705783e+00],\n",
              "       [-3.3409744e+01, -4.9812059e+00,  6.6184692e+00],\n",
              "       [-4.9587536e+00,  2.4160962e+00, -2.6493578e+00],\n",
              "       [ 5.6340313e+00,  1.6465467e-01, -3.7617738e+00],\n",
              "       [ 5.2674046e+00, -4.7439039e-02, -3.2495198e+00],\n",
              "       [ 5.3556280e+00,  3.5983920e-03, -3.3727868e+00],\n",
              "       [-7.6546535e+00,  2.3177540e+00, -1.5688734e+00],\n",
              "       [ 5.5658689e+00,  1.2522286e-01, -3.6665368e+00],\n",
              "       [-9.1316490e+00,  1.4700227e+00, -1.2305130e+00],\n",
              "       [-2.3187204e+01, -1.8603036e+00,  3.1113591e+00],\n",
              "       [-7.9209557e+00,  2.9451365e+00, -1.8877109e+00],\n",
              "       [ 5.5949597e+00,  1.4205188e-01, -3.7071829e+00],\n",
              "       [-2.2860321e+01, -2.2748256e+00,  4.2878647e+00],\n",
              "       [-2.1628614e+01, -1.7066200e+00,  2.5901458e+00],\n",
              "       [-1.4139920e+01, -2.3784226e-01,  8.5767269e-01],\n",
              "       [-2.2348726e+01, -1.8184822e+00,  3.9987011e+00],\n",
              "       [ 5.3530960e+00,  2.1334291e-03, -3.3692484e+00]], dtype=float32)"
            ]
          },
          "metadata": {
            "tags": []
          },
          "execution_count": 122
        }
      ]
    },
    {
      "cell_type": "code",
      "metadata": {
        "id": "ZyK96nq22Pw7",
        "colab_type": "code",
        "colab": {
          "base_uri": "https://localhost:8080/",
          "height": 782
        },
        "outputId": "f7641d85-3a71-40cd-f34f-4913b383ddb9"
      },
      "source": [
        "r_softmax"
      ],
      "execution_count": 125,
      "outputs": [
        {
          "output_type": "execute_result",
          "data": {
            "text/plain": [
              "array([[3.4304001e-05, 9.6252286e-01, 3.7442811e-02],\n",
              "       [9.9457461e-01, 5.1567792e-03, 2.6871904e-04],\n",
              "       [1.9914473e-03, 9.9343878e-01, 4.5696893e-03],\n",
              "       [9.9501389e-01, 4.8063807e-03, 1.7971895e-04],\n",
              "       [1.3650001e-04, 9.5711243e-01, 4.2751167e-02],\n",
              "       [2.2907443e-09, 2.2438945e-02, 9.7756106e-01],\n",
              "       [1.0921615e-04, 9.3508363e-01, 6.4807184e-02],\n",
              "       [9.1262344e-05, 9.7668672e-01, 2.3221955e-02],\n",
              "       [9.9507755e-01, 4.7536572e-03, 1.6874053e-04],\n",
              "       [9.9529028e-01, 4.5742476e-03, 1.3544377e-04],\n",
              "       [8.4794741e-03, 9.8219359e-01, 9.3269236e-03],\n",
              "       [1.2384916e-03, 9.8070121e-01, 1.8060252e-02],\n",
              "       [9.9513215e-01, 4.7081052e-03, 1.5970708e-04],\n",
              "       [1.2146524e-02, 9.7838736e-01, 9.4661890e-03],\n",
              "       [1.7242448e-06, 7.2951508e-01, 2.7048320e-01],\n",
              "       [2.5190834e-08, 9.7396433e-02, 9.0260357e-01],\n",
              "       [9.9550253e-01, 4.3903193e-03, 1.0714133e-04],\n",
              "       [1.5388505e-08, 1.4165743e-01, 8.5834259e-01],\n",
              "       [4.3238694e-15, 2.6593526e-04, 9.9973410e-01],\n",
              "       [5.0375783e-03, 9.8767775e-01, 7.2847279e-03],\n",
              "       [1.5948121e-11, 5.2021299e-03, 9.9479783e-01],\n",
              "       [9.9531388e-01, 4.5540030e-03, 1.3205473e-04],\n",
              "       [2.6846977e-03, 9.9549532e-01, 1.8199821e-03],\n",
              "       [7.8633393e-12, 1.5288179e-03, 9.9847120e-01],\n",
              "       [9.9524301e-01, 4.6146358e-03, 1.4241901e-04],\n",
              "       [3.2027831e-06, 9.2657280e-01, 7.3424049e-02],\n",
              "       [9.9607605e-01, 3.8716558e-03, 5.2270916e-05],\n",
              "       [9.9534142e-01, 4.5303991e-03, 1.2819229e-04],\n",
              "       [2.0654699e-14, 6.0434145e-04, 9.9939561e-01],\n",
              "       [4.1301310e-18, 9.1689808e-06, 9.9999082e-01],\n",
              "       [6.2250200e-04, 9.9310994e-01, 6.2675616e-03],\n",
              "       [9.9572146e-01, 4.1958294e-03, 8.2716368e-05],\n",
              "       [9.9490792e-01, 4.8930044e-03, 1.9903517e-04],\n",
              "       [9.9512345e-01, 4.7154156e-03, 1.6112937e-04],\n",
              "       [4.5729830e-05, 9.7985327e-01, 2.0101117e-02],\n",
              "       [9.9558496e-01, 4.3175337e-03, 9.7385768e-05],\n",
              "       [2.3308221e-05, 9.3703634e-01, 6.2940277e-02],\n",
              "       [3.7642567e-12, 6.8838978e-03, 9.9311608e-01],\n",
              "       [1.8943612e-05, 9.9208039e-01, 7.9007410e-03],\n",
              "       [9.9564409e-01, 4.2651691e-03, 9.0831127e-05],\n",
              "       [1.6183780e-12, 1.4100906e-03, 9.9858993e-01],\n",
              "       [2.9926398e-11, 1.3429701e-02, 9.8657030e-01],\n",
              "       [2.2980140e-07, 2.5058115e-01, 7.4941868e-01],\n",
              "       [3.5988781e-12, 2.9671451e-03, 9.9703288e-01],\n",
              "       [9.9511743e-01, 4.7204215e-03, 1.6210944e-04]], dtype=float32)"
            ]
          },
          "metadata": {
            "tags": []
          },
          "execution_count": 125
        }
      ]
    },
    {
      "cell_type": "code",
      "metadata": {
        "id": "dtgk-SJ02dm9",
        "colab_type": "code",
        "colab": {
          "base_uri": "https://localhost:8080/",
          "height": 68
        },
        "outputId": "8be70c52-f3a7-4321-8da5-929569607f09"
      },
      "source": [
        "result_final"
      ],
      "execution_count": 127,
      "outputs": [
        {
          "output_type": "execute_result",
          "data": {
            "text/plain": [
              "array([1, 0, 1, 0, 1, 2, 1, 1, 0, 0, 1, 1, 0, 1, 1, 2, 0, 2, 2, 1, 2, 0,\n",
              "       1, 2, 0, 1, 0, 0, 2, 2, 1, 0, 0, 0, 1, 0, 1, 2, 1, 0, 2, 2, 2, 2,\n",
              "       0])"
            ]
          },
          "metadata": {
            "tags": []
          },
          "execution_count": 127
        }
      ]
    },
    {
      "cell_type": "code",
      "metadata": {
        "id": "sCB3S3l72998",
        "colab_type": "code",
        "colab": {
          "base_uri": "https://localhost:8080/",
          "height": 68
        },
        "outputId": "9a6ba218-6e87-4660-9604-b1f71667f355"
      },
      "source": [
        "y_test2 = np.argmax(y_test, 1)\n",
        "y_test2"
      ],
      "execution_count": 129,
      "outputs": [
        {
          "output_type": "execute_result",
          "data": {
            "text/plain": [
              "array([1, 0, 1, 0, 1, 2, 1, 1, 0, 0, 1, 1, 0, 1, 2, 2, 0, 2, 2, 1, 2, 0,\n",
              "       1, 2, 0, 1, 0, 0, 2, 2, 1, 0, 0, 0, 1, 0, 1, 2, 1, 0, 2, 2, 2, 2,\n",
              "       0])"
            ]
          },
          "metadata": {
            "tags": []
          },
          "execution_count": 129
        }
      ]
    },
    {
      "cell_type": "code",
      "metadata": {
        "id": "rLuaiC9C3M-P",
        "colab_type": "code",
        "colab": {
          "base_uri": "https://localhost:8080/",
          "height": 34
        },
        "outputId": "352db72a-3fa4-4e4e-a32e-e79c39e534d9"
      },
      "source": [
        "from sklearn.metrics import accuracy_score\n",
        "rate_acc = accuracy_score(y_test2, result_final)\n",
        "rate_acc"
      ],
      "execution_count": 131,
      "outputs": [
        {
          "output_type": "execute_result",
          "data": {
            "text/plain": [
              "0.9777777777777777"
            ]
          },
          "metadata": {
            "tags": []
          },
          "execution_count": 131
        }
      ]
    },
    {
      "cell_type": "code",
      "metadata": {
        "id": "hzwecRIr3egx",
        "colab_type": "code",
        "colab": {}
      },
      "source": [
        ""
      ],
      "execution_count": 0,
      "outputs": []
    }
  ]
}