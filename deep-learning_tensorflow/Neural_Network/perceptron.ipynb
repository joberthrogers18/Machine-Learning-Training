{
  "nbformat": 4,
  "nbformat_minor": 0,
  "metadata": {
    "colab": {
      "name": "perceptron.ipynb",
      "provenance": [],
      "collapsed_sections": []
    },
    "kernelspec": {
      "name": "python3",
      "display_name": "Python 3"
    }
  },
  "cells": [
    {
      "cell_type": "markdown",
      "metadata": {
        "id": "4bHKw9vce39J",
        "colab_type": "text"
      },
      "source": [
        "## Simple Perceptron"
      ]
    },
    {
      "cell_type": "code",
      "metadata": {
        "id": "D747whD_d9o0",
        "colab_type": "code",
        "colab": {}
      },
      "source": [
        "import tensorflow.compat.v1 as tf\n",
        "import numpy as np\n",
        "tf.disable_v2_behavior()"
      ],
      "execution_count": 0,
      "outputs": []
    },
    {
      "cell_type": "code",
      "metadata": {
        "id": "8moxYmHkeLXv",
        "colab_type": "code",
        "outputId": "0e1306b0-212a-41ab-807f-32bd7e585936",
        "colab": {
          "base_uri": "https://localhost:8080/",
          "height": 85
        }
      },
      "source": [
        "x = np.array([[0.0, 0.0],\n",
        "              [0.0, 1.0],\n",
        "              [1.0, 0.0],\n",
        "              [1.0, 1.0]])\n",
        "x"
      ],
      "execution_count": 81,
      "outputs": [
        {
          "output_type": "execute_result",
          "data": {
            "text/plain": [
              "array([[0., 0.],\n",
              "       [0., 1.],\n",
              "       [1., 0.],\n",
              "       [1., 1.]])"
            ]
          },
          "metadata": {
            "tags": []
          },
          "execution_count": 81
        }
      ]
    },
    {
      "cell_type": "code",
      "metadata": {
        "id": "soSz9jbLej0L",
        "colab_type": "code",
        "outputId": "0f9794d0-b6a4-4bdd-fca4-fb7abb97efd4",
        "colab": {
          "base_uri": "https://localhost:8080/",
          "height": 85
        }
      },
      "source": [
        "# OR result expression\n",
        "y = np.array([[0.0], [1.0], [1.0], [1.0]])\n",
        "\n",
        "# AND result expression\n",
        "# y = np.array([[0.0], [0.0], [0.0], [1.0]])\n",
        "\n",
        "y"
      ],
      "execution_count": 82,
      "outputs": [
        {
          "output_type": "execute_result",
          "data": {
            "text/plain": [
              "array([[0.],\n",
              "       [1.],\n",
              "       [1.],\n",
              "       [1.]])"
            ]
          },
          "metadata": {
            "tags": []
          },
          "execution_count": 82
        }
      ]
    },
    {
      "cell_type": "code",
      "metadata": {
        "id": "oyUBG6Vie1wE",
        "colab_type": "code",
        "colab": {
          "base_uri": "https://localhost:8080/",
          "height": 34
        },
        "outputId": "3df314ca-05f1-42bb-cf00-7cb1f115ad9e"
      },
      "source": [
        "w = tf.Variable(tf.zeros([2,1], dtype=tf.float64))\n",
        "\n",
        "type(w)"
      ],
      "execution_count": 83,
      "outputs": [
        {
          "output_type": "execute_result",
          "data": {
            "text/plain": [
              "tensorflow.python.ops.variables.RefVariable"
            ]
          },
          "metadata": {
            "tags": []
          },
          "execution_count": 83
        }
      ]
    },
    {
      "cell_type": "code",
      "metadata": {
        "id": "CdBjNKnTzLeW",
        "colab_type": "code",
        "colab": {}
      },
      "source": [
        "def step_function(value):\n",
        "   return tf.cast(  tf.math.greater_equal(value, 1) , dtype=tf.float64 )"
      ],
      "execution_count": 0,
      "outputs": []
    },
    {
      "cell_type": "code",
      "metadata": {
        "id": "gNoCRM55zFEO",
        "colab_type": "code",
        "colab": {}
      },
      "source": [
        "# multiply and sum\n",
        "layer_out = tf.matmul(x, w)"
      ],
      "execution_count": 0,
      "outputs": []
    },
    {
      "cell_type": "code",
      "metadata": {
        "id": "lVIah7HhoqxB",
        "colab_type": "code",
        "colab": {
          "base_uri": "https://localhost:8080/",
          "height": 34
        },
        "outputId": "d140c204-2f45-44df-8a9a-8aba073b4fd5"
      },
      "source": [
        "print(w)"
      ],
      "execution_count": 86,
      "outputs": [
        {
          "output_type": "stream",
          "text": [
            "<tf.Variable 'Variable_6:0' shape=(2, 1) dtype=float64_ref>\n"
          ],
          "name": "stdout"
        }
      ]
    },
    {
      "cell_type": "code",
      "metadata": {
        "id": "qs593Bpx8Cio",
        "colab_type": "code",
        "colab": {}
      },
      "source": [
        "layer_out_activation = step_function(layer_out)"
      ],
      "execution_count": 0,
      "outputs": []
    },
    {
      "cell_type": "code",
      "metadata": {
        "id": "idOY62Vv9e_e",
        "colab_type": "code",
        "colab": {}
      },
      "source": [
        "error = tf.subtract(y, layer_out_activation)"
      ],
      "execution_count": 0,
      "outputs": []
    },
    {
      "cell_type": "code",
      "metadata": {
        "id": "2mH_7wyFmAJQ",
        "colab_type": "code",
        "colab": {}
      },
      "source": [
        "# update errors\n",
        "\n",
        "# weight(n + 1) = weight(n) + (learning_rate * input * error)\n",
        "\n",
        "# inputs * errors\n",
        "delta = tf.matmul(x, error, transpose_a=True)\n",
        "# delta * learning rate * weight\n",
        "# tf.asign will update the variable w (weight)\n",
        "training = tf.assign( w, tf.add( w, tf.multiply( delta, 0.1 ) ) )\n"
      ],
      "execution_count": 0,
      "outputs": []
    },
    {
      "cell_type": "code",
      "metadata": {
        "id": "mrlvSGYwfZ6C",
        "colab_type": "code",
        "outputId": "65e8ecd6-ef60-419f-e33b-cf4c26f6d6fc",
        "colab": {
          "base_uri": "https://localhost:8080/",
          "height": 425
        }
      },
      "source": [
        "with tf.compat.v1.Session() as sess:\n",
        "  sess.run(tf.compat.v1.global_variables_initializer())\n",
        "  # print(sess.run(w))\n",
        "  # print(sess.run(layer_out))\n",
        "\n",
        "  # print(sess.run( step_function(-1) ))\n",
        "  # print(\"\\n\")\n",
        "  # print(sess.run(layer_out_activation))\n",
        "  # print(\"\\n\")\n",
        "  # print(sess.run(error))\n",
        "  # print(\"\\n New weights\")\n",
        "  # print(sess.run(training))\n",
        "\n",
        "  epochs = 0\n",
        "\n",
        "  for i in range(15):\n",
        "    epochs += 1\n",
        "    error_total, _ = sess.run([error, training])\n",
        "    # print(error_total)\n",
        "    # sum of errors\n",
        "    error_sum = tf.reduce_sum(error_total)\n",
        "    print(sess.run(w))\n",
        "    print( 'Epochs', epochs,' Error: ', sess.run(error_sum) )\n",
        "\n",
        "    if error_sum.eval() == 0.0:\n",
        "      break\n",
        "\n",
        "\n",
        "  w_final = sess.run(w)"
      ],
      "execution_count": 90,
      "outputs": [
        {
          "output_type": "stream",
          "text": [
            "[[0.2]\n",
            " [0.2]]\n",
            "Epochs 1  Error:  3.0\n",
            "[[0.4]\n",
            " [0.4]]\n",
            "Epochs 2  Error:  3.0\n",
            "[[0.6]\n",
            " [0.6]]\n",
            "Epochs 3  Error:  3.0\n",
            "[[0.7]\n",
            " [0.7]]\n",
            "Epochs 4  Error:  2.0\n",
            "[[0.8]\n",
            " [0.8]]\n",
            "Epochs 5  Error:  2.0\n",
            "[[0.9]\n",
            " [0.9]]\n",
            "Epochs 6  Error:  2.0\n",
            "[[1.]\n",
            " [1.]]\n",
            "Epochs 7  Error:  2.0\n",
            "[[1.]\n",
            " [1.]]\n",
            "Epochs 8  Error:  0.0\n"
          ],
          "name": "stdout"
        }
      ]
    },
    {
      "cell_type": "code",
      "metadata": {
        "id": "o9dnBzUsgB8F",
        "colab_type": "code",
        "colab": {
          "base_uri": "https://localhost:8080/",
          "height": 51
        },
        "outputId": "ab1060d0-d703-4c84-8987-2e44441653b3"
      },
      "source": [
        "w_final"
      ],
      "execution_count": 91,
      "outputs": [
        {
          "output_type": "execute_result",
          "data": {
            "text/plain": [
              "array([[1.],\n",
              "       [1.]])"
            ]
          },
          "metadata": {
            "tags": []
          },
          "execution_count": 91
        }
      ]
    },
    {
      "cell_type": "code",
      "metadata": {
        "id": "3Ctd_e0RuPLi",
        "colab_type": "code",
        "colab": {
          "base_uri": "https://localhost:8080/",
          "height": 85
        },
        "outputId": "efbe009d-12d1-4359-f637-5cdcce445750"
      },
      "source": [
        "# test\n",
        "layer_out_test = tf.matmul(x, w_final)\n",
        "layer_out_activation_test = step_function(layer_out_test)\n",
        "\n",
        "with tf.Session() as sess:\n",
        "  sess.run(tf.compat.v1.global_variables_initializer())\n",
        "  print(sess.run(layer_out_activation_test))"
      ],
      "execution_count": 92,
      "outputs": [
        {
          "output_type": "stream",
          "text": [
            "[[0.]\n",
            " [1.]\n",
            " [1.]\n",
            " [1.]]\n"
          ],
          "name": "stdout"
        }
      ]
    },
    {
      "cell_type": "code",
      "metadata": {
        "id": "k7Kw8fNb2BR9",
        "colab_type": "code",
        "colab": {}
      },
      "source": [
        ""
      ],
      "execution_count": 0,
      "outputs": []
    }
  ]
}