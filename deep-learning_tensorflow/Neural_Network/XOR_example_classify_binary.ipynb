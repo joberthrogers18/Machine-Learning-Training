{
  "nbformat": 4,
  "nbformat_minor": 0,
  "metadata": {
    "colab": {
      "name": "XOR_example_classify_binary",
      "provenance": [],
      "collapsed_sections": []
    },
    "kernelspec": {
      "name": "python3",
      "display_name": "Python 3"
    }
  },
  "cells": [
    {
      "cell_type": "code",
      "metadata": {
        "id": "-RA60-NQ9Yre",
        "colab_type": "code",
        "colab": {}
      },
      "source": [
        "import tensorflow.compat.v1  as tf\n",
        "tf.disable_v2_behavior()\n",
        "import numpy as np"
      ],
      "execution_count": 0,
      "outputs": []
    },
    {
      "cell_type": "code",
      "metadata": {
        "id": "C-qp_uCa-GFr",
        "colab_type": "code",
        "colab": {}
      },
      "source": [
        "# XOR problem not solve with linear function\n",
        "x = np.array([[0,0], [0,1], [1,0], [1,1]])\n",
        "y = np.array([[1], [0], [0], [1]])"
      ],
      "execution_count": 0,
      "outputs": []
    },
    {
      "cell_type": "code",
      "metadata": {
        "id": "DDLFAWb496RY",
        "colab_type": "code",
        "colab": {}
      },
      "source": [
        "neurons_input = 2\n",
        "neurons_hidden = 3\n",
        "neurons_out = 1"
      ],
      "execution_count": 0,
      "outputs": []
    },
    {
      "cell_type": "code",
      "metadata": {
        "id": "tXV8GpOF-xfy",
        "colab_type": "code",
        "colab": {
          "base_uri": "https://localhost:8080/",
          "height": 1000
        },
        "outputId": "51f0d310-29e4-43f4-abc8-4bd5abf53ffa"
      },
      "source": [
        "# random normalize from statistics\n",
        "distribution = np.random.normal(size = 500)\n",
        "print(distribution)\n",
        "import seaborn as sns\n",
        "%matplotlib inline\n",
        "sns.distplot(distribution)"
      ],
      "execution_count": 48,
      "outputs": [
        {
          "output_type": "stream",
          "text": [
            "[ 9.14633131e-01 -2.82305276e-01 -3.14444921e-01  3.20311325e-01\n",
            " -2.98086243e-01 -1.98328491e-01 -6.04903224e-01 -1.70635434e+00\n",
            " -1.23453076e+00  9.00975206e-01 -4.01505838e-01 -5.26697649e-01\n",
            " -4.60111520e-01 -2.57510268e-01  4.02134304e-01  4.96119368e-01\n",
            "  5.53086560e-01 -1.41464525e+00 -2.53188491e+00 -8.30674248e-01\n",
            "  3.30809418e-01  2.04659266e-01  1.30927163e-01 -2.06316370e+00\n",
            " -2.52763825e-02 -7.46591890e-01 -1.08210329e+00  7.70897917e-01\n",
            "  2.53981594e-01 -1.19052210e+00  2.23845400e-01  1.57496136e+00\n",
            " -4.45032783e-01 -2.71778547e+00 -3.32412648e-01 -1.06049663e+00\n",
            " -5.96714637e-02 -3.05451394e-01  1.44881516e-01 -4.90751310e-01\n",
            " -9.42829763e-01  1.78096804e+00  7.17210668e-01  9.03448916e-01\n",
            " -3.41697616e-01  1.48766095e+00 -1.57260752e+00 -1.06961060e+00\n",
            " -3.96598824e-01  8.65502054e-01  2.13376701e-01 -4.88818450e-01\n",
            " -2.59090291e+00  5.42987442e-01  3.40221567e-01 -1.45553403e+00\n",
            "  1.43495987e+00 -6.97802041e-01 -3.00475125e-01 -5.79412080e-02\n",
            "  1.25180342e+00  1.36269548e+00  3.63940901e-01  1.63130104e-01\n",
            " -1.36379005e+00 -1.00056517e+00 -1.48822555e-01 -1.62738651e-01\n",
            " -6.86016444e-01 -3.55713574e-01 -1.37303633e+00 -1.78616699e+00\n",
            "  4.11255863e-01 -8.00314413e-01 -1.10347776e+00 -8.21882579e-02\n",
            "  4.22209952e-01 -3.66355429e-02  1.24140432e+00 -1.69180254e+00\n",
            "  2.60455994e-01  1.13814754e+00 -3.05122103e-01 -2.00971545e-01\n",
            " -4.88532192e-01 -2.09569423e+00  4.75735516e-01 -8.42436678e-01\n",
            " -8.00708992e-01  6.12644991e-02 -1.57951497e+00  1.15243639e+00\n",
            " -1.35973110e+00  1.30162417e+00 -4.79234412e-01 -1.21412537e+00\n",
            " -6.90092693e-01  1.07251436e+00  9.63921616e-02  1.31510998e+00\n",
            " -7.67097198e-01  3.40561899e-02  1.78653622e-01 -8.69720731e-01\n",
            "  6.92518859e-01  1.55797830e+00  2.64616074e+00  9.72574010e-01\n",
            "  1.29969212e-01  2.12794552e-01  1.09441745e+00  4.05635866e-02\n",
            "  5.34711269e-01 -5.81382620e-01  1.24438112e+00 -6.31461656e-01\n",
            " -7.38031239e-01  1.00194011e+00 -8.97074059e-01 -1.87854164e-01\n",
            "  1.76325277e+00 -4.55478869e-01 -9.51380954e-01  1.07657675e+00\n",
            "  1.04220765e-01 -3.88824010e-02 -8.01656863e-01 -1.21668750e+00\n",
            " -1.14839501e-01  8.51272145e-01 -1.82803990e-01  1.96493663e+00\n",
            " -1.75414805e+00  7.09150819e-01  5.93012625e-02  6.23450279e-01\n",
            "  1.78857772e+00  1.28976748e+00  4.16823088e-01 -2.38408041e+00\n",
            "  1.45364713e+00 -8.32205492e-01  1.70523346e+00 -5.73530260e-01\n",
            " -7.22306915e-01  6.25403444e-02  1.60457661e+00 -4.29986564e-01\n",
            " -4.68757879e-02  1.23317817e+00  2.14458415e+00 -2.12487121e+00\n",
            "  1.50428749e+00 -1.22576931e+00 -7.06375701e-01  1.65543360e-01\n",
            "  8.30926735e-01 -5.02665376e-01  1.58704113e+00 -5.02861148e-01\n",
            " -1.16761754e+00  9.76757172e-01 -1.04732580e+00 -1.53131007e-03\n",
            " -1.22215537e-01  3.37977416e-02  8.37562643e-01  5.52881558e-01\n",
            "  1.37897265e+00 -3.38680334e-01 -1.18593056e+00  5.08530264e-01\n",
            " -7.58748460e-01  7.46701321e-01  9.52093336e-01 -7.95092850e-01\n",
            " -1.69596630e+00  1.24495569e-01 -9.03447515e-01 -9.51031450e-01\n",
            "  3.63059640e-02  1.50685684e+00  4.00891868e-01 -1.52244035e+00\n",
            "  4.91614823e-01  1.07957285e+00  1.44189747e-02  8.24112851e-01\n",
            " -3.85673907e-01 -7.71051598e-01 -1.79492060e-01 -1.70502645e+00\n",
            " -7.14402750e-01  1.31876801e+00  4.89723022e-02 -1.69052345e+00\n",
            "  1.69355075e+00  6.21476391e-01  1.84508706e+00  1.13534676e+00\n",
            "  3.66523793e-02 -3.82891947e-01 -5.36948885e-01  5.45618593e-01\n",
            "  1.39666946e+00 -2.69305849e+00  6.86634149e-01  1.80804928e-02\n",
            " -8.13617685e-01 -1.30325578e+00  2.53849256e-01  7.46623016e-01\n",
            " -1.12142358e+00 -9.18119908e-01 -4.37482618e-01 -6.05878897e-02\n",
            " -1.78462414e+00  7.81178436e-01  1.08025480e+00  8.51346897e-01\n",
            " -7.67781809e-01 -1.42256611e+00  1.76520939e+00  7.22790107e-01\n",
            " -1.29037678e+00 -8.45156323e-01 -3.37696692e-01  1.61606791e-01\n",
            " -3.64225116e-01  1.35311282e+00  6.32244355e-02  7.47110473e-01\n",
            " -3.86174271e-01 -1.94718937e-01 -2.21019791e+00 -7.81645127e-02\n",
            " -6.44249945e-01  3.81958206e-01  3.76896005e-01 -2.81299589e-01\n",
            " -1.93896722e+00  3.37438010e-01  3.64327324e-01 -6.73089648e-01\n",
            " -4.59434170e-01  4.71973564e-01  6.01353209e-01 -1.29527900e-01\n",
            "  5.29115301e-01  3.21425537e-01  2.92763688e-01  7.93857062e-01\n",
            "  6.17725585e-01  2.36076851e-01  4.70901924e-01  1.42451081e+00\n",
            "  1.72217432e+00  1.44248238e+00  2.34739167e-01 -7.44284947e-01\n",
            " -8.63883624e-01 -1.21417430e+00  6.46835060e-01 -5.13434612e-01\n",
            " -7.79498719e-01 -9.07595067e-01 -1.35955108e+00 -2.94360294e-02\n",
            " -2.08653793e+00  1.03485880e+00 -1.41921464e+00  1.48351835e+00\n",
            "  8.11988684e-01 -1.04643257e+00 -8.91712194e-01 -6.12231585e-01\n",
            " -1.45909625e+00 -1.33849158e+00  2.22227357e-01 -1.31856005e+00\n",
            " -7.93058272e-01 -6.61760966e-01  7.28149923e-01 -6.89345478e-01\n",
            "  1.40218960e+00 -6.42170257e-01  2.47601020e+00 -9.53008355e-01\n",
            " -1.41433274e-01  8.41916513e-01  2.80012821e-01  9.09453454e-02\n",
            "  1.67301928e+00  1.61837321e+00 -2.94083236e-01  1.14334890e+00\n",
            " -2.13973869e-01 -1.84852961e-01  1.12323572e+00  1.01372629e-01\n",
            " -4.25689164e-01  6.58292880e-01 -9.31931732e-01 -1.15488615e+00\n",
            " -1.84570743e-01  3.65358852e-02  3.49411608e-01  1.07356328e-01\n",
            "  1.27359574e+00 -1.94872243e+00 -2.46052592e-01  1.01202145e+00\n",
            "  1.15799523e-01  2.39833098e+00  7.16508937e-01 -1.26209782e+00\n",
            " -8.51453142e-02 -9.02257719e-01 -1.08880914e+00  1.19634195e+00\n",
            "  2.41848654e-01 -1.09748659e+00 -5.32978796e-01  1.12464299e-01\n",
            " -1.68546043e+00 -1.66625742e-02  7.10997586e-01  5.54604407e-01\n",
            " -1.83747301e-01  7.48886623e-01  1.34764098e+00 -2.48680321e-02\n",
            "  8.69732244e-01 -5.85595047e-02 -2.10643574e-01  1.08379165e-01\n",
            "  1.43043479e+00 -7.34136923e-01  8.19260913e-01  1.98878149e+00\n",
            "  6.56821372e-01  3.85137171e-01 -1.56513552e-01  5.22132001e-01\n",
            " -1.53889949e+00 -2.82775383e-01  1.03328494e+00  7.36841219e-02\n",
            " -8.26905688e-01  3.31601837e-02  7.83133780e-01  8.81765138e-01\n",
            " -5.63996817e-01  2.72539044e-01 -1.82391750e+00 -1.68593254e+00\n",
            "  9.24009249e-01  2.09599607e+00  3.93542570e-01 -7.33541953e-01\n",
            "  6.16148066e-01 -2.88780670e-01  1.54047556e-01  2.57779200e-01\n",
            " -1.29768102e+00  3.68594686e-01  2.42942585e-01 -7.72418092e-01\n",
            "  8.10874269e-01 -1.38004986e+00 -8.15086834e-02 -9.88979505e-01\n",
            "  1.66878645e+00 -1.94937107e+00 -9.87913200e-01  2.64541303e-01\n",
            " -6.13342634e-01 -3.29531050e-01 -1.18695551e+00  8.71158183e-01\n",
            " -1.74439957e-01 -9.31664864e-01  1.53301269e+00  1.94844352e+00\n",
            "  6.58467732e-01 -1.78288365e-01 -1.54218691e+00  9.18288490e-01\n",
            " -1.26077362e-01  1.84008520e+00  5.30202518e-01 -5.41458337e-01\n",
            "  1.24997567e+00 -8.73490121e-01 -2.35801026e+00  7.65657443e-01\n",
            " -1.51485557e+00 -5.79475060e-01  1.28882521e+00 -1.31071260e+00\n",
            "  2.37931391e-01  2.76389538e-01  1.72692343e+00 -1.68505366e+00\n",
            "  1.09286855e+00  7.21101348e-01 -1.03134740e-01 -7.58935321e-01\n",
            "  1.71222235e-01  3.04928854e+00  4.83676502e-01 -4.76782841e-01\n",
            "  2.30838669e+00 -5.72120682e-01  9.60204757e-02 -1.81622153e-02\n",
            "  4.19230360e-01  5.01122550e-01 -2.39327754e+00 -1.59246276e+00\n",
            "  1.76596131e-01 -4.48360680e-01 -7.49549673e-01  5.28335089e-01\n",
            " -1.90473988e-01 -9.92323205e-02 -3.20074423e-01  2.50286355e-01\n",
            " -8.41278441e-01  1.04017768e+00 -2.25141231e+00  3.97473307e-01\n",
            " -1.25537466e+00 -1.87733769e-01  6.80454138e-02 -7.06844524e-01\n",
            " -2.49309984e+00  1.07483327e+00  9.73157706e-01  1.02339547e+00\n",
            " -1.76754470e-01 -1.06226487e+00 -5.93336927e-02 -9.63053296e-01\n",
            " -4.09489367e-01 -1.85880029e+00  6.97571992e-01 -7.26935605e-01\n",
            " -7.06613916e-01  1.48348256e+00  4.99081308e-02 -1.18996735e+00\n",
            "  4.50054020e-01 -1.32956242e-01 -6.76858809e-01 -2.49601036e+00\n",
            " -6.12062431e-01 -1.14617196e+00  7.48950303e-01  7.00029000e-01\n",
            "  3.09696817e-01  8.13061089e-01  2.16000487e+00  1.59142848e+00\n",
            " -2.21382143e+00 -1.75696056e+00 -1.76910260e-01 -2.09204442e+00\n",
            "  8.54545105e-01 -6.67172817e-02 -1.66168883e+00 -1.83068199e+00\n",
            "  2.65366310e-02 -7.22496563e-01  4.09118661e-01  1.17078784e+00\n",
            " -5.24824736e-01  3.21755395e-01  1.70000136e-01  1.08815818e+00\n",
            " -7.40913988e-01 -1.45503217e+00 -6.71326826e-01  2.58550229e+00\n",
            "  1.12827736e+00 -1.00381381e+00  7.76738784e-02  6.38528909e-01\n",
            "  4.08452071e-01  6.25084205e-01  3.82204872e-01  1.10355762e+00\n",
            "  1.12064353e+00  5.10892409e-01  3.41469492e-01  3.55393433e-02\n",
            " -6.42652204e-01 -3.42030695e-01  5.05488474e-01 -9.38021412e-01]\n"
          ],
          "name": "stdout"
        },
        {
          "output_type": "execute_result",
          "data": {
            "text/plain": [
              "<matplotlib.axes._subplots.AxesSubplot at 0x7feaec95feb8>"
            ]
          },
          "metadata": {
            "tags": []
          },
          "execution_count": 48
        },
        {
          "output_type": "display_data",
          "data": {
            "image/png": "[encoded data removed]",
            "text/plain": [
              "<Figure size 432x288 with 1 Axes>"
            ]
          },
          "metadata": {
            "tags": [],
            "needs_background": "light"
          }
        }
      ]
    },
    {
      "cell_type": "code",
      "metadata": {
        "id": "85TFaY5dJrgd",
        "colab_type": "code",
        "colab": {}
      },
      "source": [
        "weight = {\n",
        "            'hidden': tf.Variable(tf.random_normal([neurons_input, neurons_hidden]), name='w_hidden'), \n",
        "            'out': tf.Variable(tf.random_normal([neurons_hidden, neurons_out]), name='w_out')\n",
        "         }"
      ],
      "execution_count": 0,
      "outputs": []
    },
    {
      "cell_type": "code",
      "metadata": {
        "id": "Nyowr_RDEgAh",
        "colab_type": "code",
        "colab": {
          "base_uri": "https://localhost:8080/",
          "height": 51
        },
        "outputId": "598638d7-c665-4409-90c9-d9c01246dff6"
      },
      "source": [
        "print(weight['hidden'])\n",
        "print(weight['out'])"
      ],
      "execution_count": 50,
      "outputs": [
        {
          "output_type": "stream",
          "text": [
            "<tf.Variable 'w_hidden_6:0' shape=(2, 3) dtype=float32_ref>\n",
            "<tf.Variable 'w_out_5:0' shape=(3, 1) dtype=float32_ref>\n"
          ],
          "name": "stdout"
        }
      ]
    },
    {
      "cell_type": "code",
      "metadata": {
        "id": "7QXSjRHsKjND",
        "colab_type": "code",
        "colab": {}
      },
      "source": [
        "bias = { \n",
        "    'hidden': tf.Variable(tf.random_normal([neurons_hidden]), name = 'bias_hidden' ),\n",
        "    'out': tf.Variable(tf.random_normal([neurons_out]), name='bias_out' )\n",
        "    }"
      ],
      "execution_count": 0,
      "outputs": []
    },
    {
      "cell_type": "code",
      "metadata": {
        "id": "wLcIgloFMDnG",
        "colab_type": "code",
        "colab": {}
      },
      "source": [
        "x_placeholder = tf.placeholder(tf.float32, [4, neurons_input], name='xph')\n",
        "y_placeholder = tf.placeholder(tf.float32, [4, neurons_out], name='yph')"
      ],
      "execution_count": 0,
      "outputs": []
    },
    {
      "cell_type": "code",
      "metadata": {
        "id": "D7Bkv9FHM7tE",
        "colab_type": "code",
        "colab": {}
      },
      "source": [
        "# Calculation of sum and function activation (sigmoid) in input to hidden layer\n",
        "layer_hidden = tf.add( tf.matmul(x_placeholder, weight['hidden']), bias['hidden'])\n",
        "layer_hidden_activation = tf.sigmoid(layer_hidden)"
      ],
      "execution_count": 0,
      "outputs": []
    },
    {
      "cell_type": "code",
      "metadata": {
        "id": "a0Lw4aGuQFc3",
        "colab_type": "code",
        "colab": {}
      },
      "source": [
        "# Calculation of sum and function activation (softmax) in hidden to out layer\n",
        "layer_out = tf.add(tf.matmul(layer_hidden_activation, weight['out']), bias['out'])\n",
        "layer_out_activation = tf.sigmoid(layer_out)"
      ],
      "execution_count": 0,
      "outputs": []
    },
    {
      "cell_type": "code",
      "metadata": {
        "id": "yAe50ZcbS1us",
        "colab_type": "code",
        "colab": {}
      },
      "source": [
        "# Calculation of error \n",
        "error = tf.losses.mean_squared_error(y_placeholder, layer_out_activation)\n",
        "optimizer = tf.train.GradientDescentOptimizer(learning_rate= 0.3).minimize(error)"
      ],
      "execution_count": 0,
      "outputs": []
    },
    {
      "cell_type": "code",
      "metadata": {
        "id": "GED_Chi-WP_s",
        "colab_type": "code",
        "colab": {}
      },
      "source": [
        ""
      ],
      "execution_count": 0,
      "outputs": []
    },
    {
      "cell_type": "code",
      "metadata": {
        "id": "loaPzW0JEu5I",
        "colab_type": "code",
        "colab": {
          "base_uri": "https://localhost:8080/",
          "height": 867
        },
        "outputId": "a0eca8c4-25cf-49b9-e0e6-cf3868d5b034"
      },
      "source": [
        "with tf.Session() as sess:\n",
        "  sess.run(tf.global_variables_initializer())\n",
        "  # print(sess.run(weight['hidden']))\n",
        "  # print(\"\\n\\n\", sess.run( weight['out'] ))\n",
        "  # print(sess.run(bias['hidden']))\n",
        "  # print(sess.run(bias['out']))\n",
        "  # print(sess.run(layer_hidden, feed_dict= {x_placeholder: x} ))\n",
        "  # print(sess.run(layer_hidden_activation, feed_dict={ x_placeholder: x }))\n",
        "  #print(sess.run(layer_out_activation, feed_dict= {x_placeholder: x}))\n",
        "\n",
        "  for epoch in range(10000):\n",
        "    error_medium = 0\n",
        "    _, cost = sess.run([optimizer, error], feed_dict={ x_placeholder: x, y_placeholder: y })\n",
        "    if epoch % 200 == 0:\n",
        "      error_medium += cost / 4\n",
        "      print(error_medium) \n",
        "\n",
        "  weights_final, bias_final = sess.run([weight, bias])"
      ],
      "execution_count": 62,
      "outputs": [
        {
          "output_type": "stream",
          "text": [
            "0.08628825843334198\n",
            "0.059180520474910736\n",
            "0.05526307597756386\n",
            "0.05026668310165405\n",
            "0.044917576014995575\n",
            "0.038938187062740326\n",
            "0.03106832504272461\n",
            "0.021917426958680153\n",
            "0.01427236758172512\n",
            "0.009342394769191742\n",
            "0.006445025559514761\n",
            "0.004712565802037716\n",
            "0.00362007855437696\n",
            "0.002891595708206296\n",
            "0.0023814074229449034\n",
            "0.0020091449841856956\n",
            "0.0017281360924243927\n",
            "0.0015099627198651433\n",
            "0.0013365446357056499\n",
            "0.0011959383264183998\n",
            "0.0010799879673868418\n",
            "0.0009829736081883311\n",
            "0.0009007650660350919\n",
            "0.0008303349604830146\n",
            "0.0007694047526456416\n",
            "0.0007162373512983322\n",
            "0.0006694828043691814\n",
            "0.000628085108473897\n",
            "0.0005912005435675383\n",
            "0.000558151863515377\n",
            "0.0005283867940306664\n",
            "0.0005014539929106832\n",
            "0.00047697831178084016\n",
            "0.00045464886352419853\n",
            "0.00043420010479167104\n",
            "0.00041541297105140984\n",
            "0.00039809721056371927\n",
            "0.00038209103513509035\n",
            "0.00036725509562529624\n",
            "0.0003534684074111283\n",
            "0.00034062613849528134\n",
            "0.0003286388237029314\n",
            "0.0003174235753249377\n",
            "0.00030691141728311777\n",
            "0.0002970385830849409\n",
            "0.00028775015380233526\n",
            "0.00027899700216948986\n",
            "0.0002707362291403115\n",
            "0.00026292726397514343\n",
            "0.00025553518207743764\n"
          ],
          "name": "stdout"
        }
      ]
    },
    {
      "cell_type": "code",
      "metadata": {
        "id": "LG7wU_C6FMXK",
        "colab_type": "code",
        "colab": {
          "base_uri": "https://localhost:8080/",
          "height": 102
        },
        "outputId": "489ed3ff-b90f-4eb5-e13b-2dc725a3cf94"
      },
      "source": [
        "weights_final"
      ],
      "execution_count": 63,
      "outputs": [
        {
          "output_type": "execute_result",
          "data": {
            "text/plain": [
              "{'hidden': array([[-5.9499264, -2.361541 ,  3.441768 ],\n",
              "        [-6.015493 , -2.4170291,  3.4122925]], dtype=float32),\n",
              " 'out': array([[ 9.497599 ],\n",
              "        [-4.5798936],\n",
              "        [ 6.7795672]], dtype=float32)}"
            ]
          },
          "metadata": {
            "tags": []
          },
          "execution_count": 63
        }
      ]
    },
    {
      "cell_type": "code",
      "metadata": {
        "id": "P4TzEPcqX8Yk",
        "colab_type": "code",
        "colab": {
          "base_uri": "https://localhost:8080/",
          "height": 51
        },
        "outputId": "e2aae108-00ba-4cb8-f364-9be4f5abf993"
      },
      "source": [
        "bias_final"
      ],
      "execution_count": 65,
      "outputs": [
        {
          "output_type": "execute_result",
          "data": {
            "text/plain": [
              "{'hidden': array([ 2.4331613,  3.8325517, -5.3560605], dtype=float32),\n",
              " 'out': array([-0.84397554], dtype=float32)}"
            ]
          },
          "metadata": {
            "tags": []
          },
          "execution_count": 65
        }
      ]
    },
    {
      "cell_type": "markdown",
      "metadata": {
        "id": "i8o4fhisYGHJ",
        "colab_type": "text"
      },
      "source": [
        "## Test"
      ]
    },
    {
      "cell_type": "code",
      "metadata": {
        "id": "XRr2FBoRX_QJ",
        "colab_type": "code",
        "colab": {}
      },
      "source": [
        "# Calculation of sum and function activation (sigmoid) in input to hidden layer\n",
        "layer_hidden_test = tf.add( tf.matmul(x_placeholder, weights_final['hidden']), bias_final['hidden'])\n",
        "layer_hidden_activation_test = tf.sigmoid(layer_hidden_test)\n",
        "\n",
        "# Calculation of sum and function activation (softmax) in hidden to out layer\n",
        "layer_out_test = tf.add(tf.matmul(layer_hidden_activation_test, weights_final['out']), bias_final['out'])\n",
        "layer_out_activation_test = tf.sigmoid(layer_out_test)"
      ],
      "execution_count": 0,
      "outputs": []
    },
    {
      "cell_type": "code",
      "metadata": {
        "id": "2KQQYdZMYw8G",
        "colab_type": "code",
        "colab": {
          "base_uri": "https://localhost:8080/",
          "height": 85
        },
        "outputId": "493814eb-c2af-43ea-c259-312508172a4c"
      },
      "source": [
        "with tf.Session() as sess:\n",
        "  sess.run(tf.global_variables_initializer())\n",
        "  print(sess.run(layer_out_activation_test, feed_dict= {x_placeholder: x}))"
      ],
      "execution_count": 69,
      "outputs": [
        {
          "output_type": "stream",
          "text": [
            "[[0.9688228 ]\n",
            " [0.03158138]\n",
            " [0.03157443]\n",
            " [0.968218  ]]\n"
          ],
          "name": "stdout"
        }
      ]
    },
    {
      "cell_type": "code",
      "metadata": {
        "id": "gdNqSo1EZHay",
        "colab_type": "code",
        "colab": {}
      },
      "source": [
        ""
      ],
      "execution_count": 0,
      "outputs": []
    }
  ]
}