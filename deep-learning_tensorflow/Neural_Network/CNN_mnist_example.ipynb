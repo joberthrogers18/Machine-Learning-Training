{
  "nbformat": 4,
  "nbformat_minor": 0,
  "metadata": {
    "colab": {
      "name": "CNN_mnist_example.ipynb",
      "provenance": [],
      "collapsed_sections": []
    },
    "kernelspec": {
      "name": "python3",
      "display_name": "Python 3"
    }
  },
  "cells": [
    {
      "cell_type": "code",
      "metadata": {
        "id": "pfwfbXCEyxBW",
        "colab_type": "code",
        "colab": {
          "base_uri": "https://localhost:8080/",
          "height": 34
        },
        "outputId": "6cdda4f0-4a95-4d7a-fc45-713dfbd203af"
      },
      "source": [
        "%tensorflow_version 1.x"
      ],
      "execution_count": 1,
      "outputs": [
        {
          "output_type": "stream",
          "text": [
            "TensorFlow 1.x selected.\n"
          ],
          "name": "stdout"
        }
      ]
    },
    {
      "cell_type": "code",
      "metadata": {
        "id": "ZHtW_WNJzHPt",
        "colab_type": "code",
        "colab": {
          "base_uri": "https://localhost:8080/",
          "height": 34
        },
        "outputId": "8f91db18-3fbe-4dc4-ec9b-617b10decd39"
      },
      "source": [
        "import tensorflow as tf\n",
        "print(tf.__version__)"
      ],
      "execution_count": 2,
      "outputs": [
        {
          "output_type": "stream",
          "text": [
            "1.15.2\n"
          ],
          "name": "stdout"
        }
      ]
    },
    {
      "cell_type": "code",
      "metadata": {
        "id": "wX0MWquQz-a4",
        "colab_type": "code",
        "colab": {
          "base_uri": "https://localhost:8080/",
          "height": 479
        },
        "outputId": "ac448807-215c-4a64-9b91-b92501e13d60"
      },
      "source": [
        "from tensorflow.examples.tutorials.mnist import input_data\n",
        "import numpy as np\n",
        "mnist = input_data.read_data_sets('mnist/', one_hot=False)"
      ],
      "execution_count": 4,
      "outputs": [
        {
          "output_type": "stream",
          "text": [
            "WARNING:tensorflow:From <ipython-input-4-a9b4e1f905ff>:3: read_data_sets (from tensorflow.contrib.learn.python.learn.datasets.mnist) is deprecated and will be removed in a future version.\n",
            "Instructions for updating:\n",
            "Please use alternatives such as official/mnist/dataset.py from tensorflow/models.\n",
            "WARNING:tensorflow:From /tensorflow-1.15.2/python3.6/tensorflow_core/contrib/learn/python/learn/datasets/mnist.py:260: maybe_download (from tensorflow.contrib.learn.python.learn.datasets.base) is deprecated and will be removed in a future version.\n",
            "Instructions for updating:\n",
            "Please write your own downloading logic.\n",
            "WARNING:tensorflow:From /tensorflow-1.15.2/python3.6/tensorflow_core/contrib/learn/python/learn/datasets/base.py:252: _internal_retry.<locals>.wrap.<locals>.wrapped_fn (from tensorflow.contrib.learn.python.learn.datasets.base) is deprecated and will be removed in a future version.\n",
            "Instructions for updating:\n",
            "Please use urllib or similar directly.\n",
            "Successfully downloaded train-images-idx3-ubyte.gz 9912422 bytes.\n",
            "WARNING:tensorflow:From /tensorflow-1.15.2/python3.6/tensorflow_core/contrib/learn/python/learn/datasets/mnist.py:262: extract_images (from tensorflow.contrib.learn.python.learn.datasets.mnist) is deprecated and will be removed in a future version.\n",
            "Instructions for updating:\n",
            "Please use tf.data to implement this functionality.\n",
            "Extracting mnist/train-images-idx3-ubyte.gz\n",
            "Successfully downloaded train-labels-idx1-ubyte.gz 28881 bytes.\n",
            "WARNING:tensorflow:From /tensorflow-1.15.2/python3.6/tensorflow_core/contrib/learn/python/learn/datasets/mnist.py:267: extract_labels (from tensorflow.contrib.learn.python.learn.datasets.mnist) is deprecated and will be removed in a future version.\n",
            "Instructions for updating:\n",
            "Please use tf.data to implement this functionality.\n",
            "Extracting mnist/train-labels-idx1-ubyte.gz\n",
            "Successfully downloaded t10k-images-idx3-ubyte.gz 1648877 bytes.\n",
            "Extracting mnist/t10k-images-idx3-ubyte.gz\n",
            "Successfully downloaded t10k-labels-idx1-ubyte.gz 4542 bytes.\n",
            "Extracting mnist/t10k-labels-idx1-ubyte.gz\n",
            "WARNING:tensorflow:From /tensorflow-1.15.2/python3.6/tensorflow_core/contrib/learn/python/learn/datasets/mnist.py:290: DataSet.__init__ (from tensorflow.contrib.learn.python.learn.datasets.mnist) is deprecated and will be removed in a future version.\n",
            "Instructions for updating:\n",
            "Please use alternatives such as official/mnist/dataset.py from tensorflow/models.\n"
          ],
          "name": "stdout"
        }
      ]
    },
    {
      "cell_type": "code",
      "metadata": {
        "id": "bFWMJVcf0CvQ",
        "colab_type": "code",
        "colab": {}
      },
      "source": [
        "x_train = mnist.train.images\n",
        "y_train = mnist.train.labels\n",
        "x_test = mnist.test.images\n",
        "y_test = mnist.test.labels"
      ],
      "execution_count": 0,
      "outputs": []
    },
    {
      "cell_type": "code",
      "metadata": {
        "id": "drmFUHXiL1h8",
        "colab_type": "code",
        "colab": {}
      },
      "source": [
        "y_train = np.asarray(y_train, dtype=np.int32)\n",
        "y_test = np.asarray(y_test, dtype=np.int32)"
      ],
      "execution_count": 0,
      "outputs": []
    },
    {
      "cell_type": "code",
      "metadata": {
        "id": "XS5ap3ab0c1D",
        "colab_type": "code",
        "colab": {
          "base_uri": "https://localhost:8080/",
          "height": 34
        },
        "outputId": "4065c8cb-e06f-4f50-f50e-f601b833ab4c"
      },
      "source": [
        "x_train.shape"
      ],
      "execution_count": 6,
      "outputs": [
        {
          "output_type": "execute_result",
          "data": {
            "text/plain": [
              "(55000, 784)"
            ]
          },
          "metadata": {
            "tags": []
          },
          "execution_count": 6
        }
      ]
    },
    {
      "cell_type": "code",
      "metadata": {
        "id": "cpdm0bbK0e2r",
        "colab_type": "code",
        "colab": {
          "base_uri": "https://localhost:8080/",
          "height": 34
        },
        "outputId": "66011dfe-bd54-45ae-a45f-55fcd9b54efa"
      },
      "source": [
        "x_test.shape"
      ],
      "execution_count": 7,
      "outputs": [
        {
          "output_type": "execute_result",
          "data": {
            "text/plain": [
              "(10000, 784)"
            ]
          },
          "metadata": {
            "tags": []
          },
          "execution_count": 7
        }
      ]
    },
    {
      "cell_type": "code",
      "metadata": {
        "id": "wx3ZT9_b0mdQ",
        "colab_type": "code",
        "colab": {}
      },
      "source": [
        "import matplotlib.pyplot as plt\n",
        "%matplotlib inline\n",
        "# plt.imshow(x_train[0])"
      ],
      "execution_count": 0,
      "outputs": []
    },
    {
      "cell_type": "code",
      "metadata": {
        "id": "bJKMHqHF0uZC",
        "colab_type": "code",
        "colab": {
          "base_uri": "https://localhost:8080/",
          "height": 298
        },
        "outputId": "62dffecf-1e32-428e-ed98-2c0968a37f31"
      },
      "source": [
        "plt.imshow(x_train[0].reshape(28, 28), cmap='gray')\n",
        "plt.title('Class: ' + str(y_train[0]))"
      ],
      "execution_count": 19,
      "outputs": [
        {
          "output_type": "execute_result",
          "data": {
            "text/plain": [
              "Text(0.5, 1.0, 'Class: 7')"
            ]
          },
          "metadata": {
            "tags": []
          },
          "execution_count": 19
        },
        {
          "output_type": "display_data",
          "data": {
            "image/png": "[encoded data removed]",
            "text/plain": [
              "<Figure size 432x288 with 1 Axes>"
            ]
          },
          "metadata": {
            "tags": [],
            "needs_background": "light"
          }
        }
      ]
    },
    {
      "cell_type": "markdown",
      "metadata": {
        "id": "eaTXXo047L8d",
        "colab_type": "text"
      },
      "source": [
        "Classifier"
      ]
    },
    {
      "cell_type": "code",
      "metadata": {
        "id": "ggjZkwEY7eMM",
        "colab_type": "code",
        "colab": {}
      },
      "source": [
        "# features -> x_train\n",
        "# labels -> y_train\n",
        "def create_neural_net(features, labels, mode):\n",
        "  # need transform features to dictionary shape, cause is the format which tensorflow wants\n",
        "  # batch_size, width, height, channels(RGB or Gray)\n",
        "  entry = tf.reshape(features['X'], [-1, 28,28, 1])\n",
        "\n",
        "  # recieve [batch_size, 28, 28, 1]\n",
        "  # return [batch_size, 28, 28, 32]\n",
        "  convolutional1 = tf.layers.conv2d(\n",
        "      inputs= entry, \n",
        "      filters= 32, \n",
        "      kernel_size=[5, 5], \n",
        "      activation=tf.nn.relu, \n",
        "      padding='same'\n",
        "    )\n",
        "  \n",
        "  # max pool layers\n",
        "  # recieve [batch_size, 28, 28, 32]\n",
        "  # return [batch_size, 14, 14, 32] -> dimention was divide by half 14x14\n",
        "  pooling1 = tf.layers.max_pooling2d(inputs= convolutional1, pool_size=[2,2], strides=2)\n",
        "  \n",
        "  # recieve [batch_size, 14, 14, 32]\n",
        "  # return [batch_size, 14, 14, 64]\n",
        "  convolutional2 = tf.layers.conv2d(\n",
        "      inputs= pooling1, \n",
        "      filters= 64, \n",
        "      kernel_size=[5, 5], \n",
        "      activation=tf.nn.relu, \n",
        "      padding='same'\n",
        "    )\n",
        "  \n",
        "  # recieve [batch_size, 14, 14, 32]\n",
        "  # return [batch_size, 7, 7, 64] -> dimention was divide by half 7x7\n",
        "  pooling2 = tf.layers.max_pooling2d(inputs= convolutional2, pool_size=[2,2], strides=2)\n",
        "\n",
        "  # step which transform matrix in vector to feed input layer of nn\n",
        "  # receive [batch_size, 7, 7, 64]\n",
        "  # return [batch_size, 3136]\n",
        "  flattening = tf.reshape(pooling2, [-1, 7 * 7 * 64])\n",
        "\n",
        "  # 3136 neuron input layer -> 1024 neurons hidden layer -> 10 neurons out layer\n",
        "  # receive [batch_size, 3136]\n",
        "  # return [batch_size, 1024]\n",
        "  dense = tf.layers.dense(inputs= flattening, units=1024, activation=tf.nn.relu)\n",
        "\n",
        "  #dropout technique (important) avoid overfiting, some entries become zero \n",
        "  # receive [batch_size, 1024]\n",
        "  # return [batch_size, 10]\n",
        "  dropout = tf.layers.dropout(inputs=dense, rate = 0.2)\n",
        "\n",
        "  out = tf.layers.dense(inputs=dropout, units=10)\n",
        "\n",
        "  error = tf.losses.sparse_softmax_cross_entropy(labels=labels, logits= out)\n",
        "  optimizer = tf.train.AdamOptimizer(learning_rate=0.001)\n",
        "  training = optimizer.minimize(error, global_step=tf.train.get_global_step())\n",
        "\n",
        "  return tf.estimator.EstimatorSpec(mode=mode, loss=error, train_op= training)"
      ],
      "execution_count": 0,
      "outputs": []
    },
    {
      "cell_type": "code",
      "metadata": {
        "id": "e1kdvh2N0-J7",
        "colab_type": "code",
        "colab": {
          "base_uri": "https://localhost:8080/",
          "height": 190
        },
        "outputId": "5ea99a5f-6323-4a61-a9f3-5aaeb534d53f"
      },
      "source": [
        "classifier = tf.estimator.Estimator(model_fn= create_neural_net)"
      ],
      "execution_count": 41,
      "outputs": [
        {
          "output_type": "stream",
          "text": [
            "INFO:tensorflow:Using default config.\n",
            "WARNING:tensorflow:Using temporary folder as model directory: /tmp/tmp25b3qahp\n",
            "INFO:tensorflow:Using config: {'_model_dir': '/tmp/tmp25b3qahp', '_tf_random_seed': None, '_save_summary_steps': 100, '_save_checkpoints_steps': None, '_save_checkpoints_secs': 600, '_session_config': allow_soft_placement: true\n",
            "graph_options {\n",
            "  rewrite_options {\n",
            "    meta_optimizer_iterations: ONE\n",
            "  }\n",
            "}\n",
            ", '_keep_checkpoint_max': 5, '_keep_checkpoint_every_n_hours': 10000, '_log_step_count_steps': 100, '_train_distribute': None, '_device_fn': None, '_protocol': None, '_eval_distribute': None, '_experimental_distribute': None, '_experimental_max_worker_delay_secs': None, '_session_creation_timeout_secs': 7200, '_service': None, '_cluster_spec': <tensorflow.python.training.server_lib.ClusterSpec object at 0x7fa1e90b8fd0>, '_task_type': 'worker', '_task_id': 0, '_global_id_in_cluster': 0, '_master': '', '_evaluation_master': '', '_is_chief': True, '_num_ps_replicas': 0, '_num_worker_replicas': 1}\n"
          ],
          "name": "stdout"
        }
      ]
    },
    {
      "cell_type": "code",
      "metadata": {
        "id": "752TNJlT94u4",
        "colab_type": "code",
        "colab": {
          "base_uri": "https://localhost:8080/",
          "height": 238
        },
        "outputId": "ac85cac0-d052-4154-a3ae-ffe0c5466f8f"
      },
      "source": [
        "# first parameter go to x_train -> feature, y_train -> labels. Function create_neural_net \n",
        "function_training = tf.estimator.inputs.numpy_input_fn(x = {'X': x_train }, \n",
        "                                                       y = y_train, \n",
        "                                                       batch_size=128,\n",
        "                                                       num_epochs=None,\n",
        "                                                       shuffle=True\n",
        "                                                       )\n",
        "classifier.train(input_fn=function_training, steps= 200)"
      ],
      "execution_count": 42,
      "outputs": [
        {
          "output_type": "stream",
          "text": [
            "INFO:tensorflow:Calling model_fn.\n",
            "INFO:tensorflow:Done calling model_fn.\n",
            "INFO:tensorflow:Create CheckpointSaverHook.\n",
            "INFO:tensorflow:Graph was finalized.\n",
            "INFO:tensorflow:Running local_init_op.\n",
            "INFO:tensorflow:Done running local_init_op.\n",
            "INFO:tensorflow:Saving checkpoints for 0 into /tmp/tmp25b3qahp/model.ckpt.\n",
            "INFO:tensorflow:loss = 2.3107567, step = 1\n",
            "INFO:tensorflow:global_step/sec: 2.87646\n",
            "INFO:tensorflow:loss = 0.1938956, step = 101 (34.766 sec)\n",
            "INFO:tensorflow:Saving checkpoints for 200 into /tmp/tmp25b3qahp/model.ckpt.\n",
            "INFO:tensorflow:Loss for final step: 0.05300786.\n"
          ],
          "name": "stdout"
        },
        {
          "output_type": "execute_result",
          "data": {
            "text/plain": [
              "<tensorflow_estimator.python.estimator.estimator.Estimator at 0x7fa1e90b8eb8>"
            ]
          },
          "metadata": {
            "tags": []
          },
          "execution_count": 42
        }
      ]
    },
    {
      "cell_type": "code",
      "metadata": {
        "id": "uVi5_zB4_Qms",
        "colab_type": "code",
        "colab": {}
      },
      "source": [
        ""
      ],
      "execution_count": 0,
      "outputs": []
    }
  ]
}