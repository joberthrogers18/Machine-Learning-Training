{
  "nbformat": 4,
  "nbformat_minor": 0,
  "metadata": {
    "colab": {
      "name": "functions_activation.ipynb",
      "provenance": [],
      "collapsed_sections": []
    },
    "kernelspec": {
      "name": "python3",
      "display_name": "Python 3"
    }
  },
  "cells": [
    {
      "cell_type": "code",
      "metadata": {
        "id": "YIgjIM8flw_F",
        "colab_type": "code",
        "colab": {}
      },
      "source": [
        "import numpy as np"
      ],
      "execution_count": 0,
      "outputs": []
    },
    {
      "cell_type": "code",
      "metadata": {
        "id": "_Wb1at7fl5y_",
        "colab_type": "code",
        "colab": {}
      },
      "source": [
        "#transfer functions\n",
        "def step_function(sum_nn):\n",
        "  if(sum_nn >= 1):\n",
        "    return 1\n",
        "\n",
        "  return 0"
      ],
      "execution_count": 0,
      "outputs": []
    },
    {
      "cell_type": "code",
      "metadata": {
        "id": "OGCfL5G5mJ0R",
        "colab_type": "code",
        "colab": {
          "base_uri": "https://localhost:8080/",
          "height": 34
        },
        "outputId": "2dff7050-dd37-458c-c28b-414ebe11369b"
      },
      "source": [
        "test = step_function(30)\n",
        "print(test)"
      ],
      "execution_count": 5,
      "outputs": [
        {
          "output_type": "stream",
          "text": [
            "1\n"
          ],
          "name": "stdout"
        }
      ]
    },
    {
      "cell_type": "code",
      "metadata": {
        "id": "cw3xlq9smYdu",
        "colab_type": "code",
        "colab": {}
      },
      "source": [
        "def sigmoid_function(sum_nn):\n",
        "  return 1 / (1 + np.exp(-sum_nn))\n"
      ],
      "execution_count": 0,
      "outputs": []
    },
    {
      "cell_type": "code",
      "metadata": {
        "id": "3Ounw7yInbTa",
        "colab_type": "code",
        "colab": {
          "base_uri": "https://localhost:8080/",
          "height": 34
        },
        "outputId": "a4dda989-1eb6-426c-f40f-af5e9d739a18"
      },
      "source": [
        "test2 = sigmoid_function(30)\n",
        "print(test2)"
      ],
      "execution_count": 10,
      "outputs": [
        {
          "output_type": "stream",
          "text": [
            "0.9999999999999065\n"
          ],
          "name": "stdout"
        }
      ]
    },
    {
      "cell_type": "code",
      "metadata": {
        "id": "_5aPz9joniD_",
        "colab_type": "code",
        "colab": {}
      },
      "source": [
        "# More used when there is possibilities of input negative\n",
        "# map better the negative data\n",
        "def hyperbolicTangent(sum_nn):\n",
        "  return (np.exp(sum_nn) - np.exp(-sum_nn))/(np.exp(sum_nn) + np.exp(-sum_nn)) "
      ],
      "execution_count": 0,
      "outputs": []
    },
    {
      "cell_type": "code",
      "metadata": {
        "id": "-8WVGAuDomLD",
        "colab_type": "code",
        "colab": {
          "base_uri": "https://localhost:8080/",
          "height": 34
        },
        "outputId": "99a06603-e7c8-4e61-bfe6-f566545c86df"
      },
      "source": [
        "test3 = hyperbolicTangent(-2)\n",
        "print(test3)"
      ],
      "execution_count": 14,
      "outputs": [
        {
          "output_type": "stream",
          "text": [
            "-0.964027580075817\n"
          ],
          "name": "stdout"
        }
      ]
    },
    {
      "cell_type": "code",
      "metadata": {
        "id": "7fSF-HxUorae",
        "colab_type": "code",
        "colab": {}
      },
      "source": [
        "def relu(sum_nn):\n",
        "  if sum_nn >= 0:\n",
        "    return sum_nn\n",
        "\n",
        "  return 0   "
      ],
      "execution_count": 0,
      "outputs": []
    },
    {
      "cell_type": "code",
      "metadata": {
        "id": "XVysNyOA6WnU",
        "colab_type": "code",
        "colab": {}
      },
      "source": [
        "test_4 = relu(-1)"
      ],
      "execution_count": 0,
      "outputs": []
    },
    {
      "cell_type": "code",
      "metadata": {
        "id": "rCw9qhPH6clE",
        "colab_type": "code",
        "colab": {}
      },
      "source": [
        "# Used in regression problems\n",
        "\n",
        "def linear_function(sum_nn):\n",
        "  return sum_nn"
      ],
      "execution_count": 0,
      "outputs": []
    },
    {
      "cell_type": "code",
      "metadata": {
        "id": "m_cITm4767Uz",
        "colab_type": "code",
        "colab": {}
      },
      "source": [
        "# Used in problems which there is more than 2 classes\n",
        "# return probabilities \n",
        "def softmax(x):\n",
        "  ex = np.exp(x)\n",
        "  return ex / ex.sum()"
      ],
      "execution_count": 0,
      "outputs": []
    },
    {
      "cell_type": "code",
      "metadata": {
        "id": "EzPpEk6d9JCG",
        "colab_type": "code",
        "colab": {
          "base_uri": "https://localhost:8080/",
          "height": 51
        },
        "outputId": "591c76bc-cdc1-48c5-a81a-1ea68fca099a"
      },
      "source": [
        "values = [7.0, 2.0, 1.3]\n",
        "print(softmax(values))"
      ],
      "execution_count": 24,
      "outputs": [
        {
          "output_type": "stream",
          "text": [
            "[1096.63315843    7.3890561     3.66929667]\n",
            "[0.99001676 0.00667068 0.00331256]\n"
          ],
          "name": "stdout"
        }
      ]
    },
    {
      "cell_type": "code",
      "metadata": {
        "id": "W7nvQbK89Ysk",
        "colab_type": "code",
        "colab": {}
      },
      "source": [
        ""
      ],
      "execution_count": 0,
      "outputs": []
    }
  ]
}