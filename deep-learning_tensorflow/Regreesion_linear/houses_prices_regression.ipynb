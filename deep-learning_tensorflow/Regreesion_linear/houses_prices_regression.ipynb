{
 "cells": [
  {
   "cell_type": "markdown",
   "metadata": {},
   "source": [
    "# Mode hardcode regression"
   ]
  },
  {
   "cell_type": "code",
   "execution_count": 3,
   "metadata": {},
   "outputs": [],
   "source": [
    "import pandas as pd\n",
    "base = pd.read_csv('houses_price.csv')"
   ]
  },
  {
   "cell_type": "code",
   "execution_count": 13,
   "metadata": {},
   "outputs": [
    {
     "data": {
      "text/html": [
       "<div>\n",
       "<style scoped>\n",
       "    .dataframe tbody tr th:only-of-type {\n",
       "        vertical-align: middle;\n",
       "    }\n",
       "\n",
       "    .dataframe tbody tr th {\n",
       "        vertical-align: top;\n",
       "    }\n",
       "\n",
       "    .dataframe thead th {\n",
       "        text-align: right;\n",
       "    }\n",
       "</style>\n",
       "<table border=\"1\" class=\"dataframe\">\n",
       "  <thead>\n",
       "    <tr style=\"text-align: right;\">\n",
       "      <th></th>\n",
       "      <th>id</th>\n",
       "      <th>date</th>\n",
       "      <th>price</th>\n",
       "      <th>bedrooms</th>\n",
       "      <th>bathrooms</th>\n",
       "      <th>sqft_living</th>\n",
       "      <th>sqft_lot</th>\n",
       "      <th>floors</th>\n",
       "      <th>waterfront</th>\n",
       "      <th>view</th>\n",
       "      <th>...</th>\n",
       "      <th>grade</th>\n",
       "      <th>sqft_above</th>\n",
       "      <th>sqft_basement</th>\n",
       "      <th>yr_built</th>\n",
       "      <th>yr_renovated</th>\n",
       "      <th>zipcode</th>\n",
       "      <th>lat</th>\n",
       "      <th>long</th>\n",
       "      <th>sqft_living15</th>\n",
       "      <th>sqft_lot15</th>\n",
       "    </tr>\n",
       "  </thead>\n",
       "  <tbody>\n",
       "    <tr>\n",
       "      <th>0</th>\n",
       "      <td>7129300520</td>\n",
       "      <td>20141013T000000</td>\n",
       "      <td>221900.0</td>\n",
       "      <td>3</td>\n",
       "      <td>1.00</td>\n",
       "      <td>1180</td>\n",
       "      <td>5650</td>\n",
       "      <td>1.0</td>\n",
       "      <td>0</td>\n",
       "      <td>0</td>\n",
       "      <td>...</td>\n",
       "      <td>7</td>\n",
       "      <td>1180</td>\n",
       "      <td>0</td>\n",
       "      <td>1955</td>\n",
       "      <td>0</td>\n",
       "      <td>98178</td>\n",
       "      <td>47.5112</td>\n",
       "      <td>-122.257</td>\n",
       "      <td>1340</td>\n",
       "      <td>5650</td>\n",
       "    </tr>\n",
       "    <tr>\n",
       "      <th>1</th>\n",
       "      <td>6414100192</td>\n",
       "      <td>20141209T000000</td>\n",
       "      <td>538000.0</td>\n",
       "      <td>3</td>\n",
       "      <td>2.25</td>\n",
       "      <td>2570</td>\n",
       "      <td>7242</td>\n",
       "      <td>2.0</td>\n",
       "      <td>0</td>\n",
       "      <td>0</td>\n",
       "      <td>...</td>\n",
       "      <td>7</td>\n",
       "      <td>2170</td>\n",
       "      <td>400</td>\n",
       "      <td>1951</td>\n",
       "      <td>1991</td>\n",
       "      <td>98125</td>\n",
       "      <td>47.7210</td>\n",
       "      <td>-122.319</td>\n",
       "      <td>1690</td>\n",
       "      <td>7639</td>\n",
       "    </tr>\n",
       "    <tr>\n",
       "      <th>2</th>\n",
       "      <td>5631500400</td>\n",
       "      <td>20150225T000000</td>\n",
       "      <td>180000.0</td>\n",
       "      <td>2</td>\n",
       "      <td>1.00</td>\n",
       "      <td>770</td>\n",
       "      <td>10000</td>\n",
       "      <td>1.0</td>\n",
       "      <td>0</td>\n",
       "      <td>0</td>\n",
       "      <td>...</td>\n",
       "      <td>6</td>\n",
       "      <td>770</td>\n",
       "      <td>0</td>\n",
       "      <td>1933</td>\n",
       "      <td>0</td>\n",
       "      <td>98028</td>\n",
       "      <td>47.7379</td>\n",
       "      <td>-122.233</td>\n",
       "      <td>2720</td>\n",
       "      <td>8062</td>\n",
       "    </tr>\n",
       "    <tr>\n",
       "      <th>3</th>\n",
       "      <td>2487200875</td>\n",
       "      <td>20141209T000000</td>\n",
       "      <td>604000.0</td>\n",
       "      <td>4</td>\n",
       "      <td>3.00</td>\n",
       "      <td>1960</td>\n",
       "      <td>5000</td>\n",
       "      <td>1.0</td>\n",
       "      <td>0</td>\n",
       "      <td>0</td>\n",
       "      <td>...</td>\n",
       "      <td>7</td>\n",
       "      <td>1050</td>\n",
       "      <td>910</td>\n",
       "      <td>1965</td>\n",
       "      <td>0</td>\n",
       "      <td>98136</td>\n",
       "      <td>47.5208</td>\n",
       "      <td>-122.393</td>\n",
       "      <td>1360</td>\n",
       "      <td>5000</td>\n",
       "    </tr>\n",
       "    <tr>\n",
       "      <th>4</th>\n",
       "      <td>1954400510</td>\n",
       "      <td>20150218T000000</td>\n",
       "      <td>510000.0</td>\n",
       "      <td>3</td>\n",
       "      <td>2.00</td>\n",
       "      <td>1680</td>\n",
       "      <td>8080</td>\n",
       "      <td>1.0</td>\n",
       "      <td>0</td>\n",
       "      <td>0</td>\n",
       "      <td>...</td>\n",
       "      <td>8</td>\n",
       "      <td>1680</td>\n",
       "      <td>0</td>\n",
       "      <td>1987</td>\n",
       "      <td>0</td>\n",
       "      <td>98074</td>\n",
       "      <td>47.6168</td>\n",
       "      <td>-122.045</td>\n",
       "      <td>1800</td>\n",
       "      <td>7503</td>\n",
       "    </tr>\n",
       "  </tbody>\n",
       "</table>\n",
       "<p>5 rows × 21 columns</p>\n",
       "</div>"
      ],
      "text/plain": [
       "           id             date     price  bedrooms  bathrooms  sqft_living  \\\n",
       "0  7129300520  20141013T000000  221900.0         3       1.00         1180   \n",
       "1  6414100192  20141209T000000  538000.0         3       2.25         2570   \n",
       "2  5631500400  20150225T000000  180000.0         2       1.00          770   \n",
       "3  2487200875  20141209T000000  604000.0         4       3.00         1960   \n",
       "4  1954400510  20150218T000000  510000.0         3       2.00         1680   \n",
       "\n",
       "   sqft_lot  floors  waterfront  view  ...  grade  sqft_above  sqft_basement  \\\n",
       "0      5650     1.0           0     0  ...      7        1180              0   \n",
       "1      7242     2.0           0     0  ...      7        2170            400   \n",
       "2     10000     1.0           0     0  ...      6         770              0   \n",
       "3      5000     1.0           0     0  ...      7        1050            910   \n",
       "4      8080     1.0           0     0  ...      8        1680              0   \n",
       "\n",
       "   yr_built  yr_renovated  zipcode      lat     long  sqft_living15  \\\n",
       "0      1955             0    98178  47.5112 -122.257           1340   \n",
       "1      1951          1991    98125  47.7210 -122.319           1690   \n",
       "2      1933             0    98028  47.7379 -122.233           2720   \n",
       "3      1965             0    98136  47.5208 -122.393           1360   \n",
       "4      1987             0    98074  47.6168 -122.045           1800   \n",
       "\n",
       "   sqft_lot15  \n",
       "0        5650  \n",
       "1        7639  \n",
       "2        8062  \n",
       "3        5000  \n",
       "4        7503  \n",
       "\n",
       "[5 rows x 21 columns]"
      ]
     },
     "execution_count": 13,
     "metadata": {},
     "output_type": "execute_result"
    }
   ],
   "source": [
    "base.head()"
   ]
  },
  {
   "cell_type": "code",
   "execution_count": 20,
   "metadata": {},
   "outputs": [
    {
     "name": "stdout",
     "output_type": "stream",
     "text": [
      "id               21613\n",
      "date             21613\n",
      "price            21613\n",
      "bedrooms         21613\n",
      "bathrooms        21613\n",
      "sqft_living      21613\n",
      "sqft_lot         21613\n",
      "floors           21613\n",
      "waterfront       21613\n",
      "view             21613\n",
      "condition        21613\n",
      "grade            21613\n",
      "sqft_above       21613\n",
      "sqft_basement    21613\n",
      "yr_built         21613\n",
      "yr_renovated     21613\n",
      "zipcode          21613\n",
      "lat              21613\n",
      "long             21613\n",
      "sqft_living15    21613\n",
      "sqft_lot15       21613\n",
      "dtype: int64\n",
      "(21613, 21)\n"
     ]
    }
   ],
   "source": [
    "# quantity of registers\n",
    "print(base.count())\n",
    "print(base.shape)"
   ]
  },
  {
   "cell_type": "code",
   "execution_count": 18,
   "metadata": {},
   "outputs": [
    {
     "name": "stdout",
     "output_type": "stream",
     "text": [
      "Feet square (meters)\n",
      "[1180 2570  770 ... 1020 1600 1020]\n",
      "\n",
      " Price of houses\n",
      "[[221900.]\n",
      " [538000.]\n",
      " [180000.]\n",
      " ...\n",
      " [402101.]\n",
      " [400000.]\n",
      " [325000.]]\n",
      "\n",
      "\n",
      " shape\n",
      "(21613, 1)\n",
      "(21613, 1)\n"
     ]
    }
   ],
   "source": [
    "# axis x is the feet square\n",
    "axis_x = base.iloc[ :, 5].values # values transform in numpy array\n",
    "# search value, price of houses\n",
    "axis_y = base.iloc[ :, 2:3 ].values # using 2:3, I don't need do reshape to transform in matrix\n",
    "print('Feet square (meters)')\n",
    "print(axis_x)\n",
    "print('\\n Price of houses')\n",
    "print(axis_y)\n",
    "\n",
    "# reshape the axis (transform in matrix)\n",
    "axis_x = axis_x.reshape(-1, 1)\n",
    "\n",
    "print('\\n\\n shape')\n",
    "print(axis_x.shape)\n",
    "print(axis_y.shape)"
   ]
  },
  {
   "cell_type": "code",
   "execution_count": 22,
   "metadata": {},
   "outputs": [],
   "source": [
    "# scaler the variables X and Y\n",
    "from sklearn.preprocessing import StandardScaler\n",
    "scaler_x = StandardScaler()\n",
    "scaler_y = StandardScaler()\n",
    "\n",
    "x_scaled = scaler_x.fit_transform(axis_x)\n",
    "y_scaled = scaler_y.fit_transform(axis_y)"
   ]
  },
  {
   "cell_type": "code",
   "execution_count": 34,
   "metadata": {},
   "outputs": [
    {
     "data": {
      "text/plain": [
       "[<matplotlib.lines.Line2D at 0x7f89bdaffc50>]"
      ]
     },
     "execution_count": 34,
     "metadata": {},
     "output_type": "execute_result"
    },
    {
     "data": {
      "image/png": "[encoded data removed]",
      "text/plain": [
       "<Figure size 432x288 with 1 Axes>"
      ]
     },
     "metadata": {
      "needs_background": "light"
     },
     "output_type": "display_data"
    }
   ],
   "source": [
    "import matplotlib.pyplot as plt\n",
    "%matplotlib inline\n",
    "\n",
    "plt.plot(x_scaled, y_scaled, 'o', color='red')"
   ]
  },
  {
   "cell_type": "code",
   "execution_count": 31,
   "metadata": {},
   "outputs": [
    {
     "data": {
      "text/plain": [
       "'2.1.0'"
      ]
     },
     "execution_count": 31,
     "metadata": {},
     "output_type": "execute_result"
    }
   ],
   "source": [
    "import numpy as np\n",
    "\n",
    "import tensorflow.compat.v1 as tf\n",
    "tf.disable_v2_behavior()\n",
    "tf.__version__"
   ]
  },
  {
   "cell_type": "code",
   "execution_count": 38,
   "metadata": {},
   "outputs": [],
   "source": [
    "# Use formula of simple regression y = b0 + b1 * x\n",
    "\n",
    "np.random.seed(1)\n",
    "random_number = np.random.rand(2)\n",
    "\n",
    "b0 = tf.Variable(random_number[0])\n",
    "b1 = tf.Variable(random_number[1])"
   ]
  },
  {
   "cell_type": "code",
   "execution_count": 67,
   "metadata": {},
   "outputs": [],
   "source": [
    "# training the algorithm using batch, 32 in 32\n",
    "batch_size = 32\n",
    "x_placeholder = tf.placeholder(tf.float64, [batch_size, 1])\n",
    "y_placeholder = tf.placeholder(tf.float64, [batch_size, 1])\n",
    "\n"
   ]
  },
  {
   "cell_type": "code",
   "execution_count": 68,
   "metadata": {},
   "outputs": [],
   "source": [
    "y_model = b0 + b1 * x_placeholder\n",
    "error = tf.losses.mean_squared_error(y_placeholder, y_model)\n",
    "optimizer = tf.train.GradientDescentOptimizer(learning_rate=0.001)\n",
    "training = optimizer.minimize(error)\n",
    "\n",
    "initialize_variables = tf.global_variables_initializer()\n",
    "\n",
    "with tf.Session() as sess:\n",
    "    sess.run( initialize_variables )\n",
    "    for i in range(10000):\n",
    "        indexes = np.random.randint(len(axis_x), size=batch_size)\n",
    "        feed = { x_placeholder: x_scaled[indexes], y_placeholder: y_scaled[indexes] }\n",
    "        sess.run(training, feed_dict=feed)\n",
    "    b0_final, b1_final = sess.run([b0, b1])"
   ]
  },
  {
   "cell_type": "code",
   "execution_count": 69,
   "metadata": {},
   "outputs": [
    {
     "name": "stdout",
     "output_type": "stream",
     "text": [
      "Coefficients finals =>  -6.294642231821748e-05 0.7064307466388234\n"
     ]
    }
   ],
   "source": [
    "print('Coefficients finals => ', b0_final, b1_final)"
   ]
  },
  {
   "cell_type": "code",
   "execution_count": 70,
   "metadata": {},
   "outputs": [
    {
     "data": {
      "text/plain": [
       "array([[-0.69224853],\n",
       "       [ 0.37691276],\n",
       "       [-1.00761265],\n",
       "       ...,\n",
       "       [-0.81531746],\n",
       "       [-0.3691926 ],\n",
       "       [-0.81531746]])"
      ]
     },
     "execution_count": 70,
     "metadata": {},
     "output_type": "execute_result"
    }
   ],
   "source": [
    "previsions = b0_final + b1_final * x_scaled\n",
    "previsions"
   ]
  },
  {
   "cell_type": "code",
   "execution_count": 71,
   "metadata": {},
   "outputs": [
    {
     "data": {
      "text/plain": [
       "[<matplotlib.lines.Line2D at 0x7f89ac0dd860>]"
      ]
     },
     "execution_count": 71,
     "metadata": {},
     "output_type": "execute_result"
    },
    {
     "data": {
      "image/png": "[encoded data removed]",
      "text/plain": [
       "<Figure size 432x288 with 1 Axes>"
      ]
     },
     "metadata": {
      "needs_background": "light"
     },
     "output_type": "display_data"
    }
   ],
   "source": [
    "plt.plot(x_scaled, y_scaled, 'o')\n",
    "plt.plot(x_scaled, previsions)"
   ]
  },
  {
   "cell_type": "code",
   "execution_count": 74,
   "metadata": {},
   "outputs": [
    {
     "name": "stdout",
     "output_type": "stream",
     "text": [
      "Invert the scale\n",
      "[[221900.]\n",
      " [538000.]\n",
      " [180000.]\n",
      " ...\n",
      " [402101.]\n",
      " [400000.]\n",
      " [325000.]]\n",
      "[[1444.12508245]\n",
      " [2426.06382027]\n",
      " [1154.48847632]\n",
      " ...\n",
      " [1331.09616298]\n",
      " [1740.82599603]\n",
      " [1331.09616298]]\n"
     ]
    }
   ],
   "source": [
    "# verify errors\n",
    "y1 = scaler_y.inverse_transform(y_scaled)\n",
    "previsions1 = scaler_x.inverse_transform(previsions)\n",
    "print('Invert the scale')\n",
    "print(y1)\n",
    "print(previsions1)"
   ]
  },
  {
   "cell_type": "code",
   "execution_count": 76,
   "metadata": {},
   "outputs": [
    {
     "name": "stdout",
     "output_type": "stream",
     "text": [
      "MAE and MSE =>  538008.2998414907 423895063221.7312\n"
     ]
    }
   ],
   "source": [
    "from sklearn.metrics import mean_squared_error, mean_absolute_error\n",
    "mae = mean_absolute_error(y1, previsions1)\n",
    "mse = mean_squared_error(y1, previsions1)\n",
    "print('MAE and MSE => ', mae, mse)"
   ]
  },
  {
   "cell_type": "markdown",
   "metadata": {},
   "source": [
    "# Using estimators for regression"
   ]
  },
  {
   "cell_type": "code",
   "execution_count": 1,
   "metadata": {},
   "outputs": [
    {
     "data": {
      "text/html": [
       "<div>\n",
       "<style scoped>\n",
       "    .dataframe tbody tr th:only-of-type {\n",
       "        vertical-align: middle;\n",
       "    }\n",
       "\n",
       "    .dataframe tbody tr th {\n",
       "        vertical-align: top;\n",
       "    }\n",
       "\n",
       "    .dataframe thead th {\n",
       "        text-align: right;\n",
       "    }\n",
       "</style>\n",
       "<table border=\"1\" class=\"dataframe\">\n",
       "  <thead>\n",
       "    <tr style=\"text-align: right;\">\n",
       "      <th></th>\n",
       "      <th>id</th>\n",
       "      <th>date</th>\n",
       "      <th>price</th>\n",
       "      <th>bedrooms</th>\n",
       "      <th>bathrooms</th>\n",
       "      <th>sqft_living</th>\n",
       "      <th>sqft_lot</th>\n",
       "      <th>floors</th>\n",
       "      <th>waterfront</th>\n",
       "      <th>view</th>\n",
       "      <th>...</th>\n",
       "      <th>grade</th>\n",
       "      <th>sqft_above</th>\n",
       "      <th>sqft_basement</th>\n",
       "      <th>yr_built</th>\n",
       "      <th>yr_renovated</th>\n",
       "      <th>zipcode</th>\n",
       "      <th>lat</th>\n",
       "      <th>long</th>\n",
       "      <th>sqft_living15</th>\n",
       "      <th>sqft_lot15</th>\n",
       "    </tr>\n",
       "  </thead>\n",
       "  <tbody>\n",
       "    <tr>\n",
       "      <th>0</th>\n",
       "      <td>7129300520</td>\n",
       "      <td>20141013T000000</td>\n",
       "      <td>221900.0</td>\n",
       "      <td>3</td>\n",
       "      <td>1.00</td>\n",
       "      <td>1180</td>\n",
       "      <td>5650</td>\n",
       "      <td>1.0</td>\n",
       "      <td>0</td>\n",
       "      <td>0</td>\n",
       "      <td>...</td>\n",
       "      <td>7</td>\n",
       "      <td>1180</td>\n",
       "      <td>0</td>\n",
       "      <td>1955</td>\n",
       "      <td>0</td>\n",
       "      <td>98178</td>\n",
       "      <td>47.5112</td>\n",
       "      <td>-122.257</td>\n",
       "      <td>1340</td>\n",
       "      <td>5650</td>\n",
       "    </tr>\n",
       "    <tr>\n",
       "      <th>1</th>\n",
       "      <td>6414100192</td>\n",
       "      <td>20141209T000000</td>\n",
       "      <td>538000.0</td>\n",
       "      <td>3</td>\n",
       "      <td>2.25</td>\n",
       "      <td>2570</td>\n",
       "      <td>7242</td>\n",
       "      <td>2.0</td>\n",
       "      <td>0</td>\n",
       "      <td>0</td>\n",
       "      <td>...</td>\n",
       "      <td>7</td>\n",
       "      <td>2170</td>\n",
       "      <td>400</td>\n",
       "      <td>1951</td>\n",
       "      <td>1991</td>\n",
       "      <td>98125</td>\n",
       "      <td>47.7210</td>\n",
       "      <td>-122.319</td>\n",
       "      <td>1690</td>\n",
       "      <td>7639</td>\n",
       "    </tr>\n",
       "    <tr>\n",
       "      <th>2</th>\n",
       "      <td>5631500400</td>\n",
       "      <td>20150225T000000</td>\n",
       "      <td>180000.0</td>\n",
       "      <td>2</td>\n",
       "      <td>1.00</td>\n",
       "      <td>770</td>\n",
       "      <td>10000</td>\n",
       "      <td>1.0</td>\n",
       "      <td>0</td>\n",
       "      <td>0</td>\n",
       "      <td>...</td>\n",
       "      <td>6</td>\n",
       "      <td>770</td>\n",
       "      <td>0</td>\n",
       "      <td>1933</td>\n",
       "      <td>0</td>\n",
       "      <td>98028</td>\n",
       "      <td>47.7379</td>\n",
       "      <td>-122.233</td>\n",
       "      <td>2720</td>\n",
       "      <td>8062</td>\n",
       "    </tr>\n",
       "    <tr>\n",
       "      <th>3</th>\n",
       "      <td>2487200875</td>\n",
       "      <td>20141209T000000</td>\n",
       "      <td>604000.0</td>\n",
       "      <td>4</td>\n",
       "      <td>3.00</td>\n",
       "      <td>1960</td>\n",
       "      <td>5000</td>\n",
       "      <td>1.0</td>\n",
       "      <td>0</td>\n",
       "      <td>0</td>\n",
       "      <td>...</td>\n",
       "      <td>7</td>\n",
       "      <td>1050</td>\n",
       "      <td>910</td>\n",
       "      <td>1965</td>\n",
       "      <td>0</td>\n",
       "      <td>98136</td>\n",
       "      <td>47.5208</td>\n",
       "      <td>-122.393</td>\n",
       "      <td>1360</td>\n",
       "      <td>5000</td>\n",
       "    </tr>\n",
       "    <tr>\n",
       "      <th>4</th>\n",
       "      <td>1954400510</td>\n",
       "      <td>20150218T000000</td>\n",
       "      <td>510000.0</td>\n",
       "      <td>3</td>\n",
       "      <td>2.00</td>\n",
       "      <td>1680</td>\n",
       "      <td>8080</td>\n",
       "      <td>1.0</td>\n",
       "      <td>0</td>\n",
       "      <td>0</td>\n",
       "      <td>...</td>\n",
       "      <td>8</td>\n",
       "      <td>1680</td>\n",
       "      <td>0</td>\n",
       "      <td>1987</td>\n",
       "      <td>0</td>\n",
       "      <td>98074</td>\n",
       "      <td>47.6168</td>\n",
       "      <td>-122.045</td>\n",
       "      <td>1800</td>\n",
       "      <td>7503</td>\n",
       "    </tr>\n",
       "  </tbody>\n",
       "</table>\n",
       "<p>5 rows × 21 columns</p>\n",
       "</div>"
      ],
      "text/plain": [
       "           id             date     price  bedrooms  bathrooms  sqft_living  \\\n",
       "0  7129300520  20141013T000000  221900.0         3       1.00         1180   \n",
       "1  6414100192  20141209T000000  538000.0         3       2.25         2570   \n",
       "2  5631500400  20150225T000000  180000.0         2       1.00          770   \n",
       "3  2487200875  20141209T000000  604000.0         4       3.00         1960   \n",
       "4  1954400510  20150218T000000  510000.0         3       2.00         1680   \n",
       "\n",
       "   sqft_lot  floors  waterfront  view  ...  grade  sqft_above  sqft_basement  \\\n",
       "0      5650     1.0           0     0  ...      7        1180              0   \n",
       "1      7242     2.0           0     0  ...      7        2170            400   \n",
       "2     10000     1.0           0     0  ...      6         770              0   \n",
       "3      5000     1.0           0     0  ...      7        1050            910   \n",
       "4      8080     1.0           0     0  ...      8        1680              0   \n",
       "\n",
       "   yr_built  yr_renovated  zipcode      lat     long  sqft_living15  \\\n",
       "0      1955             0    98178  47.5112 -122.257           1340   \n",
       "1      1951          1991    98125  47.7210 -122.319           1690   \n",
       "2      1933             0    98028  47.7379 -122.233           2720   \n",
       "3      1965             0    98136  47.5208 -122.393           1360   \n",
       "4      1987             0    98074  47.6168 -122.045           1800   \n",
       "\n",
       "   sqft_lot15  \n",
       "0        5650  \n",
       "1        7639  \n",
       "2        8062  \n",
       "3        5000  \n",
       "4        7503  \n",
       "\n",
       "[5 rows x 21 columns]"
      ]
     },
     "execution_count": 1,
     "metadata": {},
     "output_type": "execute_result"
    }
   ],
   "source": [
    "import pandas as pd\n",
    "base = pd.read_csv('houses_price.csv')\n",
    "base.head()"
   ]
  },
  {
   "cell_type": "code",
   "execution_count": 2,
   "metadata": {},
   "outputs": [
    {
     "data": {
      "text/plain": [
       "(21613, 21)"
      ]
     },
     "execution_count": 2,
     "metadata": {},
     "output_type": "execute_result"
    }
   ],
   "source": [
    "base.shape"
   ]
  },
  {
   "cell_type": "code",
   "execution_count": 3,
   "metadata": {},
   "outputs": [
    {
     "name": "stdout",
     "output_type": "stream",
     "text": [
      "[[1180]\n",
      " [2570]\n",
      " [ 770]\n",
      " ...\n",
      " [1020]\n",
      " [1600]\n",
      " [1020]]\n"
     ]
    }
   ],
   "source": [
    "axis_x_estimator = base.iloc[:, 5:6].values\n",
    "axis_y_estimator = base.iloc[:, 2:3].values\n",
    "print(axis_x_estimator)"
   ]
  },
  {
   "cell_type": "code",
   "execution_count": 4,
   "metadata": {},
   "outputs": [],
   "source": [
    "# scaler the values\n",
    "from sklearn.preprocessing import StandardScaler\n",
    "scaler_axis_x = StandardScaler()\n",
    "scaler_axis_y = StandardScaler()\n",
    "\n",
    "scalered_axis_x = scaler_axis_x.fit_transform( axis_x_estimator )\n",
    "scalered_axis_y = scaler_axis_y.fit_transform( axis_y_estimator )\n"
   ]
  },
  {
   "cell_type": "code",
   "execution_count": 5,
   "metadata": {},
   "outputs": [
    {
     "name": "stdout",
     "output_type": "stream",
     "text": [
      "WARNING:tensorflow:From /home/jobs/anaconda3/envs/pypy/lib/python3.6/site-packages/tensorflow_core/python/compat/v2_compat.py:88: disable_resource_variables (from tensorflow.python.ops.variable_scope) is deprecated and will be removed in a future version.\n",
      "Instructions for updating:\n",
      "non-resource variables are not supported in the long term\n"
     ]
    }
   ],
   "source": [
    "import numpy as np\n",
    "\n",
    "import tensorflow.compat.v1 as tf\n",
    "tf.disable_v2_behavior()"
   ]
  },
  {
   "cell_type": "code",
   "execution_count": 6,
   "metadata": {},
   "outputs": [
    {
     "name": "stdout",
     "output_type": "stream",
     "text": [
      "INFO:tensorflow:Using default config.\n",
      "WARNING:tensorflow:Using temporary folder as model directory: /tmp/tmph2kka0no\n",
      "INFO:tensorflow:Using config: {'_model_dir': '/tmp/tmph2kka0no', '_tf_random_seed': None, '_save_summary_steps': 100, '_save_checkpoints_steps': None, '_save_checkpoints_secs': 600, '_session_config': allow_soft_placement: true\n",
      "graph_options {\n",
      "  rewrite_options {\n",
      "    meta_optimizer_iterations: ONE\n",
      "  }\n",
      "}\n",
      ", '_keep_checkpoint_max': 5, '_keep_checkpoint_every_n_hours': 10000, '_log_step_count_steps': 100, '_train_distribute': None, '_device_fn': None, '_protocol': None, '_eval_distribute': None, '_experimental_distribute': None, '_experimental_max_worker_delay_secs': None, '_session_creation_timeout_secs': 7200, '_service': None, '_cluster_spec': ClusterSpec({}), '_task_type': 'worker', '_task_id': 0, '_global_id_in_cluster': 0, '_master': '', '_evaluation_master': '', '_is_chief': True, '_num_ps_replicas': 0, '_num_worker_replicas': 1}\n"
     ]
    }
   ],
   "source": [
    "# create columns \n",
    "columns = [tf.feature_column.numeric_column('x', shape=[1])]\n",
    "\n",
    "# create the model\n",
    "regressor = tf.estimator.LinearRegressor(feature_columns=columns)"
   ]
  },
  {
   "cell_type": "code",
   "execution_count": 8,
   "metadata": {},
   "outputs": [],
   "source": [
    "# divide the base between test and training\n",
    "from sklearn.model_selection import train_test_split\n",
    "x_train, x_test, y_train, y_test = train_test_split(\n",
    "    scalered_axis_x,\n",
    "    scalered_axis_y,\n",
    "    test_size=0.3,\n",
    ")"
   ]
  },
  {
   "cell_type": "code",
   "execution_count": 10,
   "metadata": {},
   "outputs": [],
   "source": [
    "# Generate model using batch registers\n",
    "function_train = tf.estimator.inputs.numpy_input_fn(\n",
    "    {'x': x_train},\n",
    "    y_train,\n",
    "    batch_size=32,\n",
    "    num_epochs=None,\n",
    "    shuffle= True\n",
    ")\n",
    "\n",
    "function_test = tf.estimator.inputs.numpy_input_fn(\n",
    "    {'x': x_test},\n",
    "    y_test,\n",
    "    batch_size=32,\n",
    "    num_epochs=1000,\n",
    "    shuffle=False\n",
    ")"
   ]
  },
  {
   "cell_type": "code",
   "execution_count": 11,
   "metadata": {},
   "outputs": [
    {
     "name": "stdout",
     "output_type": "stream",
     "text": [
      "WARNING:tensorflow:From /home/jobs/anaconda3/envs/pypy/lib/python3.6/site-packages/tensorflow_core/python/training/training_util.py:236: Variable.initialized_value (from tensorflow.python.ops.variables) is deprecated and will be removed in a future version.\n",
      "Instructions for updating:\n",
      "Use Variable.read_value. Variables in 2.X are initialized automatically both in eager and graph (inside tf.defun) contexts.\n",
      "WARNING:tensorflow:From /home/jobs/anaconda3/envs/pypy/lib/python3.6/site-packages/tensorflow_estimator/python/estimator/inputs/queues/feeding_queue_runner.py:62: QueueRunner.__init__ (from tensorflow.python.training.queue_runner_impl) is deprecated and will be removed in a future version.\n",
      "Instructions for updating:\n",
      "To construct input pipelines, use the `tf.data` module.\n",
      "WARNING:tensorflow:From /home/jobs/anaconda3/envs/pypy/lib/python3.6/site-packages/tensorflow_estimator/python/estimator/inputs/queues/feeding_functions.py:500: add_queue_runner (from tensorflow.python.training.queue_runner_impl) is deprecated and will be removed in a future version.\n",
      "Instructions for updating:\n",
      "To construct input pipelines, use the `tf.data` module.\n",
      "INFO:tensorflow:Calling model_fn.\n",
      "WARNING:tensorflow:From /home/jobs/anaconda3/envs/pypy/lib/python3.6/site-packages/tensorflow_core/python/ops/resource_variable_ops.py:1635: calling BaseResourceVariable.__init__ (from tensorflow.python.ops.resource_variable_ops) with constraint is deprecated and will be removed in a future version.\n",
      "Instructions for updating:\n",
      "If using Keras pass *_constraint arguments to layers.\n",
      "WARNING:tensorflow:From /home/jobs/anaconda3/envs/pypy/lib/python3.6/site-packages/tensorflow_core/python/feature_column/feature_column_v2.py:518: Layer.add_variable (from tensorflow.python.keras.engine.base_layer) is deprecated and will be removed in a future version.\n",
      "Instructions for updating:\n",
      "Please use `layer.add_weight` method instead.\n",
      "INFO:tensorflow:Done calling model_fn.\n",
      "INFO:tensorflow:Create CheckpointSaverHook.\n",
      "INFO:tensorflow:Graph was finalized.\n",
      "INFO:tensorflow:Running local_init_op.\n",
      "INFO:tensorflow:Done running local_init_op.\n",
      "WARNING:tensorflow:From /home/jobs/anaconda3/envs/pypy/lib/python3.6/site-packages/tensorflow_core/python/training/monitored_session.py:906: start_queue_runners (from tensorflow.python.training.queue_runner_impl) is deprecated and will be removed in a future version.\n",
      "Instructions for updating:\n",
      "To construct input pipelines, use the `tf.data` module.\n",
      "INFO:tensorflow:Saving checkpoints for 0 into /tmp/tmph2kka0no/model.ckpt.\n",
      "INFO:tensorflow:loss = 329.18784, step = 1\n",
      "INFO:tensorflow:global_step/sec: 210.727\n",
      "INFO:tensorflow:loss = 13.312934, step = 101 (0.476 sec)\n",
      "INFO:tensorflow:global_step/sec: 679.505\n",
      "INFO:tensorflow:loss = 19.512054, step = 201 (0.147 sec)\n",
      "WARNING:tensorflow:It seems that global step (tf.train.get_global_step) has not been increased. Current value (could be stable): 209 vs previous value: 209. You could increase the global step by passing tf.train.get_global_step() to Optimizer.apply_gradients or Optimizer.minimize.\n",
      "INFO:tensorflow:global_step/sec: 496.473\n",
      "INFO:tensorflow:loss = 11.460198, step = 301 (0.204 sec)\n",
      "INFO:tensorflow:global_step/sec: 422.189\n",
      "INFO:tensorflow:loss = 15.102316, step = 401 (0.235 sec)\n",
      "INFO:tensorflow:global_step/sec: 426.234\n",
      "INFO:tensorflow:loss = 17.518747, step = 501 (0.236 sec)\n",
      "INFO:tensorflow:global_step/sec: 391.356\n",
      "INFO:tensorflow:loss = 9.935883, step = 601 (0.262 sec)\n",
      "WARNING:tensorflow:It seems that global step (tf.train.get_global_step) has not been increased. Current value (could be stable): 646 vs previous value: 646. You could increase the global step by passing tf.train.get_global_step() to Optimizer.apply_gradients or Optimizer.minimize.\n",
      "WARNING:tensorflow:It seems that global step (tf.train.get_global_step) has not been increased. Current value (could be stable): 649 vs previous value: 649. You could increase the global step by passing tf.train.get_global_step() to Optimizer.apply_gradients or Optimizer.minimize.\n",
      "WARNING:tensorflow:It seems that global step (tf.train.get_global_step) has not been increased. Current value (could be stable): 652 vs previous value: 652. You could increase the global step by passing tf.train.get_global_step() to Optimizer.apply_gradients or Optimizer.minimize.\n",
      "INFO:tensorflow:global_step/sec: 324.733\n",
      "INFO:tensorflow:loss = 24.911259, step = 701 (0.306 sec)\n",
      "INFO:tensorflow:global_step/sec: 402.47\n",
      "INFO:tensorflow:loss = 8.346039, step = 801 (0.247 sec)\n",
      "WARNING:tensorflow:It seems that global step (tf.train.get_global_step) has not been increased. Current value (could be stable): 803 vs previous value: 803. You could increase the global step by passing tf.train.get_global_step() to Optimizer.apply_gradients or Optimizer.minimize.\n",
      "INFO:tensorflow:global_step/sec: 349.782\n",
      "INFO:tensorflow:loss = 12.527665, step = 901 (0.293 sec)\n",
      "INFO:tensorflow:global_step/sec: 347.234\n",
      "INFO:tensorflow:loss = 13.272802, step = 1001 (0.276 sec)\n",
      "INFO:tensorflow:global_step/sec: 608.462\n",
      "INFO:tensorflow:loss = 5.8455286, step = 1101 (0.173 sec)\n",
      "INFO:tensorflow:global_step/sec: 470.169\n",
      "INFO:tensorflow:loss = 10.670027, step = 1201 (0.209 sec)\n",
      "INFO:tensorflow:global_step/sec: 433.706\n",
      "INFO:tensorflow:loss = 21.286757, step = 1301 (0.231 sec)\n",
      "INFO:tensorflow:global_step/sec: 439.582\n",
      "INFO:tensorflow:loss = 45.607975, step = 1401 (0.232 sec)\n",
      "INFO:tensorflow:global_step/sec: 448.816\n",
      "INFO:tensorflow:loss = 12.801125, step = 1501 (0.214 sec)\n",
      "INFO:tensorflow:global_step/sec: 483.604\n",
      "INFO:tensorflow:loss = 13.32818, step = 1601 (0.208 sec)\n",
      "INFO:tensorflow:global_step/sec: 381.524\n",
      "INFO:tensorflow:loss = 7.6809287, step = 1701 (0.263 sec)\n",
      "INFO:tensorflow:global_step/sec: 385.497\n",
      "INFO:tensorflow:loss = 8.057428, step = 1801 (0.257 sec)\n",
      "INFO:tensorflow:global_step/sec: 605.303\n",
      "INFO:tensorflow:loss = 6.9592476, step = 1901 (0.165 sec)\n",
      "INFO:tensorflow:global_step/sec: 528.127\n",
      "INFO:tensorflow:loss = 16.47635, step = 2001 (0.193 sec)\n",
      "INFO:tensorflow:global_step/sec: 488.125\n",
      "INFO:tensorflow:loss = 25.240147, step = 2101 (0.201 sec)\n",
      "INFO:tensorflow:global_step/sec: 481.941\n",
      "INFO:tensorflow:loss = 15.869402, step = 2201 (0.206 sec)\n",
      "INFO:tensorflow:global_step/sec: 551.051\n",
      "INFO:tensorflow:loss = 16.773552, step = 2301 (0.181 sec)\n",
      "INFO:tensorflow:global_step/sec: 511.011\n",
      "INFO:tensorflow:loss = 9.4923315, step = 2401 (0.198 sec)\n",
      "INFO:tensorflow:global_step/sec: 466.263\n",
      "INFO:tensorflow:loss = 42.608192, step = 2501 (0.214 sec)\n",
      "INFO:tensorflow:global_step/sec: 416.472\n",
      "INFO:tensorflow:loss = 7.9829373, step = 2601 (0.242 sec)\n",
      "INFO:tensorflow:global_step/sec: 398.123\n",
      "INFO:tensorflow:loss = 10.789104, step = 2701 (0.250 sec)\n",
      "INFO:tensorflow:global_step/sec: 505.371\n",
      "INFO:tensorflow:loss = 8.641682, step = 2801 (0.197 sec)\n",
      "INFO:tensorflow:global_step/sec: 432.778\n",
      "INFO:tensorflow:loss = 6.489061, step = 2901 (0.234 sec)\n",
      "INFO:tensorflow:global_step/sec: 531.803\n",
      "INFO:tensorflow:loss = 9.812433, step = 3001 (0.189 sec)\n",
      "INFO:tensorflow:global_step/sec: 446.156\n",
      "INFO:tensorflow:loss = 8.21961, step = 3101 (0.221 sec)\n",
      "INFO:tensorflow:global_step/sec: 575.513\n",
      "INFO:tensorflow:loss = 8.1825695, step = 3201 (0.179 sec)\n",
      "INFO:tensorflow:global_step/sec: 583.097\n",
      "INFO:tensorflow:loss = 27.014324, step = 3301 (0.171 sec)\n",
      "INFO:tensorflow:global_step/sec: 584.747\n",
      "INFO:tensorflow:loss = 15.549427, step = 3401 (0.170 sec)\n",
      "INFO:tensorflow:global_step/sec: 471.093\n",
      "INFO:tensorflow:loss = 19.096645, step = 3501 (0.211 sec)\n",
      "INFO:tensorflow:global_step/sec: 386.529\n",
      "INFO:tensorflow:loss = 18.468264, step = 3601 (0.257 sec)\n",
      "INFO:tensorflow:global_step/sec: 371.427\n",
      "INFO:tensorflow:loss = 14.6106205, step = 3701 (0.270 sec)\n",
      "INFO:tensorflow:global_step/sec: 513.808\n",
      "INFO:tensorflow:loss = 39.58218, step = 3801 (0.194 sec)\n",
      "INFO:tensorflow:global_step/sec: 817.59\n",
      "INFO:tensorflow:loss = 8.880812, step = 3901 (0.122 sec)\n",
      "INFO:tensorflow:global_step/sec: 573.683\n",
      "INFO:tensorflow:loss = 16.394905, step = 4001 (0.172 sec)\n",
      "INFO:tensorflow:global_step/sec: 522.595\n",
      "INFO:tensorflow:loss = 6.78996, step = 4101 (0.195 sec)\n",
      "INFO:tensorflow:global_step/sec: 511.651\n",
      "INFO:tensorflow:loss = 7.446792, step = 4201 (0.192 sec)\n",
      "INFO:tensorflow:global_step/sec: 373.863\n",
      "INFO:tensorflow:loss = 13.774271, step = 4301 (0.269 sec)\n"
     ]
    },
    {
     "name": "stdout",
     "output_type": "stream",
     "text": [
      "INFO:tensorflow:global_step/sec: 398.092\n",
      "INFO:tensorflow:loss = 7.317271, step = 4401 (0.250 sec)\n",
      "INFO:tensorflow:global_step/sec: 272.897\n",
      "INFO:tensorflow:loss = 13.377101, step = 4501 (0.367 sec)\n",
      "INFO:tensorflow:global_step/sec: 122.55\n",
      "INFO:tensorflow:loss = 30.61747, step = 4601 (0.815 sec)\n",
      "INFO:tensorflow:global_step/sec: 217.782\n",
      "INFO:tensorflow:loss = 9.470055, step = 4701 (0.472 sec)\n",
      "INFO:tensorflow:global_step/sec: 369.089\n",
      "INFO:tensorflow:loss = 18.742695, step = 4801 (0.262 sec)\n",
      "INFO:tensorflow:global_step/sec: 362.853\n",
      "INFO:tensorflow:loss = 26.450844, step = 4901 (0.273 sec)\n",
      "INFO:tensorflow:global_step/sec: 395.185\n",
      "INFO:tensorflow:loss = 18.271437, step = 5001 (0.255 sec)\n",
      "INFO:tensorflow:global_step/sec: 435.811\n",
      "INFO:tensorflow:loss = 24.607895, step = 5101 (0.226 sec)\n",
      "INFO:tensorflow:global_step/sec: 623.533\n",
      "INFO:tensorflow:loss = 12.141912, step = 5201 (0.160 sec)\n",
      "INFO:tensorflow:global_step/sec: 605.256\n",
      "INFO:tensorflow:loss = 8.977308, step = 5301 (0.165 sec)\n",
      "INFO:tensorflow:global_step/sec: 470.26\n",
      "INFO:tensorflow:loss = 10.089794, step = 5401 (0.213 sec)\n",
      "INFO:tensorflow:global_step/sec: 441.343\n",
      "INFO:tensorflow:loss = 26.297066, step = 5501 (0.226 sec)\n",
      "INFO:tensorflow:global_step/sec: 470.883\n",
      "INFO:tensorflow:loss = 7.7189894, step = 5601 (0.212 sec)\n",
      "INFO:tensorflow:global_step/sec: 483.512\n",
      "INFO:tensorflow:loss = 9.613329, step = 5701 (0.207 sec)\n",
      "INFO:tensorflow:global_step/sec: 470.685\n",
      "INFO:tensorflow:loss = 19.340471, step = 5801 (0.212 sec)\n",
      "INFO:tensorflow:global_step/sec: 485.781\n",
      "INFO:tensorflow:loss = 11.569963, step = 5901 (0.210 sec)\n",
      "INFO:tensorflow:global_step/sec: 521.784\n",
      "INFO:tensorflow:loss = 18.081154, step = 6001 (0.191 sec)\n",
      "INFO:tensorflow:global_step/sec: 520.275\n",
      "INFO:tensorflow:loss = 8.935434, step = 6101 (0.189 sec)\n",
      "INFO:tensorflow:global_step/sec: 714.76\n",
      "INFO:tensorflow:loss = 11.170893, step = 6201 (0.139 sec)\n",
      "INFO:tensorflow:global_step/sec: 717.385\n",
      "INFO:tensorflow:loss = 16.586628, step = 6301 (0.139 sec)\n",
      "INFO:tensorflow:global_step/sec: 437.541\n",
      "INFO:tensorflow:loss = 25.553213, step = 6401 (0.229 sec)\n",
      "INFO:tensorflow:global_step/sec: 449.717\n",
      "INFO:tensorflow:loss = 11.165026, step = 6501 (0.222 sec)\n",
      "INFO:tensorflow:global_step/sec: 471.687\n",
      "INFO:tensorflow:loss = 16.144379, step = 6601 (0.212 sec)\n",
      "INFO:tensorflow:global_step/sec: 497.308\n",
      "INFO:tensorflow:loss = 11.386385, step = 6701 (0.201 sec)\n",
      "INFO:tensorflow:global_step/sec: 480.393\n",
      "INFO:tensorflow:loss = 7.716152, step = 6801 (0.208 sec)\n",
      "INFO:tensorflow:global_step/sec: 485.112\n",
      "INFO:tensorflow:loss = 10.500786, step = 6901 (0.206 sec)\n",
      "INFO:tensorflow:global_step/sec: 499.475\n",
      "INFO:tensorflow:loss = 15.275788, step = 7001 (0.200 sec)\n",
      "INFO:tensorflow:global_step/sec: 444.828\n",
      "INFO:tensorflow:loss = 12.583959, step = 7101 (0.231 sec)\n",
      "INFO:tensorflow:global_step/sec: 619.096\n",
      "INFO:tensorflow:loss = 13.742672, step = 7201 (0.158 sec)\n",
      "INFO:tensorflow:global_step/sec: 703.406\n",
      "INFO:tensorflow:loss = 25.016754, step = 7301 (0.139 sec)\n",
      "INFO:tensorflow:global_step/sec: 532.688\n",
      "INFO:tensorflow:loss = 20.685307, step = 7401 (0.188 sec)\n",
      "INFO:tensorflow:global_step/sec: 419.134\n",
      "INFO:tensorflow:loss = 9.966285, step = 7501 (0.239 sec)\n",
      "INFO:tensorflow:global_step/sec: 371.795\n",
      "INFO:tensorflow:loss = 9.533858, step = 7601 (0.269 sec)\n",
      "INFO:tensorflow:global_step/sec: 395.74\n",
      "INFO:tensorflow:loss = 16.976622, step = 7701 (0.255 sec)\n",
      "INFO:tensorflow:global_step/sec: 341.47\n",
      "INFO:tensorflow:loss = 7.8242464, step = 7801 (0.290 sec)\n",
      "INFO:tensorflow:global_step/sec: 330.686\n",
      "INFO:tensorflow:loss = 28.570303, step = 7901 (0.305 sec)\n",
      "INFO:tensorflow:global_step/sec: 486.369\n",
      "INFO:tensorflow:loss = 8.621185, step = 8001 (0.205 sec)\n",
      "INFO:tensorflow:global_step/sec: 345.36\n",
      "INFO:tensorflow:loss = 29.467926, step = 8101 (0.288 sec)\n",
      "INFO:tensorflow:global_step/sec: 355.213\n",
      "INFO:tensorflow:loss = 71.09347, step = 8201 (0.284 sec)\n",
      "INFO:tensorflow:global_step/sec: 448.684\n",
      "INFO:tensorflow:loss = 7.6921153, step = 8301 (0.221 sec)\n",
      "INFO:tensorflow:global_step/sec: 506.261\n",
      "INFO:tensorflow:loss = 18.197866, step = 8401 (0.198 sec)\n",
      "INFO:tensorflow:global_step/sec: 294.947\n",
      "INFO:tensorflow:loss = 8.375937, step = 8501 (0.342 sec)\n",
      "INFO:tensorflow:global_step/sec: 622.572\n",
      "INFO:tensorflow:loss = 15.610532, step = 8601 (0.157 sec)\n",
      "INFO:tensorflow:global_step/sec: 549.655\n",
      "INFO:tensorflow:loss = 9.406982, step = 8701 (0.183 sec)\n",
      "INFO:tensorflow:global_step/sec: 451.781\n",
      "INFO:tensorflow:loss = 52.50124, step = 8801 (0.220 sec)\n",
      "INFO:tensorflow:global_step/sec: 461.22\n",
      "INFO:tensorflow:loss = 17.46383, step = 8901 (0.217 sec)\n",
      "INFO:tensorflow:global_step/sec: 480.712\n",
      "INFO:tensorflow:loss = 30.243824, step = 9001 (0.208 sec)\n",
      "INFO:tensorflow:global_step/sec: 454.474\n",
      "INFO:tensorflow:loss = 7.054302, step = 9101 (0.220 sec)\n",
      "INFO:tensorflow:global_step/sec: 377.13\n",
      "INFO:tensorflow:loss = 6.820869, step = 9201 (0.270 sec)\n",
      "INFO:tensorflow:global_step/sec: 373.729\n",
      "INFO:tensorflow:loss = 13.399738, step = 9301 (0.265 sec)\n",
      "INFO:tensorflow:global_step/sec: 413.883\n",
      "INFO:tensorflow:loss = 6.3213997, step = 9401 (0.243 sec)\n",
      "INFO:tensorflow:global_step/sec: 342.061\n",
      "INFO:tensorflow:loss = 10.057971, step = 9501 (0.293 sec)\n",
      "INFO:tensorflow:global_step/sec: 427.637\n",
      "INFO:tensorflow:loss = 15.354358, step = 9601 (0.236 sec)\n",
      "INFO:tensorflow:global_step/sec: 440.856\n",
      "INFO:tensorflow:loss = 8.261267, step = 9701 (0.224 sec)\n",
      "INFO:tensorflow:global_step/sec: 488.025\n",
      "INFO:tensorflow:loss = 21.543999, step = 9801 (0.207 sec)\n",
      "INFO:tensorflow:global_step/sec: 513.028\n",
      "INFO:tensorflow:loss = 31.641521, step = 9901 (0.193 sec)\n",
      "INFO:tensorflow:Saving checkpoints for 10000 into /tmp/tmph2kka0no/model.ckpt.\n",
      "INFO:tensorflow:Loss for final step: 30.876629.\n"
     ]
    },
    {
     "data": {
      "text/plain": [
       "<tensorflow_estimator.python.estimator.canned.linear.LinearRegressor at 0x7fd45f136940>"
      ]
     },
     "execution_count": 11,
     "metadata": {},
     "output_type": "execute_result"
    }
   ],
   "source": [
    "#training model\n",
    "regressor.train(\n",
    "    input_fn=function_train,\n",
    "    steps=10000,\n",
    ")"
   ]
  },
  {
   "cell_type": "code",
   "execution_count": 12,
   "metadata": {},
   "outputs": [
    {
     "name": "stdout",
     "output_type": "stream",
     "text": [
      "INFO:tensorflow:Calling model_fn.\n",
      "INFO:tensorflow:Done calling model_fn.\n",
      "INFO:tensorflow:Starting evaluation at 2020-03-23T18:57:14Z\n",
      "INFO:tensorflow:Graph was finalized.\n",
      "INFO:tensorflow:Restoring parameters from /tmp/tmph2kka0no/model.ckpt-10000\n",
      "INFO:tensorflow:Running local_init_op.\n",
      "INFO:tensorflow:Done running local_init_op.\n",
      "INFO:tensorflow:Evaluation [1000/10000]\n",
      "INFO:tensorflow:Evaluation [2000/10000]\n",
      "INFO:tensorflow:Evaluation [3000/10000]\n",
      "INFO:tensorflow:Evaluation [4000/10000]\n",
      "INFO:tensorflow:Evaluation [5000/10000]\n",
      "INFO:tensorflow:Evaluation [6000/10000]\n",
      "INFO:tensorflow:Evaluation [7000/10000]\n",
      "INFO:tensorflow:Evaluation [8000/10000]\n",
      "INFO:tensorflow:Evaluation [9000/10000]\n",
      "INFO:tensorflow:Evaluation [10000/10000]\n",
      "INFO:tensorflow:Inference Time : 15.99679s\n",
      "INFO:tensorflow:Finished evaluation at 2020-03-23-18:57:30\n",
      "INFO:tensorflow:Saving dict for global step 10000: average_loss = 0.50250053, global_step = 10000, label/mean = -0.0023149794, loss = 16.080017, prediction/mean = 0.009601297\n",
      "INFO:tensorflow:Saving 'checkpoint_path' summary for global step 10000: /tmp/tmph2kka0no/model.ckpt-10000\n"
     ]
    }
   ],
   "source": [
    "metrics_training = regressor.evaluate(\n",
    "    input_fn= function_train, \n",
    "    steps=10000\n",
    ")"
   ]
  },
  {
   "cell_type": "code",
   "execution_count": 13,
   "metadata": {},
   "outputs": [
    {
     "name": "stdout",
     "output_type": "stream",
     "text": [
      "INFO:tensorflow:Calling model_fn.\n",
      "INFO:tensorflow:Done calling model_fn.\n",
      "INFO:tensorflow:Starting evaluation at 2020-03-23T18:58:27Z\n",
      "INFO:tensorflow:Graph was finalized.\n",
      "INFO:tensorflow:Restoring parameters from /tmp/tmph2kka0no/model.ckpt-10000\n",
      "INFO:tensorflow:Running local_init_op.\n",
      "INFO:tensorflow:Done running local_init_op.\n",
      "INFO:tensorflow:Evaluation [1000/10000]\n",
      "INFO:tensorflow:Evaluation [2000/10000]\n",
      "INFO:tensorflow:Evaluation [3000/10000]\n",
      "INFO:tensorflow:Evaluation [4000/10000]\n",
      "INFO:tensorflow:Evaluation [5000/10000]\n",
      "INFO:tensorflow:Evaluation [6000/10000]\n",
      "INFO:tensorflow:Evaluation [7000/10000]\n",
      "INFO:tensorflow:Evaluation [8000/10000]\n",
      "INFO:tensorflow:Evaluation [9000/10000]\n",
      "INFO:tensorflow:Evaluation [10000/10000]\n",
      "INFO:tensorflow:Inference Time : 15.96815s\n",
      "INFO:tensorflow:Finished evaluation at 2020-03-23-18:58:43\n",
      "INFO:tensorflow:Saving dict for global step 10000: average_loss = 0.51950943, global_step = 10000, label/mean = 0.005920722, loss = 16.624302, prediction/mean = 0.011161863\n",
      "INFO:tensorflow:Saving 'checkpoint_path' summary for global step 10000: /tmp/tmph2kka0no/model.ckpt-10000\n"
     ]
    }
   ],
   "source": [
    "metrics_test = regressor.evaluate(\n",
    "    input_fn= function_test,\n",
    "    steps=10000\n",
    ")"
   ]
  },
  {
   "cell_type": "code",
   "execution_count": 14,
   "metadata": {},
   "outputs": [
    {
     "data": {
      "text/plain": [
       "{'average_loss': 0.50250053,\n",
       " 'label/mean': -0.0023149794,\n",
       " 'loss': 16.080017,\n",
       " 'prediction/mean': 0.009601297,\n",
       " 'global_step': 10000}"
      ]
     },
     "execution_count": 14,
     "metadata": {},
     "output_type": "execute_result"
    }
   ],
   "source": [
    "# metrics training\n",
    "metrics_training"
   ]
  },
  {
   "cell_type": "code",
   "execution_count": 15,
   "metadata": {},
   "outputs": [
    {
     "data": {
      "text/plain": [
       "{'average_loss': 0.51950943,\n",
       " 'label/mean': 0.005920722,\n",
       " 'loss': 16.624302,\n",
       " 'prediction/mean': 0.011161863,\n",
       " 'global_step': 10000}"
      ]
     },
     "execution_count": 15,
     "metadata": {},
     "output_type": "execute_result"
    }
   ],
   "source": [
    "# metrics tests\n",
    "metrics_test"
   ]
  },
  {
   "cell_type": "code",
   "execution_count": 19,
   "metadata": {},
   "outputs": [],
   "source": [
    "# Create new registers\n",
    "import numpy as np\n",
    "new_houses = np.array([[800], [900], [1000]])\n",
    "new_houses = scaler_axis_x.fit_transform(new_houses)"
   ]
  },
  {
   "cell_type": "code",
   "execution_count": 20,
   "metadata": {},
   "outputs": [
    {
     "name": "stdout",
     "output_type": "stream",
     "text": [
      "INFO:tensorflow:Calling model_fn.\n",
      "INFO:tensorflow:Done calling model_fn.\n",
      "INFO:tensorflow:Graph was finalized.\n",
      "INFO:tensorflow:Restoring parameters from /tmp/tmph2kka0no/model.ckpt-10000\n",
      "INFO:tensorflow:Running local_init_op.\n",
      "INFO:tensorflow:Done running local_init_op.\n"
     ]
    },
    {
     "data": {
      "text/plain": [
       "[{'predictions': array([-0.84122765], dtype=float32)},\n",
       " {'predictions': array([0.01001125], dtype=float32)},\n",
       " {'predictions': array([0.86125016], dtype=float32)}]"
      ]
     },
     "execution_count": 20,
     "metadata": {},
     "output_type": "execute_result"
    }
   ],
   "source": [
    "function_prevision = tf.estimator.inputs.numpy_input_fn(\n",
    "    {'x': new_houses},\n",
    "    shuffle=False\n",
    ")\n",
    "\n",
    "previsions = regressor.predict(input_fn= function_prevision)\n",
    "# cast generate to list\n",
    "list(previsions)"
   ]
  },
  {
   "cell_type": "code",
   "execution_count": 23,
   "metadata": {},
   "outputs": [
    {
     "name": "stdout",
     "output_type": "stream",
     "text": [
      "values predicted\n",
      "INFO:tensorflow:Calling model_fn.\n",
      "INFO:tensorflow:Done calling model_fn.\n",
      "INFO:tensorflow:Graph was finalized.\n",
      "INFO:tensorflow:Restoring parameters from /tmp/tmph2kka0no/model.ckpt-10000\n",
      "INFO:tensorflow:Running local_init_op.\n",
      "INFO:tensorflow:Done running local_init_op.\n",
      "[831.314]\n",
      "[900.81744]\n",
      "[970.3208]\n"
     ]
    }
   ],
   "source": [
    "print('values predicted')\n",
    "for p in regressor.predict(input_fn=function_prevision):\n",
    "    print(scaler_axis_x.inverse_transform(p['predictions']))"
   ]
  },
  {
   "cell_type": "code",
   "execution_count": null,
   "metadata": {},
   "outputs": [],
   "source": []
  }
 ],
 "metadata": {
  "kernelspec": {
   "display_name": "Python 3",
   "language": "python",
   "name": "python3"
  },
  "language_info": {
   "codemirror_mode": {
    "name": "ipython",
    "version": 3
   },
   "file_extension": ".py",
   "mimetype": "text/x-python",
   "name": "python",
   "nbconvert_exporter": "python",
   "pygments_lexer": "ipython3",
   "version": "3.6.10"
  }
 },
 "nbformat": 4,
 "nbformat_minor": 4
}
