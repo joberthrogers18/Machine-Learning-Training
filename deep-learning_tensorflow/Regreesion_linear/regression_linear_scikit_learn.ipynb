{
 "cells": [
  {
   "cell_type": "markdown",
   "metadata": {},
   "source": [
    "## Linear regression"
   ]
  },
  {
   "cell_type": "code",
   "execution_count": 4,
   "metadata": {},
   "outputs": [],
   "source": [
    "import numpy as np\n",
    "from sklearn.linear_model import LinearRegression\n",
    "import matplotlib.pyplot as plt\n",
    "%matplotlib inline"
   ]
  },
  {
   "cell_type": "markdown",
   "metadata": {},
   "source": [
    "## Using scikit-learn"
   ]
  },
  {
   "cell_type": "code",
   "execution_count": 5,
   "metadata": {},
   "outputs": [],
   "source": [
    "# the ages of people who wanna hire the health plan\n",
    "axis_x = np.array([[18], [23], [28], [33], [38], [43], [48], [53],[58], [63]])\n",
    "# price of health plan\n",
    "axis_y = np.array([\n",
    "    [871], [1132], [1042], [1356], \n",
    "    [1488], [1638], [1569], [1754], \n",
    "    [1866], [1900]\n",
    "])"
   ]
  },
  {
   "cell_type": "code",
   "execution_count": 6,
   "metadata": {},
   "outputs": [
    {
     "data": {
      "text/plain": [
       "<matplotlib.collections.PathCollection at 0x7fbec1b80ba8>"
      ]
     },
     "execution_count": 6,
     "metadata": {},
     "output_type": "execute_result"
    },
    {
     "data": {
      "image/png": "[encoded data removed]",
      "text/plain": [
       "<Figure size 432x288 with 1 Axes>"
      ]
     },
     "metadata": {
      "needs_background": "light"
     },
     "output_type": "display_data"
    }
   ],
   "source": [
    "# plot a graph of ages by price plan\n",
    "plt.scatter(axis_x, axis_y)\n",
    "\n",
    "# If there is the tendence of values grow, can use the regression"
   ]
  },
  {
   "cell_type": "code",
   "execution_count": 7,
   "metadata": {},
   "outputs": [
    {
     "data": {
      "text/plain": [
       "LinearRegression(copy_X=True, fit_intercept=True, n_jobs=None, normalize=False)"
      ]
     },
     "execution_count": 7,
     "metadata": {},
     "output_type": "execute_result"
    }
   ],
   "source": [
    "regressor = LinearRegression()\n",
    "# training the model\n",
    "regressor.fit(axis_x, axis_y)"
   ]
  },
  {
   "cell_type": "code",
   "execution_count": 8,
   "metadata": {},
   "outputs": [
    {
     "name": "stdout",
     "output_type": "stream",
     "text": [
      "Coefficient b0: [541.24363636]\n",
      "Coefficient b1 [[22.72484848]]\n"
     ]
    }
   ],
   "source": [
    "# coeficient b0, which intercept the axis x in some pont (is constant)\n",
    "print('Coefficient b0:', regressor.intercept_)\n",
    "# coefficient b1, inclination of the line in graph (variable accord the entries)\n",
    "print('Coefficient b1', regressor.coef_)"
   ]
  },
  {
   "cell_type": "code",
   "execution_count": 9,
   "metadata": {},
   "outputs": [
    {
     "name": "stdout",
     "output_type": "stream",
     "text": [
      "Prediction of a health plan price for a person with 40th age(hardcode): [1450.23757576]\n",
      "Prediction of a health plan price for a person with 40th age(automated): [1450.23757576]\n"
     ]
    }
   ],
   "source": [
    "# prevision type hardcode\n",
    "prevision1 = regressor.intercept_ + regressor.coef_ * 40\n",
    "print('Prediction of a health plan price for a person with 40th age(hardcode):', prevision1[0])\n",
    "# prevision using the own sklearn\n",
    "prevision2 = regressor.predict(np.array([[40]]))\n",
    "print('Prediction of a health plan price for a person with 40th age(automated):', prevision2[0])"
   ]
  },
  {
   "cell_type": "code",
   "execution_count": 10,
   "metadata": {},
   "outputs": [
    {
     "name": "stdout",
     "output_type": "stream",
     "text": [
      "Predict for multi values:  [[ 950.29090909]\n",
      " [1063.91515152]\n",
      " [1177.53939394]\n",
      " [1291.16363636]\n",
      " [1404.78787879]\n",
      " [1518.41212121]\n",
      " [1632.03636364]\n",
      " [1745.66060606]\n",
      " [1859.28484848]\n",
      " [1972.90909091]]\n"
     ]
    }
   ],
   "source": [
    "# prevision for multiple values\n",
    "prevision_multi = regressor.predict(axis_x)\n",
    "print('Predict for multi values: ', prevision_multi)"
   ]
  },
  {
   "cell_type": "code",
   "execution_count": 11,
   "metadata": {},
   "outputs": [
    {
     "name": "stdout",
     "output_type": "stream",
     "text": [
      "Predicted values vs values reals\n",
      "[[ 79.29090909]\n",
      " [ 68.08484848]\n",
      " [135.53939394]\n",
      " [ 64.83636364]\n",
      " [ 83.21212121]\n",
      " [119.58787879]\n",
      " [ 63.03636364]\n",
      " [  8.33939394]\n",
      " [  6.71515152]\n",
      " [ 72.90909091]]\n",
      "\n",
      " mean of erros (Errors up or down)\n",
      "70.15515151515152\n"
     ]
    }
   ],
   "source": [
    "# compare values predict with reals\n",
    "print('Predicted values vs values reals')\n",
    "results = abs(axis_y - prevision_multi)\n",
    "print(results)\n",
    "print('\\n mean of erros (Errors up or down)')\n",
    "# Check the efficiency of model, this model can wrong 70 for up or 70 for down\n",
    "print(results.mean())"
   ]
  },
  {
   "cell_type": "code",
   "execution_count": 12,
   "metadata": {},
   "outputs": [
    {
     "name": "stdout",
     "output_type": "stream",
     "text": [
      "Mean absolute error:  70.15515151515152\n",
      "Mean squred error:  6412.675151515151\n"
     ]
    }
   ],
   "source": [
    "# efficiency of model calculated by sklearn\n",
    "# MSE and MAE\n",
    "from sklearn.metrics import mean_absolute_error, mean_squared_error\n",
    "mae = mean_absolute_error(axis_y, prevision_multi)\n",
    "mse = mean_squared_error(axis_y, prevision_multi)\n",
    "\n",
    "print('Mean absolute error: ', mae)\n",
    "# Give the value much greater than Mean absolute error, because it is elevated the square\n",
    "# Penalize the biggest errors\n",
    "print('Mean squred error: ', mse)"
   ]
  },
  {
   "cell_type": "code",
   "execution_count": 13,
   "metadata": {},
   "outputs": [
    {
     "data": {
      "text/plain": [
       "Text(0, 0.5, 'Cost health plan')"
      ]
     },
     "execution_count": 13,
     "metadata": {},
     "output_type": "execute_result"
    },
    {
     "data": {
      "image/png": "[encoded data removed]",
      "text/plain": [
       "<Figure size 432x288 with 1 Axes>"
      ]
     },
     "metadata": {
      "needs_background": "light"
     },
     "output_type": "display_data"
    }
   ],
   "source": [
    "# Visualize the line in graph\n",
    "plt.plot(axis_x, axis_y, 'o')\n",
    "plt.plot(axis_x, prevision_multi, '*', color='red') \n",
    "plt.title('Simple regression linear')\n",
    "plt.xlabel('Age')\n",
    "plt.ylabel('Cost health plan')"
   ]
  },
  {
   "cell_type": "code",
   "execution_count": 14,
   "metadata": {},
   "outputs": [
    {
     "data": {
      "text/plain": [
       "Text(0, 0.5, 'Cost health plan')"
      ]
     },
     "execution_count": 14,
     "metadata": {},
     "output_type": "execute_result"
    },
    {
     "data": {
      "image/png": "[encoded data removed]",
      "text/plain": [
       "<Figure size 432x288 with 1 Axes>"
      ]
     },
     "metadata": {
      "needs_background": "light"
     },
     "output_type": "display_data"
    }
   ],
   "source": [
    "# graph with all the line\n",
    "plt.plot(axis_x, axis_y, 'x')\n",
    "plt.plot(axis_x, prevision_multi, color='red') \n",
    "plt.title('Simple regression linear')\n",
    "plt.xlabel('Age')\n",
    "plt.ylabel('Cost health plan')"
   ]
  },
  {
   "cell_type": "markdown",
   "metadata": {},
   "source": [
    "## Using tensorflow"
   ]
  },
  {
   "cell_type": "code",
   "execution_count": 15,
   "metadata": {},
   "outputs": [
    {
     "data": {
      "text/plain": [
       "'2.1.0'"
      ]
     },
     "execution_count": 15,
     "metadata": {},
     "output_type": "execute_result"
    }
   ],
   "source": [
    "import tensorflow.compat.v1 as tf\n",
    "tf.disable_v2_behavior()\n",
    "tf.__version__"
   ]
  },
  {
   "cell_type": "code",
   "execution_count": 16,
   "metadata": {},
   "outputs": [
    {
     "name": "stdout",
     "output_type": "stream",
     "text": [
      "[[-1.5666989 ]\n",
      " [-1.21854359]\n",
      " [-0.87038828]\n",
      " [-0.52223297]\n",
      " [-0.17407766]\n",
      " [ 0.17407766]\n",
      " [ 0.52223297]\n",
      " [ 0.87038828]\n",
      " [ 1.21854359]\n",
      " [ 1.5666989 ]]\n",
      "[[-1.75751985]\n",
      " [-0.98083058]\n",
      " [-1.24865447]\n",
      " [-0.31424669]\n",
      " [ 0.07856167]\n",
      " [ 0.52493481]\n",
      " [ 0.31960317]\n",
      " [ 0.87013004]\n",
      " [ 1.20342199]\n",
      " [ 1.3045999 ]]\n"
     ]
    }
   ],
   "source": [
    "# scalar the attributes\n",
    "from sklearn.preprocessing import StandardScaler\n",
    "\n",
    "axis_x_2 = axis_x\n",
    "axis_y_2 = axis_y\n",
    "\n",
    "scaler_x = StandardScaler()\n",
    "scaler_y = StandardScaler()\n",
    "axis_x_2 = scaler_x.fit_transform(axis_x_2)\n",
    "axis_y_2 = scaler_y.fit_transform(axis_y_2)\n",
    "\n",
    "# values scalled\n",
    "print(axis_x_2)\n",
    "print(axis_y_2)"
   ]
  },
  {
   "cell_type": "code",
   "execution_count": 17,
   "metadata": {},
   "outputs": [
    {
     "data": {
      "text/plain": [
       "<matplotlib.collections.PathCollection at 0x7fbebf9dedd8>"
      ]
     },
     "execution_count": 17,
     "metadata": {},
     "output_type": "execute_result"
    },
    {
     "data": {
      "image/png": "[encoded data removed]",
      "text/plain": [
       "<Figure size 432x288 with 1 Axes>"
      ]
     },
     "metadata": {
      "needs_background": "light"
     },
     "output_type": "display_data"
    }
   ],
   "source": [
    "plt.scatter(axis_x_2, axis_y_2)"
   ]
  },
  {
   "cell_type": "markdown",
   "metadata": {},
   "source": [
    "### Create the formula for simple regression linear, using in low level api\n",
    "y = b0 + b1 * x"
   ]
  },
  {
   "cell_type": "code",
   "execution_count": 30,
   "metadata": {},
   "outputs": [
    {
     "name": "stdout",
     "output_type": "stream",
     "text": [
      "[0.5488135  0.71518937]\n",
      "Coefficients values updated\n",
      "0.07293496 0.9359134\n",
      "\n",
      "\n",
      " Previsions\n",
      "[[-1.39335951]\n",
      " [-1.06751629]\n",
      " [-0.74167308]\n",
      " [-0.41582986]\n",
      " [-0.08998665]\n",
      " [ 0.23585657]\n",
      " [ 0.56169979]\n",
      " [ 0.887543  ]\n",
      " [ 1.21338622]\n",
      " [ 1.53922944]]\n"
     ]
    }
   ],
   "source": [
    "np.random.seed(0)\n",
    "print(np.random.rand(2))\n",
    "\n",
    "# Create the first coefficient\n",
    "b0 = tf.Variable(0.54)\n",
    "b1 = tf.Variable(0.71)\n",
    "\n",
    "# calculate the error\n",
    "error = tf.losses.mean_squared_error(axis_y_2, (b0 + b1 * axis_x_2))\n",
    "\n",
    "# use decent of gradient\n",
    "optimazer = tf.train.GradientDescentOptimizer(learning_rate=0.001)\n",
    "# Adjust the parameters (coefficient) untill find the minimum global\n",
    "training = optimazer.minimize(error)\n",
    "\n",
    "# initialize the variables\n",
    "init = tf.global_variables_initializer()\n",
    "\n",
    "with tf.Session() as sess:\n",
    "    sess.run(init)\n",
    "    # print(sess.run(b0))\n",
    "    # print(sess.run(b1))\n",
    "    for i in range(1000):\n",
    "        sess.run(training)\n",
    "    \n",
    "    b0_final, b1_final = sess.run([b0, b1])\n",
    "    print('Coefficients values updated')\n",
    "    print(b0_final, b1_final)\n",
    "    \n",
    "previsions_tensor = b0_final + b1_final * axis_x_2\n",
    "print('\\n\\n Previsions')\n",
    "print(previsions_tensor)\n",
    "\n",
    "prev_tensor_transform = scaler_y.inverse_transform(previsions_tensor)"
   ]
  },
  {
   "cell_type": "code",
   "execution_count": 19,
   "metadata": {},
   "outputs": [
    {
     "data": {
      "text/plain": [
       "[<matplotlib.lines.Line2D at 0x7fbebf99a4a8>]"
      ]
     },
     "execution_count": 19,
     "metadata": {},
     "output_type": "execute_result"
    },
    {
     "data": {
      "image/png": "[encoded data removed]",
      "text/plain": [
       "<Figure size 432x288 with 1 Axes>"
      ]
     },
     "metadata": {
      "needs_background": "light"
     },
     "output_type": "display_data"
    }
   ],
   "source": [
    "plt.plot(axis_x_2, axis_y_2, 'o')\n",
    "plt.plot(axis_x_2, previsions_tensor, color='red')"
   ]
  },
  {
   "cell_type": "code",
   "execution_count": 20,
   "metadata": {},
   "outputs": [],
   "source": [
    "# function to predict cost health plan\n",
    "def predict_cost_health_plan(value):\n",
    "    value_trans = [[ value ]]\n",
    "    \n",
    "    predict = scaler_y.inverse_transform(\n",
    "        b0_final + b1_final * scaler_x.transform( value_trans )\n",
    "    )\n",
    "    \n",
    "    return predict"
   ]
  },
  {
   "cell_type": "code",
   "execution_count": 21,
   "metadata": {},
   "outputs": [
    {
     "name": "stdout",
     "output_type": "stream",
     "text": [
      "[[1475.15949902]]\n"
     ]
    }
   ],
   "source": [
    "# prevision for a people with age 40th\n",
    "print(predict_cost_health_plan( 40 ))"
   ]
  },
  {
   "cell_type": "code",
   "execution_count": 29,
   "metadata": {},
   "outputs": [
    {
     "name": "stdout",
     "output_type": "stream",
     "text": [
      "[[ 871.]\n",
      " [1132.]\n",
      " [1042.]\n",
      " [1356.]\n",
      " [1488.]\n",
      " [1638.]\n",
      " [1569.]\n",
      " [1754.]\n",
      " [1866.]\n",
      " [1900.]]\n"
     ]
    }
   ],
   "source": [
    "inverse_y_2 = scaler_y.inverse_transform(axis_y_2)\n",
    "print(inverse_y_2)"
   ]
  },
  {
   "cell_type": "code",
   "execution_count": 32,
   "metadata": {},
   "outputs": [
    {
     "name": "stdout",
     "output_type": "stream",
     "text": [
      "MSE and MAE =>  7153.912871448908  and  70.15515151515152\n"
     ]
    }
   ],
   "source": [
    "from sklearn.metrics import mean_absolute_error, mean_squared_error\n",
    "mae1 = mean_absolute_error(inverse_y_2, prev_tensor_transform)\n",
    "mse = mean_squared_error(inverse_y_2, prev_tensor_transform)\n",
    "\n",
    "# MSE is better use for training, and MAE for verify the result final to compare result for up and down error\n",
    "print('MSE and MAE => ', mse, ' and ', mae)"
   ]
  },
  {
   "cell_type": "code",
   "execution_count": null,
   "metadata": {},
   "outputs": [],
   "source": []
  }
 ],
 "metadata": {
  "kernelspec": {
   "display_name": "Python 3",
   "language": "python",
   "name": "python3"
  },
  "language_info": {
   "codemirror_mode": {
    "name": "ipython",
    "version": 3
   },
   "file_extension": ".py",
   "mimetype": "text/x-python",
   "name": "python",
   "nbconvert_exporter": "python",
   "pygments_lexer": "ipython3",
   "version": "3.6.10"
  }
 },
 "nbformat": 4,
 "nbformat_minor": 4
}
