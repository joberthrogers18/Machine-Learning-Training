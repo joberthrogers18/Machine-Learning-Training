{
 "cells": [
  {
   "cell_type": "code",
   "execution_count": 12,
   "metadata": {},
   "outputs": [],
   "source": [
    "import numpy as np\n",
    "from sklearn.linear_model import LinearRegression\n",
    "import matplotlib.pyplot as plt\n",
    "%matplotlib inline"
   ]
  },
  {
   "cell_type": "code",
   "execution_count": 9,
   "metadata": {},
   "outputs": [],
   "source": [
    "# the ages of people who wanna hire the health plan\n",
    "axis_x = np.array([[18], [23], [28], [33], [38], [43], [48], [53],[58], [63]])\n",
    "# price of health plan\n",
    "axis_y = np.array([\n",
    "    [871], [1132], [1042], [1356], \n",
    "    [1488], [1638], [1569], [1754], \n",
    "    [1866], [1900]\n",
    "])"
   ]
  },
  {
   "cell_type": "code",
   "execution_count": 11,
   "metadata": {},
   "outputs": [
    {
     "data": {
      "text/plain": [
       "<matplotlib.collections.PathCollection at 0x7fcaf06c4cf8>"
      ]
     },
     "execution_count": 11,
     "metadata": {},
     "output_type": "execute_result"
    },
    {
     "data": {
      "image/png": "[encoded data removed]",
      "text/plain": [
       "<Figure size 432x288 with 1 Axes>"
      ]
     },
     "metadata": {
      "needs_background": "light"
     },
     "output_type": "display_data"
    }
   ],
   "source": [
    "# plot a graph of ages by price plan\n",
    "plt.scatter(axis_x, axis_y)\n",
    "\n",
    "# If there is the tendence of values grow, can use the regression"
   ]
  },
  {
   "cell_type": "code",
   "execution_count": 13,
   "metadata": {},
   "outputs": [
    {
     "data": {
      "text/plain": [
       "LinearRegression(copy_X=True, fit_intercept=True, n_jobs=None, normalize=False)"
      ]
     },
     "execution_count": 13,
     "metadata": {},
     "output_type": "execute_result"
    }
   ],
   "source": [
    "regressor = LinearRegression()\n",
    "# training the model\n",
    "regressor.fit(axis_x, axis_y)"
   ]
  },
  {
   "cell_type": "code",
   "execution_count": 17,
   "metadata": {},
   "outputs": [
    {
     "name": "stdout",
     "output_type": "stream",
     "text": [
      "Coefficient b0: [541.24363636]\n",
      "Coefficient b1 [[22.72484848]]\n"
     ]
    }
   ],
   "source": [
    "# coeficient b0, which intercept the axis x in some pont (is constant)\n",
    "print('Coefficient b0:', regressor.intercept_)\n",
    "# coefficient b1, inclination of the line in graph (variable accord the entries)\n",
    "print('Coefficient b1', regressor.coef_)"
   ]
  },
  {
   "cell_type": "code",
   "execution_count": 27,
   "metadata": {},
   "outputs": [
    {
     "name": "stdout",
     "output_type": "stream",
     "text": [
      "Prediction of a health plan price for a person with 40th age(hardcode): [1450.23757576]\n",
      "Prediction of a health plan price for a person with 40th age(automated): [1450.23757576]\n"
     ]
    }
   ],
   "source": [
    "# prevision type hardcode\n",
    "prevision1 = regressor.intercept_ + regressor.coef_ * 40\n",
    "print('Prediction of a health plan price for a person with 40th age(hardcode):', prevision1[0])\n",
    "# prevision using the own sklearn\n",
    "prevision2 = regressor.predict(np.array([[40]]))\n",
    "print('Prediction of a health plan price for a person with 40th age(automated):', prevision2[0])"
   ]
  },
  {
   "cell_type": "code",
   "execution_count": 28,
   "metadata": {},
   "outputs": [
    {
     "name": "stdout",
     "output_type": "stream",
     "text": [
      "Predict for multi values:  [[ 950.29090909]\n",
      " [1063.91515152]\n",
      " [1177.53939394]\n",
      " [1291.16363636]\n",
      " [1404.78787879]\n",
      " [1518.41212121]\n",
      " [1632.03636364]\n",
      " [1745.66060606]\n",
      " [1859.28484848]\n",
      " [1972.90909091]]\n"
     ]
    }
   ],
   "source": [
    "# prevision for multiple values\n",
    "prevision_multi = regressor.predict(axis_x)\n",
    "print('Predict for multi values: ', prevision_multi)"
   ]
  },
  {
   "cell_type": "code",
   "execution_count": 31,
   "metadata": {},
   "outputs": [
    {
     "name": "stdout",
     "output_type": "stream",
     "text": [
      "Predicted values vs values reals\n",
      "[[ 79.29090909]\n",
      " [ 68.08484848]\n",
      " [135.53939394]\n",
      " [ 64.83636364]\n",
      " [ 83.21212121]\n",
      " [119.58787879]\n",
      " [ 63.03636364]\n",
      " [  8.33939394]\n",
      " [  6.71515152]\n",
      " [ 72.90909091]]\n",
      "\n",
      " mean of erros (Errors up or down)\n",
      "70.15515151515152\n"
     ]
    }
   ],
   "source": [
    "# compare values predict with reals\n",
    "print('Predicted values vs values reals')\n",
    "results = abs(axis_y - prevision_multi)\n",
    "print(results)\n",
    "print('\\n mean of erros (Errors up or down)')\n",
    "# Check the efficiency of model, this model can wrong 70 for up or 70 for down\n",
    "print(results.mean())"
   ]
  },
  {
   "cell_type": "code",
   "execution_count": 34,
   "metadata": {},
   "outputs": [
    {
     "name": "stdout",
     "output_type": "stream",
     "text": [
      "Mean absolute error:  70.15515151515152\n",
      "Mean squred error:  6412.675151515151\n"
     ]
    }
   ],
   "source": [
    "# efficiency of model calculated by sklearn\n",
    "# MSE and MAE\n",
    "from sklearn.metrics import mean_absolute_error, mean_squared_error\n",
    "mae = mean_absolute_error(axis_y, prevision_multi)\n",
    "mse = mean_squared_error(axis_y, prevision_multi)\n",
    "\n",
    "print('Mean absolute error: ', mae)\n",
    "# Give the value much greater than Mean absolute error, because it is elevated the square\n",
    "# Penalize the biggest errors\n",
    "print('Mean squred error: ', mse)"
   ]
  },
  {
   "cell_type": "code",
   "execution_count": 42,
   "metadata": {},
   "outputs": [
    {
     "data": {
      "text/plain": [
       "Text(0, 0.5, 'Cost health plan')"
      ]
     },
     "execution_count": 42,
     "metadata": {},
     "output_type": "execute_result"
    },
    {
     "data": {
      "image/png": "[encoded data removed]",
      "text/plain": [
       "<Figure size 432x288 with 1 Axes>"
      ]
     },
     "metadata": {
      "needs_background": "light"
     },
     "output_type": "display_data"
    }
   ],
   "source": [
    "# Visualize the line in graph\n",
    "plt.plot(axis_x, axis_y, 'o')\n",
    "plt.plot(axis_x, prevision_multi, '*', color='red') \n",
    "plt.title('Simple regression linear')\n",
    "plt.xlabel('Age')\n",
    "plt.ylabel('Cost health plan')"
   ]
  },
  {
   "cell_type": "code",
   "execution_count": 41,
   "metadata": {},
   "outputs": [
    {
     "data": {
      "text/plain": [
       "[<matplotlib.lines.Line2D at 0x7fcae23fbc18>]"
      ]
     },
     "execution_count": 41,
     "metadata": {},
     "output_type": "execute_result"
    },
    {
     "data": {
      "image/png": "[encoded data removed]",
      "text/plain": [
       "<Figure size 432x288 with 1 Axes>"
      ]
     },
     "metadata": {
      "needs_background": "light"
     },
     "output_type": "display_data"
    }
   ],
   "source": [
    "# graph with all the line\n",
    "plt.plot(axis_x, axis_y, 'x')\n",
    "plt.plot(axis_x, prevision_multi, color='red') \n",
    "plt.title('Simple regression linear')\n",
    "plt.xlabel('Age')\n",
    "plt.ylabel('Cost health plan')"
   ]
  }
 ],
 "metadata": {
  "kernelspec": {
   "display_name": "Python 3",
   "language": "python",
   "name": "python3"
  },
  "language_info": {
   "codemirror_mode": {
    "name": "ipython",
    "version": 3
   },
   "file_extension": ".py",
   "mimetype": "text/x-python",
   "name": "python",
   "nbconvert_exporter": "python",
   "pygments_lexer": "ipython3",
   "version": "3.6.10"
  }
 },
 "nbformat": 4,
 "nbformat_minor": 4
}
