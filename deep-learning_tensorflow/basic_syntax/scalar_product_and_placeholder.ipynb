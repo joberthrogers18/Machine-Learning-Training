{
 "cells": [
  {
   "cell_type": "code",
   "execution_count": 40,
   "metadata": {},
   "outputs": [
    {
     "data": {
      "text/plain": [
       "'1.13.1'"
      ]
     },
     "execution_count": 40,
     "metadata": {},
     "output_type": "execute_result"
    }
   ],
   "source": [
    "import tensorflow as tf\n",
    "tf.__version__"
   ]
  },
  {
   "cell_type": "markdown",
   "metadata": {},
   "source": [
    "## Calculate the perceptron sum step (neural network)"
   ]
  },
  {
   "cell_type": "code",
   "execution_count": null,
   "metadata": {},
   "outputs": [],
   "source": [
    "# calculate the product scalar\n",
    "a = tf.constant([-1.0, 7.0, 5.0], name='inputs')\n",
    "b = tf.constant([0.8, 0.1, 0], name='weights')\n",
    "#multiplicate the inputs and weights\n",
    "multi_weight_input = tf.multiply(a, b)\n",
    "sum_results = tf.math.reduce_sum(multi_weight_input)\n",
    "\n",
    "with tf.Session() as sess:\n",
    "    print('inputs')\n",
    "    print(sess.run(a))\n",
    "    print('\\n weights')\n",
    "    print(sess.run(b))\n",
    "    print('\\n multiplication')\n",
    "    print(sess.run(multi_weight_input))\n",
    "    print('\\n sum results')\n",
    "    print(sess.run(sum_results))"
   ]
  },
  {
   "cell_type": "markdown",
   "metadata": {},
   "source": [
    "## Placeholders"
   ]
  },
  {
   "cell_type": "code",
   "execution_count": 13,
   "metadata": {},
   "outputs": [],
   "source": [
    "# parameters => type and shape of this data\n",
    "# most use when deal with load of csv\n",
    "p = tf.placeholder('float', None)\n",
    "operation = p + 2"
   ]
  },
  {
   "cell_type": "code",
   "execution_count": 14,
   "metadata": {},
   "outputs": [
    {
     "name": "stdout",
     "output_type": "stream",
     "text": [
      "[1.2 2.  3. ]\n"
     ]
    }
   ],
   "source": [
    "with tf.Session() as sess:\n",
    "#     sess.run(tf.global_variables_initializer())\n",
    "    result = sess.run(operation, feed_dict={p: [1.2, 2, 3]})\n",
    "    print(result)"
   ]
  },
  {
   "cell_type": "code",
   "execution_count": 22,
   "metadata": {},
   "outputs": [],
   "source": [
    "p2 = tf.placeholder('float', None)\n",
    "operation2 = p2 + 2"
   ]
  },
  {
   "cell_type": "code",
   "execution_count": 41,
   "metadata": {},
   "outputs": [
    {
     "name": "stdout",
     "output_type": "stream",
     "text": [
      "1.0\n"
     ]
    }
   ],
   "source": [
    "with tf.Session() as sess2:\n",
    "    sess2.run(tf.global_variables_initializer())\n",
    "    data_input = [[1, 2, 3, 4, 5], [6, 7, 8, 9, 10]]\n",
    "    result2 = sess2.run(p2 + 2, feed_dict={p2: 1})\n",
    "    print(result2)"
   ]
  },
  {
   "cell_type": "code",
   "execution_count": null,
   "metadata": {},
   "outputs": [],
   "source": []
  }
 ],
 "metadata": {
  "kernelspec": {
   "display_name": "Python 3",
   "language": "python",
   "name": "python3"
  },
  "language_info": {
   "codemirror_mode": {
    "name": "ipython",
    "version": 3
   },
   "file_extension": ".py",
   "mimetype": "text/x-python",
   "name": "python",
   "nbconvert_exporter": "python",
   "pygments_lexer": "ipython3",
   "version": "3.6.9"
  }
 },
 "nbformat": 4,
 "nbformat_minor": 2
}
