{
 "cells": [
  {
   "cell_type": "code",
   "execution_count": 1,
   "metadata": {},
   "outputs": [
    {
     "name": "stderr",
     "output_type": "stream",
     "text": [
      "/usr/local/lib/python3.6/dist-packages/tensorflow/python/framework/dtypes.py:523: FutureWarning: Passing (type, 1) or '1type' as a synonym of type is deprecated; in a future version of numpy, it will be understood as (type, (1,)) / '(1,)type'.\n",
      "  _np_qint8 = np.dtype([(\"qint8\", np.int8, 1)])\n",
      "/usr/local/lib/python3.6/dist-packages/tensorflow/python/framework/dtypes.py:524: FutureWarning: Passing (type, 1) or '1type' as a synonym of type is deprecated; in a future version of numpy, it will be understood as (type, (1,)) / '(1,)type'.\n",
      "  _np_quint8 = np.dtype([(\"quint8\", np.uint8, 1)])\n",
      "/usr/local/lib/python3.6/dist-packages/tensorflow/python/framework/dtypes.py:525: FutureWarning: Passing (type, 1) or '1type' as a synonym of type is deprecated; in a future version of numpy, it will be understood as (type, (1,)) / '(1,)type'.\n",
      "  _np_qint16 = np.dtype([(\"qint16\", np.int16, 1)])\n",
      "/usr/local/lib/python3.6/dist-packages/tensorflow/python/framework/dtypes.py:526: FutureWarning: Passing (type, 1) or '1type' as a synonym of type is deprecated; in a future version of numpy, it will be understood as (type, (1,)) / '(1,)type'.\n",
      "  _np_quint16 = np.dtype([(\"quint16\", np.uint16, 1)])\n",
      "/usr/local/lib/python3.6/dist-packages/tensorflow/python/framework/dtypes.py:527: FutureWarning: Passing (type, 1) or '1type' as a synonym of type is deprecated; in a future version of numpy, it will be understood as (type, (1,)) / '(1,)type'.\n",
      "  _np_qint32 = np.dtype([(\"qint32\", np.int32, 1)])\n",
      "/usr/local/lib/python3.6/dist-packages/tensorflow/python/framework/dtypes.py:532: FutureWarning: Passing (type, 1) or '1type' as a synonym of type is deprecated; in a future version of numpy, it will be understood as (type, (1,)) / '(1,)type'.\n",
      "  np_resource = np.dtype([(\"resource\", np.ubyte, 1)])\n",
      "/usr/local/lib/python3.6/dist-packages/h5py/__init__.py:36: FutureWarning: Conversion of the second argument of issubdtype from `float` to `np.floating` is deprecated. In future, it will be treated as `np.float64 == np.dtype(float).type`.\n",
      "  from ._conv import register_converters as _register_converters\n"
     ]
    }
   ],
   "source": [
    "import tensorflow as tf"
   ]
  },
  {
   "cell_type": "code",
   "execution_count": 3,
   "metadata": {},
   "outputs": [],
   "source": [
    "a = tf.constant([9,8,7], name='a')\n",
    "b = tf.constant([1,2,3], name='b')\n",
    "sum_vectors = a + b"
   ]
  },
  {
   "cell_type": "code",
   "execution_count": 6,
   "metadata": {},
   "outputs": [
    {
     "name": "stdout",
     "output_type": "stream",
     "text": [
      "[10 10 10]\n"
     ]
    }
   ],
   "source": [
    "# sum between vectors\n",
    "with tf.Session() as sess: \n",
    "    sess.run(tf.global_variables_initializer())\n",
    "    print(sess.run(sum_vectors))\n",
    "    "
   ]
  },
  {
   "cell_type": "code",
   "execution_count": 15,
   "metadata": {},
   "outputs": [
    {
     "name": "stdout",
     "output_type": "stream",
     "text": [
      "Tensor(\"matrix_a_4:0\", shape=(2, 2), dtype=int32)\n",
      "Tensor(\"matrix_b_4:0\", shape=(2, 2), dtype=int32)\n"
     ]
    }
   ],
   "source": [
    "# operations with matrix\n",
    "matrix_a = tf.constant([[1,2], [3,4]], name='matrix_a')\n",
    "matrix_b = tf.constant([[2, 4], [5, 6]], name='matrix_b')\n",
    "print(matrix_a)\n",
    "print(matrix_b)\n",
    "# sum between matrices\n",
    "sum_matrices = tf.add(matrix_a, matrix_b)\n",
    "multiplication_matrices = matrix_a * matrix_b"
   ]
  },
  {
   "cell_type": "code",
   "execution_count": 18,
   "metadata": {},
   "outputs": [
    {
     "name": "stdout",
     "output_type": "stream",
     "text": [
      "matrix a\n",
      "[[1 2]\n",
      " [3 4]]\n",
      "\n",
      "matrix b\n",
      "[[2 4]\n",
      " [5 6]]\n",
      "\n",
      " sum matrices\n",
      "[[ 3  6]\n",
      " [ 8 10]]\n",
      "\n",
      " multiplication matrices\n",
      "[[ 2  8]\n",
      " [15 24]]\n"
     ]
    }
   ],
   "source": [
    "with tf.Session() as sess:\n",
    "    print('matrix a')\n",
    "    print(sess.run(matrix_a))\n",
    "    print('\\nmatrix b')\n",
    "    print(sess.run(matrix_b))\n",
    "    print('\\n sum matrices')\n",
    "    print(sess.run(sum_matrices))\n",
    "    print('\\n multiplication matrices')\n",
    "    print(sess.run(multiplication_matrices))"
   ]
  },
  {
   "cell_type": "code",
   "execution_count": 21,
   "metadata": {},
   "outputs": [
    {
     "name": "stdout",
     "output_type": "stream",
     "text": [
      "Tensor(\"matrix_a_4:0\", shape=(2, 2), dtype=int32)\n",
      "Tensor(\"matrix_b_4:0\", shape=(2, 2), dtype=int32)\n",
      "\n",
      "\n",
      "[[1 2 3]\n",
      " [3 4 5]]\n",
      "\n",
      "\n",
      "[[2]\n",
      " [1]]\n",
      "\n",
      "\n",
      "[[3 4 5]\n",
      " [4 5 6]]\n"
     ]
    }
   ],
   "source": [
    "# sum matrix with diferent \n",
    "matrix_a1 = tf.constant([[1, 2, 3], [3, 4, 5]], name='matrix_a')\n",
    "matrix_b1 = tf.constant([[2], [1]], name='matrix_b')\n",
    "print(matrix_a)\n",
    "print(matrix_b)\n",
    "\n",
    "sum_matrices_diff = tf.add(matrix_a1, matrix_b1)\n",
    "\n",
    "with tf.Session() as sess:\n",
    "    print('\\n')\n",
    "    print(sess.run(matrix_a1))\n",
    "    print('\\n')\n",
    "    print(sess.run(matrix_b1))\n",
    "    print('\\n')\n",
    "    print(sess.run(sum_matrices_diff))"
   ]
  }
 ],
 "metadata": {
  "kernelspec": {
   "display_name": "Python 3",
   "language": "python",
   "name": "python3"
  },
  "language_info": {
   "codemirror_mode": {
    "name": "ipython",
    "version": 3
   },
   "file_extension": ".py",
   "mimetype": "text/x-python",
   "name": "python",
   "nbconvert_exporter": "python",
   "pygments_lexer": "ipython3",
   "version": "3.6.7"
  }
 },
 "nbformat": 4,
 "nbformat_minor": 2
}
